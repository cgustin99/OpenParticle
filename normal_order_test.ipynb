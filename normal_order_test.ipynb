{
 "cells": [
  {
   "cell_type": "code",
   "execution_count": 19,
   "metadata": {},
   "outputs": [],
   "source": [
    "#Imports\n",
    "from openparticle import ParticleOperator\n",
    "\n",
    "# b d a"
   ]
  },
  {
   "cell_type": "code",
   "execution_count": 20,
   "metadata": {},
   "outputs": [],
   "source": [
    "op = ParticleOperator(\"b0 b0 b0 b1 d3 a2\") \n",
    "# + ParticleOperator(\"b0 b1 d3 a2\") + ParticleOperator(\"b3 b2 d2 a0\")"
   ]
  },
  {
   "cell_type": "code",
   "execution_count": 21,
   "metadata": {},
   "outputs": [
    {
     "name": "stdout",
     "output_type": "stream",
     "text": [
      "1 * b0 b0 b0 b1 d3 a2\n",
      "\n"
     ]
    }
   ],
   "source": [
    "print(op)"
   ]
  },
  {
   "cell_type": "code",
   "execution_count": 22,
   "metadata": {},
   "outputs": [
    {
     "name": "stdout",
     "output_type": "stream",
     "text": [
      "{'b0 b0 b0 b1 d3 a2': 1}\n"
     ]
    }
   ],
   "source": [
    "print(op.op_dict)"
   ]
  },
  {
   "cell_type": "code",
   "execution_count": 23,
   "metadata": {},
   "outputs": [
    {
     "name": "stdout",
     "output_type": "stream",
     "text": [
      "[1 * b0\n",
      ", 1 * b0\n",
      ", 1 * b0\n",
      ", 1 * b1\n",
      ", 1 * d3\n",
      ", 1 * a2\n",
      "]\n",
      "1 * b0\n",
      "\n",
      "<class 'openparticle.src.FermionOperator'>\n",
      "b0\n"
     ]
    }
   ],
   "source": [
    "ls = op.split()\n",
    "print(ls)\n",
    "print(ls[0])\n",
    "print(type(ls[0]))\n",
    "print(list(ls[0].op_dict.keys())[0])"
   ]
  },
  {
   "cell_type": "code",
   "execution_count": 24,
   "metadata": {},
   "outputs": [
    {
     "name": "stdout",
     "output_type": "stream",
     "text": [
      "b0 b0 b0 b1 d3 a2\n",
      "1\n",
      "\n",
      "\n"
     ]
    }
   ],
   "source": [
    "for i, coeff_i in op.op_dict.items():\n",
    "    print(i)\n",
    "    print(coeff_i)\n",
    "    print('\\n')"
   ]
  },
  {
   "cell_type": "code",
   "execution_count": 25,
   "metadata": {},
   "outputs": [
    {
     "name": "stdout",
     "output_type": "stream",
     "text": [
      "['b0', 'b0', 'b0', 'b1', 'd3', 'a2']\n",
      "<class 'list'>\n"
     ]
    }
   ],
   "source": [
    "str = \"b0 b0 b0 b1 d3 a2\"\n",
    "print(str.split(\" \"))\n",
    "print(type(str.split(\" \")))"
   ]
  },
  {
   "cell_type": "code",
   "execution_count": 26,
   "metadata": {},
   "outputs": [
    {
     "data": {
      "text/plain": [
       "[1, 2, 3, 4, 5, 6]"
      ]
     },
     "execution_count": 26,
     "metadata": {},
     "output_type": "execute_result"
    }
   ],
   "source": [
    "[1, 2, 3] + [4, 5, 6]"
   ]
  },
  {
   "cell_type": "code",
   "execution_count": 27,
   "metadata": {},
   "outputs": [
    {
     "name": "stdout",
     "output_type": "stream",
     "text": [
      "[1 * b0\n",
      ", 1 * b0^\n",
      ", 1 * b0^\n",
      ", 1 * b1\n",
      "]\n",
      "in insertion sort iudwba;fnoofhpowe;nfwfg;ohnoebfowfowiefneobfwnefobu\n",
      "new op is:  1 *  \n",
      "-1 * b0^ b0\n",
      "\n",
      "left op is:  1 * \n",
      "\n",
      "right op is:  1 * b0^ b1\n",
      "\n",
      "why vscode why\n",
      "tree split is:  1 * b0^ b1\n",
      "-1 * b0^ b0 b0^ b1\n",
      "\n",
      "hey hey u u\n",
      "key op:  b0^ b1\n",
      "recur_ops [1 * b0^\n",
      ", 1 * b1\n",
      "]\n",
      "[1 * b0^\n",
      ", 1 * b1\n",
      "]\n",
      "in insertion sort iudwba;fnoofhpowe;nfwfg;ohnoebfowfowiefneobfwnefobu\n",
      "after adddddd result\n",
      "key op:  b0^ b0 b0^ b1\n",
      "recur_ops [1 * b0^\n",
      ", 1 * b0\n",
      ", 1 * b0^\n",
      ", 1 * b1\n",
      "]\n",
      "[1 * b0^\n",
      ", 1 * b0\n",
      ", 1 * b0^\n",
      ", 1 * b1\n",
      "]\n",
      "in insertion sort iudwba;fnoofhpowe;nfwfg;ohnoebfowfowiefneobfwnefobu\n",
      "new op is:  1 *  \n",
      "-1 * b0^ b0\n",
      "\n",
      "left op is:  1 * b0^\n",
      "\n",
      "right op is:  1 * b1\n",
      "\n",
      "why vscode why\n",
      "tree split is:  1 * b0^ b1\n",
      "-1 * b0^ b0^ b0 b1\n",
      "\n",
      "hey hey u u\n",
      "key op:  b0^ b1\n",
      "recur_ops [1 * b0^\n",
      ", 1 * b1\n",
      "]\n",
      "[1 * b0^\n",
      ", 1 * b1\n",
      "]\n",
      "in insertion sort iudwba;fnoofhpowe;nfwfg;ohnoebfowfowiefneobfwnefobu\n",
      "after adddddd result\n",
      "key op:  b0^ b0^ b0 b1\n",
      "recur_ops [1 * b0^\n",
      ", 1 * b0^\n",
      ", 1 * b0\n",
      ", 1 * b1\n",
      "]\n",
      "[1 * b0^\n",
      ", 1 * b0^\n",
      ", 1 * b0\n",
      ", 1 * b1\n",
      "]\n",
      "in insertion sort iudwba;fnoofhpowe;nfwfg;ohnoebfowfowiefneobfwnefobu\n",
      "after adddddd result\n",
      "after adddddd result\n",
      "new op is:  1 *  \n",
      "-1 * b0^ b0\n",
      "\n",
      "left op is:  1 * b0^\n",
      "\n",
      "right op is:  1 * b1\n",
      "\n",
      "why vscode why\n",
      "tree split is:  1 * b0^ b1\n",
      "-1 * b0^ b0^ b0 b1\n",
      "\n",
      "hey hey u u\n",
      "key op:  b0^ b1\n",
      "recur_ops [1 * b0^\n",
      ", 1 * b1\n",
      "]\n",
      "[1 * b0^\n",
      ", 1 * b1\n",
      "]\n",
      "in insertion sort iudwba;fnoofhpowe;nfwfg;ohnoebfowfowiefneobfwnefobu\n",
      "after adddddd result\n",
      "key op:  b0^ b0^ b0 b1\n",
      "recur_ops [1 * b0^\n",
      ", 1 * b0^\n",
      ", 1 * b0\n",
      ", 1 * b1\n",
      "]\n",
      "[1 * b0^\n",
      ", 1 * b0^\n",
      ", 1 * b0\n",
      ", 1 * b1\n",
      "]\n",
      "in insertion sort iudwba;fnoofhpowe;nfwfg;ohnoebfowfowiefneobfwnefobu\n",
      "after adddddd result\n",
      "[1 * d3\n",
      ", 1 * d3^\n",
      "]\n",
      "in insertion sort iudwba;fnoofhpowe;nfwfg;ohnoebfowfowiefneobfwnefobu\n",
      "new op is:  1 *  \n",
      "-1 * d3^ d3\n",
      "\n",
      "left op is:  1 * \n",
      "\n",
      "right op is:  1 * \n",
      "\n",
      "why vscode why\n",
      "tree split is:  1 * \n",
      "-1 * d3^ d3\n",
      "\n",
      "hey hey u u\n",
      "key op:  \n"
     ]
    },
    {
     "ename": "IndexError",
     "evalue": "string index out of range",
     "output_type": "error",
     "traceback": [
      "\u001b[0;31m---------------------------------------------------------------------------\u001b[0m",
      "\u001b[0;31mIndexError\u001b[0m                                Traceback (most recent call last)",
      "Cell \u001b[0;32mIn[27], line 3\u001b[0m\n\u001b[1;32m      1\u001b[0m op \u001b[38;5;241m=\u001b[39m ParticleOperator(\u001b[38;5;124m\"\u001b[39m\u001b[38;5;124ma0 b0 a2^ b0^ b0^ b1 d3 a2^ d3^\u001b[39m\u001b[38;5;124m\"\u001b[39m) \u001b[38;5;241m+\u001b[39m ParticleOperator(\u001b[38;5;124m\"\u001b[39m\u001b[38;5;124ma0 b0 a0^\u001b[39m\u001b[38;5;124m\"\u001b[39m)\n\u001b[1;32m      2\u001b[0m \u001b[38;5;66;03m# print(op)\u001b[39;00m\n\u001b[0;32m----> 3\u001b[0m \u001b[43mop\u001b[49m\u001b[38;5;241;43m.\u001b[39;49m\u001b[43mnormal_order\u001b[49m\u001b[43m(\u001b[49m\u001b[43m)\u001b[49m\n",
      "File \u001b[0;32m~/Documents/su24_quantum/OpenParticle/openparticle/src.py:385\u001b[0m, in \u001b[0;36mParticleOperator.normal_order\u001b[0;34m(self)\u001b[0m\n\u001b[1;32m    383\u001b[0m \u001b[38;5;28;01mfor\u001b[39;00m particle_op \u001b[38;5;129;01min\u001b[39;00m po_list:\n\u001b[1;32m    384\u001b[0m     coeff_op \u001b[38;5;241m=\u001b[39m \u001b[38;5;28mlist\u001b[39m(particle_op\u001b[38;5;241m.\u001b[39mop_dict\u001b[38;5;241m.\u001b[39mvalues())[\u001b[38;5;241m0\u001b[39m]\n\u001b[0;32m--> 385\u001b[0m     normal_ordered_op \u001b[38;5;241m=\u001b[39m \u001b[43mparticle_op\u001b[49m\u001b[38;5;241;43m.\u001b[39;49m\u001b[43m_normal_order\u001b[49m\u001b[43m(\u001b[49m\u001b[43mcoeff_op\u001b[49m\u001b[43m)\u001b[49m\n\u001b[1;32m    386\u001b[0m     ordered_op \u001b[38;5;241m+\u001b[39m\u001b[38;5;241m=\u001b[39m normal_ordered_op\n\u001b[1;32m    387\u001b[0m \u001b[38;5;28;01mreturn\u001b[39;00m ordered_op\n",
      "File \u001b[0;32m~/Documents/su24_quantum/OpenParticle/openparticle/src.py:422\u001b[0m, in \u001b[0;36mParticleOperator._normal_order\u001b[0;34m(self, coeff)\u001b[0m\n\u001b[1;32m    409\u001b[0m \u001b[38;5;66;03m# keys = [list(op.op_dict.keys())[0] for op in fermion_list]\u001b[39;00m\n\u001b[1;32m    410\u001b[0m \u001b[38;5;66;03m# ferm_ops = ParticleOperator(' '.join(keys))\u001b[39;00m\n\u001b[1;32m    411\u001b[0m \n\u001b[0;32m   (...)\u001b[0m\n\u001b[1;32m    419\u001b[0m \u001b[38;5;66;03m# note that extra terms will be added for nontrivial swaps\u001b[39;00m\n\u001b[1;32m    420\u001b[0m \u001b[38;5;66;03m# normal_{x}s is a particle operator that contains the key with particle op only in type x\u001b[39;00m\n\u001b[1;32m    421\u001b[0m normal_bs \u001b[38;5;241m=\u001b[39m \u001b[38;5;28mself\u001b[39m\u001b[38;5;241m.\u001b[39minsertion_sort(fermion_list, \u001b[38;5;241m1\u001b[39m)\n\u001b[0;32m--> 422\u001b[0m normal_ds \u001b[38;5;241m=\u001b[39m \u001b[38;5;28;43mself\u001b[39;49m\u001b[38;5;241;43m.\u001b[39;49m\u001b[43minsertion_sort\u001b[49m\u001b[43m(\u001b[49m\u001b[43mantifermion_list\u001b[49m\u001b[43m,\u001b[49m\u001b[43m \u001b[49m\u001b[38;5;241;43m1\u001b[39;49m\u001b[43m)\u001b[49m\n\u001b[1;32m    423\u001b[0m normal_as \u001b[38;5;241m=\u001b[39m \u001b[38;5;28mself\u001b[39m\u001b[38;5;241m.\u001b[39minsertion_sort(boson_list, \u001b[38;5;241m1\u001b[39m)\n\u001b[1;32m    425\u001b[0m \u001b[38;5;66;03m# get the combined opstr --> convert it back to the form \"bs ds as\"\u001b[39;00m\n",
      "File \u001b[0;32m~/Documents/su24_quantum/OpenParticle/openparticle/src.py:490\u001b[0m, in \u001b[0;36mParticleOperator.insertion_sort\u001b[0;34m(self, ops, coeff)\u001b[0m\n\u001b[1;32m    488\u001b[0m \u001b[38;5;28;01mfor\u001b[39;00m key_op, val_op \u001b[38;5;129;01min\u001b[39;00m tree_split\u001b[38;5;241m.\u001b[39mop_dict\u001b[38;5;241m.\u001b[39mitems():\n\u001b[1;32m    489\u001b[0m     \u001b[38;5;28mprint\u001b[39m(\u001b[38;5;124m\"\u001b[39m\u001b[38;5;124mkey op: \u001b[39m\u001b[38;5;124m\"\u001b[39m, key_op)\n\u001b[0;32m--> 490\u001b[0m     recur_ops \u001b[38;5;241m=\u001b[39m \u001b[43mParticleOperator\u001b[49m\u001b[43m(\u001b[49m\u001b[43mkey_op\u001b[49m\u001b[43m)\u001b[49m\u001b[38;5;241;43m.\u001b[39;49m\u001b[43msplit\u001b[49m\u001b[43m(\u001b[49m\u001b[43m)\u001b[49m\n\u001b[1;32m    491\u001b[0m     \u001b[38;5;28mprint\u001b[39m(\u001b[38;5;124m\"\u001b[39m\u001b[38;5;124mrecur_ops\u001b[39m\u001b[38;5;124m\"\u001b[39m, recur_ops)\n\u001b[1;32m    492\u001b[0m     result_op \u001b[38;5;241m+\u001b[39m\u001b[38;5;241m=\u001b[39m \u001b[38;5;28mself\u001b[39m\u001b[38;5;241m.\u001b[39minsertion_sort(recur_ops, val_op)\n",
      "File \u001b[0;32m~/Documents/su24_quantum/OpenParticle/openparticle/src.py:314\u001b[0m, in \u001b[0;36mParticleOperator.split\u001b[0;34m(self)\u001b[0m\n\u001b[1;32m    312\u001b[0m \u001b[38;5;28;01mif\u001b[39;00m \u001b[38;5;28mlen\u001b[39m(\u001b[38;5;28mself\u001b[39m\u001b[38;5;241m.\u001b[39mop_dict) \u001b[38;5;241m==\u001b[39m \u001b[38;5;241m1\u001b[39m:\n\u001b[1;32m    313\u001b[0m     \u001b[38;5;28;01mfor\u001b[39;00m oper \u001b[38;5;129;01min\u001b[39;00m \u001b[38;5;28mlist\u001b[39m(\u001b[38;5;28mself\u001b[39m\u001b[38;5;241m.\u001b[39mop_dict\u001b[38;5;241m.\u001b[39mkeys())[\u001b[38;5;241m0\u001b[39m]\u001b[38;5;241m.\u001b[39msplit(\u001b[38;5;124m\"\u001b[39m\u001b[38;5;124m \u001b[39m\u001b[38;5;124m\"\u001b[39m):\n\u001b[0;32m--> 314\u001b[0m         \u001b[38;5;28;01mif\u001b[39;00m \u001b[43moper\u001b[49m\u001b[43m[\u001b[49m\u001b[38;5;241;43m0\u001b[39;49m\u001b[43m]\u001b[49m \u001b[38;5;241m==\u001b[39m \u001b[38;5;124m\"\u001b[39m\u001b[38;5;124ma\u001b[39m\u001b[38;5;124m\"\u001b[39m:  \u001b[38;5;66;03m# boson\u001b[39;00m\n\u001b[1;32m    315\u001b[0m             split_list\u001b[38;5;241m.\u001b[39mappend(BosonOperator(oper[\u001b[38;5;241m1\u001b[39m:]))\n\u001b[1;32m    316\u001b[0m         \u001b[38;5;28;01melif\u001b[39;00m oper[\u001b[38;5;241m0\u001b[39m] \u001b[38;5;241m==\u001b[39m \u001b[38;5;124m\"\u001b[39m\u001b[38;5;124mb\u001b[39m\u001b[38;5;124m\"\u001b[39m:  \u001b[38;5;66;03m# fermion\u001b[39;00m\n",
      "\u001b[0;31mIndexError\u001b[0m: string index out of range"
     ]
    }
   ],
   "source": [
    "op = ParticleOperator(\"a0 b0 a2^ b0^ b0^ b1 d3 a2^ d3^\") + ParticleOperator(\"a0 b0 a0^\")\n",
    "# print(op)\n",
    "op.normal_order()"
   ]
  },
  {
   "cell_type": "code",
   "execution_count": null,
   "metadata": {},
   "outputs": [
    {
     "name": "stdout",
     "output_type": "stream",
     "text": [
      "1 * b0 b0^\n",
      "1 *  \n",
      "\n"
     ]
    }
   ],
   "source": [
    "identity = ParticleOperator(\" \")\n",
    "op = ParticleOperator(\"b0 b0^\") + identity\n",
    "print(op)"
   ]
  },
  {
   "cell_type": "code",
   "execution_count": null,
   "metadata": {},
   "outputs": [
    {
     "data": {
      "text/plain": [
       "1 * b0 b0^ a1\n",
       "1 * a1"
      ]
     },
     "execution_count": 11,
     "metadata": {},
     "output_type": "execute_result"
    }
   ],
   "source": [
    "op * ParticleOperator(\"a1\")"
   ]
  },
  {
   "cell_type": "code",
   "execution_count": null,
   "metadata": {},
   "outputs": [
    {
     "data": {
      "text/plain": [
       "1 * a1 b0 b0^\n",
       "1 * a1"
      ]
     },
     "execution_count": 12,
     "metadata": {},
     "output_type": "execute_result"
    }
   ],
   "source": [
    "ParticleOperator(\"a1\") * op"
   ]
  },
  {
   "cell_type": "code",
   "execution_count": null,
   "metadata": {},
   "outputs": [
    {
     "name": "stdout",
     "output_type": "stream",
     "text": [
      "3 * a0 b0 a2^ b0^ b0^ b1 d3 a2^ d3^\n",
      "\n",
      "[1 * b0\n",
      ", 1 * b0^\n",
      ", 1 * b0^\n",
      ", 1 * b1\n",
      "]\n",
      "new op is:  1 *  \n",
      "-1 * b0^ b0\n",
      "\n",
      "left op is:  1 * \n",
      "\n",
      "right op is:  1 * b0^ b1\n",
      "\n",
      "tree split is:  1 * b0^ b1\n",
      "-1 * b0^ b0 b0^ b1\n",
      "\n",
      "identity term needed\n",
      "new op is:  1 *  \n",
      "-1 * b0^ b0\n",
      "\n",
      "left op is:  1 * b0^\n",
      "\n",
      "right op is:  1 * b1\n",
      "\n",
      "tree split is:  1 * b0^ b1\n",
      "-1 * b0^ b0^ b0 b1\n",
      "\n",
      "identity term needed\n",
      "[1 * d3\n",
      ", 1 * d3^\n",
      "]\n",
      "new op is:  1 *  \n",
      "-1 * d3^ d3\n",
      "\n",
      "left op is:  1 * \n",
      "\n",
      "right op is:  1 * \n",
      "\n",
      "tree split is:  1 * \n",
      "-1 * d3^ d3\n",
      "\n",
      "identity term needed\n",
      "[1 * a0\n",
      ", 1 * a2^\n",
      ", 1 * a2^\n",
      "]\n"
     ]
    },
    {
     "data": {
      "text/plain": [
       "1 * b0^ b0^ b1 b0 d3^ d3 a2^ a2^ a0\n",
       "3 * b0^ b0^ b1 b0 d3^ d3 a2^ a2^ a0 "
      ]
     },
     "execution_count": 13,
     "metadata": {},
     "output_type": "execute_result"
    }
   ],
   "source": [
    "op = ParticleOperator(\"a0 b0 a2^ b0^ b0^ b1 d3 a2^ d3^\") + ParticleOperator(\"a0 b0 a2^ b0^ b0^ b1 d3 a2^ d3^\") + ParticleOperator(\"a0 b0 a2^ b0^ b0^ b1 d3 a2^ d3^\") \n",
    "print(op)\n",
    "op.normal_order()"
   ]
  },
  {
   "cell_type": "code",
   "execution_count": null,
   "metadata": {},
   "outputs": [
    {
     "data": {
      "text/plain": [
       "1 * b2^ b1^ b3 b4\n",
       "-1 * b2^ b1^ b0^ b0 b3 b4"
      ]
     },
     "execution_count": 14,
     "metadata": {},
     "output_type": "execute_result"
    }
   ],
   "source": [
    "ParticleOperator(\"b2^ b1^\") * (ParticleOperator(\" \") + (-1) * ParticleOperator(\"b0^ b0\")) * ParticleOperator(\"b3 b4\")"
   ]
  },
  {
   "cell_type": "code",
   "execution_count": null,
   "metadata": {},
   "outputs": [
    {
     "data": {
      "text/plain": [
       "1 * b0^ b1\n",
       "-1 * b0^ b0 b0^ b1"
      ]
     },
     "execution_count": 15,
     "metadata": {},
     "output_type": "execute_result"
    }
   ],
   "source": [
    "(ParticleOperator(\" \") + (-1) * ParticleOperator(\"b0^ b0\")) * ParticleOperator(\"b0^ b1\")"
   ]
  },
  {
   "cell_type": "code",
   "execution_count": null,
   "metadata": {},
   "outputs": [
    {
     "name": "stdout",
     "output_type": "stream",
     "text": [
      "[1 * b2^\n",
      ", 1 * b1^\n",
      ", 1 * b0\n",
      ", 1 * b0^\n",
      ", 1 * b3\n",
      ", 1 * b4\n",
      "]\n",
      "new op is:  1 *  \n",
      "-1 * b0^ b0\n",
      "\n",
      "left op is:  1 * b2^ b1^\n",
      "\n",
      "right op is:  1 * b3 b4\n",
      "\n",
      "tree split is:  1 * b2^ b1^ b3 b4\n",
      "-1 * b2^ b1^ b0^ b0 b3 b4\n",
      "\n",
      "identity term needed\n",
      "[]\n",
      "[]\n"
     ]
    },
    {
     "data": {
      "text/plain": [
       "1 * b2^ b1^ b0^ b4 b3 b0\n",
       "1 * b2^ b1^ b0^ b4 b3 b0 "
      ]
     },
     "execution_count": 16,
     "metadata": {},
     "output_type": "execute_result"
    }
   ],
   "source": [
    "op = ParticleOperator(\"b2^ b1^ b0 b0^ b3 b4\")\n",
    "op.normal_order()"
   ]
  },
  {
   "cell_type": "code",
   "execution_count": null,
   "metadata": {},
   "outputs": [
    {
     "name": "stdout",
     "output_type": "stream",
     "text": [
      "[1 * b0\n",
      ", 1 * b0^\n",
      ", 1 * b0^\n",
      ", 1 * b1\n",
      "]\n",
      "new op is:  1 *  \n",
      "-1 * b0^ b0\n",
      "\n",
      "left op is:  1 * \n",
      "\n",
      "right op is:  1 * b0^ b1\n",
      "\n",
      "tree split is:  1 * b0^ b1\n",
      "-1 * b0^ b0 b0^ b1\n",
      "\n",
      "identity term needed\n",
      "new op is:  1 *  \n",
      "-1 * b0^ b0\n",
      "\n",
      "left op is:  1 * b0^\n",
      "\n",
      "right op is:  1 * b1\n",
      "\n",
      "tree split is:  1 * b0^ b1\n",
      "-1 * b0^ b0^ b0 b1\n",
      "\n",
      "identity term needed\n",
      "[]\n",
      "[]\n"
     ]
    },
    {
     "data": {
      "text/plain": [
       "1 * b0^ b0^ b1 b0\n",
       "1 * b0^ b0^ b1 b0 "
      ]
     },
     "execution_count": 18,
     "metadata": {},
     "output_type": "execute_result"
    }
   ],
   "source": [
    "op = ParticleOperator(\"b0 b0^ b0^ b1\")\n",
    "op.normal_order()"
   ]
  },
  {
   "cell_type": "code",
   "execution_count": null,
   "metadata": {},
   "outputs": [
    {
     "name": "stdout",
     "output_type": "stream",
     "text": [
      "[1 * b0\n",
      ", 1 * b0^\n",
      "]\n",
      "new op is:  1 *  \n",
      "-1 * b0^ b0\n",
      "\n",
      "left op is:  1 * \n",
      "\n",
      "right op is:  1 * \n",
      "\n",
      "tree split is:  1 * \n",
      "-1 * b0^ b0\n",
      "\n",
      "identity term needed\n",
      "[]\n",
      "[]\n"
     ]
    },
    {
     "data": {
      "text/plain": [
       "1 * b0^ b0\n",
       "1 * b0^ b0 "
      ]
     },
     "execution_count": 19,
     "metadata": {},
     "output_type": "execute_result"
    }
   ],
   "source": [
    "op = ParticleOperator(\"b0 b0^\")\n",
    "op.normal_order()"
   ]
  }
 ],
 "metadata": {
  "kernelspec": {
   "display_name": "oppenv",
   "language": "python",
   "name": "python3"
  },
  "language_info": {
   "codemirror_mode": {
    "name": "ipython",
    "version": 3
   },
   "file_extension": ".py",
   "mimetype": "text/x-python",
   "name": "python",
   "nbconvert_exporter": "python",
   "pygments_lexer": "ipython3",
   "version": "3.9.6"
  }
 },
 "nbformat": 4,
 "nbformat_minor": 2
}
