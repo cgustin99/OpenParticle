{
 "cells": [
  {
   "cell_type": "markdown",
   "metadata": {},
   "source": [
    "FermionOperator('b2^') doesn't work"
   ]
  },
  {
   "cell_type": "code",
   "execution_count": 1,
   "metadata": {},
   "outputs": [],
   "source": [
    "from openparticle import FockState, ConjugateFockState, ParticleOperator\n",
    "import numpy as np"
   ]
  },
  {
   "cell_type": "code",
   "execution_count": 2,
   "metadata": {},
   "outputs": [
    {
     "data": {
      "text/latex": [
       "$1.0 * |0,3; 1; (0, 2)⟩$"
      ],
      "text/plain": [
       "<IPython.core.display.Latex object>"
      ]
     },
     "metadata": {},
     "output_type": "display_data"
    }
   ],
   "source": [
    "f_occ = [0, 3]\n",
    "af_occ = [1]\n",
    "b_occ = [(0, 2)]\n",
    "x=FockState(f_occ=f_occ, af_occ=af_occ,b_occ=b_occ)\n",
    "x.display()\n"
   ]
  },
  {
   "cell_type": "code",
   "execution_count": 3,
   "metadata": {},
   "outputs": [
    {
     "data": {
      "text/latex": [
       "$1.0*b_0b^†_1d_1a^†_0a^†_1$"
      ],
      "text/plain": [
       "<IPython.core.display.Latex object>"
      ]
     },
     "metadata": {},
     "output_type": "display_data"
    }
   ],
   "source": [
    "op = ParticleOperator('b0 b1^ d1 a0^ a1^')\n",
    "op.display()"
   ]
  },
  {
   "cell_type": "code",
   "execution_count": 4,
   "metadata": {},
   "outputs": [
    {
     "data": {
      "text/latex": [
       "$-1.7320508075688772 * |1,3; ; (0, 2),(1, 1)⟩$"
      ],
      "text/plain": [
       "<IPython.core.display.Latex object>"
      ]
     },
     "metadata": {},
     "output_type": "display_data"
    }
   ],
   "source": [
    "(op * x).display()"
   ]
  },
  {
   "cell_type": "code",
   "execution_count": 5,
   "metadata": {},
   "outputs": [
    {
     "name": "stdout",
     "output_type": "stream",
     "text": [
      "-1.7320508075688772 * |1,3; ; (0, 2),(1, 1)⟩\n"
     ]
    }
   ],
   "source": [
    "print(op *x)"
   ]
  },
  {
   "cell_type": "code",
   "execution_count": 6,
   "metadata": {},
   "outputs": [
    {
     "data": {
      "text/latex": [
       "$1.0 * |0,3; 1; (0, 2)⟩ + 1.0 * |0,2; 2; (1, 3)⟩$"
      ],
      "text/plain": [
       "<IPython.core.display.Latex object>"
      ]
     },
     "metadata": {},
     "output_type": "display_data"
    }
   ],
   "source": [
    "z = FockState([0, 2], [2], [(1, 3)])\n",
    "(x + z).display()"
   ]
  },
  {
   "cell_type": "code",
   "execution_count": 7,
   "metadata": {},
   "outputs": [
    {
     "data": {
      "text/plain": [
       "1.0"
      ]
     },
     "execution_count": 7,
     "metadata": {},
     "output_type": "execute_result"
    }
   ],
   "source": [
    "y = ConjugateFockState.from_state(x)\n",
    "y * x"
   ]
  },
  {
   "cell_type": "code",
   "execution_count": 8,
   "metadata": {},
   "outputs": [
    {
     "name": "stderr",
     "output_type": "stream",
     "text": [
      "OMP: Info #276: omp_set_nested routine deprecated, please use omp_set_max_active_levels instead.\n"
     ]
    }
   ],
   "source": [
    "import numpy as np\n",
    "from symmer import PauliwordOp as Pauli\n",
    "from openparticle import FockState, ParticleOperator, FermionOperator, AntifermionOperator, BosonOperator\n",
    "from typing import Union, List\n",
    "from symmer.utils import tensor_list\n",
    "import symmer"
   ]
  },
  {
   "cell_type": "code",
   "execution_count": 65,
   "metadata": {},
   "outputs": [],
   "source": [
    "def jordan_wigner(op: Union[ParticleOperator, FermionOperator, \n",
    "                            AntifermionOperator]):\n",
    "\n",
    "\n",
    "    if isinstance(op, (FermionOperator, AntifermionOperator, ParticleOperator)):\n",
    "        qubit_op_list = ['X' + 'Z' * op.modes[0], \n",
    "                         'Y' + 'Z' * op.modes[0]]\n",
    "        \n",
    "        if op.ca_string == 'c':\n",
    "            coeffs = [1/2, -1j/2]\n",
    "        elif op.ca_string == 'a': \n",
    "            coeffs = [1/2, 1j/2]\n",
    "        \n",
    "        return Pauli.from_list(qubit_op_list, coeffs)\n",
    "    \n",
    "    else: raise Exception(\"The Jordan Wigner mapping only works for fermions and antifermions\")"
   ]
  },
  {
   "cell_type": "code",
   "execution_count": 71,
   "metadata": {},
   "outputs": [
    {
     "data": {
      "text/latex": [
       "$1.0 * |0,1,3; ; ⟩$"
      ],
      "text/plain": [
       "<IPython.core.display.Latex object>"
      ]
     },
     "metadata": {},
     "output_type": "display_data"
    }
   ],
   "source": [
    "x_fock = FockState([0, 1, 3], [] , [])\n",
    "x_fock.display()"
   ]
  },
  {
   "cell_type": "code",
   "execution_count": 24,
   "metadata": {},
   "outputs": [
    {
     "data": {
      "text/latex": [
       "$-1.0 * |0,1,2,3; ; ⟩$"
      ],
      "text/plain": [
       "<IPython.core.display.Latex object>"
      ]
     },
     "metadata": {},
     "output_type": "display_data"
    }
   ],
   "source": [
    "state_op = ParticleOperator('b2^')\n",
    "(state_op * x_fock).display()"
   ]
  },
  {
   "cell_type": "code",
   "execution_count": 64,
   "metadata": {},
   "outputs": [
    {
     "data": {
      "text/plain": [
       "[2]"
      ]
     },
     "execution_count": 64,
     "metadata": {},
     "output_type": "execute_result"
    }
   ],
   "source": [
    "ParticleOperator('b2^').modes"
   ]
  },
  {
   "cell_type": "code",
   "execution_count": 9,
   "metadata": {},
   "outputs": [],
   "source": [
    "def map_bose_occ(occupancy_list, N):\n",
    "    q_bos = []\n",
    "    for occ in occupancy_list:\n",
    "        for i in range(N + 1):\n",
    "            q_bos.append(0 if i == occ else 1)\n",
    "\n",
    "    return q_bos"
   ]
  },
  {
   "cell_type": "code",
   "execution_count": 48,
   "metadata": {},
   "outputs": [],
   "source": [
    "def map_fermions_to_qubits(state):\n",
    "    if state.f_occ != []:       \n",
    "        fock_list = state.f_occ\n",
    "        qubit_state = [0] * (state.f_occ[-1] + 1)\n",
    "\n",
    "        for index in fock_list:\n",
    "            qubit_state[index] = 1\n",
    "\n",
    "    #     return symmer.QuantumState([qubit_state])\n",
    "        return qubit_state\n",
    "    else: return []"
   ]
  },
  {
   "cell_type": "code",
   "execution_count": 58,
   "metadata": {},
   "outputs": [],
   "source": [
    "def map_antifermions_to_qubits(state):\n",
    "    if state.af_occ != []:       \n",
    "        fock_list = state.f_occ\n",
    "        qubit_state = [0] * (state.af_occ[-1] + 1)\n",
    "\n",
    "        for index in fock_list:\n",
    "            qubit_state[index] = 1\n",
    "        return qubit_state\n",
    "    else: return []"
   ]
  },
  {
   "cell_type": "code",
   "execution_count": 68,
   "metadata": {},
   "outputs": [],
   "source": [
    "x_qubit = symmer.QuantumState([map_fermions_to_qubits(x_fock)])"
   ]
  },
  {
   "cell_type": "code",
   "execution_count": 67,
   "metadata": {},
   "outputs": [],
   "source": [
    "qubit_op = jordan_wigner(ParticleOperator('b2^'))"
   ]
  },
  {
   "cell_type": "code",
   "execution_count": 72,
   "metadata": {},
   "outputs": [
    {
     "data": {
      "text/plain": [
       "( 1.000+0.000j |1101>,\n",
       "  0.500+0.000j XZZ +\n",
       " -0.000-0.500j YZZ)"
      ]
     },
     "execution_count": 72,
     "metadata": {},
     "output_type": "execute_result"
    }
   ],
   "source": [
    "x_qubit, qubit_op"
   ]
  },
  {
   "cell_type": "code",
   "execution_count": 29,
   "metadata": {},
   "outputs": [],
   "source": [
    "def qubit_state_mapping(state, max_bose_mode_occ: int = None):\n",
    "\n",
    "    q_fermi = map_fermions_to_qubits(state)\n",
    "    q_antifermi = map_antifermions_to_qubits(state)\n",
    "    q_bos = state.b_occ\n",
    "    #q_bos = map_bose_occ(state.bos_occupancy, max_bose_mode_occ)#[::-1]\n",
    "    \n",
    "    return symmer.QuantumState([q_fermi + q_antifermi + q_bos])"
   ]
  },
  {
   "cell_type": "code",
   "execution_count": 30,
   "metadata": {},
   "outputs": [
    {
     "ename": "AssertionError",
     "evalue": "",
     "output_type": "error",
     "traceback": [
      "\u001b[0;31m---------------------------------------------------------------------------\u001b[0m",
      "\u001b[0;31mAssertionError\u001b[0m                            Traceback (most recent call last)",
      "Cell \u001b[0;32mIn[30], line 1\u001b[0m\n\u001b[0;32m----> 1\u001b[0m \u001b[43mqubit_state_mapping\u001b[49m\u001b[43m(\u001b[49m\u001b[43mx_fock\u001b[49m\u001b[43m)\u001b[49m\n",
      "Cell \u001b[0;32mIn[29], line 8\u001b[0m, in \u001b[0;36mqubit_state_mapping\u001b[0;34m(state, max_bose_mode_occ)\u001b[0m\n\u001b[1;32m      5\u001b[0m q_bos \u001b[38;5;241m=\u001b[39m state\u001b[38;5;241m.\u001b[39mb_occ\n\u001b[1;32m      6\u001b[0m \u001b[38;5;66;03m#q_bos = map_bose_occ(state.bos_occupancy, max_bose_mode_occ)#[::-1]\u001b[39;00m\n\u001b[0;32m----> 8\u001b[0m \u001b[38;5;28;01mreturn\u001b[39;00m \u001b[43msymmer\u001b[49m\u001b[38;5;241;43m.\u001b[39;49m\u001b[43mQuantumState\u001b[49m\u001b[43m(\u001b[49m\u001b[43m[\u001b[49m\u001b[43mq_fermi\u001b[49m\u001b[43m \u001b[49m\u001b[38;5;241;43m+\u001b[39;49m\u001b[43m \u001b[49m\u001b[43mq_antifermi\u001b[49m\u001b[43m \u001b[49m\u001b[38;5;241;43m+\u001b[39;49m\u001b[43m \u001b[49m\u001b[43mq_bos\u001b[49m\u001b[43m]\u001b[49m\u001b[43m)\u001b[49m\n",
      "File \u001b[0;32m~/opt/anaconda3/lib/python3.8/site-packages/symmer/operators/base.py:1614\u001b[0m, in \u001b[0;36mQuantumState.__init__\u001b[0;34m(self, state_matrix, coeff_vector, vec_type)\u001b[0m\n\u001b[1;32m   1612\u001b[0m     state_matrix \u001b[38;5;241m=\u001b[39m state_matrix\u001b[38;5;241m.\u001b[39mreshape([\u001b[38;5;241m1\u001b[39m,\u001b[38;5;241m-\u001b[39m\u001b[38;5;241m1\u001b[39m])\n\u001b[1;32m   1613\u001b[0m state_matrix \u001b[38;5;241m=\u001b[39m state_matrix\u001b[38;5;241m.\u001b[39mastype(\u001b[38;5;28mint\u001b[39m) \u001b[38;5;66;03m# in case input is boolean\u001b[39;00m\n\u001b[0;32m-> 1614\u001b[0m \u001b[38;5;28;01massert\u001b[39;00m(\u001b[38;5;28mset\u001b[39m(state_matrix\u001b[38;5;241m.\u001b[39mflatten())\u001b[38;5;241m.\u001b[39missubset({\u001b[38;5;241m0\u001b[39m,\u001b[38;5;241m1\u001b[39m})) \u001b[38;5;66;03m# must be binary, does not support N-ary qubits\u001b[39;00m\n\u001b[1;32m   1615\u001b[0m \u001b[38;5;28mself\u001b[39m\u001b[38;5;241m.\u001b[39mn_terms, \u001b[38;5;28mself\u001b[39m\u001b[38;5;241m.\u001b[39mn_qubits \u001b[38;5;241m=\u001b[39m state_matrix\u001b[38;5;241m.\u001b[39mshape\n\u001b[1;32m   1616\u001b[0m \u001b[38;5;28mself\u001b[39m\u001b[38;5;241m.\u001b[39mstate_matrix \u001b[38;5;241m=\u001b[39m state_matrix\n",
      "\u001b[0;31mAssertionError\u001b[0m: "
     ]
    }
   ],
   "source": [
    "qubit_state_mapping(x_fock)"
   ]
  },
  {
   "cell_type": "code",
   "execution_count": null,
   "metadata": {},
   "outputs": [],
   "source": []
  },
  {
   "cell_type": "code",
   "execution_count": null,
   "metadata": {},
   "outputs": [],
   "source": []
  },
  {
   "cell_type": "code",
   "execution_count": null,
   "metadata": {},
   "outputs": [],
   "source": []
  },
  {
   "cell_type": "code",
   "execution_count": null,
   "metadata": {},
   "outputs": [],
   "source": []
  },
  {
   "cell_type": "code",
   "execution_count": 54,
   "metadata": {},
   "outputs": [],
   "source": [
    "from QCD.hadron import Hadron\n",
    "from QCD.get_quantum_nums import get_quantum_numbers\n",
    "import numpy as np"
   ]
  },
  {
   "cell_type": "code",
   "execution_count": 58,
   "metadata": {},
   "outputs": [],
   "source": [
    "K = 6"
   ]
  },
  {
   "cell_type": "markdown",
   "metadata": {},
   "source": [
    "$$p^+ = \\begin{cases}\n",
    "\\frac{2\\pi}{L}n; n = 1, 3, 5, \\dots (\\text{fermions}) \\\\\n",
    "\\frac{2\\pi}{L}n; n = 2, 4, 6, \\dots (\\text{bosons})\n",
    "\n",
    "\n",
    "\\end{cases}$$"
   ]
  },
  {
   "cell_type": "code",
   "execution_count": 59,
   "metadata": {},
   "outputs": [
    {
     "data": {
      "text/html": [
       "<div>\n",
       "<style scoped>\n",
       "    .dataframe tbody tr th:only-of-type {\n",
       "        vertical-align: middle;\n",
       "    }\n",
       "\n",
       "    .dataframe tbody tr th {\n",
       "        vertical-align: top;\n",
       "    }\n",
       "\n",
       "    .dataframe thead th {\n",
       "        text-align: right;\n",
       "    }\n",
       "</style>\n",
       "<table border=\"1\" class=\"dataframe\">\n",
       "  <thead>\n",
       "    <tr style=\"text-align: right;\">\n",
       "      <th></th>\n",
       "      <th>Helicity</th>\n",
       "      <th>n</th>\n",
       "    </tr>\n",
       "  </thead>\n",
       "  <tbody>\n",
       "    <tr>\n",
       "      <th>0</th>\n",
       "      <td>+1</td>\n",
       "      <td>1</td>\n",
       "    </tr>\n",
       "    <tr>\n",
       "      <th>1</th>\n",
       "      <td>+1</td>\n",
       "      <td>2</td>\n",
       "    </tr>\n",
       "    <tr>\n",
       "      <th>2</th>\n",
       "      <td>+1</td>\n",
       "      <td>3</td>\n",
       "    </tr>\n",
       "    <tr>\n",
       "      <th>3</th>\n",
       "      <td>+1</td>\n",
       "      <td>4</td>\n",
       "    </tr>\n",
       "    <tr>\n",
       "      <th>4</th>\n",
       "      <td>+1</td>\n",
       "      <td>5</td>\n",
       "    </tr>\n",
       "    <tr>\n",
       "      <th>5</th>\n",
       "      <td>-1</td>\n",
       "      <td>1</td>\n",
       "    </tr>\n",
       "    <tr>\n",
       "      <th>6</th>\n",
       "      <td>-1</td>\n",
       "      <td>2</td>\n",
       "    </tr>\n",
       "    <tr>\n",
       "      <th>7</th>\n",
       "      <td>-1</td>\n",
       "      <td>3</td>\n",
       "    </tr>\n",
       "    <tr>\n",
       "      <th>8</th>\n",
       "      <td>-1</td>\n",
       "      <td>4</td>\n",
       "    </tr>\n",
       "    <tr>\n",
       "      <th>9</th>\n",
       "      <td>-1</td>\n",
       "      <td>5</td>\n",
       "    </tr>\n",
       "  </tbody>\n",
       "</table>\n",
       "</div>"
      ],
      "text/plain": [
       "  Helicity  n\n",
       "0       +1  1\n",
       "1       +1  2\n",
       "2       +1  3\n",
       "3       +1  4\n",
       "4       +1  5\n",
       "5       -1  1\n",
       "6       -1  2\n",
       "7       -1  3\n",
       "8       -1  4\n",
       "9       -1  5"
      ]
     },
     "execution_count": 59,
     "metadata": {},
     "output_type": "execute_result"
    }
   ],
   "source": [
    "get_quantum_numbers(K)"
   ]
  },
  {
   "cell_type": "code",
   "execution_count": 60,
   "metadata": {},
   "outputs": [
    {
     "data": {
      "text/latex": [
       "$|q\\bar{q}> + |q\\bar{q}gg>$"
      ],
      "text/plain": [
       "<IPython.core.display.Latex object>"
      ]
     },
     "metadata": {},
     "output_type": "display_data"
    }
   ],
   "source": [
    "pion = Hadron([['q', 'qbar'], \n",
    "               ['q', 'qbar', 'g', 'g']])\n",
    "pion.display()\n"
   ]
  },
  {
   "cell_type": "code",
   "execution_count": 61,
   "metadata": {},
   "outputs": [
    {
     "name": "stdout",
     "output_type": "stream",
     "text": [
      "1.0 * |1,0,0,0,0,0,0,0,0,0; 0,0,0,0,1,0,0,0,0,0; ⟩ + 1.0 * |1,0,0,0,0,0,0,0,0,0; 0,0,0,0,0,0,0,0,0,1; ⟩ + 1.0 * |0,0,1,0,0,0,0,0,0,0; 0,0,1,0,0,0,0,0,0,0; ⟩ + 1.0 * |0,0,1,0,0,0,0,0,0,0; 0,0,0,0,0,0,0,1,0,0; ⟩ + 1.0 * |0,0,0,0,1,0,0,0,0,0; 1,0,0,0,0,0,0,0,0,0; ⟩ + 1.0 * |0,0,0,0,1,0,0,0,0,0; 0,0,0,0,0,1,0,0,0,0; ⟩ + 1.0 * |0,0,0,0,0,1,0,0,0,0; 0,0,0,0,1,0,0,0,0,0; ⟩ + 1.0 * |0,0,0,0,0,1,0,0,0,0; 0,0,0,0,0,0,0,0,0,1; ⟩ + 1.0 * |0,0,0,0,0,0,0,1,0,0; 0,0,1,0,0,0,0,0,0,0; ⟩ + 1.0 * |0,0,0,0,0,0,0,1,0,0; 0,0,0,0,0,0,0,1,0,0; ⟩ + 1.0 * |0,0,0,0,0,0,0,0,0,1; 1,0,0,0,0,0,0,0,0,0; ⟩ + 1.0 * |0,0,0,0,0,0,0,0,0,1; 0,0,0,0,0,1,0,0,0,0; ⟩ + 1.0 * |1,0,0,0,0,0,0,0,0,0; 1,0,0,0,0,0,0,0,0,0; 0,2,0,0,0,0,0,0,0,0⟩ + 1.0 * |1,0,0,0,0,0,0,0,0,0; 1,0,0,0,0,0,0,0,0,0; 0,1,0,0,0,0,1,0,0,0⟩ + 1.0 * |1,0,0,0,0,0,0,0,0,0; 1,0,0,0,0,0,0,0,0,0; 0,0,0,0,0,0,2,0,0,0⟩ + 1.0 * |1,0,0,0,0,0,0,0,0,0; 0,0,0,0,0,1,0,0,0,0; 0,2,0,0,0,0,0,0,0,0⟩ + 1.0 * |1,0,0,0,0,0,0,0,0,0; 0,0,0,0,0,1,0,0,0,0; 0,1,0,0,0,0,1,0,0,0⟩ + 1.0 * |1,0,0,0,0,0,0,0,0,0; 0,0,0,0,0,1,0,0,0,0; 0,0,0,0,0,0,2,0,0,0⟩ + 1.0 * |0,0,0,0,0,1,0,0,0,0; 1,0,0,0,0,0,0,0,0,0; 0,2,0,0,0,0,0,0,0,0⟩ + 1.0 * |0,0,0,0,0,1,0,0,0,0; 1,0,0,0,0,0,0,0,0,0; 0,1,0,0,0,0,1,0,0,0⟩ + 1.0 * |0,0,0,0,0,1,0,0,0,0; 1,0,0,0,0,0,0,0,0,0; 0,0,0,0,0,0,2,0,0,0⟩ + 1.0 * |0,0,0,0,0,1,0,0,0,0; 0,0,0,0,0,1,0,0,0,0; 0,2,0,0,0,0,0,0,0,0⟩ + 1.0 * |0,0,0,0,0,1,0,0,0,0; 0,0,0,0,0,1,0,0,0,0; 0,1,0,0,0,0,1,0,0,0⟩ + 1.0 * |0,0,0,0,0,1,0,0,0,0; 0,0,0,0,0,1,0,0,0,0; 0,0,0,0,0,0,2,0,0,0⟩\n"
     ]
    }
   ],
   "source": [
    "print(pion.get_states(K))"
   ]
  },
  {
   "cell_type": "code",
   "execution_count": null,
   "metadata": {},
   "outputs": [],
   "source": [
    "#SU(2) Flavor matrices\n",
    "\n",
    "f1 = np.array([[0, 1], [1, 0]])\n",
    "f2 = np.array([[0, -1j], [1j, 0]])\n",
    "f3 = np.array([[1, 0], [0, -1]])\n",
    "\n",
    "#Isospin\n",
    "T = 1/2 * np.array([f1, f2, f3])\n",
    "Tsq = T[0].dot(T[0]) + T[1].dot(T[1]) + T[2].dot(T[2])"
   ]
  },
  {
   "cell_type": "code",
   "execution_count": null,
   "metadata": {},
   "outputs": [],
   "source": [
    "u = np.array([[1, 0]]).reshape(-1, 1)\n",
    "d = np.array([[0, 1]]).reshape(-1, 1)"
   ]
  },
  {
   "cell_type": "code",
   "execution_count": null,
   "metadata": {},
   "outputs": [],
   "source": [
    "np.allclose(T[2].dot(u), 1/2 * u)"
   ]
  },
  {
   "cell_type": "code",
   "execution_count": null,
   "metadata": {},
   "outputs": [],
   "source": [
    "np.allclose(Tsq.dot(u), 1/2 * (1/2 + 1) * u)"
   ]
  },
  {
   "cell_type": "code",
   "execution_count": null,
   "metadata": {},
   "outputs": [],
   "source": [
    "#Ladder operators \n",
    "Tplus = T[0] + 1j * T[1]\n",
    "Tminus = T[0] - 1j * T[1]"
   ]
  },
  {
   "cell_type": "code",
   "execution_count": null,
   "metadata": {},
   "outputs": [],
   "source": [
    "np.allclose(Tplus.dot(u), 0), np.allclose(Tplus.dot(d), u), np.allclose(Tminus.dot(d), 0), np.allclose(Tminus.dot(u), d)"
   ]
  },
  {
   "cell_type": "markdown",
   "metadata": {},
   "source": [
    "### Color SU(3) Singlets"
   ]
  },
  {
   "cell_type": "code",
   "execution_count": null,
   "metadata": {},
   "outputs": [],
   "source": [
    "lam = np.array([np.array([[0, 1, 0],\n",
    "                    [1, 0, 0],\n",
    "                    [0, 0, 0]]),\n",
    "            np.array([[0, -1j, 0],\n",
    "                    [1j, 0, 0],\n",
    "                    [0, 0, 0]]),\n",
    "            np.array([[1, 0, 0],\n",
    "                    [0, -1, 0],\n",
    "                    [0, 0, 0]]),\n",
    "            np.array([[0, 0, 1],\n",
    "                    [0, 0, 0],\n",
    "                    [1, 0, 0]]),\n",
    "            np.array([[0, 0, -1j],\n",
    "                    [0, 0, 0],\n",
    "                    [1j, 0, 0]]),\n",
    "            np.array([[0, 0, 0],\n",
    "                    [0, 0, 1],\n",
    "                    [0, 1, 0]]),\n",
    "            np.array([[0, 0, 0],\n",
    "                    [0, 0, -1j],\n",
    "                    [0, 1j, 0]]),  \n",
    "            np.array([[1/np.sqrt(3), 0, 0],\n",
    "                    [0, 1/np.sqrt(3), 0],\n",
    "                    [0, 0, -2/np.sqrt(3)]])\n",
    "\n",
    "])\n",
    "T = lam/2"
   ]
  },
  {
   "cell_type": "code",
   "execution_count": null,
   "metadata": {},
   "outputs": [],
   "source": [
    "r = np.array([1, 0, 0]).reshape(-1, 1)\n",
    "g = np.array([0, 1, 0]).reshape(-1, 1)\n",
    "b = np.array([0, 0, 1]).reshape(-1, 1)"
   ]
  },
  {
   "cell_type": "code",
   "execution_count": null,
   "metadata": {},
   "outputs": [],
   "source": []
  }
 ],
 "metadata": {
  "kernelspec": {
   "display_name": "Python 3 (ipykernel)",
   "language": "python",
   "name": "python3"
  },
  "language_info": {
   "codemirror_mode": {
    "name": "ipython",
    "version": 3
   },
   "file_extension": ".py",
   "mimetype": "text/x-python",
   "name": "python",
   "nbconvert_exporter": "python",
   "pygments_lexer": "ipython3",
   "version": "3.8.16"
  }
 },
 "nbformat": 4,
 "nbformat_minor": 2
}
