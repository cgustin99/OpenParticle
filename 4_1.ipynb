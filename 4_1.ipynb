{
 "cells": [
  {
   "cell_type": "code",
   "execution_count": 102,
   "metadata": {},
   "outputs": [],
   "source": [
    "import numpy as np\n",
    "from openparticle.fockstate import FockState\n",
    "from openparticle.particleoperator import ParticleOperator, FermionOperator, BosonOperator, AntifermionOperator\n",
    "from typing import Union, List\n",
    "from symmer.utils import tensor_list\n",
    "from symmer import PauliwordOp as Pauli\n",
    "from symmer import QuantumState\n"
   ]
  },
  {
   "cell_type": "code",
   "execution_count": 32,
   "metadata": {},
   "outputs": [],
   "source": [
    "def jordan_wigner(op: Union[FermionOperator, \n",
    "                            AntifermionOperator, ParticleOperator], display_latex: bool = False):\n",
    "\n",
    "\n",
    "    if isinstance(op, (FermionOperator, AntifermionOperator, ParticleOperator)):\n",
    "        qubit_op_string = ''\n",
    "\n",
    "        qubit_op_list = ['X' + 'Z' * op.modes[0], \n",
    "                         'Y' + 'Z' * op.modes[0]]\n",
    "        \n",
    "\n",
    "        if op.ca_string == 'c':\n",
    "            coeffs = [1/2, -1j/2]\n",
    "            qubit_op_string = '$' + str(0.5) + qubit_op_list[0] + ' - 0.5' + 'i' + qubit_op_list[1] + '$'\n",
    "        elif op.ca_string == 'a': \n",
    "            coeffs = [1/2, 1j/2]\n",
    "            qubit_op_string = '$' + str(0.5) + qubit_op_list[0] + ' + 0.5' + 'i' + qubit_op_list[1] + '$'\n",
    "\n",
    "\n",
    "        if display_latex: display(Latex(qubit_op_string))\n",
    "        return Pauli.from_list(qubit_op_list, coeffs)\n",
    "        \n",
    "    else: raise Exception(\"The Jordan Wigner mapping only works for fermions and antifermions\")"
   ]
  },
  {
   "cell_type": "code",
   "execution_count": 86,
   "metadata": {},
   "outputs": [],
   "source": [
    "def unary(op: Union[BosonOperator, ParticleOperator], max_bose_mode_occ: int, display_latex: bool = False):\n",
    "\n",
    "    # assert op.modes[0] <= total_modes\n",
    "\n",
    "    if isinstance(op, BosonOperator):\n",
    "        p = op.modes[0]\n",
    "\n",
    "        Mb = max_bose_mode_occ\n",
    "\n",
    "        pauli_list = []\n",
    "        coeffs_list = []\n",
    "        nq_max = (p + 1) * (Mb + 1) \n",
    "\n",
    "        op_str = ''\n",
    "\n",
    "        for j in range(0, Mb):\n",
    "            q = (Mb + 1) * p + j\n",
    "            qubit_diff = nq_max - q - 2\n",
    "            pauli_list += [\"I\" * qubit_diff + 'XX' + 'I' * q,\n",
    "                           \"I\" * qubit_diff + 'XY' + 'I' * q,\n",
    "                            \"I\" * qubit_diff + 'YX' + 'I' * q,\n",
    "                            \"I\" * qubit_diff + 'YY' + 'I' * q]\n",
    "            pauli_list_static = [\"I\" * qubit_diff + 'XX' + 'I' * q,\n",
    "                           \"I\" * qubit_diff + 'XY' + 'I' * q,\n",
    "                            \"I\" * qubit_diff + 'YX' + 'I' * q,\n",
    "                            \"I\" * qubit_diff + 'YY' + 'I' * q]\n",
    "            if op.ca_string == 'c':\n",
    "                coeffs_list += list(np.sqrt(j + 1) / 4 * np.array([1, 1j, -1j, 1]))\n",
    "                op_str += str(round(np.sqrt(j + 1)/4, 3)) + pauli_list_static[0] + \" + \" + str(round(np.sqrt(j + 1)/4, 3)) + \"i\" +  pauli_list_static[1] +\\\n",
    "                      \" - \" + str(round(np.sqrt(j + 1)/4, 3)) + \"i\" + pauli_list_static[2] + \" + \" + str(round(np.sqrt(j + 1)/4, 3)) + pauli_list_static[3] + \" +\"\n",
    "            elif op.ca_string == 'a':\n",
    "                coeffs_list += list(np.sqrt(j + 1) / 4 * np.array([1, -1j, 1j, 1]))\n",
    "                op_str += str(round(np.sqrt(j + 1)/4, 3)) + pauli_list_static[0] + \" - \" + str(round(np.sqrt(j + 1)/4, 3)) + \"i\" +  pauli_list_static[1] +\\\n",
    "                      \" + \" + str(round(np.sqrt(j + 1)/4, 3)) + \"i\" + pauli_list_static[2] + \" + \" + str(round(np.sqrt(j + 1)/4, 3)) + pauli_list_static[3] + \" +\"\n",
    "\n",
    "        op = Pauli.from_list(pauli_list, coeffs_list)\n",
    "        if display_latex: \n",
    "            op_str = \"$\" + op_str[:-1] + \"$\"\n",
    "            display(Latex(op_str))\n",
    "\n",
    "        return op\n",
    "\n",
    "    else: raise NotImplemented"
   ]
  },
  {
   "cell_type": "code",
   "execution_count": 87,
   "metadata": {},
   "outputs": [],
   "source": [
    "def qubit_op_mapping(op: Union[ParticleOperator, FermionOperator, AntifermionOperator, BosonOperator], \n",
    "                  max_bose_mode_occ: int = None, total_modes: int = None):\n",
    "    \n",
    "    if isinstance(op, FermionOperator): return jordan_wigner(op)\n",
    "    elif isinstance(op, AntifermionOperator): return jordan_wigner(op)\n",
    "    elif isinstance(op, BosonOperator): \n",
    "        if max_bose_mode_occ == None: raise Exception(\"Must provide maximum bosonic mode occupancy\")\n",
    "        else: return unary(op, max_bose_mode_occ)\n",
    "\n",
    "    elif isinstance(op, ParticleOperator):\n",
    "        if op.fermion_modes != []:\n",
    "            fermion_qubit = Pauli.from_list(['I' * (max(op.fermion_modes) + 1)], [1])\n",
    "        else: fermion_qubit = Pauli.empty()\n",
    "        if op.antifermion_modes != []:\n",
    "            antifermion_qubit = Pauli.from_list(['I' * (max(op.antifermion_modes) + 1)], [1])\n",
    "        if op.boson_modes != []:\n",
    "            boson_qubit = Pauli.from_list(['I'  * ((max(op.boson_modes) + 1) * (max_bose_mode_occ + 1))], [1])\n",
    "    \n",
    "        ops_to_tensor = []\n",
    "        for element in op.input_string.split(\" \"):\n",
    "            if element[0] == 'b':\n",
    "                fermion_qubit *= jordan_wigner(FermionOperator(element[1:]))\n",
    "            elif element[0] == 'd':\n",
    "                antifermion_qubit *= jordan_wigner(AntifermionOperator(element[1:]))\n",
    "            elif element[0] == 'a':\n",
    "                boson_qubit *= unary(BosonOperator(element[1:]), max_bose_mode_occ)\n",
    "\n",
    "        if 'fermion_qubit' in vars():\n",
    "            ops_to_tensor.append(fermion_qubit)\n",
    "        if 'antifermion_qubit' in vars():\n",
    "            ops_to_tensor.append(antifermion_qubit)\n",
    "        if 'boson_qubit' in vars():\n",
    "            ops_to_tensor.append(boson_qubit)\n",
    "        \n",
    "\n",
    "        return tensor_list(ops_to_tensor)\n"
   ]
  },
  {
   "cell_type": "code",
   "execution_count": 88,
   "metadata": {},
   "outputs": [
    {
     "data": {
      "text/plain": [
       " 0.062-0.000j XXZIIXX +\n",
       " 0.000-0.062j XXZIIXY +\n",
       " 0.000+0.062j XXZIIYX +\n",
       " 0.062-0.000j XXZIIYY +\n",
       " 0.000+0.062j XYZIIXX +\n",
       " 0.062-0.000j XYZIIXY +\n",
       "-0.062+0.000j XYZIIYX +\n",
       " 0.000+0.062j XYZIIYY +\n",
       " 0.000-0.062j YXZIIXX +\n",
       "-0.062-0.000j YXZIIXY +\n",
       " 0.062-0.000j YXZIIYX +\n",
       " 0.000-0.062j YXZIIYY +\n",
       " 0.062-0.000j YYZIIXX +\n",
       " 0.000-0.062j YYZIIXY +\n",
       " 0.000+0.062j YYZIIYX +\n",
       " 0.062-0.000j YYZIIYY +\n",
       " 0.088-0.000j XXZIXXI +\n",
       " 0.000-0.088j XXZIXYI +\n",
       " 0.000+0.088j XXZIYXI +\n",
       " 0.088-0.000j XXZIYYI +\n",
       " 0.000+0.088j XYZIXXI +\n",
       " 0.088-0.000j XYZIXYI +\n",
       "-0.088+0.000j XYZIYXI +\n",
       " 0.000+0.088j XYZIYYI +\n",
       " 0.000-0.088j YXZIXXI +\n",
       "-0.088-0.000j YXZIXYI +\n",
       " 0.088-0.000j YXZIYXI +\n",
       " 0.000-0.088j YXZIYYI +\n",
       " 0.088-0.000j YYZIXXI +\n",
       " 0.000-0.088j YYZIXYI +\n",
       " 0.000+0.088j YYZIYXI +\n",
       " 0.088-0.000j YYZIYYI +\n",
       " 0.108-0.000j XXZXXII +\n",
       " 0.000-0.108j XXZXYII +\n",
       " 0.000+0.108j XXZYXII +\n",
       " 0.108-0.000j XXZYYII +\n",
       " 0.000+0.108j XYZXXII +\n",
       " 0.108-0.000j XYZXYII +\n",
       "-0.108+0.000j XYZYXII +\n",
       " 0.000+0.108j XYZYYII +\n",
       " 0.000-0.108j YXZXXII +\n",
       "-0.108-0.000j YXZXYII +\n",
       " 0.108-0.000j YXZYXII +\n",
       " 0.000-0.108j YXZYYII +\n",
       " 0.108-0.000j YYZXXII +\n",
       " 0.000-0.108j YYZXYII +\n",
       " 0.000+0.108j YYZYXII +\n",
       " 0.108-0.000j YYZYYII"
      ]
     },
     "execution_count": 88,
     "metadata": {},
     "output_type": "execute_result"
    }
   ],
   "source": [
    "qubit_op_mapping(ParticleOperator('b0^ d1 a0'), 3)"
   ]
  },
  {
   "cell_type": "code",
   "execution_count": 229,
   "metadata": {},
   "outputs": [
    {
     "data": {
      "text/latex": [
       "$0.5XZZZ - 0.5iYZZZ$"
      ],
      "text/plain": [
       "<IPython.core.display.Latex object>"
      ]
     },
     "metadata": {},
     "output_type": "display_data"
    },
    {
     "data": {
      "text/latex": [
       "$0.5X + 0.5iY$"
      ],
      "text/plain": [
       "<IPython.core.display.Latex object>"
      ]
     },
     "metadata": {},
     "output_type": "display_data"
    },
    {
     "data": {
      "text/plain": [
       " 0.500+0.000j IZZZ +\n",
       "-0.500+0.000j ZZZZ"
      ]
     },
     "execution_count": 229,
     "metadata": {},
     "output_type": "execute_result"
    }
   ],
   "source": [
    "qubit_op = jordan_wigner(ParticleOperator('b3^'))\n",
    "qubit_op_2 = jordan_wigner(ParticleOperator('b0'))\n",
    "qubit_op_2 = qubit_op_2.tensor(Pauli.from_list(['I' * (qubit_op.n_qubits - qubit_op_2.n_qubits)], [1]))\n",
    "qubit_op * qubit_op_2"
   ]
  },
  {
   "cell_type": "code",
   "execution_count": 9,
   "metadata": {},
   "outputs": [],
   "source": [
    "def map_bose_occ(occupancy_list, N):\n",
    "    q_bos = []\n",
    "    for occ in occupancy_list:\n",
    "        for i in range(N + 1):\n",
    "            q_bos.append(0 if i == occ else 1)\n",
    "\n",
    "    return q_bos"
   ]
  },
  {
   "cell_type": "code",
   "execution_count": 115,
   "metadata": {},
   "outputs": [],
   "source": [
    "def map_fermions_to_qubits(state):\n",
    "    if state.f_occ != []:       \n",
    "        fock_list = state.f_occ\n",
    "        qubit_state = [0] * (state.f_occ[-1] + 1)\n",
    "\n",
    "        for index in fock_list:\n",
    "            qubit_state[index] = 1\n",
    "        return QuantumState([qubit_state[::-1]])\n",
    "\n",
    "    else: return []"
   ]
  },
  {
   "cell_type": "code",
   "execution_count": 116,
   "metadata": {},
   "outputs": [
    {
     "name": "stdout",
     "output_type": "stream",
     "text": [
      "[0, 0, 1]\n"
     ]
    },
    {
     "data": {
      "text/plain": [
       " 1.000+0.000j |100>"
      ]
     },
     "execution_count": 116,
     "metadata": {},
     "output_type": "execute_result"
    }
   ],
   "source": [
    "map_fermions_to_qubits(FockState([2], [], []))"
   ]
  },
  {
   "cell_type": "code",
   "execution_count": 117,
   "metadata": {},
   "outputs": [],
   "source": [
    "def map_fermions_to_qubits(state):\n",
    "    if state.af_occ != []:       \n",
    "        fock_list = state.af_occ\n",
    "        qubit_state = [0] * (state.af_occ[-1] + 1)\n",
    "\n",
    "        for index in fock_list:\n",
    "            qubit_state[index] = 1\n",
    "        return qubit_state[::-1]\n",
    "\n",
    "    else: return []"
   ]
  },
  {
   "cell_type": "code",
   "execution_count": null,
   "metadata": {},
   "outputs": [],
   "source": []
  },
  {
   "cell_type": "code",
   "execution_count": 13,
   "metadata": {},
   "outputs": [],
   "source": []
  },
  {
   "cell_type": "code",
   "execution_count": 239,
   "metadata": {},
   "outputs": [
    {
     "data": {
      "text/latex": [
       "$0.25IIXX - 0.25iIIXY + 0.25iIIYX + 0.25IIYY +0.354IXXI - 0.354iIXYI + 0.354iIYXI + 0.354IYYI +0.433XXII - 0.433iXYII + 0.433iYXII + 0.433YYII $"
      ],
      "text/plain": [
       "<IPython.core.display.Latex object>"
      ]
     },
     "metadata": {},
     "output_type": "display_data"
    },
    {
     "data": {
      "text/plain": [
       " 0.250+0.000j IIXX +\n",
       " 0.000-0.250j IIXY +\n",
       " 0.000+0.250j IIYX +\n",
       " 0.250+0.000j IIYY +\n",
       " 0.354+0.000j IXXI +\n",
       " 0.000-0.354j IXYI +\n",
       " 0.000+0.354j IYXI +\n",
       " 0.354+0.000j IYYI +\n",
       " 0.433+0.000j XXII +\n",
       " 0.000-0.433j XYII +\n",
       " 0.000+0.433j YXII +\n",
       " 0.433+0.000j YYII"
      ]
     },
     "execution_count": 239,
     "metadata": {},
     "output_type": "execute_result"
    }
   ],
   "source": [
    "unary(BosonOperator('0'), 3)"
   ]
  },
  {
   "cell_type": "code",
   "execution_count": 211,
   "metadata": {},
   "outputs": [
    {
     "data": {
      "text/latex": [
       "$0.25IIXXIIII + 0.25iIIXYIIII - 0.25iIIYXIIII + 0.25IIYYIIII +0.354IXXIIIII + 0.354iIXYIIIII - 0.354iIYXIIIII + 0.354IYYIIIII +0.433XXIIIIII + 0.433iXYIIIIII - 0.433iYXIIIIII + 0.433YYIIIIII $"
      ],
      "text/plain": [
       "<IPython.core.display.Latex object>"
      ]
     },
     "metadata": {},
     "output_type": "display_data"
    }
   ],
   "source": [
    "unary(BosonOperator('1^'), 3)"
   ]
  },
  {
   "cell_type": "code",
   "execution_count": 209,
   "metadata": {},
   "outputs": [
    {
     "data": {
      "text/latex": [
       "$0.5XZZZ - 0.5iYZZZ$"
      ],
      "text/plain": [
       "<IPython.core.display.Latex object>"
      ]
     },
     "metadata": {},
     "output_type": "display_data"
    }
   ],
   "source": [
    "jordan_wigner(ParticleOperator('b3^'))"
   ]
  },
  {
   "cell_type": "code",
   "execution_count": 134,
   "metadata": {},
   "outputs": [
    {
     "data": {
      "text/latex": [
       "$1.7320508075688772 * |; ; (0, 3)⟩$"
      ],
      "text/plain": [
       "<IPython.core.display.Latex object>"
      ]
     },
     "metadata": {},
     "output_type": "display_data"
    }
   ],
   "source": [
    "(BosonOperator('0^') * FockState([],[],[(0, 2)])).display()"
   ]
  },
  {
   "cell_type": "code",
   "execution_count": 144,
   "metadata": {},
   "outputs": [
    {
     "data": {
      "text/plain": [
       " 1.732+0.000j |0001000>"
      ]
     },
     "execution_count": 144,
     "metadata": {},
     "output_type": "execute_result"
    }
   ],
   "source": [
    "unary(BosonOperator('0^'), 6) * symmer.QuantumState([0, 0, 0, 0, 1, 0, 0])"
   ]
  },
  {
   "cell_type": "code",
   "execution_count": 34,
   "metadata": {},
   "outputs": [
    {
     "data": {
      "text/plain": [
       " 0.500+0.000j IIIIIXZZZZ +\n",
       "-0.000-0.500j IIIIIYZZZZ"
      ]
     },
     "execution_count": 34,
     "metadata": {},
     "output_type": "execute_result"
    }
   ],
   "source": [
    "p = 5\n",
    "total_modes = 10\n",
    "ca_string = 'c'\n",
    "\n",
    "\n",
    "if ca_string == 'c':\n",
    "    coeffs = [1/2, -1j/2]\n",
    "elif ca_string == 'a': \n",
    "    coeffs = [1/2, 1j/2]\n",
    "\n",
    "## define symplectic matrix\n",
    "symp_matrix = np.zeros((2, 2*total_modes), dtype = bool)\n",
    "symp_matrix[:, -p+1:] = True\n",
    "\n",
    "## set X term at p\n",
    "symp_matrix[0, total_modes-p] = True\n",
    "\n",
    "## set Y term at p\n",
    "symp_matrix[1, total_modes-p] = True\n",
    "symp_matrix[1, total_modes + total_modes-p] = True\n",
    "\n",
    "symmer.PauliwordOp(symp_matrix, np.array(coeffs))"
   ]
  },
  {
   "cell_type": "code",
   "execution_count": 28,
   "metadata": {},
   "outputs": [
    {
     "data": {
      "text/plain": [
       " 0.500+0.000j IIIIIIIXZZ +\n",
       "-0.000-0.500j IIIIIIIYZZ"
      ]
     },
     "execution_count": 28,
     "metadata": {},
     "output_type": "execute_result"
    }
   ],
   "source": []
  },
  {
   "cell_type": "code",
   "execution_count": 72,
   "metadata": {},
   "outputs": [
    {
     "data": {
      "text/plain": [
       "( 1.000+0.000j |1101>,\n",
       "  0.500+0.000j XZZ +\n",
       " -0.000-0.500j YZZ)"
      ]
     },
     "execution_count": 72,
     "metadata": {},
     "output_type": "execute_result"
    }
   ],
   "source": [
    "x_qubit, qubit_op"
   ]
  },
  {
   "cell_type": "code",
   "execution_count": null,
   "metadata": {},
   "outputs": [],
   "source": []
  },
  {
   "cell_type": "code",
   "execution_count": null,
   "metadata": {},
   "outputs": [],
   "source": [
    "class QubitState(symmer.QuantumState):\n",
    "\n",
    "    def __init__(self, fock_state, encoding_scheme: str = 'jordan_wigner'):\n",
    "        if encoding_scheme == 'jordan_wigner':\n",
    "            self.qubit_state = jordan_wigner(fock_state)\n",
    "\n",
    "    "
   ]
  },
  {
   "cell_type": "code",
   "execution_count": null,
   "metadata": {},
   "outputs": [],
   "source": []
  },
  {
   "cell_type": "code",
   "execution_count": 29,
   "metadata": {},
   "outputs": [],
   "source": [
    "def qubit_state_mapping(state, max_bose_mode_occ: int = None):\n",
    "\n",
    "    q_fermi = map_fermions_to_qubits(state)\n",
    "    q_antifermi = map_antifermions_to_qubits(state)\n",
    "    q_bos = state.b_occ\n",
    "    #q_bos = map_bose_occ(state.bos_occupancy, max_bose_mode_occ)#[::-1]\n",
    "    \n",
    "    return symmer.QuantumState([q_fermi + q_antifermi + q_bos])"
   ]
  },
  {
   "cell_type": "code",
   "execution_count": null,
   "metadata": {},
   "outputs": [],
   "source": []
  },
  {
   "cell_type": "code",
   "execution_count": null,
   "metadata": {},
   "outputs": [],
   "source": []
  },
  {
   "cell_type": "code",
   "execution_count": null,
   "metadata": {},
   "outputs": [],
   "source": []
  },
  {
   "cell_type": "code",
   "execution_count": null,
   "metadata": {},
   "outputs": [],
   "source": []
  },
  {
   "cell_type": "code",
   "execution_count": 1,
   "metadata": {},
   "outputs": [],
   "source": [
    "from QCD.hadron import Hadron\n",
    "from QCD.get_quantum_nums import *"
   ]
  },
  {
   "cell_type": "code",
   "execution_count": 10,
   "metadata": {},
   "outputs": [],
   "source": [
    "K = 1\n",
    "Lambda_perp = 0\n",
    "P_perp = 0"
   ]
  },
  {
   "cell_type": "code",
   "execution_count": 11,
   "metadata": {},
   "outputs": [
    {
     "data": {
      "text/html": [
       "<div>\n",
       "<style scoped>\n",
       "    .dataframe tbody tr th:only-of-type {\n",
       "        vertical-align: middle;\n",
       "    }\n",
       "\n",
       "    .dataframe tbody tr th {\n",
       "        vertical-align: top;\n",
       "    }\n",
       "\n",
       "    .dataframe thead th {\n",
       "        text-align: right;\n",
       "    }\n",
       "</style>\n",
       "<table border=\"1\" class=\"dataframe\">\n",
       "  <thead>\n",
       "    <tr style=\"text-align: right;\">\n",
       "      <th></th>\n",
       "      <th>Helicity</th>\n",
       "      <th>n</th>\n",
       "      <th>n⟂</th>\n",
       "    </tr>\n",
       "  </thead>\n",
       "  <tbody>\n",
       "    <tr>\n",
       "      <th>0</th>\n",
       "      <td>+1</td>\n",
       "      <td>0.5</td>\n",
       "      <td>0</td>\n",
       "    </tr>\n",
       "    <tr>\n",
       "      <th>1</th>\n",
       "      <td>+1</td>\n",
       "      <td>1.0</td>\n",
       "      <td>0</td>\n",
       "    </tr>\n",
       "    <tr>\n",
       "      <th>2</th>\n",
       "      <td>-1</td>\n",
       "      <td>0.5</td>\n",
       "      <td>0</td>\n",
       "    </tr>\n",
       "    <tr>\n",
       "      <th>3</th>\n",
       "      <td>-1</td>\n",
       "      <td>1.0</td>\n",
       "      <td>0</td>\n",
       "    </tr>\n",
       "  </tbody>\n",
       "</table>\n",
       "</div>"
      ],
      "text/plain": [
       "  Helicity    n  n⟂\n",
       "0       +1  0.5   0\n",
       "1       +1  1.0   0\n",
       "2       -1  0.5   0\n",
       "3       -1  1.0   0"
      ]
     },
     "execution_count": 11,
     "metadata": {},
     "output_type": "execute_result"
    }
   ],
   "source": [
    "qnums = get_quantum_numbers(K, Lambda_perp)\n",
    "qnums"
   ]
  },
  {
   "cell_type": "code",
   "execution_count": 12,
   "metadata": {},
   "outputs": [
    {
     "data": {
      "text/latex": [
       "$|g⟩ + |q\\bar{q}⟩$"
      ],
      "text/plain": [
       "<IPython.core.display.Latex object>"
      ]
     },
     "metadata": {},
     "output_type": "display_data"
    }
   ],
   "source": [
    "pion = Hadron('meson', K)\n",
    "pion.display()"
   ]
  },
  {
   "cell_type": "code",
   "execution_count": 14,
   "metadata": {},
   "outputs": [
    {
     "data": {
      "text/latex": [
       "$1.0 * |; ; (1, 1)⟩ + 1.0 * |; ; (3, 1)⟩ + 1.0 * |0; 0; ⟩ + 1.0 * |0; 2; ⟩ + 1.0 * |2; 0; ⟩ + 1.0 * |2; 2; ⟩$"
      ],
      "text/plain": [
       "<IPython.core.display.Latex object>"
      ]
     },
     "metadata": {},
     "output_type": "display_data"
    }
   ],
   "source": [
    "pion_fock = pion.get_states(K, P_perp, Lambda_perp)\n",
    "pion_fock.display()"
   ]
  },
  {
   "cell_type": "code",
   "execution_count": 19,
   "metadata": {},
   "outputs": [],
   "source": [
    "#SU(2) Flavor matrices\n",
    "\n",
    "f1 = np.array([[0, 1], [1, 0]])\n",
    "f2 = np.array([[0, -1j], [1j, 0]])\n",
    "f3 = np.array([[1, 0], [0, -1]])\n",
    "\n",
    "#Isospin\n",
    "T = 1/2 * np.array([f1, f2, f3])\n",
    "Tsq = T[0].dot(T[0]) + T[1].dot(T[1]) + T[2].dot(T[2])"
   ]
  },
  {
   "cell_type": "code",
   "execution_count": null,
   "metadata": {},
   "outputs": [],
   "source": [
    "u = np.array([[1, 0]]).reshape(-1, 1)\n",
    "d = np.array([[0, 1]]).reshape(-1, 1)"
   ]
  },
  {
   "cell_type": "code",
   "execution_count": null,
   "metadata": {},
   "outputs": [],
   "source": [
    "np.allclose(T[2].dot(u), 1/2 * u)"
   ]
  },
  {
   "cell_type": "code",
   "execution_count": null,
   "metadata": {},
   "outputs": [],
   "source": [
    "np.allclose(Tsq.dot(u), 1/2 * (1/2 + 1) * u)"
   ]
  },
  {
   "cell_type": "code",
   "execution_count": null,
   "metadata": {},
   "outputs": [],
   "source": [
    "#Ladder operators \n",
    "Tplus = T[0] + 1j * T[1]\n",
    "Tminus = T[0] - 1j * T[1]"
   ]
  },
  {
   "cell_type": "code",
   "execution_count": null,
   "metadata": {},
   "outputs": [],
   "source": [
    "np.allclose(Tplus.dot(u), 0), np.allclose(Tplus.dot(d), u), np.allclose(Tminus.dot(d), 0), np.allclose(Tminus.dot(u), d)"
   ]
  },
  {
   "cell_type": "markdown",
   "metadata": {},
   "source": [
    "### Color SU(3) Singlets"
   ]
  },
  {
   "cell_type": "code",
   "execution_count": null,
   "metadata": {},
   "outputs": [],
   "source": [
    "lam = np.array([np.array([[0, 1, 0],\n",
    "                    [1, 0, 0],\n",
    "                    [0, 0, 0]]),\n",
    "            np.array([[0, -1j, 0],\n",
    "                    [1j, 0, 0],\n",
    "                    [0, 0, 0]]),\n",
    "            np.array([[1, 0, 0],\n",
    "                    [0, -1, 0],\n",
    "                    [0, 0, 0]]),\n",
    "            np.array([[0, 0, 1],\n",
    "                    [0, 0, 0],\n",
    "                    [1, 0, 0]]),\n",
    "            np.array([[0, 0, -1j],\n",
    "                    [0, 0, 0],\n",
    "                    [1j, 0, 0]]),\n",
    "            np.array([[0, 0, 0],\n",
    "                    [0, 0, 1],\n",
    "                    [0, 1, 0]]),\n",
    "            np.array([[0, 0, 0],\n",
    "                    [0, 0, -1j],\n",
    "                    [0, 1j, 0]]),  \n",
    "            np.array([[1/np.sqrt(3), 0, 0],\n",
    "                    [0, 1/np.sqrt(3), 0],\n",
    "                    [0, 0, -2/np.sqrt(3)]])\n",
    "\n",
    "])\n",
    "T = lam/2"
   ]
  },
  {
   "cell_type": "code",
   "execution_count": null,
   "metadata": {},
   "outputs": [],
   "source": [
    "r = np.array([1, 0, 0]).reshape(-1, 1)\n",
    "g = np.array([0, 1, 0]).reshape(-1, 1)\n",
    "b = np.array([0, 0, 1]).reshape(-1, 1)"
   ]
  },
  {
   "cell_type": "code",
   "execution_count": null,
   "metadata": {},
   "outputs": [],
   "source": []
  }
 ],
 "metadata": {
  "kernelspec": {
   "display_name": "Python 3 (ipykernel)",
   "language": "python",
   "name": "python3"
  },
  "language_info": {
   "codemirror_mode": {
    "name": "ipython",
    "version": 3
   },
   "file_extension": ".py",
   "mimetype": "text/x-python",
   "name": "python",
   "nbconvert_exporter": "python",
   "pygments_lexer": "ipython3",
   "version": "3.9.17"
  }
 },
 "nbformat": 4,
 "nbformat_minor": 2
}
