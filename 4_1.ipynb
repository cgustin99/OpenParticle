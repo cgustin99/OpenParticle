{
 "cells": [
  {
   "cell_type": "code",
   "execution_count": 1,
   "metadata": {},
   "outputs": [],
   "source": [
    "from openparticle import FockState, ConjugateFockState, ParticleOperator\n",
    "import numpy as np"
   ]
  },
  {
   "cell_type": "code",
   "execution_count": 2,
   "metadata": {},
   "outputs": [
    {
     "data": {
      "text/latex": [
       "$1.0 * |0,3; 1; (0, 2)⟩$"
      ],
      "text/plain": [
       "<IPython.core.display.Latex object>"
      ]
     },
     "metadata": {},
     "output_type": "display_data"
    }
   ],
   "source": [
    "f_occ = [0, 3]\n",
    "af_occ = [1]\n",
    "b_occ = [(0, 2)]\n",
    "x=FockState(f_occ=f_occ, af_occ=af_occ,b_occ=b_occ)\n",
    "x.display()\n"
   ]
  },
  {
   "cell_type": "code",
   "execution_count": 3,
   "metadata": {},
   "outputs": [
    {
     "data": {
      "text/latex": [
       "$1.0*b_0b^†_1d_1a^†_0a^†_1$"
      ],
      "text/plain": [
       "<IPython.core.display.Latex object>"
      ]
     },
     "metadata": {},
     "output_type": "display_data"
    }
   ],
   "source": [
    "op = ParticleOperator('b0 b1^ d1 a0^ a1^')\n",
    "op.display()"
   ]
  },
  {
   "cell_type": "code",
   "execution_count": 4,
   "metadata": {},
   "outputs": [
    {
     "data": {
      "text/latex": [
       "$-1.7320508075688772 * |1,3; ; (0, 2),(1, 1)⟩$"
      ],
      "text/plain": [
       "<IPython.core.display.Latex object>"
      ]
     },
     "metadata": {},
     "output_type": "display_data"
    }
   ],
   "source": [
    "(op * x).display()"
   ]
  },
  {
   "cell_type": "code",
   "execution_count": 5,
   "metadata": {},
   "outputs": [
    {
     "name": "stdout",
     "output_type": "stream",
     "text": [
      "-1.7320508075688772 * |1,3; ; (0, 2),(1, 1)⟩\n"
     ]
    }
   ],
   "source": [
    "print(op *x)"
   ]
  },
  {
   "cell_type": "code",
   "execution_count": 6,
   "metadata": {},
   "outputs": [
    {
     "data": {
      "text/latex": [
       "$1.0 * |0,3; 1; (0, 2)⟩ + 1.0 * |0,2; 2; (1, 3)⟩$"
      ],
      "text/plain": [
       "<IPython.core.display.Latex object>"
      ]
     },
     "metadata": {},
     "output_type": "display_data"
    }
   ],
   "source": [
    "z = FockState([0, 2], [2], [(1, 3)])\n",
    "(x + z).display()"
   ]
  },
  {
   "cell_type": "code",
   "execution_count": 7,
   "metadata": {},
   "outputs": [
    {
     "data": {
      "text/plain": [
       "1.0"
      ]
     },
     "execution_count": 7,
     "metadata": {},
     "output_type": "execute_result"
    }
   ],
   "source": [
    "y = ConjugateFockState.from_state(x)\n",
    "y * x"
   ]
  },
  {
   "cell_type": "code",
   "execution_count": 1,
   "metadata": {},
   "outputs": [],
   "source": [
    "import numpy as np\n",
    "from openparticle.fockstate import FockState\n",
    "from openparticle.particleoperator import ParticleOperator, FermionOperator, BosonOperator, AntifermionOperator\n",
    "from typing import Union, List\n",
    "# from symmer.utils import tensor_list\n",
    "import symmer"
   ]
  },
  {
   "cell_type": "code",
   "execution_count": 2,
   "metadata": {},
   "outputs": [],
   "source": [
    "def jordan_wigner(op: Union[FermionOperator, \n",
    "                            AntifermionOperator, ParticleOperator], display_latex: bool = True):\n",
    "\n",
    "\n",
    "    if isinstance(op, (FermionOperator, AntifermionOperator, ParticleOperator)):\n",
    "        qubit_op_string = ''\n",
    "\n",
    "        qubit_op_list = ['X' + 'Z' * op.modes[0], \n",
    "                         'Y' + 'Z' * op.modes[0]]\n",
    "        \n",
    "\n",
    "        if op.ca_string == 'c':\n",
    "            coeffs = [1/2, -1j/2]\n",
    "            qubit_op_string = '$' + str(0.5) + qubit_op_list[0] + ' - 0.5' + 'i' + qubit_op_list[1] + '$'\n",
    "        elif op.ca_string == 'a': \n",
    "            coeffs = [1/2, 1j/2]\n",
    "            qubit_op_string = '$' + str(0.5) + qubit_op_list[0] + ' + 0.5' + 'i' + qubit_op_list[1] + '$'\n",
    "\n",
    "\n",
    "        if display_latex: display(Latex(qubit_op_string))\n",
    "        return Pauli.from_list(qubit_op_list, coeffs)\n",
    "        \n",
    "    else: raise Exception(\"The Jordan Wigner mapping only works for fermions and antifermions\")"
   ]
  },
  {
   "cell_type": "code",
   "execution_count": 9,
   "metadata": {},
   "outputs": [
    {
     "name": "stdout",
     "output_type": "stream",
     "text": [
      " 0.000+0.000j III\n"
     ]
    }
   ],
   "source": [
    "test_op =  ParticleOperator('b0 b2^ a1')\n",
    "\n",
    "fermion_qubit = symmer.PauliwordOp.empty(max(test_op.fermion_modes) + 1)\n",
    "\n",
    "\n"
   ]
  },
  {
   "cell_type": "code",
   "execution_count": 229,
   "metadata": {},
   "outputs": [
    {
     "data": {
      "text/latex": [
       "$0.5XZZZ - 0.5iYZZZ$"
      ],
      "text/plain": [
       "<IPython.core.display.Latex object>"
      ]
     },
     "metadata": {},
     "output_type": "display_data"
    },
    {
     "data": {
      "text/latex": [
       "$0.5X + 0.5iY$"
      ],
      "text/plain": [
       "<IPython.core.display.Latex object>"
      ]
     },
     "metadata": {},
     "output_type": "display_data"
    },
    {
     "data": {
      "text/plain": [
       " 0.500+0.000j IZZZ +\n",
       "-0.500+0.000j ZZZZ"
      ]
     },
     "execution_count": 229,
     "metadata": {},
     "output_type": "execute_result"
    }
   ],
   "source": [
    "qubit_op = jordan_wigner(ParticleOperator('b3^'))\n",
    "qubit_op_2 = jordan_wigner(ParticleOperator('b0'))\n",
    "qubit_op_2 = qubit_op_2.tensor(Pauli.from_list(['I' * (qubit_op.n_qubits - qubit_op_2.n_qubits)], [1]))\n",
    "qubit_op * qubit_op_2"
   ]
  },
  {
   "cell_type": "code",
   "execution_count": 9,
   "metadata": {},
   "outputs": [],
   "source": [
    "def map_bose_occ(occupancy_list, N):\n",
    "    q_bos = []\n",
    "    for occ in occupancy_list:\n",
    "        for i in range(N + 1):\n",
    "            q_bos.append(0 if i == occ else 1)\n",
    "\n",
    "    return q_bos"
   ]
  },
  {
   "cell_type": "code",
   "execution_count": 48,
   "metadata": {},
   "outputs": [],
   "source": [
    "def map_fermions_to_qubits(state):\n",
    "    if state.f_occ != []:       \n",
    "        fock_list = state.f_occ\n",
    "        qubit_state = [0] * (state.f_occ[-1] + 1)\n",
    "\n",
    "        for index in fock_list:\n",
    "            qubit_state[index] = 1\n",
    "\n",
    "    #     return symmer.QuantumState([qubit_state])\n",
    "        return qubit_state\n",
    "    else: return []"
   ]
  },
  {
   "cell_type": "code",
   "execution_count": 58,
   "metadata": {},
   "outputs": [],
   "source": [
    "def map_antifermions_to_qubits(state):\n",
    "    if state.af_occ != []:       \n",
    "        fock_list = state.f_occ\n",
    "        qubit_state = [0] * (state.af_occ[-1] + 1)\n",
    "\n",
    "        for index in fock_list:\n",
    "            qubit_state[index] = 1\n",
    "        return qubit_state\n",
    "    else: return []"
   ]
  },
  {
   "cell_type": "code",
   "execution_count": null,
   "metadata": {},
   "outputs": [],
   "source": []
  },
  {
   "cell_type": "code",
   "execution_count": 238,
   "metadata": {},
   "outputs": [],
   "source": [
    "def unary(op: Union[BosonOperator, ParticleOperator], max_bose_mode_occ: int, display_latex: bool = True):\n",
    "\n",
    "    # assert op.modes[0] <= total_modes\n",
    "\n",
    "    if isinstance(op, BosonOperator):\n",
    "        p = op.modes[0]\n",
    "\n",
    "        Mb = max_bose_mode_occ\n",
    "\n",
    "        pauli_list = []\n",
    "        coeffs_list = []\n",
    "        nq_max = (p + 1) * (Mb + 1) \n",
    "\n",
    "        op_str = ''\n",
    "\n",
    "        for j in range(0, Mb):\n",
    "            q = (Mb + 1) * p + j\n",
    "            qubit_diff = nq_max - q - 2\n",
    "            pauli_list += [\"I\" * qubit_diff + 'XX' + 'I' * q,\n",
    "                           \"I\" * qubit_diff + 'XY' + 'I' * q,\n",
    "                            \"I\" * qubit_diff + 'YX' + 'I' * q,\n",
    "                            \"I\" * qubit_diff + 'YY' + 'I' * q]\n",
    "            pauli_list_static = [\"I\" * qubit_diff + 'XX' + 'I' * q,\n",
    "                           \"I\" * qubit_diff + 'XY' + 'I' * q,\n",
    "                            \"I\" * qubit_diff + 'YX' + 'I' * q,\n",
    "                            \"I\" * qubit_diff + 'YY' + 'I' * q]\n",
    "            if op.ca_string == 'c':\n",
    "                coeffs_list += list(np.sqrt(j + 1) / 4 * np.array([1, 1j, -1j, 1]))\n",
    "                op_str += str(round(np.sqrt(j + 1)/4, 3)) + pauli_list_static[0] + \" + \" + str(round(np.sqrt(j + 1)/4, 3)) + \"i\" +  pauli_list_static[1] +\\\n",
    "                      \" - \" + str(round(np.sqrt(j + 1)/4, 3)) + \"i\" + pauli_list_static[2] + \" + \" + str(round(np.sqrt(j + 1)/4, 3)) + pauli_list_static[3] + \" +\"\n",
    "            elif op.ca_string == 'a':\n",
    "                coeffs_list += list(np.sqrt(j + 1) / 4 * np.array([1, -1j, 1j, 1]))\n",
    "                op_str += str(round(np.sqrt(j + 1)/4, 3)) + pauli_list_static[0] + \" - \" + str(round(np.sqrt(j + 1)/4, 3)) + \"i\" +  pauli_list_static[1] +\\\n",
    "                      \" + \" + str(round(np.sqrt(j + 1)/4, 3)) + \"i\" + pauli_list_static[2] + \" + \" + str(round(np.sqrt(j + 1)/4, 3)) + pauli_list_static[3] + \" +\"\n",
    "\n",
    "        op = Pauli.from_list(pauli_list, coeffs_list)\n",
    "        if display_latex: \n",
    "            op_str = \"$\" + op_str[:-1] + \"$\"\n",
    "            display(Latex(op_str))\n",
    "\n",
    "        return op\n",
    "\n",
    "    else: raise NotImplemented"
   ]
  },
  {
   "cell_type": "code",
   "execution_count": 239,
   "metadata": {},
   "outputs": [
    {
     "data": {
      "text/latex": [
       "$0.25IIXX - 0.25iIIXY + 0.25iIIYX + 0.25IIYY +0.354IXXI - 0.354iIXYI + 0.354iIYXI + 0.354IYYI +0.433XXII - 0.433iXYII + 0.433iYXII + 0.433YYII $"
      ],
      "text/plain": [
       "<IPython.core.display.Latex object>"
      ]
     },
     "metadata": {},
     "output_type": "display_data"
    },
    {
     "data": {
      "text/plain": [
       " 0.250+0.000j IIXX +\n",
       " 0.000-0.250j IIXY +\n",
       " 0.000+0.250j IIYX +\n",
       " 0.250+0.000j IIYY +\n",
       " 0.354+0.000j IXXI +\n",
       " 0.000-0.354j IXYI +\n",
       " 0.000+0.354j IYXI +\n",
       " 0.354+0.000j IYYI +\n",
       " 0.433+0.000j XXII +\n",
       " 0.000-0.433j XYII +\n",
       " 0.000+0.433j YXII +\n",
       " 0.433+0.000j YYII"
      ]
     },
     "execution_count": 239,
     "metadata": {},
     "output_type": "execute_result"
    }
   ],
   "source": [
    "unary(BosonOperator('0'), 3)"
   ]
  },
  {
   "cell_type": "code",
   "execution_count": 211,
   "metadata": {},
   "outputs": [
    {
     "data": {
      "text/latex": [
       "$0.25IIXXIIII + 0.25iIIXYIIII - 0.25iIIYXIIII + 0.25IIYYIIII +0.354IXXIIIII + 0.354iIXYIIIII - 0.354iIYXIIIII + 0.354IYYIIIII +0.433XXIIIIII + 0.433iXYIIIIII - 0.433iYXIIIIII + 0.433YYIIIIII $"
      ],
      "text/plain": [
       "<IPython.core.display.Latex object>"
      ]
     },
     "metadata": {},
     "output_type": "display_data"
    }
   ],
   "source": [
    "unary(BosonOperator('1^'), 3)"
   ]
  },
  {
   "cell_type": "code",
   "execution_count": 209,
   "metadata": {},
   "outputs": [
    {
     "data": {
      "text/latex": [
       "$0.5XZZZ - 0.5iYZZZ$"
      ],
      "text/plain": [
       "<IPython.core.display.Latex object>"
      ]
     },
     "metadata": {},
     "output_type": "display_data"
    }
   ],
   "source": [
    "jordan_wigner(ParticleOperator('b3^'))"
   ]
  },
  {
   "cell_type": "code",
   "execution_count": 134,
   "metadata": {},
   "outputs": [
    {
     "data": {
      "text/latex": [
       "$1.7320508075688772 * |; ; (0, 3)⟩$"
      ],
      "text/plain": [
       "<IPython.core.display.Latex object>"
      ]
     },
     "metadata": {},
     "output_type": "display_data"
    }
   ],
   "source": [
    "(BosonOperator('0^') * FockState([],[],[(0, 2)])).display()"
   ]
  },
  {
   "cell_type": "code",
   "execution_count": 144,
   "metadata": {},
   "outputs": [
    {
     "data": {
      "text/plain": [
       " 1.732+0.000j |0001000>"
      ]
     },
     "execution_count": 144,
     "metadata": {},
     "output_type": "execute_result"
    }
   ],
   "source": [
    "unary(BosonOperator('0^'), 6) * symmer.QuantumState([0, 0, 0, 0, 1, 0, 0])"
   ]
  },
  {
   "cell_type": "code",
   "execution_count": 34,
   "metadata": {},
   "outputs": [
    {
     "data": {
      "text/plain": [
       " 0.500+0.000j IIIIIXZZZZ +\n",
       "-0.000-0.500j IIIIIYZZZZ"
      ]
     },
     "execution_count": 34,
     "metadata": {},
     "output_type": "execute_result"
    }
   ],
   "source": [
    "p = 5\n",
    "total_modes = 10\n",
    "ca_string = 'c'\n",
    "\n",
    "\n",
    "if ca_string == 'c':\n",
    "    coeffs = [1/2, -1j/2]\n",
    "elif ca_string == 'a': \n",
    "    coeffs = [1/2, 1j/2]\n",
    "\n",
    "## define symplectic matrix\n",
    "symp_matrix = np.zeros((2, 2*total_modes), dtype = bool)\n",
    "symp_matrix[:, -p+1:] = True\n",
    "\n",
    "## set X term at p\n",
    "symp_matrix[0, total_modes-p] = True\n",
    "\n",
    "## set Y term at p\n",
    "symp_matrix[1, total_modes-p] = True\n",
    "symp_matrix[1, total_modes + total_modes-p] = True\n",
    "\n",
    "symmer.PauliwordOp(symp_matrix, np.array(coeffs))"
   ]
  },
  {
   "cell_type": "code",
   "execution_count": 28,
   "metadata": {},
   "outputs": [
    {
     "data": {
      "text/plain": [
       " 0.500+0.000j IIIIIIIXZZ +\n",
       "-0.000-0.500j IIIIIIIYZZ"
      ]
     },
     "execution_count": 28,
     "metadata": {},
     "output_type": "execute_result"
    }
   ],
   "source": []
  },
  {
   "cell_type": "code",
   "execution_count": 72,
   "metadata": {},
   "outputs": [
    {
     "data": {
      "text/plain": [
       "( 1.000+0.000j |1101>,\n",
       "  0.500+0.000j XZZ +\n",
       " -0.000-0.500j YZZ)"
      ]
     },
     "execution_count": 72,
     "metadata": {},
     "output_type": "execute_result"
    }
   ],
   "source": [
    "x_qubit, qubit_op"
   ]
  },
  {
   "cell_type": "code",
   "execution_count": null,
   "metadata": {},
   "outputs": [],
   "source": []
  },
  {
   "cell_type": "code",
   "execution_count": null,
   "metadata": {},
   "outputs": [],
   "source": [
    "class QubitState(symmer.QuantumState):\n",
    "\n",
    "    def __init__(self, fock_state, encoding_scheme: str = 'jordan_wigner'):\n",
    "        if encoding_scheme == 'jordan_wigner':\n",
    "            self.qubit_state = jordan_wigner(fock_state)\n",
    "\n",
    "    "
   ]
  },
  {
   "cell_type": "code",
   "execution_count": null,
   "metadata": {},
   "outputs": [],
   "source": []
  },
  {
   "cell_type": "code",
   "execution_count": 29,
   "metadata": {},
   "outputs": [],
   "source": [
    "def qubit_state_mapping(state, max_bose_mode_occ: int = None):\n",
    "\n",
    "    q_fermi = map_fermions_to_qubits(state)\n",
    "    q_antifermi = map_antifermions_to_qubits(state)\n",
    "    q_bos = state.b_occ\n",
    "    #q_bos = map_bose_occ(state.bos_occupancy, max_bose_mode_occ)#[::-1]\n",
    "    \n",
    "    return symmer.QuantumState([q_fermi + q_antifermi + q_bos])"
   ]
  },
  {
   "cell_type": "code",
   "execution_count": 30,
   "metadata": {},
   "outputs": [
    {
     "ename": "AssertionError",
     "evalue": "",
     "output_type": "error",
     "traceback": [
      "\u001b[0;31m---------------------------------------------------------------------------\u001b[0m",
      "\u001b[0;31mAssertionError\u001b[0m                            Traceback (most recent call last)",
      "Cell \u001b[0;32mIn[30], line 1\u001b[0m\n\u001b[0;32m----> 1\u001b[0m \u001b[43mqubit_state_mapping\u001b[49m\u001b[43m(\u001b[49m\u001b[43mx_fock\u001b[49m\u001b[43m)\u001b[49m\n",
      "Cell \u001b[0;32mIn[29], line 8\u001b[0m, in \u001b[0;36mqubit_state_mapping\u001b[0;34m(state, max_bose_mode_occ)\u001b[0m\n\u001b[1;32m      5\u001b[0m q_bos \u001b[38;5;241m=\u001b[39m state\u001b[38;5;241m.\u001b[39mb_occ\n\u001b[1;32m      6\u001b[0m \u001b[38;5;66;03m#q_bos = map_bose_occ(state.bos_occupancy, max_bose_mode_occ)#[::-1]\u001b[39;00m\n\u001b[0;32m----> 8\u001b[0m \u001b[38;5;28;01mreturn\u001b[39;00m \u001b[43msymmer\u001b[49m\u001b[38;5;241;43m.\u001b[39;49m\u001b[43mQuantumState\u001b[49m\u001b[43m(\u001b[49m\u001b[43m[\u001b[49m\u001b[43mq_fermi\u001b[49m\u001b[43m \u001b[49m\u001b[38;5;241;43m+\u001b[39;49m\u001b[43m \u001b[49m\u001b[43mq_antifermi\u001b[49m\u001b[43m \u001b[49m\u001b[38;5;241;43m+\u001b[39;49m\u001b[43m \u001b[49m\u001b[43mq_bos\u001b[49m\u001b[43m]\u001b[49m\u001b[43m)\u001b[49m\n",
      "File \u001b[0;32m~/opt/anaconda3/lib/python3.8/site-packages/symmer/operators/base.py:1614\u001b[0m, in \u001b[0;36mQuantumState.__init__\u001b[0;34m(self, state_matrix, coeff_vector, vec_type)\u001b[0m\n\u001b[1;32m   1612\u001b[0m     state_matrix \u001b[38;5;241m=\u001b[39m state_matrix\u001b[38;5;241m.\u001b[39mreshape([\u001b[38;5;241m1\u001b[39m,\u001b[38;5;241m-\u001b[39m\u001b[38;5;241m1\u001b[39m])\n\u001b[1;32m   1613\u001b[0m state_matrix \u001b[38;5;241m=\u001b[39m state_matrix\u001b[38;5;241m.\u001b[39mastype(\u001b[38;5;28mint\u001b[39m) \u001b[38;5;66;03m# in case input is boolean\u001b[39;00m\n\u001b[0;32m-> 1614\u001b[0m \u001b[38;5;28;01massert\u001b[39;00m(\u001b[38;5;28mset\u001b[39m(state_matrix\u001b[38;5;241m.\u001b[39mflatten())\u001b[38;5;241m.\u001b[39missubset({\u001b[38;5;241m0\u001b[39m,\u001b[38;5;241m1\u001b[39m})) \u001b[38;5;66;03m# must be binary, does not support N-ary qubits\u001b[39;00m\n\u001b[1;32m   1615\u001b[0m \u001b[38;5;28mself\u001b[39m\u001b[38;5;241m.\u001b[39mn_terms, \u001b[38;5;28mself\u001b[39m\u001b[38;5;241m.\u001b[39mn_qubits \u001b[38;5;241m=\u001b[39m state_matrix\u001b[38;5;241m.\u001b[39mshape\n\u001b[1;32m   1616\u001b[0m \u001b[38;5;28mself\u001b[39m\u001b[38;5;241m.\u001b[39mstate_matrix \u001b[38;5;241m=\u001b[39m state_matrix\n",
      "\u001b[0;31mAssertionError\u001b[0m: "
     ]
    }
   ],
   "source": [
    "qubit_state_mapping(x_fock)"
   ]
  },
  {
   "cell_type": "code",
   "execution_count": null,
   "metadata": {},
   "outputs": [],
   "source": []
  },
  {
   "cell_type": "code",
   "execution_count": null,
   "metadata": {},
   "outputs": [],
   "source": []
  },
  {
   "cell_type": "code",
   "execution_count": null,
   "metadata": {},
   "outputs": [],
   "source": []
  },
  {
   "cell_type": "code",
   "execution_count": null,
   "metadata": {},
   "outputs": [],
   "source": []
  },
  {
   "cell_type": "code",
   "execution_count": 54,
   "metadata": {},
   "outputs": [],
   "source": [
    "from QCD.hadron import Hadron\n",
    "from QCD.get_quantum_nums import get_quantum_numbers\n",
    "import numpy as np"
   ]
  },
  {
   "cell_type": "code",
   "execution_count": 58,
   "metadata": {},
   "outputs": [],
   "source": [
    "K = 6"
   ]
  },
  {
   "cell_type": "markdown",
   "metadata": {},
   "source": [
    "$$p^+ = \\begin{cases}\n",
    "\\frac{2\\pi}{L}n; n = 1, 3, 5, \\dots (\\text{fermions}) \\\\\n",
    "\\frac{2\\pi}{L}n; n = 2, 4, 6, \\dots (\\text{bosons})\n",
    "\n",
    "\n",
    "\\end{cases}$$"
   ]
  },
  {
   "cell_type": "code",
   "execution_count": 59,
   "metadata": {},
   "outputs": [
    {
     "data": {
      "text/html": [
       "<div>\n",
       "<style scoped>\n",
       "    .dataframe tbody tr th:only-of-type {\n",
       "        vertical-align: middle;\n",
       "    }\n",
       "\n",
       "    .dataframe tbody tr th {\n",
       "        vertical-align: top;\n",
       "    }\n",
       "\n",
       "    .dataframe thead th {\n",
       "        text-align: right;\n",
       "    }\n",
       "</style>\n",
       "<table border=\"1\" class=\"dataframe\">\n",
       "  <thead>\n",
       "    <tr style=\"text-align: right;\">\n",
       "      <th></th>\n",
       "      <th>Helicity</th>\n",
       "      <th>n</th>\n",
       "    </tr>\n",
       "  </thead>\n",
       "  <tbody>\n",
       "    <tr>\n",
       "      <th>0</th>\n",
       "      <td>+1</td>\n",
       "      <td>1</td>\n",
       "    </tr>\n",
       "    <tr>\n",
       "      <th>1</th>\n",
       "      <td>+1</td>\n",
       "      <td>2</td>\n",
       "    </tr>\n",
       "    <tr>\n",
       "      <th>2</th>\n",
       "      <td>+1</td>\n",
       "      <td>3</td>\n",
       "    </tr>\n",
       "    <tr>\n",
       "      <th>3</th>\n",
       "      <td>+1</td>\n",
       "      <td>4</td>\n",
       "    </tr>\n",
       "    <tr>\n",
       "      <th>4</th>\n",
       "      <td>+1</td>\n",
       "      <td>5</td>\n",
       "    </tr>\n",
       "    <tr>\n",
       "      <th>5</th>\n",
       "      <td>-1</td>\n",
       "      <td>1</td>\n",
       "    </tr>\n",
       "    <tr>\n",
       "      <th>6</th>\n",
       "      <td>-1</td>\n",
       "      <td>2</td>\n",
       "    </tr>\n",
       "    <tr>\n",
       "      <th>7</th>\n",
       "      <td>-1</td>\n",
       "      <td>3</td>\n",
       "    </tr>\n",
       "    <tr>\n",
       "      <th>8</th>\n",
       "      <td>-1</td>\n",
       "      <td>4</td>\n",
       "    </tr>\n",
       "    <tr>\n",
       "      <th>9</th>\n",
       "      <td>-1</td>\n",
       "      <td>5</td>\n",
       "    </tr>\n",
       "  </tbody>\n",
       "</table>\n",
       "</div>"
      ],
      "text/plain": [
       "  Helicity  n\n",
       "0       +1  1\n",
       "1       +1  2\n",
       "2       +1  3\n",
       "3       +1  4\n",
       "4       +1  5\n",
       "5       -1  1\n",
       "6       -1  2\n",
       "7       -1  3\n",
       "8       -1  4\n",
       "9       -1  5"
      ]
     },
     "execution_count": 59,
     "metadata": {},
     "output_type": "execute_result"
    }
   ],
   "source": [
    "get_quantum_numbers(K)"
   ]
  },
  {
   "cell_type": "code",
   "execution_count": 60,
   "metadata": {},
   "outputs": [
    {
     "data": {
      "text/latex": [
       "$|q\\bar{q}> + |q\\bar{q}gg>$"
      ],
      "text/plain": [
       "<IPython.core.display.Latex object>"
      ]
     },
     "metadata": {},
     "output_type": "display_data"
    }
   ],
   "source": [
    "pion = Hadron([['q', 'qbar'], \n",
    "               ['q', 'qbar', 'g', 'g']])\n",
    "pion.display()\n"
   ]
  },
  {
   "cell_type": "code",
   "execution_count": 61,
   "metadata": {},
   "outputs": [
    {
     "name": "stdout",
     "output_type": "stream",
     "text": [
      "1.0 * |1,0,0,0,0,0,0,0,0,0; 0,0,0,0,1,0,0,0,0,0; ⟩ + 1.0 * |1,0,0,0,0,0,0,0,0,0; 0,0,0,0,0,0,0,0,0,1; ⟩ + 1.0 * |0,0,1,0,0,0,0,0,0,0; 0,0,1,0,0,0,0,0,0,0; ⟩ + 1.0 * |0,0,1,0,0,0,0,0,0,0; 0,0,0,0,0,0,0,1,0,0; ⟩ + 1.0 * |0,0,0,0,1,0,0,0,0,0; 1,0,0,0,0,0,0,0,0,0; ⟩ + 1.0 * |0,0,0,0,1,0,0,0,0,0; 0,0,0,0,0,1,0,0,0,0; ⟩ + 1.0 * |0,0,0,0,0,1,0,0,0,0; 0,0,0,0,1,0,0,0,0,0; ⟩ + 1.0 * |0,0,0,0,0,1,0,0,0,0; 0,0,0,0,0,0,0,0,0,1; ⟩ + 1.0 * |0,0,0,0,0,0,0,1,0,0; 0,0,1,0,0,0,0,0,0,0; ⟩ + 1.0 * |0,0,0,0,0,0,0,1,0,0; 0,0,0,0,0,0,0,1,0,0; ⟩ + 1.0 * |0,0,0,0,0,0,0,0,0,1; 1,0,0,0,0,0,0,0,0,0; ⟩ + 1.0 * |0,0,0,0,0,0,0,0,0,1; 0,0,0,0,0,1,0,0,0,0; ⟩ + 1.0 * |1,0,0,0,0,0,0,0,0,0; 1,0,0,0,0,0,0,0,0,0; 0,2,0,0,0,0,0,0,0,0⟩ + 1.0 * |1,0,0,0,0,0,0,0,0,0; 1,0,0,0,0,0,0,0,0,0; 0,1,0,0,0,0,1,0,0,0⟩ + 1.0 * |1,0,0,0,0,0,0,0,0,0; 1,0,0,0,0,0,0,0,0,0; 0,0,0,0,0,0,2,0,0,0⟩ + 1.0 * |1,0,0,0,0,0,0,0,0,0; 0,0,0,0,0,1,0,0,0,0; 0,2,0,0,0,0,0,0,0,0⟩ + 1.0 * |1,0,0,0,0,0,0,0,0,0; 0,0,0,0,0,1,0,0,0,0; 0,1,0,0,0,0,1,0,0,0⟩ + 1.0 * |1,0,0,0,0,0,0,0,0,0; 0,0,0,0,0,1,0,0,0,0; 0,0,0,0,0,0,2,0,0,0⟩ + 1.0 * |0,0,0,0,0,1,0,0,0,0; 1,0,0,0,0,0,0,0,0,0; 0,2,0,0,0,0,0,0,0,0⟩ + 1.0 * |0,0,0,0,0,1,0,0,0,0; 1,0,0,0,0,0,0,0,0,0; 0,1,0,0,0,0,1,0,0,0⟩ + 1.0 * |0,0,0,0,0,1,0,0,0,0; 1,0,0,0,0,0,0,0,0,0; 0,0,0,0,0,0,2,0,0,0⟩ + 1.0 * |0,0,0,0,0,1,0,0,0,0; 0,0,0,0,0,1,0,0,0,0; 0,2,0,0,0,0,0,0,0,0⟩ + 1.0 * |0,0,0,0,0,1,0,0,0,0; 0,0,0,0,0,1,0,0,0,0; 0,1,0,0,0,0,1,0,0,0⟩ + 1.0 * |0,0,0,0,0,1,0,0,0,0; 0,0,0,0,0,1,0,0,0,0; 0,0,0,0,0,0,2,0,0,0⟩\n"
     ]
    }
   ],
   "source": [
    "print(pion.get_states(K))"
   ]
  },
  {
   "cell_type": "code",
   "execution_count": null,
   "metadata": {},
   "outputs": [],
   "source": [
    "#SU(2) Flavor matrices\n",
    "\n",
    "f1 = np.array([[0, 1], [1, 0]])\n",
    "f2 = np.array([[0, -1j], [1j, 0]])\n",
    "f3 = np.array([[1, 0], [0, -1]])\n",
    "\n",
    "#Isospin\n",
    "T = 1/2 * np.array([f1, f2, f3])\n",
    "Tsq = T[0].dot(T[0]) + T[1].dot(T[1]) + T[2].dot(T[2])"
   ]
  },
  {
   "cell_type": "code",
   "execution_count": null,
   "metadata": {},
   "outputs": [],
   "source": [
    "u = np.array([[1, 0]]).reshape(-1, 1)\n",
    "d = np.array([[0, 1]]).reshape(-1, 1)"
   ]
  },
  {
   "cell_type": "code",
   "execution_count": null,
   "metadata": {},
   "outputs": [],
   "source": [
    "np.allclose(T[2].dot(u), 1/2 * u)"
   ]
  },
  {
   "cell_type": "code",
   "execution_count": null,
   "metadata": {},
   "outputs": [],
   "source": [
    "np.allclose(Tsq.dot(u), 1/2 * (1/2 + 1) * u)"
   ]
  },
  {
   "cell_type": "code",
   "execution_count": null,
   "metadata": {},
   "outputs": [],
   "source": [
    "#Ladder operators \n",
    "Tplus = T[0] + 1j * T[1]\n",
    "Tminus = T[0] - 1j * T[1]"
   ]
  },
  {
   "cell_type": "code",
   "execution_count": null,
   "metadata": {},
   "outputs": [],
   "source": [
    "np.allclose(Tplus.dot(u), 0), np.allclose(Tplus.dot(d), u), np.allclose(Tminus.dot(d), 0), np.allclose(Tminus.dot(u), d)"
   ]
  },
  {
   "cell_type": "markdown",
   "metadata": {},
   "source": [
    "### Color SU(3) Singlets"
   ]
  },
  {
   "cell_type": "code",
   "execution_count": null,
   "metadata": {},
   "outputs": [],
   "source": [
    "lam = np.array([np.array([[0, 1, 0],\n",
    "                    [1, 0, 0],\n",
    "                    [0, 0, 0]]),\n",
    "            np.array([[0, -1j, 0],\n",
    "                    [1j, 0, 0],\n",
    "                    [0, 0, 0]]),\n",
    "            np.array([[1, 0, 0],\n",
    "                    [0, -1, 0],\n",
    "                    [0, 0, 0]]),\n",
    "            np.array([[0, 0, 1],\n",
    "                    [0, 0, 0],\n",
    "                    [1, 0, 0]]),\n",
    "            np.array([[0, 0, -1j],\n",
    "                    [0, 0, 0],\n",
    "                    [1j, 0, 0]]),\n",
    "            np.array([[0, 0, 0],\n",
    "                    [0, 0, 1],\n",
    "                    [0, 1, 0]]),\n",
    "            np.array([[0, 0, 0],\n",
    "                    [0, 0, -1j],\n",
    "                    [0, 1j, 0]]),  \n",
    "            np.array([[1/np.sqrt(3), 0, 0],\n",
    "                    [0, 1/np.sqrt(3), 0],\n",
    "                    [0, 0, -2/np.sqrt(3)]])\n",
    "\n",
    "])\n",
    "T = lam/2"
   ]
  },
  {
   "cell_type": "code",
   "execution_count": null,
   "metadata": {},
   "outputs": [],
   "source": [
    "r = np.array([1, 0, 0]).reshape(-1, 1)\n",
    "g = np.array([0, 1, 0]).reshape(-1, 1)\n",
    "b = np.array([0, 0, 1]).reshape(-1, 1)"
   ]
  },
  {
   "cell_type": "code",
   "execution_count": null,
   "metadata": {},
   "outputs": [],
   "source": []
  }
 ],
 "metadata": {
  "kernelspec": {
   "display_name": "Python 3 (ipykernel)",
   "language": "python",
   "name": "python3"
  },
  "language_info": {
   "codemirror_mode": {
    "name": "ipython",
    "version": 3
   },
   "file_extension": ".py",
   "mimetype": "text/x-python",
   "name": "python",
   "nbconvert_exporter": "python",
   "pygments_lexer": "ipython3",
   "version": "3.9.17"
  }
 },
 "nbformat": 4,
 "nbformat_minor": 2
}
