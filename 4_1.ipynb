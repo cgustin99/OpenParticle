{
 "cells": [
  {
   "cell_type": "code",
   "execution_count": 1,
   "metadata": {},
   "outputs": [],
   "source": [
    "import numpy as np\n",
    "from openparticle.fock import FockState\n",
    "from openparticle.particleoperator import ParticleOperator, FermionOperator, BosonOperator, AntifermionOperator\n",
    "from typing import Union, List\n",
    "from symmer.utils import tensor_list\n",
    "from symmer import PauliwordOp as Pauli\n",
    "from symmer import QuantumState\n",
    "from openparticle.qubit_mappings import *\n"
   ]
  },
  {
   "cell_type": "markdown",
   "metadata": {},
   "source": [
    "def jordan_wigner(op: Union[FermionOperator, \n",
    "                            AntifermionOperator, ParticleOperator], display_latex: bool = False):\n",
    "\n",
    "\n",
    "    if isinstance(op, (FermionOperator, AntifermionOperator, ParticleOperator)):\n",
    "        qubit_op_string = ''\n",
    "\n",
    "        qubit_op_list = ['X' + 'Z' * op.modes[0], \n",
    "                         'Y' + 'Z' * op.modes[0]]\n",
    "        \n",
    "\n",
    "        if op.ca_string == 'c':\n",
    "            coeffs = [1/2, -1j/2]\n",
    "            qubit_op_string = '$' + str(0.5) + qubit_op_list[0] + ' - 0.5' + 'i' + qubit_op_list[1] + '$'\n",
    "        elif op.ca_string == 'a': \n",
    "            coeffs = [1/2, 1j/2]\n",
    "            qubit_op_string = '$' + str(0.5) + qubit_op_list[0] + ' + 0.5' + 'i' + qubit_op_list[1] + '$'\n",
    "\n",
    "\n",
    "        if display_latex: display(Latex(qubit_op_string))\n",
    "        return Pauli.from_list(qubit_op_list, coeffs)\n",
    "        \n",
    "    else: raise Exception(\"The Jordan Wigner mapping only works for fermions and antifermions\")\n",
    "\n",
    "def unary(op: Union[BosonOperator, ParticleOperator], max_bose_mode_occ: int, display_latex: bool = False):\n",
    "\n",
    "    # assert op.modes[0] <= total_modes\n",
    "\n",
    "    if isinstance(op, BosonOperator):\n",
    "        p = op.modes[0]\n",
    "\n",
    "        Mb = max_bose_mode_occ\n",
    "\n",
    "        pauli_list = []\n",
    "        coeffs_list = []\n",
    "        nq_max = (p + 1) * (Mb + 1) \n",
    "\n",
    "        op_str = ''\n",
    "\n",
    "        for j in range(0, Mb):\n",
    "            q = (Mb + 1) * p + j\n",
    "            qubit_diff = nq_max - q - 2\n",
    "            pauli_list += [\"I\" * qubit_diff + 'XX' + 'I' * q,\n",
    "                           \"I\" * qubit_diff + 'XY' + 'I' * q,\n",
    "                            \"I\" * qubit_diff + 'YX' + 'I' * q,\n",
    "                            \"I\" * qubit_diff + 'YY' + 'I' * q]\n",
    "            pauli_list_static = [\"I\" * qubit_diff + 'XX' + 'I' * q,\n",
    "                           \"I\" * qubit_diff + 'XY' + 'I' * q,\n",
    "                            \"I\" * qubit_diff + 'YX' + 'I' * q,\n",
    "                            \"I\" * qubit_diff + 'YY' + 'I' * q]\n",
    "            if op.ca_string == 'c':\n",
    "                coeffs_list += list(np.sqrt(j + 1) / 4 * np.array([1, 1j, -1j, 1]))\n",
    "                op_str += str(round(np.sqrt(j + 1)/4, 3)) + pauli_list_static[0] + \" + \" + str(round(np.sqrt(j + 1)/4, 3)) + \"i\" +  pauli_list_static[1] +\\\n",
    "                      \" - \" + str(round(np.sqrt(j + 1)/4, 3)) + \"i\" + pauli_list_static[2] + \" + \" + str(round(np.sqrt(j + 1)/4, 3)) + pauli_list_static[3] + \" +\"\n",
    "            elif op.ca_string == 'a':\n",
    "                coeffs_list += list(np.sqrt(j + 1) / 4 * np.array([1, -1j, 1j, 1]))\n",
    "                op_str += str(round(np.sqrt(j + 1)/4, 3)) + pauli_list_static[0] + \" - \" + str(round(np.sqrt(j + 1)/4, 3)) + \"i\" +  pauli_list_static[1] +\\\n",
    "                      \" + \" + str(round(np.sqrt(j + 1)/4, 3)) + \"i\" + pauli_list_static[2] + \" + \" + str(round(np.sqrt(j + 1)/4, 3)) + pauli_list_static[3] + \" +\"\n",
    "\n",
    "        op = Pauli.from_list(pauli_list, coeffs_list)\n",
    "        if display_latex: \n",
    "            op_str = \"$\" + op_str[:-1] + \"$\"\n",
    "            display(Latex(op_str))\n",
    "\n",
    "        return op\n",
    "\n",
    "    else: raise NotImplemented    \n",
    "\n",
    "def qubit_op_mapping(op: Union[ParticleOperator, FermionOperator, AntifermionOperator, BosonOperator], \n",
    "                  max_bose_mode_occ: int = None, total_modes: int = None):\n",
    "    \n",
    "    if isinstance(op, FermionOperator): return jordan_wigner(op)\n",
    "    elif isinstance(op, AntifermionOperator): return jordan_wigner(op)\n",
    "    elif isinstance(op, BosonOperator): \n",
    "        if max_bose_mode_occ == None: raise Exception(\"Must provide maximum bosonic mode occupancy\")\n",
    "        else: return unary(op, max_bose_mode_occ)\n",
    "\n",
    "    elif isinstance(op, ParticleOperator):\n",
    "        if op.fermion_modes != []:\n",
    "            fermion_qubit = Pauli.from_list(['I' * (max(op.fermion_modes) + 1)], [1])\n",
    "        else: fermion_qubit = Pauli.empty()\n",
    "        if op.antifermion_modes != []:\n",
    "            antifermion_qubit = Pauli.from_list(['I' * (max(op.antifermion_modes) + 1)], [1])\n",
    "        if op.boson_modes != []:\n",
    "            boson_qubit = Pauli.from_list(['I'  * ((max(op.boson_modes) + 1) * (max_bose_mode_occ + 1))], [1])\n",
    "    \n",
    "        ops_to_tensor = []\n",
    "        for element in op.input_string.split(\" \"):\n",
    "            if element[0] == 'b':\n",
    "                fermion_qubit *= jordan_wigner(FermionOperator(element[1:]))\n",
    "            elif element[0] == 'd':\n",
    "                antifermion_qubit *= jordan_wigner(AntifermionOperator(element[1:]))\n",
    "            elif element[0] == 'a':\n",
    "                boson_qubit *= unary(BosonOperator(element[1:]), max_bose_mode_occ)\n",
    "\n",
    "        if 'fermion_qubit' in vars():\n",
    "            ops_to_tensor.append(fermion_qubit)\n",
    "        if 'antifermion_qubit' in vars():\n",
    "            ops_to_tensor.append(antifermion_qubit)\n",
    "        if 'boson_qubit' in vars():\n",
    "            ops_to_tensor.append(boson_qubit)\n",
    "        \n",
    "\n",
    "        return tensor_list(ops_to_tensor)\n"
   ]
  },
  {
   "cell_type": "code",
   "execution_count": 2,
   "metadata": {},
   "outputs": [
    {
     "data": {
      "text/plain": [
       " 0.500+0.000j XZ +\n",
       "-0.000-0.500j YZ"
      ]
     },
     "execution_count": 2,
     "metadata": {},
     "output_type": "execute_result"
    }
   ],
   "source": [
    "jordan_wigner(FermionOperator('1^'))"
   ]
  },
  {
   "cell_type": "code",
   "execution_count": 57,
   "metadata": {},
   "outputs": [],
   "source": [
    "def qubit_op_mapping2(op: Union[ParticleOperator, FermionOperator, AntifermionOperator, BosonOperator], \n",
    "                  max_bose_mode_occ: int = None, total_modes: int = None):\n",
    "    \n",
    "    if isinstance(op, FermionOperator): return jordan_wigner(op)\n",
    "    elif isinstance(op, AntifermionOperator): return jordan_wigner(op)\n",
    "    elif isinstance(op, BosonOperator): \n",
    "        if max_bose_mode_occ == None: raise Exception(\"Must provide maximum bosonic mode occupancy\")\n",
    "        else: return unary(op, max_bose_mode_occ)\n",
    "\n",
    "    elif isinstance(op, ParticleOperator):\n",
    "        if op.fermion_modes != []:\n",
    "            fermion_qubit = Pauli.from_list(['I' * (max(op.fermion_modes) + 1)], [1])\n",
    "        else: fermion_qubit = Pauli.empty()\n",
    "        if op.antifermion_modes != []:\n",
    "            antifermion_qubit = Pauli.from_list(['I' * (max(op.antifermion_modes) + 1)], [1])\n",
    "        if op.boson_modes != []:\n",
    "            boson_qubit = Pauli.from_list(['I'  * ((max(op.boson_modes) + 1) * (max_bose_mode_occ + 1))], [1])\n",
    "    \n",
    "        ops_to_tensor = []\n",
    "        for element in op.input_string.split(\" \"):\n",
    "            if element[0] == 'b':\n",
    "                fermion_qubit *= jordan_wigner(FermionOperator(element[1:]), max(op.fermion_modes) + 1)\n",
    "            elif element[0] == 'd':\n",
    "                antifermion_qubit *= jordan_wigner(AntifermionOperator(element[1:]), max(op.antifermion_modes) + 1)\n",
    "            elif element[0] == 'a':\n",
    "                boson_qubit *= unary(BosonOperator(element[1:]), max_bose_mode_occ, max(op.boson_modes))\n",
    "\n",
    "        if 'fermion_qubit' in vars():\n",
    "            ops_to_tensor.append(fermion_qubit)\n",
    "        if 'antifermion_qubit' in vars():\n",
    "            ops_to_tensor.append(antifermion_qubit)\n",
    "        if 'boson_qubit' in vars():\n",
    "            ops_to_tensor.append(boson_qubit)\n",
    "        \n",
    "\n",
    "        return tensor_list(ops_to_tensor)"
   ]
  },
  {
   "cell_type": "code",
   "execution_count": 58,
   "metadata": {},
   "outputs": [
    {
     "data": {
      "text/plain": [
       " 0.062-0.000j XZXIIXX +\n",
       " 0.000-0.062j XZXIIXY +\n",
       " 0.000+0.062j XZXIIYX +\n",
       " 0.062-0.000j XZXIIYY +\n",
       "-0.000-0.062j XZYIIXX +\n",
       "-0.062-0.000j XZYIIXY +\n",
       " 0.062-0.000j XZYIIYX +\n",
       "-0.000-0.062j XZYIIYY +\n",
       " 0.000+0.062j YZXIIXX +\n",
       " 0.062-0.000j YZXIIXY +\n",
       "-0.062+0.000j YZXIIYX +\n",
       " 0.000+0.062j YZXIIYY +\n",
       " 0.062-0.000j YZYIIXX +\n",
       " 0.000-0.062j YZYIIXY +\n",
       " 0.000+0.062j YZYIIYX +\n",
       " 0.062-0.000j YZYIIYY +\n",
       " 0.088-0.000j XZXIXXI +\n",
       " 0.000-0.088j XZXIXYI +\n",
       " 0.000+0.088j XZXIYXI +\n",
       " 0.088-0.000j XZXIYYI +\n",
       "-0.000-0.088j XZYIXXI +\n",
       "-0.088-0.000j XZYIXYI +\n",
       " 0.088-0.000j XZYIYXI +\n",
       "-0.000-0.088j XZYIYYI +\n",
       " 0.000+0.088j YZXIXXI +\n",
       " 0.088-0.000j YZXIXYI +\n",
       "-0.088+0.000j YZXIYXI +\n",
       " 0.000+0.088j YZXIYYI +\n",
       " 0.088-0.000j YZYIXXI +\n",
       " 0.000-0.088j YZYIXYI +\n",
       " 0.000+0.088j YZYIYXI +\n",
       " 0.088-0.000j YZYIYYI +\n",
       " 0.108-0.000j XZXXXII +\n",
       " 0.000-0.108j XZXXYII +\n",
       " 0.000+0.108j XZXYXII +\n",
       " 0.108-0.000j XZXYYII +\n",
       "-0.000-0.108j XZYXXII +\n",
       "-0.108-0.000j XZYXYII +\n",
       " 0.108-0.000j XZYYXII +\n",
       "-0.000-0.108j XZYYYII +\n",
       " 0.000+0.108j YZXXXII +\n",
       " 0.108-0.000j YZXXYII +\n",
       "-0.108+0.000j YZXYXII +\n",
       " 0.000+0.108j YZXYYII +\n",
       " 0.108-0.000j YZYXXII +\n",
       " 0.000-0.108j YZYXYII +\n",
       " 0.000+0.108j YZYYXII +\n",
       " 0.108-0.000j YZYYYII"
      ]
     },
     "execution_count": 58,
     "metadata": {},
     "output_type": "execute_result"
    }
   ],
   "source": [
    "qubit_op_mapping2(ParticleOperator('b0^ b2 a0'), 3)"
   ]
  },
  {
   "cell_type": "code",
   "execution_count": 229,
   "metadata": {},
   "outputs": [
    {
     "data": {
      "text/latex": [
       "$0.5XZZZ - 0.5iYZZZ$"
      ],
      "text/plain": [
       "<IPython.core.display.Latex object>"
      ]
     },
     "metadata": {},
     "output_type": "display_data"
    },
    {
     "data": {
      "text/latex": [
       "$0.5X + 0.5iY$"
      ],
      "text/plain": [
       "<IPython.core.display.Latex object>"
      ]
     },
     "metadata": {},
     "output_type": "display_data"
    },
    {
     "data": {
      "text/plain": [
       " 0.500+0.000j IZZZ +\n",
       "-0.500+0.000j ZZZZ"
      ]
     },
     "execution_count": 229,
     "metadata": {},
     "output_type": "execute_result"
    }
   ],
   "source": [
    "qubit_op = jordan_wigner(ParticleOperator('b3^'))\n",
    "qubit_op_2 = jordan_wigner(ParticleOperator('b0'))\n",
    "qubit_op_2 = qubit_op_2.tensor(Pauli.from_list(['I' * (qubit_op.n_qubits - qubit_op_2.n_qubits)], [1]))\n",
    "qubit_op * qubit_op_2"
   ]
  },
  {
   "cell_type": "code",
   "execution_count": 9,
   "metadata": {},
   "outputs": [],
   "source": [
    "def map_bose_occ(occupancy_list, N):\n",
    "    q_bos = []\n",
    "    for occ in occupancy_list:\n",
    "        for i in range(N + 1):\n",
    "            q_bos.append(0 if i == occ else 1)\n",
    "\n",
    "    return q_bos"
   ]
  },
  {
   "cell_type": "code",
   "execution_count": 115,
   "metadata": {},
   "outputs": [],
   "source": [
    "def map_fermions_to_qubits(state):\n",
    "    if state.f_occ != []:       \n",
    "        fock_list = state.f_occ\n",
    "        qubit_state = [0] * (state.f_occ[-1] + 1)\n",
    "\n",
    "        for index in fock_list:\n",
    "            qubit_state[index] = 1\n",
    "        return QuantumState([qubit_state[::-1]])\n",
    "\n",
    "    else: return []"
   ]
  },
  {
   "cell_type": "code",
   "execution_count": 116,
   "metadata": {},
   "outputs": [
    {
     "name": "stdout",
     "output_type": "stream",
     "text": [
      "[0, 0, 1]\n"
     ]
    },
    {
     "data": {
      "text/plain": [
       " 1.000+0.000j |100>"
      ]
     },
     "execution_count": 116,
     "metadata": {},
     "output_type": "execute_result"
    }
   ],
   "source": [
    "map_fermions_to_qubits(FockState([2], [], []))"
   ]
  },
  {
   "cell_type": "code",
   "execution_count": 117,
   "metadata": {},
   "outputs": [],
   "source": [
    "def map_fermions_to_qubits(state):\n",
    "    if state.af_occ != []:       \n",
    "        fock_list = state.af_occ\n",
    "        qubit_state = [0] * (state.af_occ[-1] + 1)\n",
    "\n",
    "        for index in fock_list:\n",
    "            qubit_state[index] = 1\n",
    "        return qubit_state[::-1]\n",
    "\n",
    "    else: return []"
   ]
  },
  {
   "cell_type": "code",
   "execution_count": null,
   "metadata": {},
   "outputs": [],
   "source": []
  },
  {
   "cell_type": "code",
   "execution_count": 13,
   "metadata": {},
   "outputs": [],
   "source": []
  },
  {
   "cell_type": "code",
   "execution_count": 239,
   "metadata": {},
   "outputs": [
    {
     "data": {
      "text/latex": [
       "$0.25IIXX - 0.25iIIXY + 0.25iIIYX + 0.25IIYY +0.354IXXI - 0.354iIXYI + 0.354iIYXI + 0.354IYYI +0.433XXII - 0.433iXYII + 0.433iYXII + 0.433YYII $"
      ],
      "text/plain": [
       "<IPython.core.display.Latex object>"
      ]
     },
     "metadata": {},
     "output_type": "display_data"
    },
    {
     "data": {
      "text/plain": [
       " 0.250+0.000j IIXX +\n",
       " 0.000-0.250j IIXY +\n",
       " 0.000+0.250j IIYX +\n",
       " 0.250+0.000j IIYY +\n",
       " 0.354+0.000j IXXI +\n",
       " 0.000-0.354j IXYI +\n",
       " 0.000+0.354j IYXI +\n",
       " 0.354+0.000j IYYI +\n",
       " 0.433+0.000j XXII +\n",
       " 0.000-0.433j XYII +\n",
       " 0.000+0.433j YXII +\n",
       " 0.433+0.000j YYII"
      ]
     },
     "execution_count": 239,
     "metadata": {},
     "output_type": "execute_result"
    }
   ],
   "source": [
    "unary(BosonOperator('0'), 3)"
   ]
  },
  {
   "cell_type": "code",
   "execution_count": 211,
   "metadata": {},
   "outputs": [
    {
     "data": {
      "text/latex": [
       "$0.25IIXXIIII + 0.25iIIXYIIII - 0.25iIIYXIIII + 0.25IIYYIIII +0.354IXXIIIII + 0.354iIXYIIIII - 0.354iIYXIIIII + 0.354IYYIIIII +0.433XXIIIIII + 0.433iXYIIIIII - 0.433iYXIIIIII + 0.433YYIIIIII $"
      ],
      "text/plain": [
       "<IPython.core.display.Latex object>"
      ]
     },
     "metadata": {},
     "output_type": "display_data"
    }
   ],
   "source": [
    "unary(BosonOperator('1^'), 3)"
   ]
  },
  {
   "cell_type": "code",
   "execution_count": 209,
   "metadata": {},
   "outputs": [
    {
     "data": {
      "text/latex": [
       "$0.5XZZZ - 0.5iYZZZ$"
      ],
      "text/plain": [
       "<IPython.core.display.Latex object>"
      ]
     },
     "metadata": {},
     "output_type": "display_data"
    }
   ],
   "source": [
    "jordan_wigner(ParticleOperator('b3^'))"
   ]
  },
  {
   "cell_type": "code",
   "execution_count": 134,
   "metadata": {},
   "outputs": [
    {
     "data": {
      "text/latex": [
       "$1.7320508075688772 * |; ; (0, 3)⟩$"
      ],
      "text/plain": [
       "<IPython.core.display.Latex object>"
      ]
     },
     "metadata": {},
     "output_type": "display_data"
    }
   ],
   "source": [
    "(BosonOperator('0^') * FockState([],[],[(0, 2)])).display()"
   ]
  },
  {
   "cell_type": "code",
   "execution_count": 144,
   "metadata": {},
   "outputs": [
    {
     "data": {
      "text/plain": [
       " 1.732+0.000j |0001000>"
      ]
     },
     "execution_count": 144,
     "metadata": {},
     "output_type": "execute_result"
    }
   ],
   "source": [
    "unary(BosonOperator('0^'), 6) * symmer.QuantumState([0, 0, 0, 0, 1, 0, 0])"
   ]
  },
  {
   "cell_type": "code",
   "execution_count": 34,
   "metadata": {},
   "outputs": [
    {
     "data": {
      "text/plain": [
       " 0.500+0.000j IIIIIXZZZZ +\n",
       "-0.000-0.500j IIIIIYZZZZ"
      ]
     },
     "execution_count": 34,
     "metadata": {},
     "output_type": "execute_result"
    }
   ],
   "source": [
    "p = 5\n",
    "total_modes = 10\n",
    "ca_string = 'c'\n",
    "\n",
    "\n",
    "if ca_string == 'c':\n",
    "    coeffs = [1/2, -1j/2]\n",
    "elif ca_string == 'a': \n",
    "    coeffs = [1/2, 1j/2]\n",
    "\n",
    "## define symplectic matrix\n",
    "symp_matrix = np.zeros((2, 2*total_modes), dtype = bool)\n",
    "symp_matrix[:, -p+1:] = True\n",
    "\n",
    "## set X term at p\n",
    "symp_matrix[0, total_modes-p] = True\n",
    "\n",
    "## set Y term at p\n",
    "symp_matrix[1, total_modes-p] = True\n",
    "symp_matrix[1, total_modes + total_modes-p] = True\n",
    "\n",
    "symmer.PauliwordOp(symp_matrix, np.array(coeffs))"
   ]
  },
  {
   "cell_type": "code",
   "execution_count": 28,
   "metadata": {},
   "outputs": [
    {
     "data": {
      "text/plain": [
       " 0.500+0.000j IIIIIIIXZZ +\n",
       "-0.000-0.500j IIIIIIIYZZ"
      ]
     },
     "execution_count": 28,
     "metadata": {},
     "output_type": "execute_result"
    }
   ],
   "source": []
  },
  {
   "cell_type": "code",
   "execution_count": 72,
   "metadata": {},
   "outputs": [
    {
     "data": {
      "text/plain": [
       "( 1.000+0.000j |1101>,\n",
       "  0.500+0.000j XZZ +\n",
       " -0.000-0.500j YZZ)"
      ]
     },
     "execution_count": 72,
     "metadata": {},
     "output_type": "execute_result"
    }
   ],
   "source": [
    "x_qubit, qubit_op"
   ]
  },
  {
   "cell_type": "code",
   "execution_count": null,
   "metadata": {},
   "outputs": [],
   "source": []
  },
  {
   "cell_type": "code",
   "execution_count": null,
   "metadata": {},
   "outputs": [],
   "source": [
    "class QubitState(symmer.QuantumState):\n",
    "\n",
    "    def __init__(self, fock_state, encoding_scheme: str = 'jordan_wigner'):\n",
    "        if encoding_scheme == 'jordan_wigner':\n",
    "            self.qubit_state = jordan_wigner(fock_state)\n",
    "\n",
    "    "
   ]
  },
  {
   "cell_type": "code",
   "execution_count": null,
   "metadata": {},
   "outputs": [],
   "source": []
  },
  {
   "cell_type": "code",
   "execution_count": 29,
   "metadata": {},
   "outputs": [],
   "source": [
    "def qubit_state_mapping(state, max_bose_mode_occ: int = None):\n",
    "\n",
    "    q_fermi = map_fermions_to_qubits(state)\n",
    "    q_antifermi = map_antifermions_to_qubits(state)\n",
    "    q_bos = state.b_occ\n",
    "    #q_bos = map_bose_occ(state.bos_occupancy, max_bose_mode_occ)#[::-1]\n",
    "    \n",
    "    return symmer.QuantumState([q_fermi + q_antifermi + q_bos])"
   ]
  },
  {
   "cell_type": "code",
   "execution_count": null,
   "metadata": {},
   "outputs": [],
   "source": []
  },
  {
   "cell_type": "code",
   "execution_count": null,
   "metadata": {},
   "outputs": [],
   "source": []
  },
  {
   "cell_type": "code",
   "execution_count": null,
   "metadata": {},
   "outputs": [],
   "source": []
  },
  {
   "cell_type": "code",
   "execution_count": null,
   "metadata": {},
   "outputs": [],
   "source": []
  },
  {
   "cell_type": "code",
   "execution_count": 1,
   "metadata": {},
   "outputs": [],
   "source": [
    "from QCD.hadron import Hadron\n",
    "from QCD.get_quantum_nums import *"
   ]
  },
  {
   "cell_type": "code",
   "execution_count": 42,
   "metadata": {},
   "outputs": [],
   "source": [
    "K = 4\n",
    "Lambda_perp = 0\n",
    "P_perp = 0"
   ]
  },
  {
   "cell_type": "code",
   "execution_count": 43,
   "metadata": {},
   "outputs": [
    {
     "data": {
      "text/html": [
       "<div>\n",
       "<style scoped>\n",
       "    .dataframe tbody tr th:only-of-type {\n",
       "        vertical-align: middle;\n",
       "    }\n",
       "\n",
       "    .dataframe tbody tr th {\n",
       "        vertical-align: top;\n",
       "    }\n",
       "\n",
       "    .dataframe thead th {\n",
       "        text-align: right;\n",
       "    }\n",
       "</style>\n",
       "<table border=\"1\" class=\"dataframe\">\n",
       "  <thead>\n",
       "    <tr style=\"text-align: right;\">\n",
       "      <th></th>\n",
       "      <th>Helicity</th>\n",
       "      <th>n</th>\n",
       "      <th>n⟂</th>\n",
       "    </tr>\n",
       "  </thead>\n",
       "  <tbody>\n",
       "    <tr>\n",
       "      <th>0</th>\n",
       "      <td>+1</td>\n",
       "      <td>0.5</td>\n",
       "      <td>0</td>\n",
       "    </tr>\n",
       "    <tr>\n",
       "      <th>1</th>\n",
       "      <td>+1</td>\n",
       "      <td>1.0</td>\n",
       "      <td>0</td>\n",
       "    </tr>\n",
       "    <tr>\n",
       "      <th>2</th>\n",
       "      <td>+1</td>\n",
       "      <td>1.5</td>\n",
       "      <td>0</td>\n",
       "    </tr>\n",
       "    <tr>\n",
       "      <th>3</th>\n",
       "      <td>+1</td>\n",
       "      <td>2.0</td>\n",
       "      <td>0</td>\n",
       "    </tr>\n",
       "    <tr>\n",
       "      <th>4</th>\n",
       "      <td>+1</td>\n",
       "      <td>2.5</td>\n",
       "      <td>0</td>\n",
       "    </tr>\n",
       "    <tr>\n",
       "      <th>5</th>\n",
       "      <td>+1</td>\n",
       "      <td>3.0</td>\n",
       "      <td>0</td>\n",
       "    </tr>\n",
       "    <tr>\n",
       "      <th>6</th>\n",
       "      <td>+1</td>\n",
       "      <td>3.5</td>\n",
       "      <td>0</td>\n",
       "    </tr>\n",
       "    <tr>\n",
       "      <th>7</th>\n",
       "      <td>+1</td>\n",
       "      <td>4.0</td>\n",
       "      <td>0</td>\n",
       "    </tr>\n",
       "    <tr>\n",
       "      <th>8</th>\n",
       "      <td>-1</td>\n",
       "      <td>0.5</td>\n",
       "      <td>0</td>\n",
       "    </tr>\n",
       "    <tr>\n",
       "      <th>9</th>\n",
       "      <td>-1</td>\n",
       "      <td>1.0</td>\n",
       "      <td>0</td>\n",
       "    </tr>\n",
       "    <tr>\n",
       "      <th>10</th>\n",
       "      <td>-1</td>\n",
       "      <td>1.5</td>\n",
       "      <td>0</td>\n",
       "    </tr>\n",
       "    <tr>\n",
       "      <th>11</th>\n",
       "      <td>-1</td>\n",
       "      <td>2.0</td>\n",
       "      <td>0</td>\n",
       "    </tr>\n",
       "    <tr>\n",
       "      <th>12</th>\n",
       "      <td>-1</td>\n",
       "      <td>2.5</td>\n",
       "      <td>0</td>\n",
       "    </tr>\n",
       "    <tr>\n",
       "      <th>13</th>\n",
       "      <td>-1</td>\n",
       "      <td>3.0</td>\n",
       "      <td>0</td>\n",
       "    </tr>\n",
       "    <tr>\n",
       "      <th>14</th>\n",
       "      <td>-1</td>\n",
       "      <td>3.5</td>\n",
       "      <td>0</td>\n",
       "    </tr>\n",
       "    <tr>\n",
       "      <th>15</th>\n",
       "      <td>-1</td>\n",
       "      <td>4.0</td>\n",
       "      <td>0</td>\n",
       "    </tr>\n",
       "  </tbody>\n",
       "</table>\n",
       "</div>"
      ],
      "text/plain": [
       "   Helicity    n  n⟂\n",
       "0        +1  0.5   0\n",
       "1        +1  1.0   0\n",
       "2        +1  1.5   0\n",
       "3        +1  2.0   0\n",
       "4        +1  2.5   0\n",
       "5        +1  3.0   0\n",
       "6        +1  3.5   0\n",
       "7        +1  4.0   0\n",
       "8        -1  0.5   0\n",
       "9        -1  1.0   0\n",
       "10       -1  1.5   0\n",
       "11       -1  2.0   0\n",
       "12       -1  2.5   0\n",
       "13       -1  3.0   0\n",
       "14       -1  3.5   0\n",
       "15       -1  4.0   0"
      ]
     },
     "execution_count": 43,
     "metadata": {},
     "output_type": "execute_result"
    }
   ],
   "source": [
    "qnums = get_quantum_numbers(K, Lambda_perp)\n",
    "qnums"
   ]
  },
  {
   "cell_type": "code",
   "execution_count": 44,
   "metadata": {},
   "outputs": [
    {
     "data": {
      "text/latex": [
       "$|g⟩ + |q\\bar{q}⟩ + |q\\bar{q}g⟩ + |q\\bar{q}q\\bar{q}⟩ + |gg⟩ + |q\\bar{q}q\\bar{q}g⟩ + |q\\bar{q}gg⟩ + |ggg⟩ + |q\\bar{q}q\\bar{q}q\\bar{q}⟩ + |q\\bar{q}q\\bar{q}q\\bar{q}g⟩ + |q\\bar{q}ggg⟩ + |q\\bar{q}q\\bar{q}gg⟩ + |gggg⟩ + |q\\bar{q}q\\bar{q}q\\bar{q}q\\bar{q}⟩$"
      ],
      "text/plain": [
       "<IPython.core.display.Latex object>"
      ]
     },
     "metadata": {},
     "output_type": "display_data"
    }
   ],
   "source": [
    "pion = Hadron('meson', K)\n",
    "pion.display()"
   ]
  },
  {
   "cell_type": "code",
   "execution_count": 45,
   "metadata": {},
   "outputs": [
    {
     "data": {
      "text/latex": [
       "$1.0 * |; ; (7, 1)⟩ + 1.0 * |; ; (15, 1)⟩ + 1.0 * |0; 6; ⟩ + 1.0 * |0; 14; ⟩ + 1.0 * |2; 4; ⟩ + 1.0 * |2; 12; ⟩ + 1.0 * |4; 2; ⟩ + 1.0 * |4; 10; ⟩ + 1.0 * |6; 0; ⟩ + 1.0 * |6; 8; ⟩ + 1.0 * |8; 6; ⟩ + 1.0 * |8; 14; ⟩ + 1.0 * |10; 4; ⟩ + 1.0 * |10; 12; ⟩ + 1.0 * |12; 2; ⟩ + 1.0 * |12; 10; ⟩ + 1.0 * |14; 0; ⟩ + 1.0 * |14; 8; ⟩ + 1.0 * |0; 0; (5, 1)⟩ + 1.0 * |0; 0; (13, 1)⟩ + 1.0 * |0; 2; (3, 1)⟩ + 1.0 * |0; 2; (11, 1)⟩ + 1.0 * |0; 4; (1, 1)⟩ + 1.0 * |0; 4; (9, 1)⟩ + 1.0 * |0; 8; (5, 1)⟩ + 1.0 * |0; 8; (13, 1)⟩ + 1.0 * |0; 10; (3, 1)⟩ + 1.0 * |0; 10; (11, 1)⟩ + 1.0 * |0; 12; (1, 1)⟩ + 1.0 * |0; 12; (9, 1)⟩ + 1.0 * |2; 0; (3, 1)⟩ + 1.0 * |2; 0; (11, 1)⟩ + 1.0 * |2; 2; (1, 1)⟩ + 1.0 * |2; 2; (9, 1)⟩ + 1.0 * |2; 8; (3, 1)⟩ + 1.0 * |2; 8; (11, 1)⟩ + 1.0 * |2; 10; (1, 1)⟩ + 1.0 * |2; 10; (9, 1)⟩ + 1.0 * |4; 0; (1, 1)⟩ + 1.0 * |4; 0; (9, 1)⟩ + 1.0 * |4; 8; (1, 1)⟩ + 1.0 * |4; 8; (9, 1)⟩ + 1.0 * |8; 0; (5, 1)⟩ + 1.0 * |8; 0; (13, 1)⟩ + 1.0 * |8; 2; (3, 1)⟩ + 1.0 * |8; 2; (11, 1)⟩ + 1.0 * |8; 4; (1, 1)⟩ + 1.0 * |8; 4; (9, 1)⟩ + 1.0 * |8; 8; (5, 1)⟩ + 1.0 * |8; 8; (13, 1)⟩ + 1.0 * |8; 10; (3, 1)⟩ + 1.0 * |8; 10; (11, 1)⟩ + 1.0 * |8; 12; (1, 1)⟩ + 1.0 * |8; 12; (9, 1)⟩ + 1.0 * |10; 0; (3, 1)⟩ + 1.0 * |10; 0; (11, 1)⟩ + 1.0 * |10; 2; (1, 1)⟩ + 1.0 * |10; 2; (9, 1)⟩ + 1.0 * |10; 8; (3, 1)⟩ + 1.0 * |10; 8; (11, 1)⟩ + 1.0 * |10; 10; (1, 1)⟩ + 1.0 * |10; 10; (9, 1)⟩ + 1.0 * |12; 0; (1, 1)⟩ + 1.0 * |12; 0; (9, 1)⟩ + 1.0 * |12; 8; (1, 1)⟩ + 1.0 * |12; 8; (9, 1)⟩ + 1.0 * |2,0; 2,0; ⟩ + 1.0 * |2,0; 10,0; ⟩ + 1.0 * |2,0; 8,2; ⟩ + 1.0 * |2,0; 10,8; ⟩ + 1.0 * |4,0; 8,0; ⟩ + 1.0 * |8,0; 4,0; ⟩ + 1.0 * |8,0; 12,0; ⟩ + 1.0 * |8,0; 10,2; ⟩ + 1.0 * |8,0; 8,4; ⟩ + 1.0 * |8,0; 12,8; ⟩ + 1.0 * |10,0; 2,0; ⟩ + 1.0 * |10,0; 10,0; ⟩ + 1.0 * |10,0; 8,2; ⟩ + 1.0 * |10,0; 10,8; ⟩ + 1.0 * |12,0; 8,0; ⟩ + 1.0 * |8,2; 2,0; ⟩ + 1.0 * |8,2; 10,0; ⟩ + 1.0 * |8,2; 8,2; ⟩ + 1.0 * |8,2; 10,8; ⟩ + 1.0 * |10,2; 8,0; ⟩ + 1.0 * |8,4; 8,0; ⟩ + 1.0 * |10,8; 2,0; ⟩ + 1.0 * |10,8; 10,0; ⟩ + 1.0 * |10,8; 8,2; ⟩ + 1.0 * |10,8; 10,8; ⟩ + 1.0 * |12,8; 8,0; ⟩ + 1.0 * |; ; (5, 1),(1, 1)⟩ + 1.0 * |; ; (13, 1),(1, 1)⟩ + 1.0 * |; ; (3, 2)⟩ + 1.0 * |; ; (11, 1),(3, 1)⟩ + 1.0 * |; ; (9, 1),(5, 1)⟩ + 1.0 * |; ; (13, 1),(9, 1)⟩ + 1.0 * |; ; (11, 2)⟩ + 1.0 * |2,0; 8,0; (1, 1)⟩ + 1.0 * |2,0; 8,0; (9, 1)⟩ + 1.0 * |8,0; 2,0; (1, 1)⟩ + 1.0 * |8,0; 2,0; (9, 1)⟩ + 1.0 * |8,0; 8,0; (3, 1)⟩ + 1.0 * |8,0; 8,0; (11, 1)⟩ + 1.0 * |8,0; 10,0; (1, 1)⟩ + 1.0 * |8,0; 10,0; (9, 1)⟩ + 1.0 * |8,0; 8,2; (1, 1)⟩ + 1.0 * |8,0; 8,2; (9, 1)⟩ + 1.0 * |8,0; 10,8; (1, 1)⟩ + 1.0 * |8,0; 10,8; (9, 1)⟩ + 1.0 * |10,0; 8,0; (1, 1)⟩ + 1.0 * |10,0; 8,0; (9, 1)⟩ + 1.0 * |8,2; 8,0; (1, 1)⟩ + 1.0 * |8,2; 8,0; (9, 1)⟩ + 1.0 * |10,8; 8,0; (1, 1)⟩ + 1.0 * |10,8; 8,0; (9, 1)⟩ + 1.0 * |0; 0; (3, 1),(1, 1)⟩ + 1.0 * |0; 0; (11, 1),(1, 1)⟩ + 1.0 * |0; 0; (9, 1),(3, 1)⟩ + 1.0 * |0; 0; (11, 1),(9, 1)⟩ + 1.0 * |0; 2; (1, 2)⟩ + 1.0 * |0; 2; (9, 1),(1, 1)⟩ + 1.0 * |0; 2; (9, 2)⟩ + 1.0 * |0; 8; (3, 1),(1, 1)⟩ + 1.0 * |0; 8; (11, 1),(1, 1)⟩ + 1.0 * |0; 8; (9, 1),(3, 1)⟩ + 1.0 * |0; 8; (11, 1),(9, 1)⟩ + 1.0 * |0; 10; (1, 2)⟩ + 1.0 * |0; 10; (9, 1),(1, 1)⟩ + 1.0 * |0; 10; (9, 2)⟩ + 1.0 * |2; 0; (1, 2)⟩ + 1.0 * |2; 0; (9, 1),(1, 1)⟩ + 1.0 * |2; 0; (9, 2)⟩ + 1.0 * |2; 8; (1, 2)⟩ + 1.0 * |2; 8; (9, 1),(1, 1)⟩ + 1.0 * |2; 8; (9, 2)⟩ + 1.0 * |8; 0; (3, 1),(1, 1)⟩ + 1.0 * |8; 0; (11, 1),(1, 1)⟩ + 1.0 * |8; 0; (9, 1),(3, 1)⟩ + 1.0 * |8; 0; (11, 1),(9, 1)⟩ + 1.0 * |8; 2; (1, 2)⟩ + 1.0 * |8; 2; (9, 1),(1, 1)⟩ + 1.0 * |8; 2; (9, 2)⟩ + 1.0 * |8; 8; (3, 1),(1, 1)⟩ + 1.0 * |8; 8; (11, 1),(1, 1)⟩ + 1.0 * |8; 8; (9, 1),(3, 1)⟩ + 1.0 * |8; 8; (11, 1),(9, 1)⟩ + 1.0 * |8; 10; (1, 2)⟩ + 1.0 * |8; 10; (9, 1),(1, 1)⟩ + 1.0 * |8; 10; (9, 2)⟩ + 1.0 * |10; 0; (1, 2)⟩ + 1.0 * |10; 0; (9, 1),(1, 1)⟩ + 1.0 * |10; 0; (9, 2)⟩ + 1.0 * |10; 8; (1, 2)⟩ + 1.0 * |10; 8; (9, 1),(1, 1)⟩ + 1.0 * |10; 8; (9, 2)⟩ + 1.0 * |; ; (3, 1),(1, 2)⟩ + 1.0 * |; ; (11, 1),(1, 2)⟩ + 1.0 * |; ; (9, 1),(3, 1),(1, 1)⟩ + 1.0 * |; ; (11, 1),(9, 1),(1, 1)⟩ + 1.0 * |; ; (9, 2),(3, 1)⟩ + 1.0 * |; ; (11, 1),(9, 2)⟩ + 1.0 * |0; 0; (1, 3)⟩ + 1.0 * |0; 0; (9, 1),(1, 2)⟩ + 1.0 * |0; 0; (9, 2),(1, 1)⟩ + 1.0 * |0; 0; (9, 3)⟩ + 1.0 * |0; 8; (1, 3)⟩ + 1.0 * |0; 8; (9, 1),(1, 2)⟩ + 1.0 * |0; 8; (9, 2),(1, 1)⟩ + 1.0 * |0; 8; (9, 3)⟩ + 1.0 * |8; 0; (1, 3)⟩ + 1.0 * |8; 0; (9, 1),(1, 2)⟩ + 1.0 * |8; 0; (9, 2),(1, 1)⟩ + 1.0 * |8; 0; (9, 3)⟩ + 1.0 * |8; 8; (1, 3)⟩ + 1.0 * |8; 8; (9, 1),(1, 2)⟩ + 1.0 * |8; 8; (9, 2),(1, 1)⟩ + 1.0 * |8; 8; (9, 3)⟩ + 1.0 * |8,0; 8,0; (1, 2)⟩ + 1.0 * |8,0; 8,0; (9, 1),(1, 1)⟩ + 1.0 * |8,0; 8,0; (9, 2)⟩ + 1.0 * |; ; (1, 4)⟩ + 1.0 * |; ; (9, 1),(1, 3)⟩ + 1.0 * |; ; (9, 2),(1, 2)⟩ + 1.0 * |; ; (9, 3),(1, 1)⟩ + 1.0 * |; ; (9, 4)⟩$"
      ],
      "text/plain": [
       "<IPython.core.display.Latex object>"
      ]
     },
     "metadata": {},
     "output_type": "display_data"
    },
    {
     "name": "stdout",
     "output_type": "stream",
     "text": [
      "187\n"
     ]
    }
   ],
   "source": [
    "pion_fock = pion.get_states(K, P_perp, Lambda_perp)\n",
    "pion_fock.display()\n",
    "print(len(pion_fock.states_list))"
   ]
  },
  {
   "cell_type": "code",
   "execution_count": 39,
   "metadata": {},
   "outputs": [],
   "source": [
    "import matplotlib.pyplot as plt"
   ]
  },
  {
   "cell_type": "code",
   "execution_count": 60,
   "metadata": {},
   "outputs": [
    {
     "ename": "KeyboardInterrupt",
     "evalue": "",
     "output_type": "error",
     "traceback": [
      "\u001b[0;31m---------------------------------------------------------------------------\u001b[0m",
      "\u001b[0;31mKeyboardInterrupt\u001b[0m                         Traceback (most recent call last)",
      "\u001b[1;32m/Users/carterm.gustin/Documents/PhDCode/Lightfront/OpenParticle/4_1.ipynb Cell 35\u001b[0m line \u001b[0;36m8\n\u001b[1;32m      <a href='vscode-notebook-cell:/Users/carterm.gustin/Documents/PhDCode/Lightfront/OpenParticle/4_1.ipynb#Y101sZmlsZQ%3D%3D?line=5'>6</a>\u001b[0m \u001b[39mfor\u001b[39;00m k \u001b[39min\u001b[39;00m K_list:\n\u001b[1;32m      <a href='vscode-notebook-cell:/Users/carterm.gustin/Documents/PhDCode/Lightfront/OpenParticle/4_1.ipynb#Y101sZmlsZQ%3D%3D?line=6'>7</a>\u001b[0m     pion \u001b[39m=\u001b[39m Hadron(\u001b[39m'\u001b[39m\u001b[39mmeson\u001b[39m\u001b[39m'\u001b[39m, k)\n\u001b[0;32m----> <a href='vscode-notebook-cell:/Users/carterm.gustin/Documents/PhDCode/Lightfront/OpenParticle/4_1.ipynb#Y101sZmlsZQ%3D%3D?line=7'>8</a>\u001b[0m     num_states\u001b[39m.\u001b[39mappend(\u001b[39mlen\u001b[39m(pion\u001b[39m.\u001b[39;49mget_states(k, P_perp, Lambda_perp)\u001b[39m.\u001b[39mstates_list))\n",
      "File \u001b[0;32m~/Documents/PhDCode/Lightfront/OpenParticle/QCD/hadron.py:93\u001b[0m, in \u001b[0;36mHadron.get_states\u001b[0;34m(self, K, P_perp, Lambda_perp)\u001b[0m\n\u001b[1;32m     91\u001b[0m         nested_lists \u001b[39m=\u001b[39m [\u001b[39mlist\u001b[39m(inner_tuple) \u001b[39mfor\u001b[39;00m inner_tuple \u001b[39min\u001b[39;00m pair]\n\u001b[1;32m     92\u001b[0m         indices \u001b[39m=\u001b[39m [item \u001b[39mfor\u001b[39;00m sublist \u001b[39min\u001b[39;00m nested_lists \u001b[39mfor\u001b[39;00m item \u001b[39min\u001b[39;00m sublist]\n\u001b[0;32m---> 93\u001b[0m         \u001b[39mif\u001b[39;00m qnums\u001b[39m.\u001b[39;49mloc[indices, \u001b[39m'\u001b[39;49m\u001b[39mn\u001b[39;49m\u001b[39m'\u001b[39;49m]\u001b[39m.\u001b[39;49msum() \u001b[39m==\u001b[39m K \u001b[39mand\u001b[39;00m qnums\u001b[39m.\u001b[39mloc[indices, \u001b[39m'\u001b[39m\u001b[39mn⟂\u001b[39m\u001b[39m'\u001b[39m]\u001b[39m.\u001b[39msum() \u001b[39m==\u001b[39m P_perp:\n\u001b[1;32m     94\u001b[0m             valid_states\u001b[39m.\u001b[39mappend(FockState(nested_lists[\u001b[39m0\u001b[39m], nested_lists[\u001b[39m1\u001b[39m], \u001b[39mself\u001b[39m\u001b[39m.\u001b[39mpostprocess_bosons(nested_lists[\u001b[39m2\u001b[39m])))\n\u001b[1;32m     97\u001b[0m \u001b[39mreturn\u001b[39;00m FockStateSum(valid_states)\n",
      "File \u001b[0;32m~/anaconda3/envs/symmer/lib/python3.9/site-packages/pandas/core/generic.py:11512\u001b[0m, in \u001b[0;36mNDFrame._add_numeric_operations.<locals>.sum\u001b[0;34m(self, axis, skipna, numeric_only, min_count, **kwargs)\u001b[0m\n\u001b[1;32m  11493\u001b[0m \u001b[39m@doc\u001b[39m(  \u001b[39m# type: ignore[misc]\u001b[39;00m\n\u001b[1;32m  11494\u001b[0m     _num_doc,\n\u001b[1;32m  11495\u001b[0m     desc\u001b[39m=\u001b[39m\u001b[39m\"\u001b[39m\u001b[39mReturn the sum of the values over the requested axis.\u001b[39m\u001b[39m\\n\u001b[39;00m\u001b[39m\\n\u001b[39;00m\u001b[39m\"\u001b[39m\n\u001b[0;32m   (...)\u001b[0m\n\u001b[1;32m  11510\u001b[0m     \u001b[39m*\u001b[39m\u001b[39m*\u001b[39mkwargs,\n\u001b[1;32m  11511\u001b[0m ):\n\u001b[0;32m> 11512\u001b[0m     \u001b[39mreturn\u001b[39;00m NDFrame\u001b[39m.\u001b[39;49msum(\u001b[39mself\u001b[39;49m, axis, skipna, numeric_only, min_count, \u001b[39m*\u001b[39;49m\u001b[39m*\u001b[39;49mkwargs)\n",
      "File \u001b[0;32m~/anaconda3/envs/symmer/lib/python3.9/site-packages/pandas/core/generic.py:11280\u001b[0m, in \u001b[0;36mNDFrame.sum\u001b[0;34m(self, axis, skipna, numeric_only, min_count, **kwargs)\u001b[0m\n\u001b[1;32m  11272\u001b[0m \u001b[39mdef\u001b[39;00m \u001b[39msum\u001b[39m(\n\u001b[1;32m  11273\u001b[0m     \u001b[39mself\u001b[39m,\n\u001b[1;32m  11274\u001b[0m     axis: Axis \u001b[39m|\u001b[39m \u001b[39mNone\u001b[39;00m \u001b[39m=\u001b[39m \u001b[39mNone\u001b[39;00m,\n\u001b[0;32m   (...)\u001b[0m\n\u001b[1;32m  11278\u001b[0m     \u001b[39m*\u001b[39m\u001b[39m*\u001b[39mkwargs,\n\u001b[1;32m  11279\u001b[0m ):\n\u001b[0;32m> 11280\u001b[0m     \u001b[39mreturn\u001b[39;00m \u001b[39mself\u001b[39;49m\u001b[39m.\u001b[39;49m_min_count_stat_function(\n\u001b[1;32m  11281\u001b[0m         \u001b[39m\"\u001b[39;49m\u001b[39msum\u001b[39;49m\u001b[39m\"\u001b[39;49m, nanops\u001b[39m.\u001b[39;49mnansum, axis, skipna, numeric_only, min_count, \u001b[39m*\u001b[39;49m\u001b[39m*\u001b[39;49mkwargs\n\u001b[1;32m  11282\u001b[0m     )\n",
      "File \u001b[0;32m~/anaconda3/envs/symmer/lib/python3.9/site-packages/pandas/core/generic.py:11263\u001b[0m, in \u001b[0;36mNDFrame._min_count_stat_function\u001b[0;34m(self, name, func, axis, skipna, numeric_only, min_count, **kwargs)\u001b[0m\n\u001b[1;32m  11260\u001b[0m \u001b[39mif\u001b[39;00m axis \u001b[39mis\u001b[39;00m \u001b[39mNone\u001b[39;00m:\n\u001b[1;32m  11261\u001b[0m     axis \u001b[39m=\u001b[39m \u001b[39mself\u001b[39m\u001b[39m.\u001b[39m_stat_axis_number\n\u001b[0;32m> 11263\u001b[0m \u001b[39mreturn\u001b[39;00m \u001b[39mself\u001b[39;49m\u001b[39m.\u001b[39;49m_reduce(\n\u001b[1;32m  11264\u001b[0m     func,\n\u001b[1;32m  11265\u001b[0m     name\u001b[39m=\u001b[39;49mname,\n\u001b[1;32m  11266\u001b[0m     axis\u001b[39m=\u001b[39;49maxis,\n\u001b[1;32m  11267\u001b[0m     skipna\u001b[39m=\u001b[39;49mskipna,\n\u001b[1;32m  11268\u001b[0m     numeric_only\u001b[39m=\u001b[39;49mnumeric_only,\n\u001b[1;32m  11269\u001b[0m     min_count\u001b[39m=\u001b[39;49mmin_count,\n\u001b[1;32m  11270\u001b[0m )\n",
      "File \u001b[0;32m~/anaconda3/envs/symmer/lib/python3.9/site-packages/pandas/core/series.py:4670\u001b[0m, in \u001b[0;36mSeries._reduce\u001b[0;34m(self, op, name, axis, skipna, numeric_only, filter_type, **kwds)\u001b[0m\n\u001b[1;32m   4665\u001b[0m     \u001b[39mraise\u001b[39;00m \u001b[39mTypeError\u001b[39;00m(\n\u001b[1;32m   4666\u001b[0m         \u001b[39mf\u001b[39m\u001b[39m\"\u001b[39m\u001b[39mSeries.\u001b[39m\u001b[39m{\u001b[39;00mname\u001b[39m}\u001b[39;00m\u001b[39m does not allow \u001b[39m\u001b[39m{\u001b[39;00mkwd_name\u001b[39m}\u001b[39;00m\u001b[39m=\u001b[39m\u001b[39m{\u001b[39;00mnumeric_only\u001b[39m}\u001b[39;00m\u001b[39m \u001b[39m\u001b[39m\"\u001b[39m\n\u001b[1;32m   4667\u001b[0m         \u001b[39m\"\u001b[39m\u001b[39mwith non-numeric dtypes.\u001b[39m\u001b[39m\"\u001b[39m\n\u001b[1;32m   4668\u001b[0m     )\n\u001b[1;32m   4669\u001b[0m \u001b[39mwith\u001b[39;00m np\u001b[39m.\u001b[39merrstate(\u001b[39mall\u001b[39m\u001b[39m=\u001b[39m\u001b[39m\"\u001b[39m\u001b[39mignore\u001b[39m\u001b[39m\"\u001b[39m):\n\u001b[0;32m-> 4670\u001b[0m     \u001b[39mreturn\u001b[39;00m op(delegate, skipna\u001b[39m=\u001b[39;49mskipna, \u001b[39m*\u001b[39;49m\u001b[39m*\u001b[39;49mkwds)\n",
      "File \u001b[0;32m~/anaconda3/envs/symmer/lib/python3.9/site-packages/pandas/core/nanops.py:96\u001b[0m, in \u001b[0;36mdisallow.__call__.<locals>._f\u001b[0;34m(*args, **kwargs)\u001b[0m\n\u001b[1;32m     94\u001b[0m \u001b[39mtry\u001b[39;00m:\n\u001b[1;32m     95\u001b[0m     \u001b[39mwith\u001b[39;00m np\u001b[39m.\u001b[39merrstate(invalid\u001b[39m=\u001b[39m\u001b[39m\"\u001b[39m\u001b[39mignore\u001b[39m\u001b[39m\"\u001b[39m):\n\u001b[0;32m---> 96\u001b[0m         \u001b[39mreturn\u001b[39;00m f(\u001b[39m*\u001b[39;49margs, \u001b[39m*\u001b[39;49m\u001b[39m*\u001b[39;49mkwargs)\n\u001b[1;32m     97\u001b[0m \u001b[39mexcept\u001b[39;00m \u001b[39mValueError\u001b[39;00m \u001b[39mas\u001b[39;00m e:\n\u001b[1;32m     98\u001b[0m     \u001b[39m# we want to transform an object array\u001b[39;00m\n\u001b[1;32m     99\u001b[0m     \u001b[39m# ValueError message to the more typical TypeError\u001b[39;00m\n\u001b[1;32m    100\u001b[0m     \u001b[39m# e.g. this is normally a disallowed function on\u001b[39;00m\n\u001b[1;32m    101\u001b[0m     \u001b[39m# object arrays that contain strings\u001b[39;00m\n\u001b[1;32m    102\u001b[0m     \u001b[39mif\u001b[39;00m is_object_dtype(args[\u001b[39m0\u001b[39m]):\n",
      "\u001b[0;31mKeyboardInterrupt\u001b[0m: "
     ]
    }
   ],
   "source": [
    "K = 4\n",
    "Lambda_perp = 1\n",
    "\n",
    "K_list = np.arange(1, K + 1)\n",
    "num_states = []\n",
    "for k in K_list:\n",
    "    pion = Hadron('meson', k)\n",
    "    num_states.append(len(pion.get_states(k, P_perp, Lambda_perp).states_list))\n"
   ]
  },
  {
   "cell_type": "code",
   "execution_count": 59,
   "metadata": {},
   "outputs": [
    {
     "data": {
      "text/plain": [
       "Text(0.5, 1.0, 'Number of states for given K at $\\\\Lambda_\\\\perp = 0$')"
      ]
     },
     "execution_count": 59,
     "metadata": {},
     "output_type": "execute_result"
    },
    {
     "data": {
      "image/png": "[encoded data removed]",
      "text/plain": [
       "<Figure size 640x480 with 1 Axes>"
      ]
     },
     "metadata": {},
     "output_type": "display_data"
    }
   ],
   "source": [
    "\n",
    "plt.semilogy(K_list, num_states, 'o-')\n",
    "plt.xlabel('K')\n",
    "plt.ylabel('Number of states')\n",
    "plt.title(r\"Number of states for given K at $\\Lambda_\\perp = {}$\".format(Lambda_perp))"
   ]
  },
  {
   "cell_type": "code",
   "execution_count": 19,
   "metadata": {},
   "outputs": [],
   "source": [
    "#SU(2) Flavor matrices\n",
    "\n",
    "f1 = np.array([[0, 1], [1, 0]])\n",
    "f2 = np.array([[0, -1j], [1j, 0]])\n",
    "f3 = np.array([[1, 0], [0, -1]])\n",
    "\n",
    "#Isospin\n",
    "T = 1/2 * np.array([f1, f2, f3])\n",
    "Tsq = T[0].dot(T[0]) + T[1].dot(T[1]) + T[2].dot(T[2])"
   ]
  },
  {
   "cell_type": "code",
   "execution_count": null,
   "metadata": {},
   "outputs": [],
   "source": [
    "u = np.array([[1, 0]]).reshape(-1, 1)\n",
    "d = np.array([[0, 1]]).reshape(-1, 1)"
   ]
  },
  {
   "cell_type": "code",
   "execution_count": null,
   "metadata": {},
   "outputs": [],
   "source": [
    "np.allclose(T[2].dot(u), 1/2 * u)"
   ]
  },
  {
   "cell_type": "code",
   "execution_count": null,
   "metadata": {},
   "outputs": [],
   "source": [
    "np.allclose(Tsq.dot(u), 1/2 * (1/2 + 1) * u)"
   ]
  },
  {
   "cell_type": "code",
   "execution_count": null,
   "metadata": {},
   "outputs": [],
   "source": [
    "#Ladder operators \n",
    "Tplus = T[0] + 1j * T[1]\n",
    "Tminus = T[0] - 1j * T[1]"
   ]
  },
  {
   "cell_type": "code",
   "execution_count": null,
   "metadata": {},
   "outputs": [],
   "source": [
    "np.allclose(Tplus.dot(u), 0), np.allclose(Tplus.dot(d), u), np.allclose(Tminus.dot(d), 0), np.allclose(Tminus.dot(u), d)"
   ]
  },
  {
   "cell_type": "markdown",
   "metadata": {},
   "source": [
    "### Color SU(3) Singlets"
   ]
  },
  {
   "cell_type": "code",
   "execution_count": null,
   "metadata": {},
   "outputs": [],
   "source": [
    "lam = np.array([np.array([[0, 1, 0],\n",
    "                    [1, 0, 0],\n",
    "                    [0, 0, 0]]),\n",
    "            np.array([[0, -1j, 0],\n",
    "                    [1j, 0, 0],\n",
    "                    [0, 0, 0]]),\n",
    "            np.array([[1, 0, 0],\n",
    "                    [0, -1, 0],\n",
    "                    [0, 0, 0]]),\n",
    "            np.array([[0, 0, 1],\n",
    "                    [0, 0, 0],\n",
    "                    [1, 0, 0]]),\n",
    "            np.array([[0, 0, -1j],\n",
    "                    [0, 0, 0],\n",
    "                    [1j, 0, 0]]),\n",
    "            np.array([[0, 0, 0],\n",
    "                    [0, 0, 1],\n",
    "                    [0, 1, 0]]),\n",
    "            np.array([[0, 0, 0],\n",
    "                    [0, 0, -1j],\n",
    "                    [0, 1j, 0]]),  \n",
    "            np.array([[1/np.sqrt(3), 0, 0],\n",
    "                    [0, 1/np.sqrt(3), 0],\n",
    "                    [0, 0, -2/np.sqrt(3)]])\n",
    "\n",
    "])\n",
    "T = lam/2"
   ]
  },
  {
   "cell_type": "code",
   "execution_count": null,
   "metadata": {},
   "outputs": [],
   "source": [
    "r = np.array([1, 0, 0]).reshape(-1, 1)\n",
    "g = np.array([0, 1, 0]).reshape(-1, 1)\n",
    "b = np.array([0, 0, 1]).reshape(-1, 1)"
   ]
  },
  {
   "cell_type": "code",
   "execution_count": null,
   "metadata": {},
   "outputs": [],
   "source": []
  }
 ],
 "metadata": {
  "kernelspec": {
   "display_name": "Python 3 (ipykernel)",
   "language": "python",
   "name": "python3"
  },
  "language_info": {
   "codemirror_mode": {
    "name": "ipython",
    "version": 3
   },
   "file_extension": ".py",
   "mimetype": "text/x-python",
   "name": "python",
   "nbconvert_exporter": "python",
   "pygments_lexer": "ipython3",
   "version": "3.9.17"
  }
 },
 "nbformat": 4,
 "nbformat_minor": 2
}
