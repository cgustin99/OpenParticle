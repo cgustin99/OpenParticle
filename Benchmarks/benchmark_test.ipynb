{
 "cells": [
  {
   "cell_type": "code",
   "execution_count": 1,
   "metadata": {},
   "outputs": [],
   "source": [
    "#Imports\n",
    "from openparticle import ParticleOperator\n",
    "from openfermion import FermionOperator, normal_ordered\n",
    "from qiskit_nature.second_q.operators import FermionicOp, BosonicOp\n",
    "import timeit\n"
   ]
  },
  {
   "cell_type": "code",
   "execution_count": 6,
   "metadata": {},
   "outputs": [
    {
     "data": {
      "text/plain": [
       "0"
      ]
     },
     "execution_count": 6,
     "metadata": {},
     "output_type": "execute_result"
    }
   ],
   "source": [
    "normal_ordered(FermionOperator('1 1 1^ 1'))"
   ]
  },
  {
   "cell_type": "code",
   "execution_count": 7,
   "metadata": {},
   "outputs": [
    {
     "name": "stdout",
     "output_type": "stream",
     "text": [
      "10.4 µs ± 22.8 ns per loop (mean ± std. dev. of 7 runs, 100,000 loops each)\n"
     ]
    }
   ],
   "source": [
    "%%timeit\n",
    "normal_ordered(FermionOperator('1 1^ 1 1^'))"
   ]
  },
  {
   "cell_type": "code",
   "execution_count": 1,
   "metadata": {},
   "outputs": [
    {
     "ename": "TypeError",
     "evalue": "unsupported operand type(s) for -: 'list' and 'list'",
     "output_type": "error",
     "traceback": [
      "\u001b[0;31m---------------------------------------------------------------------------\u001b[0m",
      "\u001b[0;31mTypeError\u001b[0m                                 Traceback (most recent call last)",
      "Cell \u001b[0;32mIn[1], line 3\u001b[0m\n\u001b[1;32m      1\u001b[0m a \u001b[38;5;241m=\u001b[39m [\u001b[38;5;241m1\u001b[39m, \u001b[38;5;241m2\u001b[39m, \u001b[38;5;241m3\u001b[39m]\n\u001b[1;32m      2\u001b[0m b \u001b[38;5;241m=\u001b[39m [\u001b[38;5;241m3\u001b[39m, \u001b[38;5;241m4\u001b[39m, \u001b[38;5;241m5\u001b[39m]\n\u001b[0;32m----> 3\u001b[0m \u001b[43ma\u001b[49m\u001b[43m \u001b[49m\u001b[38;5;241;43m-\u001b[39;49m\u001b[43m \u001b[49m\u001b[43mb\u001b[49m\n",
      "\u001b[0;31mTypeError\u001b[0m: unsupported operand type(s) for -: 'list' and 'list'"
     ]
    }
   ],
   "source": [
    "a = [1, 2, 3]\n",
    "b = [3, 4, 5]"
   ]
  },
  {
   "cell_type": "code",
   "execution_count": null,
   "metadata": {},
   "outputs": [],
   "source": []
  },
  {
   "cell_type": "code",
   "execution_count": null,
   "metadata": {},
   "outputs": [],
   "source": []
  },
  {
   "cell_type": "code",
   "execution_count": 8,
   "metadata": {},
   "outputs": [
    {
     "data": {
      "text/plain": [
       "0"
      ]
     },
     "execution_count": 8,
     "metadata": {},
     "output_type": "execute_result"
    }
   ],
   "source": [
    "op = ParticleOperator(\"b1 b1 b1^ b1\")\n",
    "op.normal_order()"
   ]
  },
  {
   "cell_type": "code",
   "execution_count": 6,
   "metadata": {},
   "outputs": [
    {
     "data": {
      "text/plain": [
       "0"
      ]
     },
     "execution_count": 6,
     "metadata": {},
     "output_type": "execute_result"
    }
   ],
   "source": [
    "op = ParticleOperator(\"b1 b1 b1^ b1^\")\n",
    "op.normal_order()"
   ]
  },
  {
   "cell_type": "code",
   "execution_count": 9,
   "metadata": {},
   "outputs": [
    {
     "name": "stdout",
     "output_type": "stream",
     "text": [
      "9.08 µs ± 721 ns per loop (mean ± std. dev. of 7 runs, 100,000 loops each)\n"
     ]
    }
   ],
   "source": [
    "%%timeit\n",
    "op = ParticleOperator(\"b1 b1^ b1 b1^\")\n",
    "op.normal_order()"
   ]
  },
  {
   "cell_type": "code",
   "execution_count": 10,
   "metadata": {},
   "outputs": [
    {
     "name": "stdout",
     "output_type": "stream",
     "text": [
      "47.3 µs ± 6.04 µs per loop (mean ± std. dev. of 7 runs, 10,000 loops each)\n"
     ]
    }
   ],
   "source": [
    "%%timeit\n",
    "op = FermionicOp(\n",
    "    {\n",
    "        \"-_1 +_1 -_1 +_1\": 1.0,\n",
    "    }\n",
    ")\n",
    "op.normal_order()"
   ]
  },
  {
   "cell_type": "markdown",
   "metadata": {},
   "source": [
    "test already normal ordered op `b1^ b1 b1 b1`"
   ]
  },
  {
   "cell_type": "code",
   "execution_count": 3,
   "metadata": {},
   "outputs": [
    {
     "name": "stdout",
     "output_type": "stream",
     "text": [
      "4.35 µs ± 9.39 ns per loop (mean ± std. dev. of 7 runs, 100,000 loops each)\n"
     ]
    }
   ],
   "source": [
    "%%timeit\n",
    "normal_ordered(FermionOperator('1^ 1 1 1'))"
   ]
  },
  {
   "cell_type": "code",
   "execution_count": 3,
   "metadata": {},
   "outputs": [
    {
     "name": "stdout",
     "output_type": "stream",
     "text": [
      "5.2 µs ± 242 ns per loop (mean ± std. dev. of 7 runs, 100,000 loops each)\n"
     ]
    }
   ],
   "source": [
    "%%timeit\n",
    "op = ParticleOperator(\"b1^ b1 b1 b1^\")\n",
    "op.normal_order()"
   ]
  },
  {
   "cell_type": "code",
   "execution_count": null,
   "metadata": {},
   "outputs": [
    {
     "name": "stdout",
     "output_type": "stream",
     "text": [
      "7.44 µs ± 141 ns per loop (mean ± std. dev. of 7 runs, 100,000 loops each)\n"
     ]
    }
   ],
   "source": [
    "%%timeit\n",
    "op = FermionicOp(\n",
    "    {\n",
    "        \"+_1 -_1 -_1 -_1\": 1.0,\n",
    "    }\n",
    ")\n",
    "op.normal_order()"
   ]
  },
  {
   "cell_type": "markdown",
   "metadata": {},
   "source": [
    "testing a slight more complicated case `b1 b1 b1^ b1^`"
   ]
  },
  {
   "cell_type": "code",
   "execution_count": 19,
   "metadata": {},
   "outputs": [
    {
     "name": "stdout",
     "output_type": "stream",
     "text": [
      "4.35 µs ± 20.1 ns per loop (mean ± std. dev. of 7 runs, 100,000 loops each)\n"
     ]
    }
   ],
   "source": [
    "%%timeit\n",
    "normal_ordered(FermionOperator('1 1 1^ 1^'))"
   ]
  },
  {
   "cell_type": "code",
   "execution_count": 4,
   "metadata": {},
   "outputs": [
    {
     "name": "stdout",
     "output_type": "stream",
     "text": [
      "4.94 µs ± 4.55 ns per loop (mean ± std. dev. of 7 runs, 100,000 loops each)\n"
     ]
    }
   ],
   "source": [
    "%%timeit\n",
    "op = ParticleOperator(\"b1 b1 b1^ b1^\")\n",
    "op.normal_order()"
   ]
  },
  {
   "cell_type": "code",
   "execution_count": null,
   "metadata": {},
   "outputs": [
    {
     "name": "stdout",
     "output_type": "stream",
     "text": [
      "7.24 µs ± 24.2 ns per loop (mean ± std. dev. of 7 runs, 100,000 loops each)\n"
     ]
    }
   ],
   "source": [
    "%%timeit\n",
    "op = FermionicOp(\n",
    "    {\n",
    "        \"-_1 -_1 +_1 +_1\": 1.0,\n",
    "    }\n",
    ")\n",
    "op.normal_order()"
   ]
  },
  {
   "cell_type": "code",
   "execution_count": 18,
   "metadata": {},
   "outputs": [
    {
     "name": "stdout",
     "output_type": "stream",
     "text": [
      "16.6 µs ± 103 ns per loop (mean ± std. dev. of 7 runs, 100,000 loops each)\n"
     ]
    }
   ],
   "source": [
    "%%timeit\n",
    "op = ParticleOperator(\"b0^ b1^ b2 b3 b4^ b5 b6^ b7 b8^ b9\")\n",
    "op.normal_order()"
   ]
  },
  {
   "cell_type": "code",
   "execution_count": 6,
   "metadata": {},
   "outputs": [
    {
     "name": "stdout",
     "output_type": "stream",
     "text": [
      "62.6 µs ± 130 ns per loop (mean ± std. dev. of 7 runs, 10,000 loops each)\n"
     ]
    }
   ],
   "source": [
    "%%timeit\n",
    "op = ParticleOperator(\"b1 b1^ b2 b2^\")\n",
    "op.normal_order()"
   ]
  },
  {
   "cell_type": "code",
   "execution_count": 7,
   "metadata": {},
   "outputs": [
    {
     "name": "stdout",
     "output_type": "stream",
     "text": [
      "20 µs ± 63.3 ns per loop (mean ± std. dev. of 7 runs, 10,000 loops each)\n"
     ]
    }
   ],
   "source": [
    "%%timeit\n",
    "normal_ordered(FermionOperator('0 1^ 2 3 4^ 5 6^ 7 8^ 9'))"
   ]
  },
  {
   "cell_type": "code",
   "execution_count": 8,
   "metadata": {},
   "outputs": [
    {
     "name": "stdout",
     "output_type": "stream",
     "text": [
      "33.8 µs ± 811 ns per loop (mean ± std. dev. of 7 runs, 10,000 loops each)\n"
     ]
    }
   ],
   "source": [
    "%%timeit\n",
    "op = FermionicOp(\n",
    "    {\n",
    "        \"-_0 +_1 -_2 -_3 +_4 -_5 +_6 -_7 +_8 -_9\": 1.0,\n",
    "    }\n",
    ")\n",
    "op.normal_order()"
   ]
  },
  {
   "cell_type": "code",
   "execution_count": 10,
   "metadata": {},
   "outputs": [
    {
     "name": "stdout",
     "output_type": "stream",
     "text": [
      "23.5 µs ± 41 ns per loop (mean ± std. dev. of 7 runs, 10,000 loops each)\n"
     ]
    }
   ],
   "source": [
    "%%timeit\n",
    "op = ParticleOperator(\"b0 b1^ b2 b3 b4^ b5 b6^ b7 b8^ b9\")\n",
    "op.normal_order()"
   ]
  },
  {
   "cell_type": "code",
   "execution_count": 6,
   "metadata": {},
   "outputs": [],
   "source": [
    "def random_test_11_normal_order():\n",
    "    ParticleOperator(\"b0^ b1^ b2 b3 b4^ b5 b6^ b7 b8^ b9\").normal_order()\n",
    "    ParticleOperator(\"b1 b1 b1^ b1^\").normal_order()\n",
    "    ParticleOperator(\"b1 b1 b1^ b1\").normal_order()\n",
    "    ParticleOperator(\"b1 b1^ b2 b2^\").normal_order()\n",
    "    ParticleOperator(\"b1 b2 b1^ b2^\").normal_order()\n",
    "    ParticleOperator(\"b1 b1 b1 b1^ b1^ b1^ b1 b1^ b1 b1^\").normal_order()\n",
    "    (ParticleOperator(\"a0 b0 a2^ b0^ b0^ b1 d3 a2^ d3^\") + ParticleOperator(\"a0 b0 a0^\")).normal_order()\n",
    "    ParticleOperator(\"b1 b1^ b1 b1 b1 b1^ b1^ b1^ b1 b1^ b1 b1^\").normal_order()\n",
    "    ParticleOperator(\"b1 b2 b3 b3^ b2^ b1^\").normal_order()\n",
    "    ParticleOperator(\"b1 b1^ b1 b1^ b1 b1^ b1 b1^\").normal_order()\n",
    "    ParticleOperator(\"b0 b1 b2 b3 b4 b5 b6 b7 b8 b9 b10 b11 b12 b13 b14 b15 b16 b17 b18 b19 b0^ b1^ b2^ b3^ b4^ b5^ b6^ b7^ b8^ b9^ b10^ b11^ b12^ b13^ b14^ b15^ b16^ b17^ b18^ b19^\").normal_order()"
   ]
  },
  {
   "cell_type": "code",
   "execution_count": 7,
   "metadata": {},
   "outputs": [],
   "source": [
    "import cProfile\n",
    "import pstats\n",
    "cProfile.run(\"random_test_11_normal_order()\", \"profile_results\")\n",
    "p = pstats.Stats('profile_results')\n"
   ]
  },
  {
   "cell_type": "markdown",
   "metadata": {},
   "source": [
    "totol time output after using numba:\n",
    "\n",
    "Mon Jul 29 14:43:50 2024    profile_results\n",
    "\n",
    "         2006641 function calls (1912565 primitive calls) in 0.798 seconds\n",
    "\n",
    "   Ordered by: internal time\n",
    "\n",
    "   ncalls  tottime  percall  cumtime  percall filename:lineno(function)\n",
    "     3652    0.164    0.000    0.186    0.000 /Users/guoguo/Documents/su24_quantum/OpenParticle/oppenv/lib/python3.9/site-packages/llvmlite/binding/ffi.py:188(__call__)\n",
    "     1336    0.119    0.000    0.123    0.000 /Users/guoguo/Documents/su24_quantum/OpenParticle/oppenv/lib/python3.9/site-packages/llvmlite/ir/instructions.py:666(__init__)\n",
    "  4119/33    0.025    0.000    0.696    0.021 /Users/guoguo/Documents/su24_quantum/OpenParticle/openparticle/src.py:487(insertion_sort)\n",
    "     6171    0.021    0.000    0.669    0.000 /Users/guoguo/Documents/su24_quantum/OpenParticle/openparticle/src.py:303(_cleanup)\n",
    "22003/6171    0.015    0.000    0.037    0.000 /Applications/Xcode.app/Contents/Developer/Library/Frameworks/Python3.framework/Versions/3.9/lib/python3.9/copy.py:128(deepcopy)\n",
    "   235612    0.013    0.000    0.019    0.000 {built-in method builtins.isinstance}\n",
    "    23825    0.011    0.000    0.015    0.000 /Users/guoguo/Documents/su24_quantum/OpenParticle/openparticle/src.py:597(__init__)\n",
    "    62910    0.011    0.000    0.014    0.000 /Users/guoguo/Documents/su24_quantum/OpenParticle/openparticle/src.py:246(__init__)\n",
    "     4097    0.010    0.000    0.028    0.000 /Users/guoguo/Documents/su24_quantum/OpenParticle/openparticle/src.py:333(split)\n",
    "     6231    0.009    0.000    0.017    0.000 /Users/guoguo/Documents/su24_quantum/OpenParticle/oppenv/lib/python3.9/site-packages/numba/core/types/common.py:49(__init__)\n",
    "30692/14196    0.009    0.000    0.031    0.000 {method 'format' of 'str' objects}\n",
    "     6171    0.008    0.000    0.717    0.000 /Users/guoguo/Documents/su24_quantum/OpenParticle/openparticle/src.py:255(__add__)\n",
    "    86258    0.008    0.000    0.023    0.000 {method 'get' of 'dict' objects}\n",
    "     4107    0.007    0.000    0.010    0.000 /Users/guoguo/Documents/su24_quantum/OpenParticle/openparticle/src.py:368(__rmul__)"
   ]
  },
  {
   "cell_type": "markdown",
   "metadata": {},
   "source": [
    "total time output before using numba:\n",
    "\n",
    "Mon Jul 29 14:50:04 2024    profile_results\n",
    "\n",
    "         667389 function calls (647471 primitive calls) in 0.233 seconds\n",
    "\n",
    "   Ordered by: internal time\n",
    "\n",
    "   ncalls  tottime  percall  cumtime  percall filename:lineno(function)\n",
    "     6171    0.033    0.000    0.086    0.000 /Users/guoguo/Documents/su24_quantum/OpenParticle/openparticle/src.py:280(_cleanup)\n",
    "  4119/33    0.028    0.000    0.232    0.007 /Users/guoguo/Documents/su24_quantum/OpenParticle/openparticle/src.py:487(insertion_sort)\n",
    "22003/6171    0.017    0.000    0.041    0.000 /Applications/Xcode.app/Contents/Developer/Library/Frameworks/Python3.framework/Versions/3.9/lib/python3.9/copy.py:128(deepcopy)\n",
    "    12342    0.014    0.000    0.014    0.000 {method 'take' of 'numpy.ndarray' objects}\n",
    "    23825    0.013    0.000    0.018    0.000 /Users/guoguo/Documents/su24_quantum/OpenParticle/openparticle/src.py:597(__init__)\n",
    "    62910    0.012    0.000    0.016    0.000 /Users/guoguo/Documents/su24_quantum/OpenParticle/openparticle/src.py:246(__init__)\n",
    "     4097    0.012    0.000    0.033    0.000 /Users/guoguo/Documents/su24_quantum/OpenParticle/openparticle/src.py:333(split)\n",
    "    12342    0.010    0.000    0.031    0.000 /Users/guoguo/Documents/su24_quantum/OpenParticle/oppenv/lib/python3.9/site-packages/numpy/core/fromnumeric.py:40(_wrapit)\n",
    "    12342    0.008    0.000    0.040    0.000 /Users/guoguo/Documents/su24_quantum/OpenParticle/oppenv/lib/python3.9/site-packages/numpy/core/fromnumeric.py:53(_wrapfunc)\n",
    "     6171    0.008    0.000    0.138    0.000 /Users/guoguo/Documents/su24_quantum/OpenParticle/openparticle/src.py:255(__add__)\n",
    "     4107    0.008    0.000    0.011    0.000 /Users/guoguo/Documents/su24_quantum/OpenParticle/openparticle/src.py:368(__rmul__)"
   ]
  },
  {
   "cell_type": "code",
   "execution_count": null,
   "metadata": {},
   "outputs": [
    {
     "name": "stdout",
     "output_type": "stream",
     "text": [
      "-_0 +_0\n"
     ]
    }
   ],
   "source": [
    "case = \"b0 b0^\"\n",
    "op_string2 = \" \".join(f\"+_{e[1:-1]}\" if \"^\" in e else f\"-_{e[1:]}\" for e in case.split())\n",
    "print(op_string2)"
   ]
  },
  {
   "cell_type": "code",
   "execution_count": null,
   "metadata": {},
   "outputs": [
    {
     "name": "stdout",
     "output_type": "stream",
     "text": [
      "0 0^\n"
     ]
    }
   ],
   "source": [
    "fermion_op_string = \" \".join(e.replace('b', '') for e in case.split())\n",
    "print(fermion_op_string)"
   ]
  },
  {
   "cell_type": "code",
   "execution_count": 6,
   "metadata": {},
   "outputs": [
    {
     "name": "stdout",
     "output_type": "stream",
     "text": [
      "b10\n",
      "b11\n"
     ]
    }
   ],
   "source": [
    "opj = \"b10\"\n",
    "right = \"b11^\"\n",
    "print(opj[:])\n",
    "print(right[:-1])\n",
    "# ops[j][:] == right[:-1]"
   ]
  },
  {
   "cell_type": "code",
   "execution_count": 13,
   "metadata": {},
   "outputs": [
    {
     "data": {
      "text/plain": [
       "1 * b0^ b1^ b4^ b6^ b8^ b10^ b12^ b14^ b16^ b18^ b0^ b1^ b4^ b6^ b8^ b10^ b2 b3 b5 b7 b9 b11 b13 b15 b17 b19 b2 b3 b5 b7 b9"
      ]
     },
     "execution_count": 13,
     "metadata": {},
     "output_type": "execute_result"
    }
   ],
   "source": [
    "op = ParticleOperator(\"b0^ b1^ b2 b3 b4^ b5 b6^ b7 b8^ b9 b10^ b11 b12^ b13 b14^ b15 b16^ b17 b18^ b19 b0^ b1^ b2 b3 b4^ b5 b6^ b7 b8^ b9 b10^\")\n",
    "op.normal_order()"
   ]
  },
  {
   "cell_type": "code",
   "execution_count": 11,
   "metadata": {},
   "outputs": [
    {
     "data": {
      "text/plain": [
       "-1 * b0^ b1^ b4^ b6^ b8^ b2 b3 b5 b7 b9"
      ]
     },
     "execution_count": 11,
     "metadata": {},
     "output_type": "execute_result"
    }
   ],
   "source": [
    "op = ParticleOperator(\"b0^ b1^ b2 b3 b4^ b5 b6^ b7 b8^ b9\")\n",
    "op.normal_order()"
   ]
  },
  {
   "cell_type": "code",
   "execution_count": null,
   "metadata": {},
   "outputs": [
    {
     "name": "stdout",
     "output_type": "stream",
     "text": [
      "yayyyy\n"
     ]
    }
   ],
   "source": [
    "op1 = ParticleOperator(\"b1^\")\n",
    "op2 = ParticleOperator(\"b1^\")\n",
    "if op1.op_dict == op2.op_dict:\n",
    "    print(\"yayyyy\")\n",
    "else:\n",
    "    print(\"booooo\")"
   ]
  },
  {
   "cell_type": "code",
   "execution_count": null,
   "metadata": {},
   "outputs": [
    {
     "name": "stdout",
     "output_type": "stream",
     "text": [
      "1 *  \n",
      "-1 * b1^ b1\n",
      "\n"
     ]
    }
   ],
   "source": [
    "op = ParticleOperator(\"b1 b1^ b1 b1^ b1 b1^ b1 b1^\")\n",
    "normal_order_op = op.normal_order()\n",
    "print(normal_order_op)"
   ]
  },
  {
   "cell_type": "code",
   "execution_count": null,
   "metadata": {},
   "outputs": [
    {
     "name": "stdout",
     "output_type": "stream",
     "text": [
      "1 * b1^ b1^ b1\n",
      "\n"
     ]
    }
   ],
   "source": [
    "op = ParticleOperator(\"b1 b1^ b1^\")\n",
    "normal_order_op = op.normal_order()\n",
    "print(normal_order_op)"
   ]
  },
  {
   "cell_type": "code",
   "execution_count": 8,
   "metadata": {},
   "outputs": [
    {
     "data": {
      "text/plain": [
       "(['b0^', 'b1^', 'b2', 'b3', 'b4^', 'b5', 'b6^', 'b7', 'b8^', 'b9'], [], [])"
      ]
     },
     "execution_count": 8,
     "metadata": {},
     "output_type": "execute_result"
    }
   ],
   "source": [
    "op = ParticleOperator(\"b0^ b1^ b2 b3 b4^ b5 b6^ b7 b8^ b9\")\n",
    "op.split_to_string()"
   ]
  },
  {
   "cell_type": "code",
   "execution_count": 9,
   "metadata": {},
   "outputs": [
    {
     "name": "stdout",
     "output_type": "stream",
     "text": [
      "^\n"
     ]
    }
   ],
   "source": [
    "op = \"a2^\"\n",
    "print(op[-1])"
   ]
  },
  {
   "cell_type": "code",
   "execution_count": null,
   "metadata": {},
   "outputs": [],
   "source": []
  },
  {
   "cell_type": "code",
   "execution_count": null,
   "metadata": {},
   "outputs": [
    {
     "data": {
      "text/plain": [
       "0"
      ]
     },
     "execution_count": 15,
     "metadata": {},
     "output_type": "execute_result"
    }
   ],
   "source": [
    "normal_ordered(FermionOperator('1 1^ 1^'))"
   ]
  },
  {
   "cell_type": "code",
   "execution_count": 8,
   "metadata": {},
   "outputs": [
    {
     "name": "stdout",
     "output_type": "stream",
     "text": [
      "1 * b1^ b1^ b1 b1\n",
      "\n"
     ]
    }
   ],
   "source": [
    "op = ParticleOperator(\"b1 b1^ b1^ b1\")\n",
    "normal_order_op = op.normal_order()\n",
    "print(normal_order_op)"
   ]
  },
  {
   "cell_type": "code",
   "execution_count": null,
   "metadata": {},
   "outputs": [
    {
     "data": {
      "text/plain": [
       "0"
      ]
     },
     "execution_count": 4,
     "metadata": {},
     "output_type": "execute_result"
    }
   ],
   "source": [
    "normal_ordered(FermionOperator('1 1^ 1^ 1'))"
   ]
  },
  {
   "cell_type": "code",
   "execution_count": null,
   "metadata": {},
   "outputs": [
    {
     "name": "stdout",
     "output_type": "stream",
     "text": [
      "0\n"
     ]
    }
   ],
   "source": [
    "op = ParticleOperator(\"b1 b1 b1^\")\n",
    "normal_order_op = op.normal_order()\n",
    "print(normal_order_op)"
   ]
  },
  {
   "cell_type": "code",
   "execution_count": null,
   "metadata": {},
   "outputs": [
    {
     "name": "stdout",
     "output_type": "stream",
     "text": [
      "0\n"
     ]
    }
   ],
   "source": [
    "op = ParticleOperator(\"b1 b1 b1^ b1^\")\n",
    "normal_order_op = op.normal_order()\n",
    "print(normal_order_op)"
   ]
  },
  {
   "cell_type": "code",
   "execution_count": null,
   "metadata": {},
   "outputs": [
    {
     "name": "stdout",
     "output_type": "stream",
     "text": [
      "0\n"
     ]
    }
   ],
   "source": [
    "op = ParticleOperator(\"b1 b1 b1 b1^\")\n",
    "normal_order_op = op.normal_order()\n",
    "print(normal_order_op)"
   ]
  },
  {
   "cell_type": "code",
   "execution_count": null,
   "metadata": {},
   "outputs": [
    {
     "data": {
      "text/plain": [
       "0"
      ]
     },
     "execution_count": 9,
     "metadata": {},
     "output_type": "execute_result"
    }
   ],
   "source": [
    "normal_ordered(FermionOperator('1 1 1 1^'))"
   ]
  },
  {
   "cell_type": "code",
   "execution_count": null,
   "metadata": {},
   "outputs": [
    {
     "name": "stdout",
     "output_type": "stream",
     "text": [
      "1 *  \n",
      "-1 * b1^ b1\n",
      "\n"
     ]
    }
   ],
   "source": [
    "op = ParticleOperator(\"b1 b1^ b1 b1^ b1 b1^ b1 b1^\")\n",
    "normal_order_op = op.normal_order()\n",
    "print(normal_order_op)"
   ]
  },
  {
   "cell_type": "code",
   "execution_count": null,
   "metadata": {},
   "outputs": [
    {
     "data": {
      "text/plain": [
       "1.0 [] +\n",
       "-1.0 [1^ 1]"
      ]
     },
     "execution_count": 43,
     "metadata": {},
     "output_type": "execute_result"
    }
   ],
   "source": [
    "normal_ordered(FermionOperator('1 1^ 1 1^ 1 1^ 1 1^'))"
   ]
  },
  {
   "cell_type": "code",
   "execution_count": 16,
   "metadata": {},
   "outputs": [
    {
     "name": "stdout",
     "output_type": "stream",
     "text": [
      "b0^ b1^ b2 b3 b4^ b5 b6^ b7 b8^ b9\n",
      "b\n"
     ]
    }
   ],
   "source": [
    "ops = ['b0^', 'b1^', 'b2', 'b3', 'b4^', 'b5', 'b6^', 'b7', 'b8^', 'b9']\n",
    "result_str = ' '.join(ops)\n",
    "print(result_str)\n",
    "print(ops[0][0])"
   ]
  },
  {
   "cell_type": "code",
   "execution_count": 17,
   "metadata": {},
   "outputs": [
    {
     "name": "stdout",
     "output_type": "stream",
     "text": [
      "1 * b0^ b1^ b2\n",
      "\n",
      "1 * b5 b6^ b7 b8^ b9\n",
      "\n"
     ]
    }
   ],
   "source": [
    "j = 3\n",
    "left_op = ParticleOperator(' '.join(ops[:j]))\n",
    "right_op = ParticleOperator(' '.join(ops[j + 2 : len(ops)]))\n",
    "print(left_op)\n",
    "print(right_op)"
   ]
  },
  {
   "cell_type": "code",
   "execution_count": 14,
   "metadata": {},
   "outputs": [
    {
     "data": {
      "text/plain": [
       "1 * b1 b2\n",
       "-1 * b3^ b1 b2 b3"
      ]
     },
     "execution_count": 14,
     "metadata": {},
     "output_type": "execute_result"
    }
   ],
   "source": [
    "op = ParticleOperator(\"b1 b2 b3 b3^\")\n",
    "op.normal_order()"
   ]
  },
  {
   "cell_type": "code",
   "execution_count": 3,
   "metadata": {},
   "outputs": [
    {
     "data": {
      "text/plain": [
       "['b1', 'b2']"
      ]
     },
     "execution_count": 3,
     "metadata": {},
     "output_type": "execute_result"
    }
   ],
   "source": [
    "key_op = \"b1 b2\"\n",
    "key_op.split(\" \")"
   ]
  },
  {
   "cell_type": "code",
   "execution_count": 6,
   "metadata": {},
   "outputs": [
    {
     "data": {
      "text/plain": [
       "1 * b1 b2\n",
       "-1 * b3^ b1 b2 b3"
      ]
     },
     "execution_count": 6,
     "metadata": {},
     "output_type": "execute_result"
    }
   ],
   "source": [
    "op = ParticleOperator(\"b1 b2 b3 b3^\")\n",
    "op.normal_order()"
   ]
  },
  {
   "cell_type": "code",
   "execution_count": 2,
   "metadata": {},
   "outputs": [
    {
     "data": {
      "text/plain": [
       "1 * b0^ b1^ b4^ b6^ b8^ b10^ b12^ b14^ b16^ b18^ b0^ b1^ b4^ b6^ b8^ b10^ b12^ b14^ b16^ b18^ b2 b3 b5 b7 b9 b11 b13 b15 b17 b19 b2 b3 b5 b7 b9 b11 b13 b15 b17 b19"
      ]
     },
     "execution_count": 2,
     "metadata": {},
     "output_type": "execute_result"
    }
   ],
   "source": [
    "op = ParticleOperator(\"b0^ b1^ b2 b3 b4^ b5 b6^ b7 b8^ b9 b10^ b11 b12^ b13 b14^ b15 b16^ b17 b18^ b19 b0^ b1^ b2 b3 b4^ b5 b6^ b7 b8^ b9 b10^ b11 b12^ b13 b14^ b15 b16^ b17 b18^ b19\")\n",
    "op.normal_order()"
   ]
  },
  {
   "cell_type": "code",
   "execution_count": 4,
   "metadata": {},
   "outputs": [
    {
     "name": "stdout",
     "output_type": "stream",
     "text": [
      "4.38 ms ± 12.7 µs per loop (mean ± std. dev. of 7 runs, 100 loops each)\n"
     ]
    }
   ],
   "source": [
    "%%timeit\n",
    "op = ParticleOperator(\"a0 a0 a0 a0 a0 a0^ a0^ a0^ a0^ a0^\")\n",
    "op.normal_order()"
   ]
  },
  {
   "cell_type": "code",
   "execution_count": 8,
   "metadata": {},
   "outputs": [
    {
     "name": "stdout",
     "output_type": "stream",
     "text": [
      "Mon Aug  5 14:55:36 2024    profile_results\n",
      "\n",
      "         48760039 function calls (46662850 primitive calls) in 19.861 seconds\n",
      "\n",
      "   Ordered by: internal time\n",
      "\n",
      "   ncalls  tottime  percall  cumtime  percall filename:lineno(function)\n",
      "2097223/36   14.292    0.000   18.529    0.515 /Users/guoguo/Documents/su24_quantum/OpenParticle/openparticle/src.py:496(insertion_sort)\n",
      "  2097202    1.448    0.000    1.448    0.000 /Users/guoguo/Documents/su24_quantum/OpenParticle/openparticle/src.py:485(is_normal_ordered)\n",
      " 27263182    1.378    0.000    1.378    0.000 {method 'get' of 'dict' objects}\n",
      "  2097199    0.853    0.000    0.853    0.000 {method 'split' of 'str' objects}\n",
      "  4194392    0.676    0.000    0.767    0.000 {method 'join' of 'str' objects}\n",
      "       12    0.625    0.052   19.660    1.638 /Users/guoguo/Documents/su24_quantum/OpenParticle/openparticle/src.py:422(_normal_order)\n",
      "       11    0.122    0.011   19.842    1.804 /Users/guoguo/Documents/su24_quantum/OpenParticle/openparticle/src.py:372(normal_order)\n",
      "  3145810    0.122    0.000    0.122    0.000 {method 'items' of 'dict' objects}\n",
      "  2097217    0.121    0.000    0.121    0.000 {method 'strip' of 'str' objects}\n",
      "  3670236    0.115    0.000    0.115    0.000 {built-in method builtins.len}\n",
      "  2097204    0.091    0.000    0.091    0.000 /Users/guoguo/Documents/su24_quantum/OpenParticle/openparticle/src.py:473(<genexpr>)\n",
      "        1    0.018    0.018   19.861   19.861 /var/folders/3l/jg_ly4213tl3t3mzd040f3z40000gn/T/ipykernel_76709/1056840881.py:1(random_test_11_normal_order)\n",
      "        2    0.000    0.000    0.000    0.000 {method 'take' of 'numpy.ndarray' objects}\n",
      "        1    0.000    0.000    0.001    0.001 /Users/guoguo/Documents/su24_quantum/OpenParticle/openparticle/src.py:280(_cleanup)\n",
      "        1    0.000    0.000    0.000    0.000 {built-in method numpy.array}\n",
      "        1    0.000    0.000    0.000    0.000 {built-in method builtins.abs}\n",
      "        1    0.000    0.000   19.861   19.861 {built-in method builtins.exec}\n",
      "       12    0.000    0.000    0.000    0.000 /Users/guoguo/Documents/su24_quantum/OpenParticle/openparticle/src.py:401(split_to_string)\n",
      "       37    0.000    0.000    0.000    0.000 /Users/guoguo/Documents/su24_quantum/OpenParticle/openparticle/src.py:246(__init__)\n",
      "      3/1    0.000    0.000    0.000    0.000 /Applications/Xcode.app/Contents/Developer/Library/Frameworks/Python3.framework/Versions/3.9/lib/python3.9/copy.py:128(deepcopy)\n",
      "        2    0.000    0.000    0.000    0.000 {built-in method numpy.asarray}\n",
      "        2    0.000    0.000    0.000    0.000 /Users/guoguo/Documents/su24_quantum/OpenParticle/oppenv/lib/python3.9/site-packages/numpy/core/fromnumeric.py:53(_wrapfunc)\n",
      "        1    0.000    0.000    0.001    0.001 /Users/guoguo/Documents/su24_quantum/OpenParticle/openparticle/src.py:255(__add__)\n",
      "        2    0.000    0.000    0.000    0.000 /Users/guoguo/Documents/su24_quantum/OpenParticle/oppenv/lib/python3.9/site-packages/numpy/core/fromnumeric.py:40(_wrapit)\n",
      "        2    0.000    0.000    0.000    0.000 /Users/guoguo/Documents/su24_quantum/OpenParticle/oppenv/lib/python3.9/site-packages/numpy/core/fromnumeric.py:95(take)\n",
      "       11    0.000    0.000    0.000    0.000 /Users/guoguo/Documents/su24_quantum/OpenParticle/openparticle/src.py:322(to_list)\n",
      "       62    0.000    0.000    0.000    0.000 {built-in method builtins.isinstance}\n",
      "        4    0.000    0.000    0.000    0.000 {built-in method builtins.getattr}\n",
      "        1    0.000    0.000   19.861   19.861 <string>:1(<module>)\n",
      "      126    0.000    0.000    0.000    0.000 {method 'append' of 'list' objects}\n",
      "       46    0.000    0.000    0.000    0.000 {method 'keys' of 'dict' objects}\n",
      "        7    0.000    0.000    0.000    0.000 {method 'pop' of 'dict' objects}\n",
      "        1    0.000    0.000    0.000    0.000 /Applications/Xcode.app/Contents/Developer/Library/Frameworks/Python3.framework/Versions/3.9/lib/python3.9/copy.py:242(_keep_alive)\n",
      "        1    0.000    0.000    0.000    0.000 /Applications/Xcode.app/Contents/Developer/Library/Frameworks/Python3.framework/Versions/3.9/lib/python3.9/copy.py:226(_deepcopy_dict)\n",
      "       12    0.000    0.000    0.000    0.000 {method 'values' of 'dict' objects}\n",
      "        1    0.000    0.000    0.000    0.000 /Users/guoguo/Documents/su24_quantum/OpenParticle/oppenv/lib/python3.9/site-packages/numpy/core/multiarray.py:346(where)\n",
      "        2    0.000    0.000    0.000    0.000 /Users/guoguo/Documents/su24_quantum/OpenParticle/oppenv/lib/python3.9/site-packages/numpy/core/fromnumeric.py:91(_take_dispatcher)\n",
      "        6    0.000    0.000    0.000    0.000 {built-in method builtins.id}\n",
      "        2    0.000    0.000    0.000    0.000 /Applications/Xcode.app/Contents/Developer/Library/Frameworks/Python3.framework/Versions/3.9/lib/python3.9/copy.py:182(_deepcopy_atomic)\n",
      "        1    0.000    0.000    0.000    0.000 {method 'disable' of '_lsprof.Profiler' objects}\n",
      "\n",
      "\n"
     ]
    },
    {
     "data": {
      "text/plain": [
       "<pstats.Stats at 0x10398a460>"
      ]
     },
     "execution_count": 8,
     "metadata": {},
     "output_type": "execute_result"
    }
   ],
   "source": [
    "p.sort_stats('tottime').print_stats()"
   ]
  },
  {
   "cell_type": "code",
   "execution_count": 10,
   "metadata": {},
   "outputs": [
    {
     "name": "stdout",
     "output_type": "stream",
     "text": [
      "Mon Aug  5 14:55:36 2024    profile_results\n",
      "\n",
      "         48760039 function calls (46662850 primitive calls) in 19.861 seconds\n",
      "\n",
      "   Ordered by: cumulative time\n",
      "\n",
      "   ncalls  tottime  percall  cumtime  percall filename:lineno(function)\n",
      "        1    0.000    0.000   19.861   19.861 {built-in method builtins.exec}\n",
      "        1    0.000    0.000   19.861   19.861 <string>:1(<module>)\n",
      "        1    0.018    0.018   19.861   19.861 /var/folders/3l/jg_ly4213tl3t3mzd040f3z40000gn/T/ipykernel_76709/1056840881.py:1(random_test_11_normal_order)\n",
      "       11    0.122    0.011   19.842    1.804 /Users/guoguo/Documents/su24_quantum/OpenParticle/openparticle/src.py:372(normal_order)\n",
      "       12    0.625    0.052   19.660    1.638 /Users/guoguo/Documents/su24_quantum/OpenParticle/openparticle/src.py:422(_normal_order)\n",
      "2097223/36   14.292    0.000   18.529    0.515 /Users/guoguo/Documents/su24_quantum/OpenParticle/openparticle/src.py:496(insertion_sort)\n",
      "  2097202    1.448    0.000    1.448    0.000 /Users/guoguo/Documents/su24_quantum/OpenParticle/openparticle/src.py:485(is_normal_ordered)\n",
      " 27263182    1.378    0.000    1.378    0.000 {method 'get' of 'dict' objects}\n",
      "  2097199    0.853    0.000    0.853    0.000 {method 'split' of 'str' objects}\n",
      "  4194392    0.676    0.000    0.767    0.000 {method 'join' of 'str' objects}\n",
      "  3145810    0.122    0.000    0.122    0.000 {method 'items' of 'dict' objects}\n",
      "  2097217    0.121    0.000    0.121    0.000 {method 'strip' of 'str' objects}\n",
      "  3670236    0.115    0.000    0.115    0.000 {built-in method builtins.len}\n",
      "  2097204    0.091    0.000    0.091    0.000 /Users/guoguo/Documents/su24_quantum/OpenParticle/openparticle/src.py:473(<genexpr>)\n",
      "        1    0.000    0.000    0.001    0.001 /Users/guoguo/Documents/su24_quantum/OpenParticle/openparticle/src.py:255(__add__)\n",
      "        1    0.000    0.000    0.001    0.001 /Users/guoguo/Documents/su24_quantum/OpenParticle/openparticle/src.py:280(_cleanup)\n",
      "        2    0.000    0.000    0.000    0.000 /Users/guoguo/Documents/su24_quantum/OpenParticle/oppenv/lib/python3.9/site-packages/numpy/core/fromnumeric.py:95(take)\n",
      "        2    0.000    0.000    0.000    0.000 /Users/guoguo/Documents/su24_quantum/OpenParticle/oppenv/lib/python3.9/site-packages/numpy/core/fromnumeric.py:53(_wrapfunc)\n",
      "        2    0.000    0.000    0.000    0.000 /Users/guoguo/Documents/su24_quantum/OpenParticle/oppenv/lib/python3.9/site-packages/numpy/core/fromnumeric.py:40(_wrapit)\n",
      "        2    0.000    0.000    0.000    0.000 {method 'take' of 'numpy.ndarray' objects}\n",
      "        1    0.000    0.000    0.000    0.000 {built-in method numpy.array}\n",
      "        1    0.000    0.000    0.000    0.000 {built-in method builtins.abs}\n",
      "       12    0.000    0.000    0.000    0.000 /Users/guoguo/Documents/su24_quantum/OpenParticle/openparticle/src.py:401(split_to_string)\n",
      "       37    0.000    0.000    0.000    0.000 /Users/guoguo/Documents/su24_quantum/OpenParticle/openparticle/src.py:246(__init__)\n",
      "      3/1    0.000    0.000    0.000    0.000 /Applications/Xcode.app/Contents/Developer/Library/Frameworks/Python3.framework/Versions/3.9/lib/python3.9/copy.py:128(deepcopy)\n",
      "        2    0.000    0.000    0.000    0.000 {built-in method numpy.asarray}\n",
      "       11    0.000    0.000    0.000    0.000 /Users/guoguo/Documents/su24_quantum/OpenParticle/openparticle/src.py:322(to_list)\n",
      "       62    0.000    0.000    0.000    0.000 {built-in method builtins.isinstance}\n",
      "        4    0.000    0.000    0.000    0.000 {built-in method builtins.getattr}\n",
      "      126    0.000    0.000    0.000    0.000 {method 'append' of 'list' objects}\n",
      "        1    0.000    0.000    0.000    0.000 /Applications/Xcode.app/Contents/Developer/Library/Frameworks/Python3.framework/Versions/3.9/lib/python3.9/copy.py:226(_deepcopy_dict)\n",
      "       46    0.000    0.000    0.000    0.000 {method 'keys' of 'dict' objects}\n",
      "        7    0.000    0.000    0.000    0.000 {method 'pop' of 'dict' objects}\n",
      "        1    0.000    0.000    0.000    0.000 /Applications/Xcode.app/Contents/Developer/Library/Frameworks/Python3.framework/Versions/3.9/lib/python3.9/copy.py:242(_keep_alive)\n",
      "       12    0.000    0.000    0.000    0.000 {method 'values' of 'dict' objects}\n",
      "        1    0.000    0.000    0.000    0.000 /Users/guoguo/Documents/su24_quantum/OpenParticle/oppenv/lib/python3.9/site-packages/numpy/core/multiarray.py:346(where)\n",
      "        2    0.000    0.000    0.000    0.000 /Users/guoguo/Documents/su24_quantum/OpenParticle/oppenv/lib/python3.9/site-packages/numpy/core/fromnumeric.py:91(_take_dispatcher)\n",
      "        6    0.000    0.000    0.000    0.000 {built-in method builtins.id}\n",
      "        2    0.000    0.000    0.000    0.000 /Applications/Xcode.app/Contents/Developer/Library/Frameworks/Python3.framework/Versions/3.9/lib/python3.9/copy.py:182(_deepcopy_atomic)\n",
      "        1    0.000    0.000    0.000    0.000 {method 'disable' of '_lsprof.Profiler' objects}\n",
      "\n",
      "\n"
     ]
    },
    {
     "data": {
      "text/plain": [
       "<pstats.Stats at 0x10398a460>"
      ]
     },
     "execution_count": 10,
     "metadata": {},
     "output_type": "execute_result"
    }
   ],
   "source": [
    "p.sort_stats('cumtime').print_stats()"
   ]
  },
  {
   "cell_type": "code",
   "execution_count": null,
   "metadata": {},
   "outputs": [],
   "source": [
    "# def test_10000_times_on_normal_order_op()"
   ]
  },
  {
   "cell_type": "code",
   "execution_count": null,
   "metadata": {},
   "outputs": [
    {
     "name": "stdout",
     "output_type": "stream",
     "text": [
      "         176 function calls (174 primitive calls) in 0.000 seconds\n",
      "\n",
      "   Ordered by: standard name\n",
      "\n",
      "   ncalls  tottime  percall  cumtime  percall filename:lineno(function)\n",
      "        1    0.000    0.000    0.000    0.000 <string>:1(<module>)\n",
      "      3/1    0.000    0.000    0.000    0.000 copy.py:128(deepcopy)\n",
      "        2    0.000    0.000    0.000    0.000 copy.py:182(_deepcopy_atomic)\n",
      "        1    0.000    0.000    0.000    0.000 copy.py:226(_deepcopy_dict)\n",
      "        1    0.000    0.000    0.000    0.000 copy.py:242(_keep_alive)\n",
      "        2    0.000    0.000    0.000    0.000 fromnumeric.py:40(_wrapit)\n",
      "        2    0.000    0.000    0.000    0.000 fromnumeric.py:53(_wrapfunc)\n",
      "        2    0.000    0.000    0.000    0.000 fromnumeric.py:91(_take_dispatcher)\n",
      "        2    0.000    0.000    0.000    0.000 fromnumeric.py:95(take)\n",
      "        1    0.000    0.000    0.000    0.000 multiarray.py:346(where)\n",
      "       18    0.000    0.000    0.000    0.000 src.py:246(__init__)\n",
      "        1    0.000    0.000    0.000    0.000 src.py:255(__add__)\n",
      "        1    0.000    0.000    0.000    0.000 src.py:280(_cleanup)\n",
      "        1    0.000    0.000    0.000    0.000 src.py:308(split)\n",
      "        1    0.000    0.000    0.000    0.000 src.py:322(to_list)\n",
      "        1    0.000    0.000    0.000    0.000 src.py:372(normal_order)\n",
      "        1    0.000    0.000    0.000    0.000 src.py:390(_normal_order)\n",
      "        1    0.000    0.000    0.000    0.000 src.py:456(is_normal_ordered)\n",
      "        3    0.000    0.000    0.000    0.000 src.py:466(insertion_sort)\n",
      "       10    0.000    0.000    0.000    0.000 src.py:584(__init__)\n",
      "        1    0.000    0.000    0.000    0.000 {built-in method builtins.abs}\n",
      "        1    0.000    0.000    0.000    0.000 {built-in method builtins.exec}\n",
      "        4    0.000    0.000    0.000    0.000 {built-in method builtins.getattr}\n",
      "        6    0.000    0.000    0.000    0.000 {built-in method builtins.id}\n",
      "       36    0.000    0.000    0.000    0.000 {built-in method builtins.isinstance}\n",
      "       20    0.000    0.000    0.000    0.000 {built-in method builtins.len}\n",
      "        1    0.000    0.000    0.000    0.000 {built-in method numpy.array}\n",
      "        2    0.000    0.000    0.000    0.000 {built-in method numpy.asarray}\n",
      "       21    0.000    0.000    0.000    0.000 {method 'append' of 'list' objects}\n",
      "        1    0.000    0.000    0.000    0.000 {method 'disable' of '_lsprof.Profiler' objects}\n",
      "        6    0.000    0.000    0.000    0.000 {method 'get' of 'dict' objects}\n",
      "        4    0.000    0.000    0.000    0.000 {method 'items' of 'dict' objects}\n",
      "       13    0.000    0.000    0.000    0.000 {method 'keys' of 'dict' objects}\n",
      "        1    0.000    0.000    0.000    0.000 {method 'split' of 'str' objects}\n",
      "        1    0.000    0.000    0.000    0.000 {method 'strip' of 'str' objects}\n",
      "        2    0.000    0.000    0.000    0.000 {method 'take' of 'numpy.ndarray' objects}\n",
      "        1    0.000    0.000    0.000    0.000 {method 'values' of 'dict' objects}\n",
      "\n",
      "\n"
     ]
    }
   ],
   "source": [
    "import cProfile\n",
    "cProfile.run(\"op.normal_order()\")"
   ]
  }
 ],
 "metadata": {
  "kernelspec": {
   "display_name": "oppenv",
   "language": "python",
   "name": "python3"
  },
  "language_info": {
   "codemirror_mode": {
    "name": "ipython",
    "version": 3
   },
   "file_extension": ".py",
   "mimetype": "text/x-python",
   "name": "python",
   "nbconvert_exporter": "python",
   "pygments_lexer": "ipython3",
   "version": "3.9.6"
  }
 },
 "nbformat": 4,
 "nbformat_minor": 2
}
