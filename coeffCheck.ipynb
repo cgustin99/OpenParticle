{
 "cells": [
  {
   "cell_type": "code",
   "execution_count": 1,
   "metadata": {},
   "outputs": [],
   "source": [
    "#Imports\n",
    "from openparticle import Fock, ParticleOperator\n",
    "from openparticle.qubit_mappings import *"
   ]
  },
  {
   "cell_type": "code",
   "execution_count": 2,
   "metadata": {},
   "outputs": [
    {
     "name": "stdout",
     "output_type": "stream",
     "text": [
      "1.0 * |; ; (0, 5)⟩\n"
     ]
    }
   ],
   "source": [
    "#An example state\n",
    "\n",
    "f_occ = [] # no fermion\n",
    "af_occ = [] # no antifermion\n",
    "\n",
    "# the second argument in the b_occ tuple is n, and the first argument is the mode which will always be 0\n",
    "n = 5\n",
    "b_occ = [(0, n)] # One boson in state 5\n",
    "\n",
    "x = Fock(f_occ = f_occ, af_occ = af_occ, b_occ = b_occ)\n",
    "print(x)"
   ]
  },
  {
   "cell_type": "code",
   "execution_count": 3,
   "metadata": {},
   "outputs": [],
   "source": [
    "from openparticle import FermionOperator, AntifermionOperator, BosonOperator"
   ]
  },
  {
   "cell_type": "code",
   "execution_count": 4,
   "metadata": {},
   "outputs": [
    {
     "name": "stdout",
     "output_type": "stream",
     "text": [
      "1.0*a_0a_0a_0a_0\n"
     ]
    }
   ],
   "source": [
    "op = ParticleOperator('a0 a0 a0 a0')\n",
    "print(op)"
   ]
  },
  {
   "cell_type": "code",
   "execution_count": 5,
   "metadata": {},
   "outputs": [
    {
     "name": "stdout",
     "output_type": "stream",
     "text": [
      "10.954451150103324 * |; ; (0, 1)⟩\n"
     ]
    },
    {
     "data": {
      "text/plain": [
       "10.954451150103322"
      ]
     },
     "execution_count": 5,
     "metadata": {},
     "output_type": "execute_result"
    }
   ],
   "source": [
    "# apply the operators on the state\n",
    "print(op * x)\n",
    "\n",
    "# aaaa\n",
    "# check if the coeff matches our work\n",
    "np.sqrt((n - 1) * (n - 2) * (n - 3) * n)\n"
   ]
  },
  {
   "cell_type": "code",
   "execution_count": 6,
   "metadata": {},
   "outputs": [
    {
     "name": "stdout",
     "output_type": "stream",
     "text": [
      "26.832815729997474 * |; ; (0, 3)⟩\n"
     ]
    },
    {
     "data": {
      "text/plain": [
       "26.832815729997478"
      ]
     },
     "execution_count": 6,
     "metadata": {},
     "output_type": "execute_result"
    }
   ],
   "source": [
    "op = ParticleOperator('a0 a0 a0 a0^')\n",
    "print(op * x)\n",
    "\n",
    "# aaaa^\n",
    "# check if the coeff matches our work\n",
    "np.sqrt((n - 1) * (n + 1) * (n + 1) * n)"
   ]
  },
  {
   "cell_type": "code",
   "execution_count": 7,
   "metadata": {},
   "outputs": [
    {
     "name": "stdout",
     "output_type": "stream",
     "text": [
      "22.3606797749979 * |; ; (0, 3)⟩\n"
     ]
    },
    {
     "data": {
      "text/plain": [
       "22.360679774997898"
      ]
     },
     "execution_count": 7,
     "metadata": {},
     "output_type": "execute_result"
    }
   ],
   "source": [
    "op = ParticleOperator('a0 a0 a0^ a0')\n",
    "print(op * x)\n",
    "\n",
    "# aaaa^\n",
    "# check if the coeff matches our work\n",
    "np.sqrt((n - 1) * n * n * n)"
   ]
  },
  {
   "cell_type": "code",
   "execution_count": 8,
   "metadata": {},
   "outputs": [
    {
     "name": "stdout",
     "output_type": "stream",
     "text": [
      "42.0 * |; ; (0, 5)⟩\n"
     ]
    },
    {
     "data": {
      "text/plain": [
       "42.0"
      ]
     },
     "execution_count": 8,
     "metadata": {},
     "output_type": "execute_result"
    }
   ],
   "source": [
    "op = ParticleOperator('a0 a0 a0^ a0^')\n",
    "print(op * x)\n",
    "\n",
    "# aaa^a^\n",
    "# check if the coeff matches our work\n",
    "np.sqrt((n + 1) * (n + 1) * (n + 2) * (n + 2))"
   ]
  },
  {
   "cell_type": "code",
   "execution_count": 9,
   "metadata": {},
   "outputs": [
    {
     "name": "stdout",
     "output_type": "stream",
     "text": [
      "17.88854381999832 * |; ; (0, 3)⟩\n"
     ]
    },
    {
     "data": {
      "text/plain": [
       "17.88854381999832"
      ]
     },
     "execution_count": 9,
     "metadata": {},
     "output_type": "execute_result"
    }
   ],
   "source": [
    "op = ParticleOperator('a0 a0^ a0 a0')\n",
    "print(op * x)\n",
    "\n",
    "# aa^aa\n",
    "# check if the coeff matches our work\n",
    "np.sqrt((n - 1) * (n - 1) * (n - 1) * n)"
   ]
  },
  {
   "cell_type": "code",
   "execution_count": 10,
   "metadata": {},
   "outputs": [
    {
     "name": "stdout",
     "output_type": "stream",
     "text": [
      "35.999999999999986 * |; ; (0, 5)⟩\n"
     ]
    },
    {
     "data": {
      "text/plain": [
       "36.0"
      ]
     },
     "execution_count": 10,
     "metadata": {},
     "output_type": "execute_result"
    }
   ],
   "source": [
    "op = ParticleOperator('a0 a0^ a0 a0^')\n",
    "print(op * x)\n",
    "\n",
    "# aa^aa^\n",
    "# check if the coeff matches our work\n",
    "np.sqrt((n + 1) * (n + 1) * (n + 1) * (n + 1))"
   ]
  },
  {
   "cell_type": "code",
   "execution_count": 11,
   "metadata": {},
   "outputs": [
    {
     "name": "stdout",
     "output_type": "stream",
     "text": [
      "30.0 * |; ; (0, 5)⟩\n"
     ]
    },
    {
     "data": {
      "text/plain": [
       "30.0"
      ]
     },
     "execution_count": 11,
     "metadata": {},
     "output_type": "execute_result"
    }
   ],
   "source": [
    "op = ParticleOperator('a0 a0^ a0^ a0')\n",
    "print(op * x)\n",
    "\n",
    "# aa^a^a\n",
    "# check if the coeff matches our work\n",
    "np.sqrt((n + 1) * (n + 1) * n * n)"
   ]
  },
  {
   "cell_type": "code",
   "execution_count": 12,
   "metadata": {},
   "outputs": [
    {
     "name": "stdout",
     "output_type": "stream",
     "text": [
      "30.0 * |; ; (0, 5)⟩\n"
     ]
    },
    {
     "data": {
      "text/plain": [
       "30.0"
      ]
     },
     "execution_count": 12,
     "metadata": {},
     "output_type": "execute_result"
    }
   ],
   "source": [
    "op = ParticleOperator('a0 a0^ a0^ a0')\n",
    "print(op * x)\n",
    "\n",
    "# aa^a^a\n",
    "# check if the coeff matches our work\n",
    "np.sqrt((n + 1) * (n + 1) * n * n)"
   ]
  },
  {
   "cell_type": "code",
   "execution_count": 13,
   "metadata": {},
   "outputs": [
    {
     "name": "stdout",
     "output_type": "stream",
     "text": [
      "51.84592558726289 * |; ; (0, 7)⟩\n"
     ]
    },
    {
     "data": {
      "text/plain": [
       "51.84592558726288"
      ]
     },
     "execution_count": 13,
     "metadata": {},
     "output_type": "execute_result"
    }
   ],
   "source": [
    "op = ParticleOperator('a0 a0^ a0^ a0^')\n",
    "print(op * x)\n",
    "\n",
    "# aa^a^a^\n",
    "# check if the coeff matches our work\n",
    "np.sqrt((n + 3) * (n + 3) * (n + 1) * (n + 2))"
   ]
  },
  {
   "cell_type": "code",
   "execution_count": 14,
   "metadata": {},
   "outputs": [
    {
     "name": "stdout",
     "output_type": "stream",
     "text": [
      "13.416407864998737 * |; ; (0, 3)⟩\n"
     ]
    },
    {
     "data": {
      "text/plain": [
       "13.416407864998739"
      ]
     },
     "execution_count": 14,
     "metadata": {},
     "output_type": "execute_result"
    }
   ],
   "source": [
    "op = ParticleOperator('a0^ a0 a0 a0')\n",
    "print(op * x)\n",
    "\n",
    "# a^aaa\n",
    "# check if the coeff matches our work\n",
    "np.sqrt((n - 2) * n * (n - 1) * (n - 2))"
   ]
  },
  {
   "cell_type": "code",
   "execution_count": 15,
   "metadata": {},
   "outputs": [
    {
     "name": "stdout",
     "output_type": "stream",
     "text": [
      "30.0 * |; ; (0, 5)⟩\n"
     ]
    },
    {
     "data": {
      "text/plain": [
       "30.0"
      ]
     },
     "execution_count": 15,
     "metadata": {},
     "output_type": "execute_result"
    }
   ],
   "source": [
    "op = ParticleOperator('a0^ a0 a0 a0^')\n",
    "print(op * x)\n",
    "\n",
    "# a^aaa^\n",
    "# check if the coeff matches our work\n",
    "np.sqrt(n * n * (n + 1) * (n + 1))"
   ]
  },
  {
   "cell_type": "code",
   "execution_count": 16,
   "metadata": {},
   "outputs": [
    {
     "name": "stdout",
     "output_type": "stream",
     "text": [
      "25.000000000000007 * |; ; (0, 5)⟩\n"
     ]
    },
    {
     "data": {
      "text/plain": [
       "25.0"
      ]
     },
     "execution_count": 16,
     "metadata": {},
     "output_type": "execute_result"
    }
   ],
   "source": [
    "op = ParticleOperator('a0^ a0 a0^ a0')\n",
    "print(op * x)\n",
    "\n",
    "# a^aa^a\n",
    "# check if the coeff matches our work\n",
    "np.sqrt(n * n * n * n)"
   ]
  },
  {
   "cell_type": "code",
   "execution_count": 17,
   "metadata": {},
   "outputs": [
    {
     "name": "stdout",
     "output_type": "stream",
     "text": [
      "45.365184888855026 * |; ; (0, 7)⟩\n"
     ]
    },
    {
     "data": {
      "text/plain": [
       "45.36518488885502"
      ]
     },
     "execution_count": 17,
     "metadata": {},
     "output_type": "execute_result"
    }
   ],
   "source": [
    "op = ParticleOperator('a0^ a0 a0^ a0^')\n",
    "print(op * x)\n",
    "\n",
    "# a^aa^a^\n",
    "# check if the coeff matches our work\n",
    "np.sqrt((n + 2) * (n + 2) * (n + 2) * (n + 1))"
   ]
  },
  {
   "cell_type": "code",
   "execution_count": 18,
   "metadata": {},
   "outputs": [
    {
     "name": "stdout",
     "output_type": "stream",
     "text": [
      "20.000000000000004 * |; ; (0, 5)⟩\n"
     ]
    },
    {
     "data": {
      "text/plain": [
       "20.0"
      ]
     },
     "execution_count": 18,
     "metadata": {},
     "output_type": "execute_result"
    }
   ],
   "source": [
    "op = ParticleOperator('a0^ a0^ a0 a0')\n",
    "print(op * x)\n",
    "\n",
    "# a^a^aa\n",
    "# check if the coeff matches our work\n",
    "np.sqrt((n - 1) * (n - 1) * n * n)"
   ]
  },
  {
   "cell_type": "code",
   "execution_count": 19,
   "metadata": {},
   "outputs": [
    {
     "name": "stdout",
     "output_type": "stream",
     "text": [
      "38.884444190447155 * |; ; (0, 7)⟩\n"
     ]
    },
    {
     "data": {
      "text/plain": [
       "38.88444419044716"
      ]
     },
     "execution_count": 19,
     "metadata": {},
     "output_type": "execute_result"
    }
   ],
   "source": [
    "op = ParticleOperator('a0^ a0^ a0 a0^')\n",
    "print(op * x)\n",
    "\n",
    "# a^a^aa^\n",
    "# check if the coeff matches our work\n",
    "np.sqrt((n + 1) * (n + 1) * (n + 2) * (n + 1))"
   ]
  },
  {
   "cell_type": "code",
   "execution_count": 20,
   "metadata": {},
   "outputs": [
    {
     "name": "stdout",
     "output_type": "stream",
     "text": [
      "32.403703492039305 * |; ; (0, 7)⟩\n"
     ]
    },
    {
     "data": {
      "text/plain": [
       "32.4037034920393"
      ]
     },
     "execution_count": 20,
     "metadata": {},
     "output_type": "execute_result"
    }
   ],
   "source": [
    "op = ParticleOperator('a0^ a0^ a0^ a0')\n",
    "print(op * x)\n",
    "\n",
    "# a^a^a^a\n",
    "# check if the coeff matches our work\n",
    "np.sqrt((n + 1) * n * (n + 2) * n)"
   ]
  },
  {
   "cell_type": "code",
   "execution_count": 21,
   "metadata": {},
   "outputs": [
    {
     "name": "stdout",
     "output_type": "stream",
     "text": [
      "54.99090833947009 * |; ; (0, 9)⟩\n"
     ]
    },
    {
     "data": {
      "text/plain": [
       "54.99090833947008"
      ]
     },
     "execution_count": 21,
     "metadata": {},
     "output_type": "execute_result"
    }
   ],
   "source": [
    "op = ParticleOperator('a0^ a0^ a0^ a0^')\n",
    "print(op * x)\n",
    "\n",
    "# a^a^a^a^\n",
    "# check if the coeff matches our work\n",
    "np.sqrt((n + 1) * (n + 3) * (n + 2) * (n + 4))"
   ]
  },
  {
   "cell_type": "code",
   "execution_count": 22,
   "metadata": {},
   "outputs": [],
   "source": [
    "# # initialize a 2d matrix/array\n",
    "# rows, cols = (10, 10)\n",
    "# arr = [[0] * cols for _ in range(rows)]\n",
    "# print(np.matrix(arr))\n",
    "\n",
    "# # m is a row matrix and n is a col matrix\n",
    "# m = [1, 2, 3, 4, 5, 6, 7, 8, 9, 10]\n",
    "# n = [1, 2, 3, 4, 5, 6, 7, 8, 9, 10]\n",
    "\n",
    "# def checkDiagonal(m, n, val):\n",
    "#     return m - (n + val) == 0\n",
    "\n",
    "# def calcCoeff(n):\n",
    "#     return np.sqrt((n - 3) * (n - 2) * (n - 1) * n)\n",
    "\n",
    "# # aaaa\n",
    "# val = -4\n",
    "\n",
    "# def displayMatrix(m, n, val):\n",
    "#     for row in m:\n",
    "#         for col in n:\n",
    "#             if checkDiagonal(row, col, val):\n",
    "#                 arr[row - 1][col - 1] = calcCoeff(col)\n",
    "#     return arr\n",
    "\n",
    "# print(np.matrix(displayMatrix(m, n, val)))\n"
   ]
  },
  {
   "cell_type": "code",
   "execution_count": 23,
   "metadata": {},
   "outputs": [],
   "source": [
    "from openparticle import ConjugateFock\n",
    "\n",
    "def updateN(n):\n",
    "    # state N ket\n",
    "    f_occ = [] # no fermion\n",
    "    af_occ = [] # no antifermion\n",
    "\n",
    "    # the second argument in the b_occ tuple is n, and the first argument is the mode which will always be 0\n",
    "    b_occ = [(0, n)] # One boson in mode 0\n",
    "\n",
    "    N = Fock(f_occ = f_occ, af_occ = af_occ, b_occ = b_occ)\n",
    "    # print(N)\n",
    "\n",
    "    return N\n",
    "\n",
    "def updateM_bra(m):\n",
    "    # state M ket\n",
    "    f_occ = [] # no fermion\n",
    "    af_occ = [] # no antifermion\n",
    "\n",
    "    # the second argument in the b_occ tuple is n, and the first argument is the mode which will always be 0\n",
    "    b_occ = [(0, m)] # One boson in mode 0\n",
    "\n",
    "    M = Fock(f_occ = f_occ, af_occ = af_occ, b_occ = b_occ)\n",
    "    M_bra = ConjugateFock.from_state(M)\n",
    "\n",
    "    # print(M_bra)\n",
    "    return M_bra"
   ]
  },
  {
   "cell_type": "code",
   "execution_count": 24,
   "metadata": {},
   "outputs": [],
   "source": [
    "def checkDiagonal(m, n, val):\n",
    "    return m - (n + val) == 0\n",
    "\n",
    "def calcCoeff(n, a, b, c, d):\n",
    "    return np.sqrt((n + a) * (n + b) * (n + c) * (n + d))\n",
    "\n",
    "# H7\n",
    "\n",
    "def displayMatrixOld(arr, val, a, b, c, d):\n",
    "    for m in range(1, 11):\n",
    "        for n in range(1, 11):\n",
    "            if checkDiagonal(m, n, val):\n",
    "                arr[m - 1][n - 1] = calcCoeff(n, a, b, c, d)\n",
    "    return arr"
   ]
  },
  {
   "cell_type": "code",
   "execution_count": 25,
   "metadata": {},
   "outputs": [],
   "source": [
    "# define operator\n",
    "H1 = ParticleOperator('a0 a0 a0 a0')\n"
   ]
  },
  {
   "cell_type": "code",
   "execution_count": 26,
   "metadata": {},
   "outputs": [
    {
     "name": "stdout",
     "output_type": "stream",
     "text": [
      "[[ 0.          0.          0.          0.         10.95445115  0.\n",
      "   0.          0.          0.          0.        ]\n",
      " [ 0.          0.          0.          0.          0.         18.97366596\n",
      "   0.          0.          0.          0.        ]\n",
      " [ 0.          0.          0.          0.          0.          0.\n",
      "  28.98275349  0.          0.          0.        ]\n",
      " [ 0.          0.          0.          0.          0.          0.\n",
      "   0.         40.98780306  0.          0.        ]\n",
      " [ 0.          0.          0.          0.          0.          0.\n",
      "   0.          0.         54.99090834  0.        ]\n",
      " [ 0.          0.          0.          0.          0.          0.\n",
      "   0.          0.          0.         70.9929574 ]\n",
      " [ 0.          0.          0.          0.          0.          0.\n",
      "   0.          0.          0.          0.        ]\n",
      " [ 0.          0.          0.          0.          0.          0.\n",
      "   0.          0.          0.          0.        ]\n",
      " [ 0.          0.          0.          0.          0.          0.\n",
      "   0.          0.          0.          0.        ]\n",
      " [ 0.          0.          0.          0.          0.          0.\n",
      "   0.          0.          0.          0.        ]]\n",
      "[[ 0.          0.          0.          0.         10.95445115  0.\n",
      "   0.          0.          0.          0.        ]\n",
      " [ 0.          0.          0.          0.          0.         18.97366596\n",
      "   0.          0.          0.          0.        ]\n",
      " [ 0.          0.          0.          0.          0.          0.\n",
      "  28.98275349  0.          0.          0.        ]\n",
      " [ 0.          0.          0.          0.          0.          0.\n",
      "   0.         40.98780306  0.          0.        ]\n",
      " [ 0.          0.          0.          0.          0.          0.\n",
      "   0.          0.         54.99090834  0.        ]\n",
      " [ 0.          0.          0.          0.          0.          0.\n",
      "   0.          0.          0.         70.9929574 ]\n",
      " [ 0.          0.          0.          0.          0.          0.\n",
      "   0.          0.          0.          0.        ]\n",
      " [ 0.          0.          0.          0.          0.          0.\n",
      "   0.          0.          0.          0.        ]\n",
      " [ 0.          0.          0.          0.          0.          0.\n",
      "   0.          0.          0.          0.        ]\n",
      " [ 0.          0.          0.          0.          0.          0.\n",
      "   0.          0.          0.          0.        ]]\n"
     ]
    }
   ],
   "source": [
    "def initializeMatrix():\n",
    "    # initialize a 2d matrix/array\n",
    "    rows, cols = (10, 10)\n",
    "    arr = [[0] * cols for _ in range(rows)]\n",
    "    # print(np.matrix(arr))\n",
    "    return arr\n",
    "\n",
    "\n",
    "def displayMatrix(arr, H):\n",
    "    for m in range(1, 11):\n",
    "        for n in range(1, 11):\n",
    "                # print(\"(\", m, \", \", n, \")\")\n",
    "                arr[m - 1][n - 1] = updateM_bra(m) * H * updateN(n)\n",
    "    return arr\n",
    "\n",
    "print(np.matrix(displayMatrix(initializeMatrix(), H1)))\n",
    "print(np.matrix(displayMatrixOld(initializeMatrix(), -4, -3, -2, -1, 0)))"
   ]
  },
  {
   "cell_type": "markdown",
   "metadata": {},
   "source": [
    "NOTE: adding multiple operators is not implemented yet!"
   ]
  },
  {
   "cell_type": "code",
   "execution_count": 27,
   "metadata": {},
   "outputs": [
    {
     "name": "stdout",
     "output_type": "stream",
     "text": [
      "[[  0.           0.           9.79795897   0.           0.\n",
      "    0.           0.           0.           0.           0.        ]\n",
      " [  0.           0.           0.          17.32050808   0.\n",
      "    0.           0.           0.           0.           0.        ]\n",
      " [  0.           0.           0.           0.          26.83281573\n",
      "    0.           0.           0.           0.           0.        ]\n",
      " [  0.           0.           0.           0.           0.\n",
      "   38.34057903   0.           0.           0.           0.        ]\n",
      " [  0.           0.           0.           0.           0.\n",
      "    0.          51.84592559   0.           0.           0.        ]\n",
      " [  0.           0.           0.           0.           0.\n",
      "    0.           0.          67.34983296   0.           0.        ]\n",
      " [  0.           0.           0.           0.           0.\n",
      "    0.           0.           0.          84.85281374   0.        ]\n",
      " [  0.           0.           0.           0.           0.\n",
      "    0.           0.           0.           0.         104.35516279]\n",
      " [  0.           0.           0.           0.           0.\n",
      "    0.           0.           0.           0.           0.        ]\n",
      " [  0.           0.           0.           0.           0.\n",
      "    0.           0.           0.           0.           0.        ]]\n",
      "[[  0.           0.           9.79795897   0.           0.\n",
      "    0.           0.           0.           0.           0.        ]\n",
      " [  0.           0.           0.          17.32050808   0.\n",
      "    0.           0.           0.           0.           0.        ]\n",
      " [  0.           0.           0.           0.          26.83281573\n",
      "    0.           0.           0.           0.           0.        ]\n",
      " [  0.           0.           0.           0.           0.\n",
      "   38.34057903   0.           0.           0.           0.        ]\n",
      " [  0.           0.           0.           0.           0.\n",
      "    0.          51.84592559   0.           0.           0.        ]\n",
      " [  0.           0.           0.           0.           0.\n",
      "    0.           0.          67.34983296   0.           0.        ]\n",
      " [  0.           0.           0.           0.           0.\n",
      "    0.           0.           0.          84.85281374   0.        ]\n",
      " [  0.           0.           0.           0.           0.\n",
      "    0.           0.           0.           0.         104.35516279]\n",
      " [  0.           0.           0.           0.           0.\n",
      "    0.           0.           0.           0.           0.        ]\n",
      " [  0.           0.           0.           0.           0.\n",
      "    0.           0.           0.           0.           0.        ]]\n"
     ]
    }
   ],
   "source": [
    "H2 = ParticleOperator('a0 a0 a0 a0^')\n",
    "print(np.matrix(displayMatrix(initializeMatrix(), H2)))\n",
    "print(np.matrix(displayMatrixOld(initializeMatrix(), -2, -1, 0, 1, 1)))"
   ]
  },
  {
   "cell_type": "code",
   "execution_count": 28,
   "metadata": {},
   "outputs": [
    {
     "name": "stdout",
     "output_type": "stream",
     "text": [
      "[[ 0.          0.          7.34846923  0.          0.          0.\n",
      "   0.          0.          0.          0.        ]\n",
      " [ 0.          0.          0.         13.85640646  0.          0.\n",
      "   0.          0.          0.          0.        ]\n",
      " [ 0.          0.          0.          0.         22.36067977  0.\n",
      "   0.          0.          0.          0.        ]\n",
      " [ 0.          0.          0.          0.          0.         32.86335345\n",
      "   0.          0.          0.          0.        ]\n",
      " [ 0.          0.          0.          0.          0.          0.\n",
      "  45.36518489  0.          0.          0.        ]\n",
      " [ 0.          0.          0.          0.          0.          0.\n",
      "   0.         59.86651819  0.          0.        ]\n",
      " [ 0.          0.          0.          0.          0.          0.\n",
      "   0.          0.         76.36753237  0.        ]\n",
      " [ 0.          0.          0.          0.          0.          0.\n",
      "   0.          0.          0.         94.86832981]\n",
      " [ 0.          0.          0.          0.          0.          0.\n",
      "   0.          0.          0.          0.        ]\n",
      " [ 0.          0.          0.          0.          0.          0.\n",
      "   0.          0.          0.          0.        ]]\n",
      "[[ 0.          0.          7.34846923  0.          0.          0.\n",
      "   0.          0.          0.          0.        ]\n",
      " [ 0.          0.          0.         13.85640646  0.          0.\n",
      "   0.          0.          0.          0.        ]\n",
      " [ 0.          0.          0.          0.         22.36067977  0.\n",
      "   0.          0.          0.          0.        ]\n",
      " [ 0.          0.          0.          0.          0.         32.86335345\n",
      "   0.          0.          0.          0.        ]\n",
      " [ 0.          0.          0.          0.          0.          0.\n",
      "  45.36518489  0.          0.          0.        ]\n",
      " [ 0.          0.          0.          0.          0.          0.\n",
      "   0.         59.86651819  0.          0.        ]\n",
      " [ 0.          0.          0.          0.          0.          0.\n",
      "   0.          0.         76.36753237  0.        ]\n",
      " [ 0.          0.          0.          0.          0.          0.\n",
      "   0.          0.          0.         94.86832981]\n",
      " [ 0.          0.          0.          0.          0.          0.\n",
      "   0.          0.          0.          0.        ]\n",
      " [ 0.          0.          0.          0.          0.          0.\n",
      "   0.          0.          0.          0.        ]]\n"
     ]
    }
   ],
   "source": [
    "H3 = ParticleOperator('a0 a0 a0^ a0')\n",
    "print(np.matrix(displayMatrix(initializeMatrix(), H3)))\n",
    "print(np.matrix(displayMatrixOld(initializeMatrix(), -2, -1, 0, 0, 0)))"
   ]
  },
  {
   "cell_type": "code",
   "execution_count": 29,
   "metadata": {},
   "outputs": [
    {
     "name": "stdout",
     "output_type": "stream",
     "text": [
      "[[  6.   0.   0.   0.   0.   0.   0.   0.   0.   0.]\n",
      " [  0.  12.   0.   0.   0.   0.   0.   0.   0.   0.]\n",
      " [  0.   0.  20.   0.   0.   0.   0.   0.   0.   0.]\n",
      " [  0.   0.   0.  30.   0.   0.   0.   0.   0.   0.]\n",
      " [  0.   0.   0.   0.  42.   0.   0.   0.   0.   0.]\n",
      " [  0.   0.   0.   0.   0.  56.   0.   0.   0.   0.]\n",
      " [  0.   0.   0.   0.   0.   0.  72.   0.   0.   0.]\n",
      " [  0.   0.   0.   0.   0.   0.   0.  90.   0.   0.]\n",
      " [  0.   0.   0.   0.   0.   0.   0.   0. 110.   0.]\n",
      " [  0.   0.   0.   0.   0.   0.   0.   0.   0. 132.]]\n",
      "[[  6.   0.   0.   0.   0.   0.   0.   0.   0.   0.]\n",
      " [  0.  12.   0.   0.   0.   0.   0.   0.   0.   0.]\n",
      " [  0.   0.  20.   0.   0.   0.   0.   0.   0.   0.]\n",
      " [  0.   0.   0.  30.   0.   0.   0.   0.   0.   0.]\n",
      " [  0.   0.   0.   0.  42.   0.   0.   0.   0.   0.]\n",
      " [  0.   0.   0.   0.   0.  56.   0.   0.   0.   0.]\n",
      " [  0.   0.   0.   0.   0.   0.  72.   0.   0.   0.]\n",
      " [  0.   0.   0.   0.   0.   0.   0.  90.   0.   0.]\n",
      " [  0.   0.   0.   0.   0.   0.   0.   0. 110.   0.]\n",
      " [  0.   0.   0.   0.   0.   0.   0.   0.   0. 132.]]\n"
     ]
    },
    {
     "data": {
      "text/plain": [
       "True"
      ]
     },
     "execution_count": 29,
     "metadata": {},
     "output_type": "execute_result"
    }
   ],
   "source": [
    "H4 = ParticleOperator('a0 a0 a0^ a0^')\n",
    "print(np.matrix(displayMatrix(initializeMatrix(), H4)))\n",
    "print(np.matrix(displayMatrixOld(initializeMatrix(), 0, 1, 1, 2, 2)))\n",
    "np.allclose(np.matrix(displayMatrix(initializeMatrix(), H4)), np.matrix(displayMatrixOld(initializeMatrix(), 0, 1, 1, 2, 2)))"
   ]
  },
  {
   "cell_type": "code",
   "execution_count": 30,
   "metadata": {},
   "outputs": [
    {
     "name": "stdout",
     "output_type": "stream",
     "text": [
      "[[ 0.          0.          4.89897949  0.          0.          0.\n",
      "   0.          0.          0.          0.        ]\n",
      " [ 0.          0.          0.         10.39230485  0.          0.\n",
      "   0.          0.          0.          0.        ]\n",
      " [ 0.          0.          0.          0.         17.88854382  0.\n",
      "   0.          0.          0.          0.        ]\n",
      " [ 0.          0.          0.          0.          0.         27.38612788\n",
      "   0.          0.          0.          0.        ]\n",
      " [ 0.          0.          0.          0.          0.          0.\n",
      "  38.88444419  0.          0.          0.        ]\n",
      " [ 0.          0.          0.          0.          0.          0.\n",
      "   0.         52.38320341  0.          0.        ]\n",
      " [ 0.          0.          0.          0.          0.          0.\n",
      "   0.          0.         67.88225099  0.        ]\n",
      " [ 0.          0.          0.          0.          0.          0.\n",
      "   0.          0.          0.         85.38149682]\n",
      " [ 0.          0.          0.          0.          0.          0.\n",
      "   0.          0.          0.          0.        ]\n",
      " [ 0.          0.          0.          0.          0.          0.\n",
      "   0.          0.          0.          0.        ]]\n",
      "[[ 0.          0.          4.89897949  0.          0.          0.\n",
      "   0.          0.          0.          0.        ]\n",
      " [ 0.          0.          0.         10.39230485  0.          0.\n",
      "   0.          0.          0.          0.        ]\n",
      " [ 0.          0.          0.          0.         17.88854382  0.\n",
      "   0.          0.          0.          0.        ]\n",
      " [ 0.          0.          0.          0.          0.         27.38612788\n",
      "   0.          0.          0.          0.        ]\n",
      " [ 0.          0.          0.          0.          0.          0.\n",
      "  38.88444419  0.          0.          0.        ]\n",
      " [ 0.          0.          0.          0.          0.          0.\n",
      "   0.         52.38320341  0.          0.        ]\n",
      " [ 0.          0.          0.          0.          0.          0.\n",
      "   0.          0.         67.88225099  0.        ]\n",
      " [ 0.          0.          0.          0.          0.          0.\n",
      "   0.          0.          0.         85.38149682]\n",
      " [ 0.          0.          0.          0.          0.          0.\n",
      "   0.          0.          0.          0.        ]\n",
      " [ 0.          0.          0.          0.          0.          0.\n",
      "   0.          0.          0.          0.        ]]\n"
     ]
    }
   ],
   "source": [
    "H5 = ParticleOperator('a0 a0^ a0 a0')\n",
    "print(np.matrix(displayMatrix(initializeMatrix(), H5)))\n",
    "print(np.matrix(displayMatrixOld(initializeMatrix(), -2, -1, -1, -1, 0)))"
   ]
  },
  {
   "cell_type": "code",
   "execution_count": 31,
   "metadata": {},
   "outputs": [
    {
     "name": "stdout",
     "output_type": "stream",
     "text": [
      "[[  4.   0.   0.   0.   0.   0.   0.   0.   0.   0.]\n",
      " [  0.   9.   0.   0.   0.   0.   0.   0.   0.   0.]\n",
      " [  0.   0.  16.   0.   0.   0.   0.   0.   0.   0.]\n",
      " [  0.   0.   0.  25.   0.   0.   0.   0.   0.   0.]\n",
      " [  0.   0.   0.   0.  36.   0.   0.   0.   0.   0.]\n",
      " [  0.   0.   0.   0.   0.  49.   0.   0.   0.   0.]\n",
      " [  0.   0.   0.   0.   0.   0.  64.   0.   0.   0.]\n",
      " [  0.   0.   0.   0.   0.   0.   0.  81.   0.   0.]\n",
      " [  0.   0.   0.   0.   0.   0.   0.   0. 100.   0.]\n",
      " [  0.   0.   0.   0.   0.   0.   0.   0.   0. 121.]]\n",
      "[[  4.   0.   0.   0.   0.   0.   0.   0.   0.   0.]\n",
      " [  0.   9.   0.   0.   0.   0.   0.   0.   0.   0.]\n",
      " [  0.   0.  16.   0.   0.   0.   0.   0.   0.   0.]\n",
      " [  0.   0.   0.  25.   0.   0.   0.   0.   0.   0.]\n",
      " [  0.   0.   0.   0.  36.   0.   0.   0.   0.   0.]\n",
      " [  0.   0.   0.   0.   0.  49.   0.   0.   0.   0.]\n",
      " [  0.   0.   0.   0.   0.   0.  64.   0.   0.   0.]\n",
      " [  0.   0.   0.   0.   0.   0.   0.  81.   0.   0.]\n",
      " [  0.   0.   0.   0.   0.   0.   0.   0. 100.   0.]\n",
      " [  0.   0.   0.   0.   0.   0.   0.   0.   0. 121.]]\n"
     ]
    }
   ],
   "source": [
    "H6 = ParticleOperator('a0 a0^ a0 a0^')\n",
    "print(np.matrix(displayMatrix(initializeMatrix(), H6)))\n",
    "print(np.matrix(displayMatrixOld(initializeMatrix(), 0, 1, 1, 1, 1)))"
   ]
  },
  {
   "cell_type": "code",
   "execution_count": 32,
   "metadata": {},
   "outputs": [
    {
     "name": "stdout",
     "output_type": "stream",
     "text": [
      "1.0*a_0a^†_0a^†_0a_0\n",
      "1.0 * ⟨; ; (0, 1)|\n",
      "[[  2.   0.   0.   0.   0.   0.   0.   0.   0.   0.]\n",
      " [  0.   6.   0.   0.   0.   0.   0.   0.   0.   0.]\n",
      " [  0.   0.  12.   0.   0.   0.   0.   0.   0.   0.]\n",
      " [  0.   0.   0.  20.   0.   0.   0.   0.   0.   0.]\n",
      " [  0.   0.   0.   0.  30.   0.   0.   0.   0.   0.]\n",
      " [  0.   0.   0.   0.   0.  42.   0.   0.   0.   0.]\n",
      " [  0.   0.   0.   0.   0.   0.  56.   0.   0.   0.]\n",
      " [  0.   0.   0.   0.   0.   0.   0.  72.   0.   0.]\n",
      " [  0.   0.   0.   0.   0.   0.   0.   0.  90.   0.]\n",
      " [  0.   0.   0.   0.   0.   0.   0.   0.   0. 110.]]\n"
     ]
    }
   ],
   "source": [
    "H7 = ParticleOperator('a0 a0^ a0^ a0')\n",
    "print(H7)\n",
    "Bra1 = Fock([], [], [(0, 1)]).dagger()\n",
    "print(Bra1)\n",
    "Ket1 = Fock([], [], [(0, 1)])\n",
    "# print(Bra1 * H7 * Ket1)\n",
    "print(np.matrix(displayMatrix(initializeMatrix(), H7)))"
   ]
  },
  {
   "cell_type": "code",
   "execution_count": 33,
   "metadata": {},
   "outputs": [
    {
     "name": "stdout",
     "output_type": "stream",
     "text": [
      "[[  2.   0.   0.   0.   0.   0.   0.   0.   0.   0.]\n",
      " [  0.   6.   0.   0.   0.   0.   0.   0.   0.   0.]\n",
      " [  0.   0.  12.   0.   0.   0.   0.   0.   0.   0.]\n",
      " [  0.   0.   0.  20.   0.   0.   0.   0.   0.   0.]\n",
      " [  0.   0.   0.   0.  30.   0.   0.   0.   0.   0.]\n",
      " [  0.   0.   0.   0.   0.  42.   0.   0.   0.   0.]\n",
      " [  0.   0.   0.   0.   0.   0.  56.   0.   0.   0.]\n",
      " [  0.   0.   0.   0.   0.   0.   0.  72.   0.   0.]\n",
      " [  0.   0.   0.   0.   0.   0.   0.   0.  90.   0.]\n",
      " [  0.   0.   0.   0.   0.   0.   0.   0.   0. 110.]]\n"
     ]
    }
   ],
   "source": [
    "# H7\n",
    "\n",
    "print(np.matrix(displayMatrixOld(initializeMatrix(), 0, 0, 0, 1, 1)))"
   ]
  },
  {
   "cell_type": "code",
   "execution_count": 34,
   "metadata": {},
   "outputs": [
    {
     "name": "stdout",
     "output_type": "stream",
     "text": [
      "[[  0.           0.           0.           0.           0.\n",
      "    0.           0.           0.           0.           0.        ]\n",
      " [  0.           0.           0.           0.           0.\n",
      "    0.           0.           0.           0.           0.        ]\n",
      " [  9.79795897   0.           0.           0.           0.\n",
      "    0.           0.           0.           0.           0.        ]\n",
      " [  0.          17.32050808   0.           0.           0.\n",
      "    0.           0.           0.           0.           0.        ]\n",
      " [  0.           0.          26.83281573   0.           0.\n",
      "    0.           0.           0.           0.           0.        ]\n",
      " [  0.           0.           0.          38.34057903   0.\n",
      "    0.           0.           0.           0.           0.        ]\n",
      " [  0.           0.           0.           0.          51.84592559\n",
      "    0.           0.           0.           0.           0.        ]\n",
      " [  0.           0.           0.           0.           0.\n",
      "   67.34983296   0.           0.           0.           0.        ]\n",
      " [  0.           0.           0.           0.           0.\n",
      "    0.          84.85281374   0.           0.           0.        ]\n",
      " [  0.           0.           0.           0.           0.\n",
      "    0.           0.         104.35516279   0.           0.        ]]\n",
      "[[  0.           0.           0.           0.           0.\n",
      "    0.           0.           0.           0.           0.        ]\n",
      " [  0.           0.           0.           0.           0.\n",
      "    0.           0.           0.           0.           0.        ]\n",
      " [  9.79795897   0.           0.           0.           0.\n",
      "    0.           0.           0.           0.           0.        ]\n",
      " [  0.          17.32050808   0.           0.           0.\n",
      "    0.           0.           0.           0.           0.        ]\n",
      " [  0.           0.          26.83281573   0.           0.\n",
      "    0.           0.           0.           0.           0.        ]\n",
      " [  0.           0.           0.          38.34057903   0.\n",
      "    0.           0.           0.           0.           0.        ]\n",
      " [  0.           0.           0.           0.          51.84592559\n",
      "    0.           0.           0.           0.           0.        ]\n",
      " [  0.           0.           0.           0.           0.\n",
      "   67.34983296   0.           0.           0.           0.        ]\n",
      " [  0.           0.           0.           0.           0.\n",
      "    0.          84.85281374   0.           0.           0.        ]\n",
      " [  0.           0.           0.           0.           0.\n",
      "    0.           0.         104.35516279   0.           0.        ]]\n"
     ]
    }
   ],
   "source": [
    "H8 = ParticleOperator('a0 a0^ a0^ a0^')\n",
    "print(np.matrix(displayMatrix(initializeMatrix(), H8)))\n",
    "\n",
    "print(np.matrix(displayMatrixOld(initializeMatrix(), 2, 3, 3, 1, 2)))"
   ]
  },
  {
   "cell_type": "code",
   "execution_count": 35,
   "metadata": {},
   "outputs": [
    {
     "name": "stdout",
     "output_type": "stream",
     "text": [
      "[[ 0.          0.          2.44948974  0.          0.          0.\n",
      "   0.          0.          0.          0.        ]\n",
      " [ 0.          0.          0.          6.92820323  0.          0.\n",
      "   0.          0.          0.          0.        ]\n",
      " [ 0.          0.          0.          0.         13.41640786  0.\n",
      "   0.          0.          0.          0.        ]\n",
      " [ 0.          0.          0.          0.          0.         21.9089023\n",
      "   0.          0.          0.          0.        ]\n",
      " [ 0.          0.          0.          0.          0.          0.\n",
      "  32.40370349  0.          0.          0.        ]\n",
      " [ 0.          0.          0.          0.          0.          0.\n",
      "   0.         44.89988864  0.          0.        ]\n",
      " [ 0.          0.          0.          0.          0.          0.\n",
      "   0.          0.         59.39696962  0.        ]\n",
      " [ 0.          0.          0.          0.          0.          0.\n",
      "   0.          0.          0.         75.89466384]\n",
      " [ 0.          0.          0.          0.          0.          0.\n",
      "   0.          0.          0.          0.        ]\n",
      " [ 0.          0.          0.          0.          0.          0.\n",
      "   0.          0.          0.          0.        ]]\n",
      "[[ 0.          0.          2.44948974  0.          0.          0.\n",
      "   0.          0.          0.          0.        ]\n",
      " [ 0.          0.          0.          6.92820323  0.          0.\n",
      "   0.          0.          0.          0.        ]\n",
      " [ 0.          0.          0.          0.         13.41640786  0.\n",
      "   0.          0.          0.          0.        ]\n",
      " [ 0.          0.          0.          0.          0.         21.9089023\n",
      "   0.          0.          0.          0.        ]\n",
      " [ 0.          0.          0.          0.          0.          0.\n",
      "  32.40370349  0.          0.          0.        ]\n",
      " [ 0.          0.          0.          0.          0.          0.\n",
      "   0.         44.89988864  0.          0.        ]\n",
      " [ 0.          0.          0.          0.          0.          0.\n",
      "   0.          0.         59.39696962  0.        ]\n",
      " [ 0.          0.          0.          0.          0.          0.\n",
      "   0.          0.          0.         75.89466384]\n",
      " [ 0.          0.          0.          0.          0.          0.\n",
      "   0.          0.          0.          0.        ]\n",
      " [ 0.          0.          0.          0.          0.          0.\n",
      "   0.          0.          0.          0.        ]]\n"
     ]
    }
   ],
   "source": [
    "H9 = ParticleOperator('a0^ a0 a0 a0')\n",
    "print(np.matrix(displayMatrix(initializeMatrix(), H9)))\n",
    "\n",
    "print(np.matrix(displayMatrixOld(initializeMatrix(), -2, -2, -2, 0, -1)))"
   ]
  },
  {
   "cell_type": "code",
   "execution_count": 36,
   "metadata": {},
   "outputs": [
    {
     "name": "stdout",
     "output_type": "stream",
     "text": [
      "[[  2.   0.   0.   0.   0.   0.   0.   0.   0.   0.]\n",
      " [  0.   6.   0.   0.   0.   0.   0.   0.   0.   0.]\n",
      " [  0.   0.  12.   0.   0.   0.   0.   0.   0.   0.]\n",
      " [  0.   0.   0.  20.   0.   0.   0.   0.   0.   0.]\n",
      " [  0.   0.   0.   0.  30.   0.   0.   0.   0.   0.]\n",
      " [  0.   0.   0.   0.   0.  42.   0.   0.   0.   0.]\n",
      " [  0.   0.   0.   0.   0.   0.  56.   0.   0.   0.]\n",
      " [  0.   0.   0.   0.   0.   0.   0.  72.   0.   0.]\n",
      " [  0.   0.   0.   0.   0.   0.   0.   0.  90.   0.]\n",
      " [  0.   0.   0.   0.   0.   0.   0.   0.   0. 110.]]\n",
      "[[  2.   0.   0.   0.   0.   0.   0.   0.   0.   0.]\n",
      " [  0.   6.   0.   0.   0.   0.   0.   0.   0.   0.]\n",
      " [  0.   0.  12.   0.   0.   0.   0.   0.   0.   0.]\n",
      " [  0.   0.   0.  20.   0.   0.   0.   0.   0.   0.]\n",
      " [  0.   0.   0.   0.  30.   0.   0.   0.   0.   0.]\n",
      " [  0.   0.   0.   0.   0.  42.   0.   0.   0.   0.]\n",
      " [  0.   0.   0.   0.   0.   0.  56.   0.   0.   0.]\n",
      " [  0.   0.   0.   0.   0.   0.   0.  72.   0.   0.]\n",
      " [  0.   0.   0.   0.   0.   0.   0.   0.  90.   0.]\n",
      " [  0.   0.   0.   0.   0.   0.   0.   0.   0. 110.]]\n"
     ]
    }
   ],
   "source": [
    "H10 = ParticleOperator('a0^ a0 a0 a0^')\n",
    "print(np.matrix(displayMatrix(initializeMatrix(), H10)))\n",
    "\n",
    "print(np.matrix(displayMatrixOld(initializeMatrix(), 0, 0, 0, 1, 1)))"
   ]
  },
  {
   "cell_type": "code",
   "execution_count": 37,
   "metadata": {},
   "outputs": [
    {
     "name": "stdout",
     "output_type": "stream",
     "text": [
      "[[  1.   0.   0.   0.   0.   0.   0.   0.   0.   0.]\n",
      " [  0.   4.   0.   0.   0.   0.   0.   0.   0.   0.]\n",
      " [  0.   0.   9.   0.   0.   0.   0.   0.   0.   0.]\n",
      " [  0.   0.   0.  16.   0.   0.   0.   0.   0.   0.]\n",
      " [  0.   0.   0.   0.  25.   0.   0.   0.   0.   0.]\n",
      " [  0.   0.   0.   0.   0.  36.   0.   0.   0.   0.]\n",
      " [  0.   0.   0.   0.   0.   0.  49.   0.   0.   0.]\n",
      " [  0.   0.   0.   0.   0.   0.   0.  64.   0.   0.]\n",
      " [  0.   0.   0.   0.   0.   0.   0.   0.  81.   0.]\n",
      " [  0.   0.   0.   0.   0.   0.   0.   0.   0. 100.]]\n",
      "[[  1.   0.   0.   0.   0.   0.   0.   0.   0.   0.]\n",
      " [  0.   4.   0.   0.   0.   0.   0.   0.   0.   0.]\n",
      " [  0.   0.   9.   0.   0.   0.   0.   0.   0.   0.]\n",
      " [  0.   0.   0.  16.   0.   0.   0.   0.   0.   0.]\n",
      " [  0.   0.   0.   0.  25.   0.   0.   0.   0.   0.]\n",
      " [  0.   0.   0.   0.   0.  36.   0.   0.   0.   0.]\n",
      " [  0.   0.   0.   0.   0.   0.  49.   0.   0.   0.]\n",
      " [  0.   0.   0.   0.   0.   0.   0.  64.   0.   0.]\n",
      " [  0.   0.   0.   0.   0.   0.   0.   0.  81.   0.]\n",
      " [  0.   0.   0.   0.   0.   0.   0.   0.   0. 100.]]\n"
     ]
    }
   ],
   "source": [
    "H11 = ParticleOperator('a0^ a0 a0^ a0')\n",
    "print(np.matrix(displayMatrix(initializeMatrix(), H11)))\n",
    "\n",
    "print(np.matrix(displayMatrixOld(initializeMatrix(), 0, 0, 0, 0, 0)))"
   ]
  },
  {
   "cell_type": "code",
   "execution_count": 38,
   "metadata": {},
   "outputs": [
    {
     "name": "stdout",
     "output_type": "stream",
     "text": [
      "[[ 0.          0.          0.          0.          0.          0.\n",
      "   0.          0.          0.          0.        ]\n",
      " [ 0.          0.          0.          0.          0.          0.\n",
      "   0.          0.          0.          0.        ]\n",
      " [ 7.34846923  0.          0.          0.          0.          0.\n",
      "   0.          0.          0.          0.        ]\n",
      " [ 0.         13.85640646  0.          0.          0.          0.\n",
      "   0.          0.          0.          0.        ]\n",
      " [ 0.          0.         22.36067977  0.          0.          0.\n",
      "   0.          0.          0.          0.        ]\n",
      " [ 0.          0.          0.         32.86335345  0.          0.\n",
      "   0.          0.          0.          0.        ]\n",
      " [ 0.          0.          0.          0.         45.36518489  0.\n",
      "   0.          0.          0.          0.        ]\n",
      " [ 0.          0.          0.          0.          0.         59.86651819\n",
      "   0.          0.          0.          0.        ]\n",
      " [ 0.          0.          0.          0.          0.          0.\n",
      "  76.36753237  0.          0.          0.        ]\n",
      " [ 0.          0.          0.          0.          0.          0.\n",
      "   0.         94.86832981  0.          0.        ]]\n",
      "[[ 0.          0.          0.          0.          0.          0.\n",
      "   0.          0.          0.          0.        ]\n",
      " [ 0.          0.          0.          0.          0.          0.\n",
      "   0.          0.          0.          0.        ]\n",
      " [ 7.34846923  0.          0.          0.          0.          0.\n",
      "   0.          0.          0.          0.        ]\n",
      " [ 0.         13.85640646  0.          0.          0.          0.\n",
      "   0.          0.          0.          0.        ]\n",
      " [ 0.          0.         22.36067977  0.          0.          0.\n",
      "   0.          0.          0.          0.        ]\n",
      " [ 0.          0.          0.         32.86335345  0.          0.\n",
      "   0.          0.          0.          0.        ]\n",
      " [ 0.          0.          0.          0.         45.36518489  0.\n",
      "   0.          0.          0.          0.        ]\n",
      " [ 0.          0.          0.          0.          0.         59.86651819\n",
      "   0.          0.          0.          0.        ]\n",
      " [ 0.          0.          0.          0.          0.          0.\n",
      "  76.36753237  0.          0.          0.        ]\n",
      " [ 0.          0.          0.          0.          0.          0.\n",
      "   0.         94.86832981  0.          0.        ]]\n"
     ]
    }
   ],
   "source": [
    "H12 = ParticleOperator('a0^ a0 a0^ a0^')\n",
    "print(np.matrix(displayMatrix(initializeMatrix(), H12)))\n",
    "\n",
    "print(np.matrix(displayMatrixOld(initializeMatrix(), 2, 2, 2, 2, 1)))"
   ]
  },
  {
   "cell_type": "code",
   "execution_count": 39,
   "metadata": {},
   "outputs": [
    {
     "name": "stdout",
     "output_type": "stream",
     "text": [
      "0\n",
      "[[ 0.  0.  0.  0.  0.  0.  0.  0.  0.  0.]\n",
      " [ 0.  2.  0.  0.  0.  0.  0.  0.  0.  0.]\n",
      " [ 0.  0.  6.  0.  0.  0.  0.  0.  0.  0.]\n",
      " [ 0.  0.  0. 12.  0.  0.  0.  0.  0.  0.]\n",
      " [ 0.  0.  0.  0. 20.  0.  0.  0.  0.  0.]\n",
      " [ 0.  0.  0.  0.  0. 30.  0.  0.  0.  0.]\n",
      " [ 0.  0.  0.  0.  0.  0. 42.  0.  0.  0.]\n",
      " [ 0.  0.  0.  0.  0.  0.  0. 56.  0.  0.]\n",
      " [ 0.  0.  0.  0.  0.  0.  0.  0. 72.  0.]\n",
      " [ 0.  0.  0.  0.  0.  0.  0.  0.  0. 90.]]\n",
      "[[ 0.  0.  0.  0.  0.  0.  0.  0.  0.  0.]\n",
      " [ 0.  2.  0.  0.  0.  0.  0.  0.  0.  0.]\n",
      " [ 0.  0.  6.  0.  0.  0.  0.  0.  0.  0.]\n",
      " [ 0.  0.  0. 12.  0.  0.  0.  0.  0.  0.]\n",
      " [ 0.  0.  0.  0. 20.  0.  0.  0.  0.  0.]\n",
      " [ 0.  0.  0.  0.  0. 30.  0.  0.  0.  0.]\n",
      " [ 0.  0.  0.  0.  0.  0. 42.  0.  0.  0.]\n",
      " [ 0.  0.  0.  0.  0.  0.  0. 56.  0.  0.]\n",
      " [ 0.  0.  0.  0.  0.  0.  0.  0. 72.  0.]\n",
      " [ 0.  0.  0.  0.  0.  0.  0.  0.  0. 90.]]\n"
     ]
    }
   ],
   "source": [
    "H13 = ParticleOperator('a0^ a0^ a0 a0')\n",
    "print(Fock([], [], [(0, 1)]).dagger() * H13)\n",
    "print(np.matrix(displayMatrix(initializeMatrix(), H13)))\n",
    "\n",
    "print(np.matrix(displayMatrixOld(initializeMatrix(), 0, 0, 0, -1, -1)))"
   ]
  },
  {
   "cell_type": "code",
   "execution_count": 40,
   "metadata": {},
   "outputs": [
    {
     "name": "stdout",
     "output_type": "stream",
     "text": [
      "[[ 0.          0.          0.          0.          0.          0.\n",
      "   0.          0.          0.          0.        ]\n",
      " [ 0.          0.          0.          0.          0.          0.\n",
      "   0.          0.          0.          0.        ]\n",
      " [ 4.89897949  0.          0.          0.          0.          0.\n",
      "   0.          0.          0.          0.        ]\n",
      " [ 0.         10.39230485  0.          0.          0.          0.\n",
      "   0.          0.          0.          0.        ]\n",
      " [ 0.          0.         17.88854382  0.          0.          0.\n",
      "   0.          0.          0.          0.        ]\n",
      " [ 0.          0.          0.         27.38612788  0.          0.\n",
      "   0.          0.          0.          0.        ]\n",
      " [ 0.          0.          0.          0.         38.88444419  0.\n",
      "   0.          0.          0.          0.        ]\n",
      " [ 0.          0.          0.          0.          0.         52.38320341\n",
      "   0.          0.          0.          0.        ]\n",
      " [ 0.          0.          0.          0.          0.          0.\n",
      "  67.88225099  0.          0.          0.        ]\n",
      " [ 0.          0.          0.          0.          0.          0.\n",
      "   0.         85.38149682  0.          0.        ]]\n",
      "[[ 0.          0.          0.          0.          0.          0.\n",
      "   0.          0.          0.          0.        ]\n",
      " [ 0.          0.          0.          0.          0.          0.\n",
      "   0.          0.          0.          0.        ]\n",
      " [ 4.89897949  0.          0.          0.          0.          0.\n",
      "   0.          0.          0.          0.        ]\n",
      " [ 0.         10.39230485  0.          0.          0.          0.\n",
      "   0.          0.          0.          0.        ]\n",
      " [ 0.          0.         17.88854382  0.          0.          0.\n",
      "   0.          0.          0.          0.        ]\n",
      " [ 0.          0.          0.         27.38612788  0.          0.\n",
      "   0.          0.          0.          0.        ]\n",
      " [ 0.          0.          0.          0.         38.88444419  0.\n",
      "   0.          0.          0.          0.        ]\n",
      " [ 0.          0.          0.          0.          0.         52.38320341\n",
      "   0.          0.          0.          0.        ]\n",
      " [ 0.          0.          0.          0.          0.          0.\n",
      "  67.88225099  0.          0.          0.        ]\n",
      " [ 0.          0.          0.          0.          0.          0.\n",
      "   0.         85.38149682  0.          0.        ]]\n"
     ]
    }
   ],
   "source": [
    "H14 = ParticleOperator('a0^ a0^ a0 a0^')\n",
    "print(np.matrix(displayMatrix(initializeMatrix(), H14)))\n",
    "\n",
    "print(np.matrix(displayMatrixOld(initializeMatrix(), 2, 1, 1, 1, 2)))"
   ]
  },
  {
   "cell_type": "code",
   "execution_count": 41,
   "metadata": {},
   "outputs": [
    {
     "name": "stdout",
     "output_type": "stream",
     "text": [
      "[[ 0.          0.          0.          0.          0.          0.\n",
      "   0.          0.          0.          0.        ]\n",
      " [ 0.          0.          0.          0.          0.          0.\n",
      "   0.          0.          0.          0.        ]\n",
      " [ 2.44948974  0.          0.          0.          0.          0.\n",
      "   0.          0.          0.          0.        ]\n",
      " [ 0.          6.92820323  0.          0.          0.          0.\n",
      "   0.          0.          0.          0.        ]\n",
      " [ 0.          0.         13.41640786  0.          0.          0.\n",
      "   0.          0.          0.          0.        ]\n",
      " [ 0.          0.          0.         21.9089023   0.          0.\n",
      "   0.          0.          0.          0.        ]\n",
      " [ 0.          0.          0.          0.         32.40370349  0.\n",
      "   0.          0.          0.          0.        ]\n",
      " [ 0.          0.          0.          0.          0.         44.89988864\n",
      "   0.          0.          0.          0.        ]\n",
      " [ 0.          0.          0.          0.          0.          0.\n",
      "  59.39696962  0.          0.          0.        ]\n",
      " [ 0.          0.          0.          0.          0.          0.\n",
      "   0.         75.89466384  0.          0.        ]]\n",
      "[[ 0.          0.          0.          0.          0.          0.\n",
      "   0.          0.          0.          0.        ]\n",
      " [ 0.          0.          0.          0.          0.          0.\n",
      "   0.          0.          0.          0.        ]\n",
      " [ 2.44948974  0.          0.          0.          0.          0.\n",
      "   0.          0.          0.          0.        ]\n",
      " [ 0.          6.92820323  0.          0.          0.          0.\n",
      "   0.          0.          0.          0.        ]\n",
      " [ 0.          0.         13.41640786  0.          0.          0.\n",
      "   0.          0.          0.          0.        ]\n",
      " [ 0.          0.          0.         21.9089023   0.          0.\n",
      "   0.          0.          0.          0.        ]\n",
      " [ 0.          0.          0.          0.         32.40370349  0.\n",
      "   0.          0.          0.          0.        ]\n",
      " [ 0.          0.          0.          0.          0.         44.89988864\n",
      "   0.          0.          0.          0.        ]\n",
      " [ 0.          0.          0.          0.          0.          0.\n",
      "  59.39696962  0.          0.          0.        ]\n",
      " [ 0.          0.          0.          0.          0.          0.\n",
      "   0.         75.89466384  0.          0.        ]]\n"
     ]
    }
   ],
   "source": [
    "H15 = ParticleOperator('a0^ a0^ a0^ a0')\n",
    "print(np.matrix(displayMatrix(initializeMatrix(), H15)))\n",
    "\n",
    "print(np.matrix(displayMatrixOld(initializeMatrix(), 2, 0, 0, 1, 2)))"
   ]
  },
  {
   "cell_type": "code",
   "execution_count": 42,
   "metadata": {},
   "outputs": [
    {
     "name": "stdout",
     "output_type": "stream",
     "text": [
      "[[ 0.          0.          0.          0.          0.          0.\n",
      "   0.          0.          0.          0.        ]\n",
      " [ 0.          0.          0.          0.          0.          0.\n",
      "   0.          0.          0.          0.        ]\n",
      " [ 0.          0.          0.          0.          0.          0.\n",
      "   0.          0.          0.          0.        ]\n",
      " [ 0.          0.          0.          0.          0.          0.\n",
      "   0.          0.          0.          0.        ]\n",
      " [10.95445115  0.          0.          0.          0.          0.\n",
      "   0.          0.          0.          0.        ]\n",
      " [ 0.         18.97366596  0.          0.          0.          0.\n",
      "   0.          0.          0.          0.        ]\n",
      " [ 0.          0.         28.98275349  0.          0.          0.\n",
      "   0.          0.          0.          0.        ]\n",
      " [ 0.          0.          0.         40.98780306  0.          0.\n",
      "   0.          0.          0.          0.        ]\n",
      " [ 0.          0.          0.          0.         54.99090834  0.\n",
      "   0.          0.          0.          0.        ]\n",
      " [ 0.          0.          0.          0.          0.         70.9929574\n",
      "   0.          0.          0.          0.        ]]\n",
      "[[ 0.          0.          0.          0.          0.          0.\n",
      "   0.          0.          0.          0.        ]\n",
      " [ 0.          0.          0.          0.          0.          0.\n",
      "   0.          0.          0.          0.        ]\n",
      " [ 0.          0.          0.          0.          0.          0.\n",
      "   0.          0.          0.          0.        ]\n",
      " [ 0.          0.          0.          0.          0.          0.\n",
      "   0.          0.          0.          0.        ]\n",
      " [10.95445115  0.          0.          0.          0.          0.\n",
      "   0.          0.          0.          0.        ]\n",
      " [ 0.         18.97366596  0.          0.          0.          0.\n",
      "   0.          0.          0.          0.        ]\n",
      " [ 0.          0.         28.98275349  0.          0.          0.\n",
      "   0.          0.          0.          0.        ]\n",
      " [ 0.          0.          0.         40.98780306  0.          0.\n",
      "   0.          0.          0.          0.        ]\n",
      " [ 0.          0.          0.          0.         54.99090834  0.\n",
      "   0.          0.          0.          0.        ]\n",
      " [ 0.          0.          0.          0.          0.         70.9929574\n",
      "   0.          0.          0.          0.        ]]\n"
     ]
    }
   ],
   "source": [
    "H16 = ParticleOperator('a0^ a0^ a0^ a0^')\n",
    "(1, 1)\n",
    "print(np.matrix(displayMatrix(initializeMatrix(), H16)))\n",
    "\n",
    "print(np.matrix(displayMatrixOld(initializeMatrix(), 4, 1, 2, 3, 4)))"
   ]
  },
  {
   "cell_type": "code",
   "execution_count": 43,
   "metadata": {},
   "outputs": [
    {
     "ename": "TypeError",
     "evalue": "__add__() missing 1 required positional argument: 'other2'",
     "output_type": "error",
     "traceback": [
      "\u001b[0;31m---------------------------------------------------------------------------\u001b[0m",
      "\u001b[0;31mTypeError\u001b[0m                                 Traceback (most recent call last)",
      "Cell \u001b[0;32mIn[43], line 1\u001b[0m\n\u001b[0;32m----> 1\u001b[0m opSum \u001b[38;5;241m=\u001b[39m \u001b[43mParticleOperator\u001b[49m\u001b[43m(\u001b[49m\u001b[38;5;124;43m'\u001b[39;49m\u001b[38;5;124;43ma0^ a0^ a0^ a0^\u001b[39;49m\u001b[38;5;124;43m'\u001b[39;49m\u001b[43m)\u001b[49m\u001b[43m \u001b[49m\u001b[38;5;241;43m+\u001b[39;49m\u001b[43m \u001b[49m\u001b[43mParticleOperator\u001b[49m\u001b[43m(\u001b[49m\u001b[38;5;124;43m'\u001b[39;49m\u001b[38;5;124;43ma0 a0 a0 a0\u001b[39;49m\u001b[38;5;124;43m'\u001b[39;49m\u001b[43m)\u001b[49m \u001b[38;5;241m+\u001b[39m ParticleOperator(\u001b[38;5;124m'\u001b[39m\u001b[38;5;124ma0^ a0^ a0^ a0^\u001b[39m\u001b[38;5;124m'\u001b[39m) \u001b[38;5;241m+\u001b[39m ParticleOperator(\u001b[38;5;124m'\u001b[39m\u001b[38;5;124ma0^ a0^ a0^ a0\u001b[39m\u001b[38;5;124m'\u001b[39m)\u001b[38;5;241m+\u001b[39m ParticleOperator(\u001b[38;5;124m'\u001b[39m\u001b[38;5;124ma0 a0 a0 a0\u001b[39m\u001b[38;5;124m'\u001b[39m) \n\u001b[1;32m      2\u001b[0m \u001b[38;5;66;03m# print(opSum)\u001b[39;00m\n\u001b[1;32m      3\u001b[0m \u001b[38;5;66;03m# print(opSum.coeff)\u001b[39;00m\n\u001b[1;32m      4\u001b[0m \u001b[38;5;66;03m# for op in opSum.HashMap:\u001b[39;00m\n\u001b[1;32m      5\u001b[0m \u001b[38;5;66;03m#     print(\"coeff: \", opSum.HashMap[op])\u001b[39;00m\n\u001b[1;32m      6\u001b[0m \u001b[38;5;66;03m#     print(\"op: \", op)\u001b[39;00m\n",
      "File \u001b[0;32m~/Documents/su24_quantum/OpenParticle/openparticle/oputils.py:232\u001b[0m, in \u001b[0;36mParticleOperator.__add__\u001b[0;34m(self, other)\u001b[0m\n\u001b[1;32m    227\u001b[0m \u001b[38;5;28;01mdef\u001b[39;00m \u001b[38;5;21m__add__\u001b[39m(\u001b[38;5;28mself\u001b[39m, other):\n\u001b[1;32m    228\u001b[0m     \u001b[38;5;66;03m# if self.input_string == other.input_string:\u001b[39;00m\n\u001b[1;32m    229\u001b[0m     \u001b[38;5;66;03m#     return ParticleOperator(self.input_string, self.coeff + other.coeff)\u001b[39;00m\n\u001b[1;32m    230\u001b[0m     \u001b[38;5;66;03m# else:\u001b[39;00m\n\u001b[1;32m    231\u001b[0m         \u001b[38;5;66;03m# return ParticleOperatorSum([self, other])\u001b[39;00m\n\u001b[0;32m--> 232\u001b[0m     \u001b[38;5;28;01mreturn\u001b[39;00m \u001b[43mParticleOperatorSum\u001b[49m\u001b[38;5;241;43m.\u001b[39;49m\u001b[38;5;21;43m__add__\u001b[39;49m\u001b[43m(\u001b[49m\u001b[38;5;28;43mself\u001b[39;49m\u001b[43m,\u001b[49m\u001b[43m \u001b[49m\u001b[43mother\u001b[49m\u001b[43m)\u001b[49m\n",
      "\u001b[0;31mTypeError\u001b[0m: __add__() missing 1 required positional argument: 'other2'"
     ]
    }
   ],
   "source": [
    "opSum = ParticleOperator('a0^ a0^ a0^ a0^') + ParticleOperator('a0 a0 a0 a0') + ParticleOperator('a0^ a0^ a0^ a0^') + ParticleOperator('a0^ a0^ a0^ a0')+ ParticleOperator('a0 a0 a0 a0') \n",
    "# print(opSum)\n",
    "# print(opSum.coeff)\n",
    "# for op in opSum.HashMap:\n",
    "#     print(\"coeff: \", opSum.HashMap[op])\n",
    "#     print(\"op: \", op)"
   ]
  },
  {
   "cell_type": "code",
   "execution_count": null,
   "metadata": {},
   "outputs": [],
   "source": []
  }
 ],
 "metadata": {
  "kernelspec": {
   "display_name": "oppenv",
   "language": "python",
   "name": "python3"
  },
  "language_info": {
   "codemirror_mode": {
    "name": "ipython",
    "version": 3
   },
   "file_extension": ".py",
   "mimetype": "text/x-python",
   "name": "python",
   "nbconvert_exporter": "python",
   "pygments_lexer": "ipython3",
   "version": "3.9.6"
  }
 },
 "nbformat": 4,
 "nbformat_minor": 2
}
