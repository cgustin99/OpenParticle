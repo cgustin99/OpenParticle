{
 "cells": [
  {
   "cell_type": "code",
   "execution_count": 1,
   "metadata": {},
   "outputs": [],
   "source": [
    "from openparticle import Fock, ConjugateFock, ParticleOperator\n",
    "import numpy as np"
   ]
  },
  {
   "cell_type": "code",
   "execution_count": 7,
   "metadata": {},
   "outputs": [
    {
     "data": {
      "text/latex": [
       "$1.0 * |0,3; 1; (0, 2)⟩$"
      ],
      "text/plain": [
       "<IPython.core.display.Latex object>"
      ]
     },
     "metadata": {},
     "output_type": "display_data"
    }
   ],
   "source": [
    "f_occ = [0, 3]\n",
    "af_occ = [1]\n",
    "b_occ = [(0, 2)]\n",
    "x=Fock(f_occ=f_occ, af_occ=af_occ,b_occ=b_occ)\n",
    "x.display()\n"
   ]
  },
  {
   "cell_type": "code",
   "execution_count": 15,
   "metadata": {},
   "outputs": [
    {
     "data": {
      "text/latex": [
       "$1.0*b_0b^†_1d_1a^†_0a^†_1$"
      ],
      "text/plain": [
       "<IPython.core.display.Latex object>"
      ]
     },
     "metadata": {},
     "output_type": "display_data"
    }
   ],
   "source": [
    "op = ParticleOperator('b0 b1^ d1 a0^ a1^')\n",
    "op.display()"
   ]
  },
  {
   "cell_type": "code",
   "execution_count": 16,
   "metadata": {},
   "outputs": [
    {
     "data": {
      "text/latex": [
       "$-1.7320508075688772 * |1,3; ; (0, 2),(1, 1)⟩$"
      ],
      "text/plain": [
       "<IPython.core.display.Latex object>"
      ]
     },
     "metadata": {},
     "output_type": "display_data"
    }
   ],
   "source": [
    "(op * x).display()"
   ]
  },
  {
   "cell_type": "code",
   "execution_count": 14,
   "metadata": {},
   "outputs": [
    {
     "name": "stdout",
     "output_type": "stream",
     "text": [
      "1.4142135623730951 * |0,3; 1; (0, 1)⟩\n"
     ]
    }
   ],
   "source": [
    "print(op *x)"
   ]
  },
  {
   "cell_type": "code",
   "execution_count": 6,
   "metadata": {},
   "outputs": [
    {
     "data": {
      "text/latex": [
       "$|0,3; 1; (0, 3)⟩ + |0,2; 2; (1, 3)⟩$"
      ],
      "text/plain": [
       "<IPython.core.display.Latex object>"
      ]
     },
     "metadata": {},
     "output_type": "display_data"
    }
   ],
   "source": [
    "z = Fock([0, 2], [2], [(1, 3)])\n",
    "(x + z).display()"
   ]
  },
  {
   "cell_type": "code",
   "execution_count": 3,
   "metadata": {},
   "outputs": [
    {
     "data": {
      "text/plain": [
       "1.0"
      ]
     },
     "execution_count": 3,
     "metadata": {},
     "output_type": "execute_result"
    }
   ],
   "source": [
    "y = ConjugateFock.from_state(x)\n",
    "y * x"
   ]
  },
  {
   "cell_type": "code",
   "execution_count": 54,
   "metadata": {},
   "outputs": [],
   "source": [
    "from QCD.hadron import Hadron\n",
    "from QCD.get_quantum_nums import get_quantum_numbers\n",
    "import numpy as np"
   ]
  },
  {
   "cell_type": "code",
   "execution_count": 58,
   "metadata": {},
   "outputs": [],
   "source": [
    "K = 6"
   ]
  },
  {
   "cell_type": "markdown",
   "metadata": {},
   "source": [
    "$$p^+ = \\begin{cases}\n",
    "\\frac{2\\pi}{L}n; n = 1, 3, 5, \\dots (\\text{fermions}) \\\\\n",
    "\\frac{2\\pi}{L}n; n = 2, 4, 6, \\dots (\\text{bosons})\n",
    "\n",
    "\n",
    "\\end{cases}$$"
   ]
  },
  {
   "cell_type": "code",
   "execution_count": 59,
   "metadata": {},
   "outputs": [
    {
     "data": {
      "text/html": [
       "<div>\n",
       "<style scoped>\n",
       "    .dataframe tbody tr th:only-of-type {\n",
       "        vertical-align: middle;\n",
       "    }\n",
       "\n",
       "    .dataframe tbody tr th {\n",
       "        vertical-align: top;\n",
       "    }\n",
       "\n",
       "    .dataframe thead th {\n",
       "        text-align: right;\n",
       "    }\n",
       "</style>\n",
       "<table border=\"1\" class=\"dataframe\">\n",
       "  <thead>\n",
       "    <tr style=\"text-align: right;\">\n",
       "      <th></th>\n",
       "      <th>Helicity</th>\n",
       "      <th>n</th>\n",
       "    </tr>\n",
       "  </thead>\n",
       "  <tbody>\n",
       "    <tr>\n",
       "      <th>0</th>\n",
       "      <td>+1</td>\n",
       "      <td>1</td>\n",
       "    </tr>\n",
       "    <tr>\n",
       "      <th>1</th>\n",
       "      <td>+1</td>\n",
       "      <td>2</td>\n",
       "    </tr>\n",
       "    <tr>\n",
       "      <th>2</th>\n",
       "      <td>+1</td>\n",
       "      <td>3</td>\n",
       "    </tr>\n",
       "    <tr>\n",
       "      <th>3</th>\n",
       "      <td>+1</td>\n",
       "      <td>4</td>\n",
       "    </tr>\n",
       "    <tr>\n",
       "      <th>4</th>\n",
       "      <td>+1</td>\n",
       "      <td>5</td>\n",
       "    </tr>\n",
       "    <tr>\n",
       "      <th>5</th>\n",
       "      <td>-1</td>\n",
       "      <td>1</td>\n",
       "    </tr>\n",
       "    <tr>\n",
       "      <th>6</th>\n",
       "      <td>-1</td>\n",
       "      <td>2</td>\n",
       "    </tr>\n",
       "    <tr>\n",
       "      <th>7</th>\n",
       "      <td>-1</td>\n",
       "      <td>3</td>\n",
       "    </tr>\n",
       "    <tr>\n",
       "      <th>8</th>\n",
       "      <td>-1</td>\n",
       "      <td>4</td>\n",
       "    </tr>\n",
       "    <tr>\n",
       "      <th>9</th>\n",
       "      <td>-1</td>\n",
       "      <td>5</td>\n",
       "    </tr>\n",
       "  </tbody>\n",
       "</table>\n",
       "</div>"
      ],
      "text/plain": [
       "  Helicity  n\n",
       "0       +1  1\n",
       "1       +1  2\n",
       "2       +1  3\n",
       "3       +1  4\n",
       "4       +1  5\n",
       "5       -1  1\n",
       "6       -1  2\n",
       "7       -1  3\n",
       "8       -1  4\n",
       "9       -1  5"
      ]
     },
     "execution_count": 59,
     "metadata": {},
     "output_type": "execute_result"
    }
   ],
   "source": [
    "get_quantum_numbers(K)"
   ]
  },
  {
   "cell_type": "code",
   "execution_count": 60,
   "metadata": {},
   "outputs": [
    {
     "data": {
      "text/latex": [
       "$|q\\bar{q}> + |q\\bar{q}gg>$"
      ],
      "text/plain": [
       "<IPython.core.display.Latex object>"
      ]
     },
     "metadata": {},
     "output_type": "display_data"
    }
   ],
   "source": [
    "pion = Hadron([['q', 'qbar'], \n",
    "               ['q', 'qbar', 'g', 'g']])\n",
    "pion.display()\n"
   ]
  },
  {
   "cell_type": "code",
   "execution_count": 61,
   "metadata": {},
   "outputs": [
    {
     "name": "stdout",
     "output_type": "stream",
     "text": [
      "1.0 * |1,0,0,0,0,0,0,0,0,0; 0,0,0,0,1,0,0,0,0,0; ⟩ + 1.0 * |1,0,0,0,0,0,0,0,0,0; 0,0,0,0,0,0,0,0,0,1; ⟩ + 1.0 * |0,0,1,0,0,0,0,0,0,0; 0,0,1,0,0,0,0,0,0,0; ⟩ + 1.0 * |0,0,1,0,0,0,0,0,0,0; 0,0,0,0,0,0,0,1,0,0; ⟩ + 1.0 * |0,0,0,0,1,0,0,0,0,0; 1,0,0,0,0,0,0,0,0,0; ⟩ + 1.0 * |0,0,0,0,1,0,0,0,0,0; 0,0,0,0,0,1,0,0,0,0; ⟩ + 1.0 * |0,0,0,0,0,1,0,0,0,0; 0,0,0,0,1,0,0,0,0,0; ⟩ + 1.0 * |0,0,0,0,0,1,0,0,0,0; 0,0,0,0,0,0,0,0,0,1; ⟩ + 1.0 * |0,0,0,0,0,0,0,1,0,0; 0,0,1,0,0,0,0,0,0,0; ⟩ + 1.0 * |0,0,0,0,0,0,0,1,0,0; 0,0,0,0,0,0,0,1,0,0; ⟩ + 1.0 * |0,0,0,0,0,0,0,0,0,1; 1,0,0,0,0,0,0,0,0,0; ⟩ + 1.0 * |0,0,0,0,0,0,0,0,0,1; 0,0,0,0,0,1,0,0,0,0; ⟩ + 1.0 * |1,0,0,0,0,0,0,0,0,0; 1,0,0,0,0,0,0,0,0,0; 0,2,0,0,0,0,0,0,0,0⟩ + 1.0 * |1,0,0,0,0,0,0,0,0,0; 1,0,0,0,0,0,0,0,0,0; 0,1,0,0,0,0,1,0,0,0⟩ + 1.0 * |1,0,0,0,0,0,0,0,0,0; 1,0,0,0,0,0,0,0,0,0; 0,0,0,0,0,0,2,0,0,0⟩ + 1.0 * |1,0,0,0,0,0,0,0,0,0; 0,0,0,0,0,1,0,0,0,0; 0,2,0,0,0,0,0,0,0,0⟩ + 1.0 * |1,0,0,0,0,0,0,0,0,0; 0,0,0,0,0,1,0,0,0,0; 0,1,0,0,0,0,1,0,0,0⟩ + 1.0 * |1,0,0,0,0,0,0,0,0,0; 0,0,0,0,0,1,0,0,0,0; 0,0,0,0,0,0,2,0,0,0⟩ + 1.0 * |0,0,0,0,0,1,0,0,0,0; 1,0,0,0,0,0,0,0,0,0; 0,2,0,0,0,0,0,0,0,0⟩ + 1.0 * |0,0,0,0,0,1,0,0,0,0; 1,0,0,0,0,0,0,0,0,0; 0,1,0,0,0,0,1,0,0,0⟩ + 1.0 * |0,0,0,0,0,1,0,0,0,0; 1,0,0,0,0,0,0,0,0,0; 0,0,0,0,0,0,2,0,0,0⟩ + 1.0 * |0,0,0,0,0,1,0,0,0,0; 0,0,0,0,0,1,0,0,0,0; 0,2,0,0,0,0,0,0,0,0⟩ + 1.0 * |0,0,0,0,0,1,0,0,0,0; 0,0,0,0,0,1,0,0,0,0; 0,1,0,0,0,0,1,0,0,0⟩ + 1.0 * |0,0,0,0,0,1,0,0,0,0; 0,0,0,0,0,1,0,0,0,0; 0,0,0,0,0,0,2,0,0,0⟩\n"
     ]
    }
   ],
   "source": [
    "print(pion.get_states(K))"
   ]
  },
  {
   "cell_type": "code",
   "execution_count": null,
   "metadata": {},
   "outputs": [],
   "source": [
    "#SU(2) Flavor matrices\n",
    "\n",
    "f1 = np.array([[0, 1], [1, 0]])\n",
    "f2 = np.array([[0, -1j], [1j, 0]])\n",
    "f3 = np.array([[1, 0], [0, -1]])\n",
    "\n",
    "#Isospin\n",
    "T = 1/2 * np.array([f1, f2, f3])\n",
    "Tsq = T[0].dot(T[0]) + T[1].dot(T[1]) + T[2].dot(T[2])"
   ]
  },
  {
   "cell_type": "code",
   "execution_count": null,
   "metadata": {},
   "outputs": [],
   "source": [
    "u = np.array([[1, 0]]).reshape(-1, 1)\n",
    "d = np.array([[0, 1]]).reshape(-1, 1)"
   ]
  },
  {
   "cell_type": "code",
   "execution_count": null,
   "metadata": {},
   "outputs": [],
   "source": [
    "np.allclose(T[2].dot(u), 1/2 * u)"
   ]
  },
  {
   "cell_type": "code",
   "execution_count": null,
   "metadata": {},
   "outputs": [],
   "source": [
    "np.allclose(Tsq.dot(u), 1/2 * (1/2 + 1) * u)"
   ]
  },
  {
   "cell_type": "code",
   "execution_count": null,
   "metadata": {},
   "outputs": [],
   "source": [
    "#Ladder operators \n",
    "Tplus = T[0] + 1j * T[1]\n",
    "Tminus = T[0] - 1j * T[1]"
   ]
  },
  {
   "cell_type": "code",
   "execution_count": null,
   "metadata": {},
   "outputs": [],
   "source": [
    "np.allclose(Tplus.dot(u), 0), np.allclose(Tplus.dot(d), u), np.allclose(Tminus.dot(d), 0), np.allclose(Tminus.dot(u), d)"
   ]
  },
  {
   "cell_type": "markdown",
   "metadata": {},
   "source": [
    "### Color SU(3) Singlets"
   ]
  },
  {
   "cell_type": "code",
   "execution_count": null,
   "metadata": {},
   "outputs": [],
   "source": [
    "lam = np.array([np.array([[0, 1, 0],\n",
    "                    [1, 0, 0],\n",
    "                    [0, 0, 0]]),\n",
    "            np.array([[0, -1j, 0],\n",
    "                    [1j, 0, 0],\n",
    "                    [0, 0, 0]]),\n",
    "            np.array([[1, 0, 0],\n",
    "                    [0, -1, 0],\n",
    "                    [0, 0, 0]]),\n",
    "            np.array([[0, 0, 1],\n",
    "                    [0, 0, 0],\n",
    "                    [1, 0, 0]]),\n",
    "            np.array([[0, 0, -1j],\n",
    "                    [0, 0, 0],\n",
    "                    [1j, 0, 0]]),\n",
    "            np.array([[0, 0, 0],\n",
    "                    [0, 0, 1],\n",
    "                    [0, 1, 0]]),\n",
    "            np.array([[0, 0, 0],\n",
    "                    [0, 0, -1j],\n",
    "                    [0, 1j, 0]]),  \n",
    "            np.array([[1/np.sqrt(3), 0, 0],\n",
    "                    [0, 1/np.sqrt(3), 0],\n",
    "                    [0, 0, -2/np.sqrt(3)]])\n",
    "\n",
    "])\n",
    "T = lam/2"
   ]
  },
  {
   "cell_type": "code",
   "execution_count": null,
   "metadata": {},
   "outputs": [],
   "source": [
    "r = np.array([1, 0, 0]).reshape(-1, 1)\n",
    "g = np.array([0, 1, 0]).reshape(-1, 1)\n",
    "b = np.array([0, 0, 1]).reshape(-1, 1)"
   ]
  },
  {
   "cell_type": "code",
   "execution_count": null,
   "metadata": {},
   "outputs": [],
   "source": []
  }
 ],
 "metadata": {
  "kernelspec": {
   "display_name": "Python 3 (ipykernel)",
   "language": "python",
   "name": "python3"
  },
  "language_info": {
   "codemirror_mode": {
    "name": "ipython",
    "version": 3
   },
   "file_extension": ".py",
   "mimetype": "text/x-python",
   "name": "python",
   "nbconvert_exporter": "python",
   "pygments_lexer": "ipython3",
   "version": "3.8.16"
  }
 },
 "nbformat": 4,
 "nbformat_minor": 2
}
