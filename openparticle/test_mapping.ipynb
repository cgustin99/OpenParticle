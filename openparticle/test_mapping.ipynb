{
 "cells": [
  {
   "cell_type": "code",
   "execution_count": 1,
   "metadata": {},
   "outputs": [],
   "source": [
    "from openparticle import ParticleOperator, Fock\n",
    "from symmer import PauliwordOp, QuantumState\n",
    "import numpy as np\n",
    "from openparticle.utils import get_fock_basis, generate_matrix"
   ]
  },
  {
   "cell_type": "code",
   "execution_count": 2,
   "metadata": {},
   "outputs": [
    {
     "data": {
      "text/plain": [
       "-0.250+0.000j XX +\n",
       " 0.000-0.250j YX +\n",
       " 0.000-0.250j XY +\n",
       " 0.250+0.000j YY"
      ]
     },
     "execution_count": 2,
     "metadata": {},
     "output_type": "execute_result"
    }
   ],
   "source": [
    "ParticleOperator('b0 d0').to_paulis()"
   ]
  },
  {
   "cell_type": "code",
   "execution_count": 3,
   "metadata": {},
   "outputs": [
    {
     "data": {
      "text/plain": [
       "[1.0 * |((), (), ())⟩,\n",
       " 1.0 * |((), (0,), ())⟩,\n",
       " 1.0 * |((), (1,), ())⟩,\n",
       " 1.0 * |((), (0, 1), ())⟩,\n",
       " 1.0 * |((0,), (), ())⟩,\n",
       " 1.0 * |((0,), (0,), ())⟩,\n",
       " 1.0 * |((0,), (1,), ())⟩,\n",
       " 1.0 * |((0,), (0, 1), ())⟩]"
      ]
     },
     "execution_count": 3,
     "metadata": {},
     "output_type": "execute_result"
    }
   ],
   "source": [
    "bd_op = ParticleOperator('b0 d1')\n",
    "bd_basis = get_fock_basis(bd_op)\n",
    "bd_basis"
   ]
  },
  {
   "cell_type": "code",
   "execution_count": 4,
   "metadata": {},
   "outputs": [],
   "source": [
    "qubit_bd_basis_states = [\n",
    "    QuantumState([[0, 0, 0]]),\n",
    "    QuantumState([[0, 0, 1]]),\n",
    "    QuantumState([[0, 1, 0]]),\n",
    "    QuantumState([[0, 1, 1]]),\n",
    "    QuantumState([[1, 0, 0]]),\n",
    "    QuantumState([[1, 0, 1]]),\n",
    "    QuantumState([[1, 1, 0]]),\n",
    "    QuantumState([[1, 1, 1]]),\n",
    "]"
   ]
  },
  {
   "cell_type": "code",
   "execution_count": 5,
   "metadata": {},
   "outputs": [
    {
     "name": "stdout",
     "output_type": "stream",
     "text": [
      "--- 0 ---\n",
      "Expected output state: 0\n",
      "Obtained output state: \n",
      "--- 1 ---\n",
      "Expected output state: 0\n",
      "Obtained output state: \n",
      "--- 2 ---\n",
      "Expected output state: 0\n",
      "Obtained output state: \n",
      "--- 3 ---\n",
      "Expected output state: 0\n",
      "Obtained output state: \n",
      "--- 4 ---\n",
      "Expected output state: 0\n",
      "Obtained output state: \n",
      "--- 5 ---\n",
      "Expected output state: 0\n",
      "Obtained output state: \n",
      "--- 6 ---\n",
      "Expected output state: -1.0 * |((), (), ())⟩\n",
      "Obtained output state: -1.000+0.000j |000>\n",
      "--- 7 ---\n",
      "Expected output state: 1.0 * |((), (0,), ())⟩\n",
      "Obtained output state:  1.000+0.000j |001>\n"
     ]
    }
   ],
   "source": [
    "for state_number in range(len(bd_basis)): \n",
    "    print(\"---\", state_number, \"---\")\n",
    "    basis_state = bd_basis[state_number]\n",
    "    qubit_basis_state = qubit_bd_basis_states[state_number]\n",
    "    print(\"Expected output state:\", bd_op * basis_state)\n",
    "    print(\"Obtained output state:\", bd_op.to_paulis() * qubit_basis_state)"
   ]
  },
  {
   "cell_type": "code",
   "execution_count": 6,
   "metadata": {},
   "outputs": [
    {
     "data": {
      "text/plain": [
       "[1.0 * |((), (), ())⟩,\n",
       " 1.0 * |((), (0,), ())⟩,\n",
       " 1.0 * |((), (1,), ())⟩,\n",
       " 1.0 * |((), (2,), ())⟩,\n",
       " 1.0 * |((), (0, 1), ())⟩,\n",
       " 1.0 * |((), (0, 2), ())⟩,\n",
       " 1.0 * |((), (1, 2), ())⟩,\n",
       " 1.0 * |((), (0, 1, 2), ())⟩,\n",
       " 1.0 * |((0,), (), ())⟩,\n",
       " 1.0 * |((0,), (0,), ())⟩,\n",
       " 1.0 * |((0,), (1,), ())⟩,\n",
       " 1.0 * |((0,), (2,), ())⟩,\n",
       " 1.0 * |((0,), (0, 1), ())⟩,\n",
       " 1.0 * |((0,), (0, 2), ())⟩,\n",
       " 1.0 * |((0,), (1, 2), ())⟩,\n",
       " 1.0 * |((0,), (0, 1, 2), ())⟩]"
      ]
     },
     "execution_count": 6,
     "metadata": {},
     "output_type": "execute_result"
    }
   ],
   "source": [
    "op = ParticleOperator('b0 d2')\n",
    "basis = get_fock_basis(op)\n",
    "basis"
   ]
  },
  {
   "cell_type": "code",
   "execution_count": 7,
   "metadata": {},
   "outputs": [],
   "source": [
    "qubit_bd_basis_states = [\n",
    "    QuantumState([[0, 0, 0, 0]]),\n",
    "    QuantumState([[0, 0, 0, 1]]),\n",
    "    QuantumState([[0, 0, 1, 0]]),\n",
    "    QuantumState([[0, 1, 0, 0]]),\n",
    "    QuantumState([[0, 0, 1, 1]]),\n",
    "    QuantumState([[0, 1, 0, 1]]),\n",
    "    QuantumState([[0, 1, 1, 0]]),\n",
    "    QuantumState([[0, 1, 1, 1]]),\n",
    "    QuantumState([[1, 0, 0, 0]]),\n",
    "    QuantumState([[1, 0, 0, 1]]),\n",
    "    QuantumState([[1, 0, 1, 0]]),\n",
    "    QuantumState([[1, 1, 0, 0]]),\n",
    "    QuantumState([[1, 0, 1, 1]]),\n",
    "    QuantumState([[1, 1, 0, 1]]),\n",
    "    QuantumState([[1, 1, 1, 0]]),\n",
    "    QuantumState([[1, 1, 1, 1]]),\n",
    "]"
   ]
  },
  {
   "cell_type": "code",
   "execution_count": 8,
   "metadata": {},
   "outputs": [
    {
     "name": "stdout",
     "output_type": "stream",
     "text": [
      "--- 0 ---\n",
      "Expected output state: 0\n",
      "Obtained output state: \n",
      "--- 1 ---\n",
      "Expected output state: 0\n",
      "Obtained output state: \n",
      "--- 2 ---\n",
      "Expected output state: 0\n",
      "Obtained output state: \n",
      "--- 3 ---\n",
      "Expected output state: 0\n",
      "Obtained output state: \n",
      "--- 4 ---\n",
      "Expected output state: 0\n",
      "Obtained output state: \n",
      "--- 5 ---\n",
      "Expected output state: 0\n",
      "Obtained output state: \n",
      "--- 6 ---\n",
      "Expected output state: 0\n",
      "Obtained output state: \n",
      "--- 7 ---\n",
      "Expected output state: 0\n",
      "Obtained output state: \n",
      "--- 8 ---\n",
      "Expected output state: 0\n",
      "Obtained output state: \n",
      "--- 9 ---\n",
      "Expected output state: 0\n",
      "Obtained output state: \n",
      "--- 10 ---\n",
      "Expected output state: 0\n",
      "Obtained output state: \n",
      "--- 11 ---\n",
      "Expected output state: -1.0 * |((), (), ())⟩\n",
      "Obtained output state: -1.000+0.000j |0000>\n",
      "--- 12 ---\n",
      "Expected output state: 0\n",
      "Obtained output state: \n",
      "--- 13 ---\n",
      "Expected output state: 1.0 * |((), (0,), ())⟩\n",
      "Obtained output state:  1.000+0.000j |0001>\n",
      "--- 14 ---\n",
      "Expected output state: 1.0 * |((), (1,), ())⟩\n",
      "Obtained output state:  1.000+0.000j |0010>\n",
      "--- 15 ---\n",
      "Expected output state: -1.0 * |((), (0, 1), ())⟩\n",
      "Obtained output state: -1.000+0.000j |0011>\n"
     ]
    }
   ],
   "source": [
    "for state_number in range(len(basis)): \n",
    "    print(\"---\", state_number, \"---\")\n",
    "    basis_state = basis[state_number]\n",
    "    qubit_basis_state = qubit_bd_basis_states[state_number]\n",
    "    print(\"Expected output state:\", op * basis_state)\n",
    "    print(\"Obtained output state:\", op.to_paulis() * qubit_basis_state)"
   ]
  },
  {
   "cell_type": "code",
   "execution_count": 9,
   "metadata": {},
   "outputs": [
    {
     "data": {
      "text/plain": [
       "[1.0 * |((), (), ())⟩,\n",
       " 1.0 * |((), (0,), ())⟩,\n",
       " 1.0 * |((0,), (), ())⟩,\n",
       " 1.0 * |((0,), (0,), ())⟩,\n",
       " 1.0 * |((1,), (), ())⟩,\n",
       " 1.0 * |((1,), (0,), ())⟩,\n",
       " 1.0 * |((0, 1), (), ())⟩,\n",
       " 1.0 * |((0, 1), (0,), ())⟩]"
      ]
     },
     "execution_count": 9,
     "metadata": {},
     "output_type": "execute_result"
    }
   ],
   "source": [
    "op = ParticleOperator('b0 b1 d0')\n",
    "basis = get_fock_basis(op)\n",
    "basis"
   ]
  },
  {
   "cell_type": "code",
   "execution_count": 10,
   "metadata": {},
   "outputs": [],
   "source": [
    "qubit_bd_basis_states = [\n",
    "    QuantumState([[0, 0, 0]]),\n",
    "    QuantumState([[0, 0, 1]]),\n",
    "    QuantumState([[0, 1, 0]]),\n",
    "    QuantumState([[0, 1, 1]]),\n",
    "    QuantumState([[1, 0, 0]]),\n",
    "    QuantumState([[1, 0, 1]]),\n",
    "    QuantumState([[1, 1, 0]]),\n",
    "    QuantumState([[1, 1, 1]]),\n",
    "    \n",
    "]"
   ]
  },
  {
   "cell_type": "code",
   "execution_count": 11,
   "metadata": {},
   "outputs": [
    {
     "name": "stdout",
     "output_type": "stream",
     "text": [
      "--- 0 ---\n",
      "Expected output state: 0\n",
      "Obtained output state: \n",
      "--- 1 ---\n",
      "Expected output state: 0\n",
      "Obtained output state: \n",
      "--- 2 ---\n",
      "Expected output state: 0\n",
      "Obtained output state: \n",
      "--- 3 ---\n",
      "Expected output state: 0\n",
      "Obtained output state: \n",
      "--- 4 ---\n",
      "Expected output state: 0\n",
      "Obtained output state: \n",
      "--- 5 ---\n",
      "Expected output state: 0\n",
      "Obtained output state: \n",
      "--- 6 ---\n",
      "Expected output state: 0\n",
      "Obtained output state: \n",
      "--- 7 ---\n",
      "Expected output state: -1.0 * |((), (), ())⟩\n",
      "Obtained output state: -1.000+0.000j |000>\n"
     ]
    }
   ],
   "source": [
    "for state_number in range(len(basis)): \n",
    "    print(\"---\", state_number, \"---\")\n",
    "    basis_state = basis[state_number]\n",
    "    qubit_basis_state = qubit_bd_basis_states[state_number]\n",
    "    print(\"Expected output state:\", op * basis_state)\n",
    "    print(\"Obtained output state:\", op.to_paulis() * qubit_basis_state)"
   ]
  },
  {
   "cell_type": "code",
   "execution_count": 12,
   "metadata": {},
   "outputs": [
    {
     "data": {
      "text/plain": [
       "[1.0 * |((), (), ())⟩,\n",
       " 1.0 * |((), (0,), ())⟩,\n",
       " 1.0 * |((), (1,), ())⟩,\n",
       " 1.0 * |((), (0, 1), ())⟩,\n",
       " 1.0 * |((0,), (), ())⟩,\n",
       " 1.0 * |((0,), (0,), ())⟩,\n",
       " 1.0 * |((0,), (1,), ())⟩,\n",
       " 1.0 * |((0,), (0, 1), ())⟩]"
      ]
     },
     "execution_count": 12,
     "metadata": {},
     "output_type": "execute_result"
    }
   ],
   "source": [
    "op = ParticleOperator('b0 d0 d1')\n",
    "basis = get_fock_basis(op)\n",
    "basis"
   ]
  },
  {
   "cell_type": "code",
   "execution_count": 13,
   "metadata": {},
   "outputs": [],
   "source": [
    "qubit_bd_basis_states = [\n",
    "    QuantumState([[0, 0, 0]]),\n",
    "    QuantumState([[0, 0, 1]]),\n",
    "    QuantumState([[0, 1, 0]]),\n",
    "    QuantumState([[0, 1, 1]]),\n",
    "    QuantumState([[1, 0, 0]]),\n",
    "    QuantumState([[1, 0, 1]]),\n",
    "    QuantumState([[1, 1, 0]]),\n",
    "    QuantumState([[1, 1, 1]]),\n",
    "    \n",
    "]"
   ]
  },
  {
   "cell_type": "code",
   "execution_count": 14,
   "metadata": {},
   "outputs": [
    {
     "name": "stdout",
     "output_type": "stream",
     "text": [
      "--- 0 ---\n",
      "Expected output state: 0\n",
      "Obtained output state: \n",
      "--- 1 ---\n",
      "Expected output state: 0\n",
      "Obtained output state: \n",
      "--- 2 ---\n",
      "Expected output state: 0\n",
      "Obtained output state: \n",
      "--- 3 ---\n",
      "Expected output state: 0\n",
      "Obtained output state: \n",
      "--- 4 ---\n",
      "Expected output state: 0\n",
      "Obtained output state: \n",
      "--- 5 ---\n",
      "Expected output state: 0\n",
      "Obtained output state: \n",
      "--- 6 ---\n",
      "Expected output state: 0\n",
      "Obtained output state: \n",
      "--- 7 ---\n",
      "Expected output state: -1.0 * |((), (), ())⟩\n",
      "Obtained output state: -1.000+0.000j |000>\n"
     ]
    }
   ],
   "source": [
    "for state_number in range(len(basis)): \n",
    "    print(\"---\", state_number, \"---\")\n",
    "    basis_state = basis[state_number]\n",
    "    qubit_basis_state = qubit_bd_basis_states[state_number]\n",
    "    print(\"Expected output state:\", op * basis_state)\n",
    "    print(\"Obtained output state:\", op.to_paulis() * qubit_basis_state)"
   ]
  },
  {
   "cell_type": "code",
   "execution_count": 16,
   "metadata": {},
   "outputs": [
    {
     "data": {
      "text/plain": [
       "[1.0 * |((), (), ())⟩,\n",
       " 1.0 * |((), (0,), ())⟩,\n",
       " 1.0 * |((), (1,), ())⟩,\n",
       " 1.0 * |((), (0, 1), ())⟩,\n",
       " 1.0 * |((0,), (), ())⟩,\n",
       " 1.0 * |((0,), (0,), ())⟩,\n",
       " 1.0 * |((0,), (1,), ())⟩,\n",
       " 1.0 * |((0,), (0, 1), ())⟩,\n",
       " 1.0 * |((1,), (), ())⟩,\n",
       " 1.0 * |((1,), (0,), ())⟩,\n",
       " 1.0 * |((1,), (1,), ())⟩,\n",
       " 1.0 * |((1,), (0, 1), ())⟩,\n",
       " 1.0 * |((0, 1), (), ())⟩,\n",
       " 1.0 * |((0, 1), (0,), ())⟩,\n",
       " 1.0 * |((0, 1), (1,), ())⟩,\n",
       " 1.0 * |((0, 1), (0, 1), ())⟩]"
      ]
     },
     "execution_count": 16,
     "metadata": {},
     "output_type": "execute_result"
    }
   ],
   "source": [
    "op = ParticleOperator(\"b1 d1\")\n",
    "basis = get_fock_basis(op)\n",
    "basis"
   ]
  },
  {
   "cell_type": "code",
   "execution_count": 23,
   "metadata": {},
   "outputs": [
    {
     "data": {
      "text/plain": [
       "-0.250+0.000j XZXZ +\n",
       " 0.000-0.250j YZXZ +\n",
       " 0.000-0.250j XZYZ +\n",
       " 0.250+0.000j YZYZ"
      ]
     },
     "execution_count": 23,
     "metadata": {},
     "output_type": "execute_result"
    }
   ],
   "source": [
    "ParticleOperator(\"b1 d1\").to_paulis()"
   ]
  },
  {
   "cell_type": "code",
   "execution_count": 17,
   "metadata": {},
   "outputs": [],
   "source": [
    "qubit_bd_basis_states = [\n",
    "    QuantumState([[0, 0, 0, 0]]),\n",
    "    QuantumState([[0, 0, 0, 1]]),\n",
    "    QuantumState([[0, 0, 1, 0]]),\n",
    "    QuantumState([[0, 0, 1, 1]]),\n",
    "    QuantumState([[0, 1, 0, 0]]),\n",
    "    QuantumState([[0, 1, 0, 1]]),\n",
    "    QuantumState([[0, 1, 1, 0]]),\n",
    "    QuantumState([[0, 1, 1, 1]]),\n",
    "    QuantumState([[1, 0, 0, 0]]),\n",
    "    QuantumState([[1, 0, 0, 1]]),\n",
    "    QuantumState([[1, 0, 1, 0]]),\n",
    "    QuantumState([[1, 0, 1, 1]]),\n",
    "    QuantumState([[1, 1, 0, 0]]),\n",
    "    QuantumState([[1, 1, 0, 1]]),\n",
    "    QuantumState([[1, 1, 1, 0]]),\n",
    "    QuantumState([[1, 1, 1, 1]]),    \n",
    "]"
   ]
  },
  {
   "cell_type": "code",
   "execution_count": 18,
   "metadata": {},
   "outputs": [
    {
     "name": "stdout",
     "output_type": "stream",
     "text": [
      "--- 0 ---\n",
      "Expected output state: 0\n",
      "Obtained output state: \n",
      "--- 1 ---\n",
      "Expected output state: 0\n",
      "Obtained output state: \n",
      "--- 2 ---\n",
      "Expected output state: 0\n",
      "Obtained output state: \n",
      "--- 3 ---\n",
      "Expected output state: 0\n",
      "Obtained output state: \n",
      "--- 4 ---\n",
      "Expected output state: 0\n",
      "Obtained output state: \n",
      "--- 5 ---\n",
      "Expected output state: 0\n",
      "Obtained output state: \n",
      "--- 6 ---\n",
      "Expected output state: 0\n",
      "Obtained output state: \n",
      "--- 7 ---\n",
      "Expected output state: 0\n",
      "Obtained output state: \n",
      "--- 8 ---\n",
      "Expected output state: 0\n",
      "Obtained output state: \n",
      "--- 9 ---\n",
      "Expected output state: 0\n",
      "Obtained output state: \n",
      "--- 10 ---\n",
      "Expected output state: -1.0 * |((), (), ())⟩\n",
      "Obtained output state: -1.000+0.000j |0000>\n",
      "--- 11 ---\n",
      "Expected output state: 1.0 * |((), (0,), ())⟩\n",
      "Obtained output state:  1.000+0.000j |0001>\n",
      "--- 12 ---\n",
      "Expected output state: 0\n",
      "Obtained output state: \n",
      "--- 13 ---\n",
      "Expected output state: 0\n",
      "Obtained output state: \n",
      "--- 14 ---\n",
      "Expected output state: -1.0 * |((0,), (), ())⟩\n",
      "Obtained output state:  1.000+0.000j |0100>\n",
      "--- 15 ---\n",
      "Expected output state: 1.0 * |((0,), (0,), ())⟩\n",
      "Obtained output state: -1.000+0.000j |0101>\n"
     ]
    }
   ],
   "source": [
    "for state_number in range(len(basis)): \n",
    "    print(\"---\", state_number, \"---\")\n",
    "    basis_state = basis[state_number]\n",
    "    qubit_basis_state = qubit_bd_basis_states[state_number]\n",
    "    print(\"Expected output state:\", op * basis_state)\n",
    "    print(\"Obtained output state:\", op.to_paulis() * qubit_basis_state)"
   ]
  },
  {
   "cell_type": "code",
   "execution_count": 19,
   "metadata": {},
   "outputs": [
    {
     "data": {
      "text/plain": [
       "[1.0 * |((), (), ())⟩,\n",
       " 1.0 * |((), (0,), ())⟩,\n",
       " 1.0 * |((), (1,), ())⟩,\n",
       " 1.0 * |((), (0, 1), ())⟩,\n",
       " 1.0 * |((0,), (), ())⟩,\n",
       " 1.0 * |((0,), (0,), ())⟩,\n",
       " 1.0 * |((0,), (1,), ())⟩,\n",
       " 1.0 * |((0,), (0, 1), ())⟩,\n",
       " 1.0 * |((1,), (), ())⟩,\n",
       " 1.0 * |((1,), (0,), ())⟩,\n",
       " 1.0 * |((1,), (1,), ())⟩,\n",
       " 1.0 * |((1,), (0, 1), ())⟩,\n",
       " 1.0 * |((0, 1), (), ())⟩,\n",
       " 1.0 * |((0, 1), (0,), ())⟩,\n",
       " 1.0 * |((0, 1), (1,), ())⟩,\n",
       " 1.0 * |((0, 1), (0, 1), ())⟩]"
      ]
     },
     "execution_count": 19,
     "metadata": {},
     "output_type": "execute_result"
    }
   ],
   "source": [
    "op = ParticleOperator(\"b1 d1\")\n",
    "basis = get_fock_basis(op)\n",
    "basis"
   ]
  }
 ],
 "metadata": {
  "kernelspec": {
   "display_name": "openparticle",
   "language": "python",
   "name": "python3"
  },
  "language_info": {
   "codemirror_mode": {
    "name": "ipython",
    "version": 3
   },
   "file_extension": ".py",
   "mimetype": "text/x-python",
   "name": "python",
   "nbconvert_exporter": "python",
   "pygments_lexer": "ipython3",
   "version": "3.11.11"
  },
  "orig_nbformat": 4
 },
 "nbformat": 4,
 "nbformat_minor": 2
}
