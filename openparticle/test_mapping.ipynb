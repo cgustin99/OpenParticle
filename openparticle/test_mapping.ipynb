{
 "cells": [
  {
   "cell_type": "code",
   "execution_count": 1,
   "metadata": {},
   "outputs": [],
   "source": [
    "from openparticle import ParticleOperator\n",
    "from symmer import PauliwordOp\n",
    "import numpy as np"
   ]
  },
  {
   "cell_type": "code",
   "execution_count": 2,
   "metadata": {},
   "outputs": [
    {
     "data": {
      "text/plain": [
       " 0.250+0.000j XZZXZZ +\n",
       " 0.000+0.250j YZZXZZ +\n",
       " 0.000+0.250j XZZYZZ +\n",
       "-0.250+0.000j YZZYZZ"
      ]
     },
     "execution_count": 2,
     "metadata": {},
     "output_type": "execute_result"
    }
   ],
   "source": [
    "ParticleOperator(\"b2 d2\").to_paulis()"
   ]
  },
  {
   "cell_type": "code",
   "execution_count": 3,
   "metadata": {},
   "outputs": [],
   "source": [
    "from openparticle.utils import get_fock_basis, generate_matrix"
   ]
  },
  {
   "cell_type": "code",
   "execution_count": 4,
   "metadata": {},
   "outputs": [
    {
     "data": {
      "text/plain": [
       "array([[ 0.+0.j,  0.+0.j,  0.+0.j,  0.+0.j,  0.+0.j,  0.+0.j, -1.+0.j,\n",
       "         0.+0.j],\n",
       "       [ 0.+0.j,  0.+0.j,  0.+0.j,  0.+0.j,  0.+0.j,  0.+0.j,  0.+0.j,\n",
       "         1.+0.j],\n",
       "       [ 0.+0.j,  0.+0.j,  0.+0.j,  0.+0.j,  0.+0.j,  0.+0.j,  0.+0.j,\n",
       "         0.+0.j],\n",
       "       [ 0.+0.j,  0.+0.j,  0.+0.j,  0.+0.j,  0.+0.j,  0.+0.j,  0.+0.j,\n",
       "         0.+0.j],\n",
       "       [ 0.+0.j,  0.+0.j,  0.+0.j,  0.+0.j,  0.+0.j,  0.+0.j,  0.+0.j,\n",
       "         0.+0.j],\n",
       "       [ 0.+0.j,  0.+0.j,  0.+0.j,  0.+0.j,  0.+0.j,  0.+0.j,  0.+0.j,\n",
       "         0.+0.j],\n",
       "       [ 0.+0.j,  0.+0.j,  0.+0.j,  0.+0.j,  0.+0.j,  0.+0.j,  0.+0.j,\n",
       "         0.+0.j],\n",
       "       [ 0.+0.j,  0.+0.j,  0.+0.j,  0.+0.j,  0.+0.j,  0.+0.j,  0.+0.j,\n",
       "         0.+0.j]])"
      ]
     },
     "execution_count": 4,
     "metadata": {},
     "output_type": "execute_result"
    }
   ],
   "source": [
    "op = ParticleOperator(\"b0 d1\")\n",
    "basis = get_fock_basis(op)\n",
    "matrix = generate_matrix(op, basis)\n",
    "matrix_pauli = op.to_paulis().to_sparse_matrix.toarray()\n",
    "matrix"
   ]
  },
  {
   "cell_type": "code",
   "execution_count": 5,
   "metadata": {},
   "outputs": [
    {
     "data": {
      "text/plain": [
       "False"
      ]
     },
     "execution_count": 5,
     "metadata": {},
     "output_type": "execute_result"
    }
   ],
   "source": [
    "np.allclose(matrix, matrix_pauli)"
   ]
  },
  {
   "cell_type": "code",
   "execution_count": 6,
   "metadata": {},
   "outputs": [
    {
     "name": "stdout",
     "output_type": "stream",
     "text": [
      "0j 0j\n",
      "0j 0j\n",
      "0j 0j\n",
      "0j 0j\n",
      "0j 0j\n",
      "0j 0j\n",
      "(-1+0j) (1+0j)\n",
      "0j 0j\n",
      "0j 0j\n",
      "0j 0j\n",
      "0j 0j\n",
      "0j 0j\n",
      "0j 0j\n",
      "0j 0j\n",
      "0j 0j\n",
      "(1+0j) (-1+0j)\n",
      "0j 0j\n",
      "0j 0j\n",
      "0j 0j\n",
      "0j 0j\n",
      "0j 0j\n",
      "0j 0j\n",
      "0j 0j\n",
      "0j 0j\n",
      "0j 0j\n",
      "0j 0j\n",
      "0j 0j\n",
      "0j 0j\n",
      "0j 0j\n",
      "0j 0j\n",
      "0j 0j\n",
      "0j 0j\n",
      "0j 0j\n",
      "0j 0j\n",
      "0j 0j\n",
      "0j 0j\n",
      "0j 0j\n",
      "0j 0j\n",
      "0j 0j\n",
      "0j 0j\n",
      "0j 0j\n",
      "0j 0j\n",
      "0j 0j\n",
      "0j 0j\n",
      "0j 0j\n",
      "0j 0j\n",
      "0j 0j\n",
      "0j 0j\n",
      "0j 0j\n",
      "0j 0j\n",
      "0j 0j\n",
      "0j 0j\n",
      "0j 0j\n",
      "0j 0j\n",
      "0j 0j\n",
      "0j 0j\n",
      "0j 0j\n",
      "0j 0j\n",
      "0j 0j\n",
      "0j 0j\n",
      "0j 0j\n",
      "0j 0j\n",
      "0j 0j\n",
      "0j 0j\n"
     ]
    }
   ],
   "source": [
    "for i in range(len(matrix)):\n",
    "    for j in range(len(matrix)):\n",
    "        print(matrix[i, j], matrix_pauli[i,j])"
   ]
  },
  {
   "cell_type": "code",
   "execution_count": null,
   "metadata": {},
   "outputs": [],
   "source": []
  }
 ],
 "metadata": {
  "kernelspec": {
   "display_name": "openparticle",
   "language": "python",
   "name": "python3"
  },
  "language_info": {
   "codemirror_mode": {
    "name": "ipython",
    "version": 3
   },
   "file_extension": ".py",
   "mimetype": "text/x-python",
   "name": "python",
   "nbconvert_exporter": "python",
   "pygments_lexer": "ipython3",
   "version": "3.11.11"
  },
  "orig_nbformat": 4
 },
 "nbformat": 4,
 "nbformat_minor": 2
}
