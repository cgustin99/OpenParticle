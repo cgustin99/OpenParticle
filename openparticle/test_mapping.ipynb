{
 "cells": [
  {
   "cell_type": "code",
   "execution_count": 1,
   "metadata": {},
   "outputs": [],
   "source": [
    "from openparticle import ParticleOperator, Fock\n",
    "from symmer import PauliwordOp, QuantumState\n",
    "import numpy as np\n",
    "from openparticle.utils import get_fock_basis, generate_matrix"
   ]
  },
  {
   "cell_type": "code",
   "execution_count": 2,
   "metadata": {},
   "outputs": [
    {
     "data": {
      "text/plain": [
       " 1.000+0.000j |0000001>"
      ]
     },
     "execution_count": 2,
     "metadata": {},
     "output_type": "execute_result"
    }
   ],
   "source": [
    "Fock([], [0], []).to_qubit_state(None, 3, 2, None)"
   ]
  },
  {
   "cell_type": "code",
   "execution_count": 3,
   "metadata": {},
   "outputs": [
    {
     "data": {
      "text/plain": [
       " 1.000+0.000j |0000000>"
      ]
     },
     "execution_count": 3,
     "metadata": {},
     "output_type": "execute_result"
    }
   ],
   "source": [
    "Fock([], [], []).to_qubit_state(max_fermionic_mode=3, \n",
    "                                max_antifermionic_mode=2)"
   ]
  },
  {
   "cell_type": "code",
   "execution_count": 4,
   "metadata": {},
   "outputs": [
    {
     "data": {
      "text/plain": [
       " 0.500+0.000j X +\n",
       " 0.000+0.500j Y"
      ]
     },
     "execution_count": 4,
     "metadata": {},
     "output_type": "execute_result"
    }
   ],
   "source": [
    "ParticleOperator('a0').to_paulis(max_bosonic_mode=0, max_bosonic_occupancy=1)"
   ]
  },
  {
   "cell_type": "code",
   "execution_count": 5,
   "metadata": {},
   "outputs": [
    {
     "data": {
      "text/plain": [
       " 0.000-0.250j YIX +\n",
       "-0.250+0.000j XIX +\n",
       " 0.250+0.000j YIY +\n",
       " 0.000-0.250j XIY"
      ]
     },
     "execution_count": 5,
     "metadata": {},
     "output_type": "execute_result"
    }
   ],
   "source": [
    "ParticleOperator('b1 d0').to_paulis(max_fermionic_mode=1, max_antifermionic_mode=0)"
   ]
  },
  {
   "cell_type": "code",
   "execution_count": 6,
   "metadata": {},
   "outputs": [
    {
     "data": {
      "text/plain": [
       "[1.0 * |((), (), ())⟩,\n",
       " 1.0 * |((), (0,), ())⟩,\n",
       " 1.0 * |((), (1,), ())⟩,\n",
       " 1.0 * |((), (0, 1), ())⟩,\n",
       " 1.0 * |((0,), (), ())⟩,\n",
       " 1.0 * |((0,), (0,), ())⟩,\n",
       " 1.0 * |((0,), (1,), ())⟩,\n",
       " 1.0 * |((0,), (0, 1), ())⟩]"
      ]
     },
     "execution_count": 6,
     "metadata": {},
     "output_type": "execute_result"
    }
   ],
   "source": [
    "bd_op = ParticleOperator('b0 d1')\n",
    "bd_basis = get_fock_basis(bd_op)\n",
    "bd_basis"
   ]
  },
  {
   "cell_type": "code",
   "execution_count": 7,
   "metadata": {},
   "outputs": [],
   "source": [
    "qubit_bd_basis_states = [\n",
    "    QuantumState([[0, 0, 0]]),\n",
    "    QuantumState([[0, 0, 1]]),\n",
    "    QuantumState([[0, 1, 0]]),\n",
    "    QuantumState([[0, 1, 1]]),\n",
    "    QuantumState([[1, 0, 0]]),\n",
    "    QuantumState([[1, 0, 1]]),\n",
    "    QuantumState([[1, 1, 0]]),\n",
    "    QuantumState([[1, 1, 1]]),\n",
    "]"
   ]
  },
  {
   "cell_type": "code",
   "execution_count": 8,
   "metadata": {},
   "outputs": [
    {
     "name": "stdout",
     "output_type": "stream",
     "text": [
      "--- 0 ---\n",
      "Expected output state: 0\n",
      "Obtained output state: \n",
      "--- 1 ---\n",
      "Expected output state: 0\n",
      "Obtained output state: \n",
      "--- 2 ---\n",
      "Expected output state: 0\n",
      "Obtained output state: \n",
      "--- 3 ---\n",
      "Expected output state: 0\n",
      "Obtained output state: \n",
      "--- 4 ---\n",
      "Expected output state: 0\n",
      "Obtained output state: \n",
      "--- 5 ---\n",
      "Expected output state: 0\n",
      "Obtained output state: \n",
      "--- 6 ---\n",
      "Expected output state: -1.0 * |((), (), ())⟩\n",
      "Obtained output state: -1.000+0.000j |000>\n",
      "--- 7 ---\n",
      "Expected output state: 1.0 * |((), (0,), ())⟩\n",
      "Obtained output state:  1.000+0.000j |001>\n"
     ]
    }
   ],
   "source": [
    "for state_number in range(len(bd_basis)): \n",
    "    print(\"---\", state_number, \"---\")\n",
    "    basis_state = bd_basis[state_number]\n",
    "    qubit_basis_state = qubit_bd_basis_states[state_number]\n",
    "    print(\"Expected output state:\", bd_op * basis_state)\n",
    "    print(\"Obtained output state:\", bd_op.to_paulis(0, 1) * qubit_basis_state)"
   ]
  },
  {
   "cell_type": "code",
   "execution_count": 9,
   "metadata": {},
   "outputs": [
    {
     "data": {
      "text/plain": [
       "[1.0 * |((), (), ())⟩,\n",
       " 1.0 * |((), (0,), ())⟩,\n",
       " 1.0 * |((), (1,), ())⟩,\n",
       " 1.0 * |((), (2,), ())⟩,\n",
       " 1.0 * |((), (0, 1), ())⟩,\n",
       " 1.0 * |((), (0, 2), ())⟩,\n",
       " 1.0 * |((), (1, 2), ())⟩,\n",
       " 1.0 * |((), (0, 1, 2), ())⟩,\n",
       " 1.0 * |((0,), (), ())⟩,\n",
       " 1.0 * |((0,), (0,), ())⟩,\n",
       " 1.0 * |((0,), (1,), ())⟩,\n",
       " 1.0 * |((0,), (2,), ())⟩,\n",
       " 1.0 * |((0,), (0, 1), ())⟩,\n",
       " 1.0 * |((0,), (0, 2), ())⟩,\n",
       " 1.0 * |((0,), (1, 2), ())⟩,\n",
       " 1.0 * |((0,), (0, 1, 2), ())⟩]"
      ]
     },
     "execution_count": 9,
     "metadata": {},
     "output_type": "execute_result"
    }
   ],
   "source": [
    "op = ParticleOperator('b0 d2')\n",
    "basis = get_fock_basis(op)\n",
    "basis"
   ]
  },
  {
   "cell_type": "code",
   "execution_count": 10,
   "metadata": {},
   "outputs": [],
   "source": [
    "qubit_bd_basis_states = [\n",
    "    QuantumState([[0, 0, 0, 0]]),\n",
    "    QuantumState([[0, 0, 0, 1]]),\n",
    "    QuantumState([[0, 0, 1, 0]]),\n",
    "    QuantumState([[0, 1, 0, 0]]),\n",
    "    QuantumState([[0, 0, 1, 1]]),\n",
    "    QuantumState([[0, 1, 0, 1]]),\n",
    "    QuantumState([[0, 1, 1, 0]]),\n",
    "    QuantumState([[0, 1, 1, 1]]),\n",
    "    QuantumState([[1, 0, 0, 0]]),\n",
    "    QuantumState([[1, 0, 0, 1]]),\n",
    "    QuantumState([[1, 0, 1, 0]]),\n",
    "    QuantumState([[1, 1, 0, 0]]),\n",
    "    QuantumState([[1, 0, 1, 1]]),\n",
    "    QuantumState([[1, 1, 0, 1]]),\n",
    "    QuantumState([[1, 1, 1, 0]]),\n",
    "    QuantumState([[1, 1, 1, 1]]),\n",
    "]"
   ]
  },
  {
   "cell_type": "code",
   "execution_count": 11,
   "metadata": {},
   "outputs": [
    {
     "name": "stdout",
     "output_type": "stream",
     "text": [
      "--- 0 ---\n",
      "Expected output state: 0\n",
      "Obtained output state: \n",
      "--- 1 ---\n",
      "Expected output state: 0\n",
      "Obtained output state: \n",
      "--- 2 ---\n",
      "Expected output state: 0\n",
      "Obtained output state: \n",
      "--- 3 ---\n",
      "Expected output state: 0\n",
      "Obtained output state: \n",
      "--- 4 ---\n",
      "Expected output state: 0\n",
      "Obtained output state: \n",
      "--- 5 ---\n",
      "Expected output state: 0\n",
      "Obtained output state: \n",
      "--- 6 ---\n",
      "Expected output state: 0\n",
      "Obtained output state: \n",
      "--- 7 ---\n",
      "Expected output state: 0\n",
      "Obtained output state: \n",
      "--- 8 ---\n",
      "Expected output state: 0\n",
      "Obtained output state: \n",
      "--- 9 ---\n",
      "Expected output state: 0\n",
      "Obtained output state: \n",
      "--- 10 ---\n",
      "Expected output state: 0\n",
      "Obtained output state: \n",
      "--- 11 ---\n",
      "Expected output state: -1.0 * |((), (), ())⟩\n",
      "Obtained output state: -1.000+0.000j |0000>\n",
      "--- 12 ---\n",
      "Expected output state: 0\n",
      "Obtained output state: \n",
      "--- 13 ---\n",
      "Expected output state: 1.0 * |((), (0,), ())⟩\n",
      "Obtained output state:  1.000+0.000j |0001>\n",
      "--- 14 ---\n",
      "Expected output state: 1.0 * |((), (1,), ())⟩\n",
      "Obtained output state:  1.000+0.000j |0010>\n",
      "--- 15 ---\n",
      "Expected output state: -1.0 * |((), (0, 1), ())⟩\n",
      "Obtained output state: -1.000+0.000j |0011>\n"
     ]
    }
   ],
   "source": [
    "for state_number in range(len(basis)): \n",
    "    print(\"---\", state_number, \"---\")\n",
    "    basis_state = basis[state_number]\n",
    "    qubit_basis_state = qubit_bd_basis_states[state_number]\n",
    "    print(\"Expected output state:\", op * basis_state)\n",
    "    print(\"Obtained output state:\", op.to_paulis(0, 2) * qubit_basis_state)"
   ]
  },
  {
   "cell_type": "code",
   "execution_count": 12,
   "metadata": {},
   "outputs": [
    {
     "data": {
      "text/plain": [
       "[1.0 * |((), (), ())⟩,\n",
       " 1.0 * |((), (0,), ())⟩,\n",
       " 1.0 * |((0,), (), ())⟩,\n",
       " 1.0 * |((0,), (0,), ())⟩,\n",
       " 1.0 * |((1,), (), ())⟩,\n",
       " 1.0 * |((1,), (0,), ())⟩,\n",
       " 1.0 * |((0, 1), (), ())⟩,\n",
       " 1.0 * |((0, 1), (0,), ())⟩]"
      ]
     },
     "execution_count": 12,
     "metadata": {},
     "output_type": "execute_result"
    }
   ],
   "source": [
    "op = ParticleOperator('b0 b1 d0')\n",
    "basis = get_fock_basis(op)\n",
    "basis"
   ]
  },
  {
   "cell_type": "code",
   "execution_count": 13,
   "metadata": {},
   "outputs": [],
   "source": [
    "qubit_bd_basis_states = [\n",
    "    QuantumState([[0, 0, 0]]),\n",
    "    QuantumState([[0, 0, 1]]),\n",
    "    QuantumState([[0, 1, 0]]),\n",
    "    QuantumState([[0, 1, 1]]),\n",
    "    QuantumState([[1, 0, 0]]),\n",
    "    QuantumState([[1, 0, 1]]),\n",
    "    QuantumState([[1, 1, 0]]),\n",
    "    QuantumState([[1, 1, 1]]),\n",
    "    \n",
    "]"
   ]
  },
  {
   "cell_type": "code",
   "execution_count": 14,
   "metadata": {},
   "outputs": [
    {
     "name": "stdout",
     "output_type": "stream",
     "text": [
      "--- 0 ---\n",
      "Expected output state: 0\n",
      "Obtained output state: \n",
      "--- 1 ---\n",
      "Expected output state: 0\n",
      "Obtained output state: \n",
      "--- 2 ---\n",
      "Expected output state: 0\n",
      "Obtained output state: \n",
      "--- 3 ---\n",
      "Expected output state: 0\n",
      "Obtained output state: \n",
      "--- 4 ---\n",
      "Expected output state: 0\n",
      "Obtained output state: \n",
      "--- 5 ---\n",
      "Expected output state: 0\n",
      "Obtained output state: \n",
      "--- 6 ---\n",
      "Expected output state: 0\n",
      "Obtained output state: \n",
      "--- 7 ---\n",
      "Expected output state: -1.0 * |((), (), ())⟩\n",
      "Obtained output state: -1.000+0.000j |000>\n"
     ]
    }
   ],
   "source": [
    "for state_number in range(len(basis)): \n",
    "    print(\"---\", state_number, \"---\")\n",
    "    basis_state = basis[state_number]\n",
    "    qubit_basis_state = qubit_bd_basis_states[state_number]\n",
    "    print(\"Expected output state:\", op * basis_state)\n",
    "    print(\"Obtained output state:\", op.to_paulis(1, 0) * qubit_basis_state)"
   ]
  },
  {
   "cell_type": "code",
   "execution_count": 15,
   "metadata": {},
   "outputs": [
    {
     "data": {
      "text/plain": [
       "[1.0 * |((), (), ())⟩,\n",
       " 1.0 * |((), (0,), ())⟩,\n",
       " 1.0 * |((), (1,), ())⟩,\n",
       " 1.0 * |((), (0, 1), ())⟩,\n",
       " 1.0 * |((0,), (), ())⟩,\n",
       " 1.0 * |((0,), (0,), ())⟩,\n",
       " 1.0 * |((0,), (1,), ())⟩,\n",
       " 1.0 * |((0,), (0, 1), ())⟩]"
      ]
     },
     "execution_count": 15,
     "metadata": {},
     "output_type": "execute_result"
    }
   ],
   "source": [
    "op = ParticleOperator('b0 d0 d1')\n",
    "basis = get_fock_basis(op)\n",
    "basis"
   ]
  },
  {
   "cell_type": "code",
   "execution_count": 16,
   "metadata": {},
   "outputs": [],
   "source": [
    "qubit_bd_basis_states = [\n",
    "    QuantumState([[0, 0, 0]]),\n",
    "    QuantumState([[0, 0, 1]]),\n",
    "    QuantumState([[0, 1, 0]]),\n",
    "    QuantumState([[0, 1, 1]]),\n",
    "    QuantumState([[1, 0, 0]]),\n",
    "    QuantumState([[1, 0, 1]]),\n",
    "    QuantumState([[1, 1, 0]]),\n",
    "    QuantumState([[1, 1, 1]]),\n",
    "    \n",
    "]"
   ]
  },
  {
   "cell_type": "code",
   "execution_count": 17,
   "metadata": {},
   "outputs": [
    {
     "name": "stdout",
     "output_type": "stream",
     "text": [
      "--- 0 ---\n",
      "Expected output state: 0\n",
      "Obtained output state: \n",
      "--- 1 ---\n",
      "Expected output state: 0\n",
      "Obtained output state: \n",
      "--- 2 ---\n",
      "Expected output state: 0\n",
      "Obtained output state: \n",
      "--- 3 ---\n",
      "Expected output state: 0\n",
      "Obtained output state: \n",
      "--- 4 ---\n",
      "Expected output state: 0\n",
      "Obtained output state: \n",
      "--- 5 ---\n",
      "Expected output state: 0\n",
      "Obtained output state: \n",
      "--- 6 ---\n",
      "Expected output state: 0\n",
      "Obtained output state: \n",
      "--- 7 ---\n",
      "Expected output state: -1.0 * |((), (), ())⟩\n",
      "Obtained output state: -1.000+0.000j |000>\n"
     ]
    }
   ],
   "source": [
    "for state_number in range(len(basis)): \n",
    "    print(\"---\", state_number, \"---\")\n",
    "    basis_state = basis[state_number]\n",
    "    qubit_basis_state = qubit_bd_basis_states[state_number]\n",
    "    print(\"Expected output state:\", op * basis_state)\n",
    "    print(\"Obtained output state:\", op.to_paulis(0, 1) * qubit_basis_state)"
   ]
  },
  {
   "cell_type": "code",
   "execution_count": 18,
   "metadata": {},
   "outputs": [
    {
     "data": {
      "text/plain": [
       "[1.0 * |((), (), ())⟩,\n",
       " 1.0 * |((), (0,), ())⟩,\n",
       " 1.0 * |((), (1,), ())⟩,\n",
       " 1.0 * |((), (0, 1), ())⟩,\n",
       " 1.0 * |((0,), (), ())⟩,\n",
       " 1.0 * |((0,), (0,), ())⟩,\n",
       " 1.0 * |((0,), (1,), ())⟩,\n",
       " 1.0 * |((0,), (0, 1), ())⟩,\n",
       " 1.0 * |((1,), (), ())⟩,\n",
       " 1.0 * |((1,), (0,), ())⟩,\n",
       " 1.0 * |((1,), (1,), ())⟩,\n",
       " 1.0 * |((1,), (0, 1), ())⟩,\n",
       " 1.0 * |((0, 1), (), ())⟩,\n",
       " 1.0 * |((0, 1), (0,), ())⟩,\n",
       " 1.0 * |((0, 1), (1,), ())⟩,\n",
       " 1.0 * |((0, 1), (0, 1), ())⟩]"
      ]
     },
     "execution_count": 18,
     "metadata": {},
     "output_type": "execute_result"
    }
   ],
   "source": [
    "op = ParticleOperator(\"b1 d1\")\n",
    "basis = get_fock_basis(op)\n",
    "basis"
   ]
  },
  {
   "cell_type": "code",
   "execution_count": 19,
   "metadata": {},
   "outputs": [
    {
     "data": {
      "text/plain": [
       " 0.000-0.250j YIXZ +\n",
       "-0.250+0.000j XIXZ +\n",
       " 0.250+0.000j YIYZ +\n",
       " 0.000-0.250j XIYZ"
      ]
     },
     "execution_count": 19,
     "metadata": {},
     "output_type": "execute_result"
    }
   ],
   "source": [
    "ParticleOperator(\"b1 d1\").to_paulis(1, 1)"
   ]
  },
  {
   "cell_type": "code",
   "execution_count": 20,
   "metadata": {},
   "outputs": [],
   "source": [
    "qubit_bd_basis_states = [\n",
    "    QuantumState([[0, 0, 0, 0]]),\n",
    "    QuantumState([[0, 0, 0, 1]]),\n",
    "    QuantumState([[0, 0, 1, 0]]),\n",
    "    QuantumState([[0, 0, 1, 1]]),\n",
    "    QuantumState([[0, 1, 0, 0]]),\n",
    "    QuantumState([[0, 1, 0, 1]]),\n",
    "    QuantumState([[0, 1, 1, 0]]),\n",
    "    QuantumState([[0, 1, 1, 1]]),\n",
    "    QuantumState([[1, 0, 0, 0]]),\n",
    "    QuantumState([[1, 0, 0, 1]]),\n",
    "    QuantumState([[1, 0, 1, 0]]),\n",
    "    QuantumState([[1, 0, 1, 1]]),\n",
    "    QuantumState([[1, 1, 0, 0]]),\n",
    "    QuantumState([[1, 1, 0, 1]]),\n",
    "    QuantumState([[1, 1, 1, 0]]),\n",
    "    QuantumState([[1, 1, 1, 1]]),    \n",
    "]"
   ]
  },
  {
   "cell_type": "code",
   "execution_count": 21,
   "metadata": {},
   "outputs": [
    {
     "name": "stdout",
     "output_type": "stream",
     "text": [
      "--- 0 ---\n",
      "Expected output state: 0\n",
      "Obtained output state: \n",
      "--- 1 ---\n",
      "Expected output state: 0\n",
      "Obtained output state: \n",
      "--- 2 ---\n",
      "Expected output state: 0\n",
      "Obtained output state: \n",
      "--- 3 ---\n",
      "Expected output state: 0\n",
      "Obtained output state: \n",
      "--- 4 ---\n",
      "Expected output state: 0\n",
      "Obtained output state: \n",
      "--- 5 ---\n",
      "Expected output state: 0\n",
      "Obtained output state: \n",
      "--- 6 ---\n",
      "Expected output state: 0\n",
      "Obtained output state: \n",
      "--- 7 ---\n",
      "Expected output state: 0\n",
      "Obtained output state: \n",
      "--- 8 ---\n",
      "Expected output state: 0\n",
      "Obtained output state: \n",
      "--- 9 ---\n",
      "Expected output state: 0\n",
      "Obtained output state: \n",
      "--- 10 ---\n",
      "Expected output state: -1.0 * |((), (), ())⟩\n",
      "Obtained output state: -1.000+0.000j |0000>\n",
      "--- 11 ---\n",
      "Expected output state: 1.0 * |((), (0,), ())⟩\n",
      "Obtained output state:  1.000+0.000j |0001>\n",
      "--- 12 ---\n",
      "Expected output state: 0\n",
      "Obtained output state: \n",
      "--- 13 ---\n",
      "Expected output state: 0\n",
      "Obtained output state: \n",
      "--- 14 ---\n",
      "Expected output state: -1.0 * |((0,), (), ())⟩\n",
      "Obtained output state: -1.000+0.000j |0100>\n",
      "--- 15 ---\n",
      "Expected output state: 1.0 * |((0,), (0,), ())⟩\n",
      "Obtained output state:  1.000+0.000j |0101>\n"
     ]
    }
   ],
   "source": [
    "for state_number in range(len(basis)): \n",
    "    print(\"---\", state_number, \"---\")\n",
    "    basis_state = basis[state_number]\n",
    "    qubit_basis_state = qubit_bd_basis_states[state_number]\n",
    "    print(\"Expected output state:\", op * basis_state)\n",
    "    print(\"Obtained output state:\", op.to_paulis(1, 1) * qubit_basis_state)"
   ]
  },
  {
   "cell_type": "code",
   "execution_count": 22,
   "metadata": {},
   "outputs": [],
   "source": [
    "def generate_matrix_pauli(pauli_op, pauli_basis):\n",
    "\n",
    "    size = (len(pauli_basis), len(pauli_basis))\n",
    "    pauli_matrix = np.zeros(size, dtype=complex)\n",
    "\n",
    "    for i in range(len(pauli_basis)):\n",
    "        op_i = pauli_op * pauli_basis[i]\n",
    "        for j in range(len(pauli_basis)):\n",
    "            pauli_matrix[i, j] = pauli_basis[j].dagger * op_i\n",
    "\n",
    "    return pauli_matrix\n",
    "            \n",
    "    "
   ]
  },
  {
   "cell_type": "code",
   "execution_count": 23,
   "metadata": {},
   "outputs": [],
   "source": [
    "op = ParticleOperator(\"b0 b2 b3 d2\")\n",
    "\n",
    "max_fermionic_mode = op.max_fermionic_mode\n",
    "max_antifermionic_mode = op.max_antifermionic_mode\n",
    "# max_bosonic_mode = op.max_bosonic_mode\n",
    "basis = get_fock_basis(op)\n",
    "matrix = generate_matrix(op, basis)\n",
    "paulis = op.to_paulis(\n",
    "    max_fermionic_mode=max_fermionic_mode,\n",
    "    max_antifermionic_mode=max_antifermionic_mode,\n",
    ")\n",
    "pauli_basis = [basis[i].to_qubit_state(max_fermionic_mode = 3, \n",
    "                                       max_antifermionic_mode = 2) for i in range(len(basis))]\n",
    "# pauli_matrix = generate_matrix_pauli(paulis, pauli_basis)"
   ]
  },
  {
   "cell_type": "code",
   "execution_count": 27,
   "metadata": {},
   "outputs": [],
   "source": [
    "def verify_mapping(op, state, \n",
    "                   max_fermionic_mode: int = None,\n",
    "                   max_antifermionic_mode: int = None,\n",
    "                   max_bosonic_mode: int = None,\n",
    "                   max_bosonic_occupancy: int = None,):\n",
    "    n_qubits = sum(state.allocate_qubits(max_fermionic_mode = max_fermionic_mode,\n",
    "                                max_antifermionic_mode = max_antifermionic_mode,\n",
    "                                max_bosonic_mode = max_bosonic_mode,\n",
    "                                max_bosonic_occupancy = max_bosonic_occupancy))\n",
    "    output = op * state\n",
    "    # print(state, op.to_paulis(\n",
    "    #                             max_fermionic_mode = max_fermionic_mode,\n",
    "    #                             max_antifermionic_mode = max_antifermionic_mode,\n",
    "    #                             max_bosonic_mode = max_bosonic_mode,\n",
    "    #                             max_bosonic_occupancy = max_bosonic_occupancy\n",
    "    #                 ),state.to_qubit_state(\n",
    "    #                             max_fermionic_mode = max_fermionic_mode,\n",
    "    #                             max_antifermionic_mode = max_antifermionic_mode,\n",
    "    #                             max_bosonic_mode = max_bosonic_mode,\n",
    "    #                             max_bosonic_occupancy = max_bosonic_occupancy\n",
    "    #                         )\n",
    "    #                 )\n",
    "    output_pauli = op.to_paulis(\n",
    "                                max_fermionic_mode = max_fermionic_mode,\n",
    "                                max_antifermionic_mode = max_antifermionic_mode,\n",
    "                                max_bosonic_mode = max_bosonic_mode,\n",
    "                                max_bosonic_occupancy = max_bosonic_occupancy\n",
    "                    ) * state.to_qubit_state(\n",
    "                                max_fermionic_mode = max_fermionic_mode,\n",
    "                                max_antifermionic_mode = max_antifermionic_mode,\n",
    "                                max_bosonic_mode = max_bosonic_mode,\n",
    "                                max_bosonic_occupancy = max_bosonic_occupancy\n",
    "                            )\n",
    "    if isinstance(output, Fock):\n",
    "        expected_output = output.to_qubit_state(max_fermionic_mode = max_fermionic_mode,\n",
    "                                            max_antifermionic_mode = max_antifermionic_mode,\n",
    "                                            max_bosonic_mode = max_bosonic_mode,\n",
    "                                            max_bosonic_occupancy = max_bosonic_occupancy\n",
    "                                )\n",
    "    else: expected_output = QuantumState([0] * n_qubits) * 0\n",
    "\n",
    "\n",
    "    similarity = output_pauli - expected_output\n",
    "    assert ( list(similarity.state_op.coeff_vec) == [])\n",
    "    \n",
    "        \n",
    "\n",
    "\n",
    "    \n"
   ]
  },
  {
   "cell_type": "code",
   "execution_count": 28,
   "metadata": {},
   "outputs": [],
   "source": [
    "for state in range(len(basis)):\n",
    "    verify_mapping(op, basis[state], max_fermionic_mode=3, max_antifermionic_mode=2)"
   ]
  },
  {
   "cell_type": "code",
   "execution_count": null,
   "metadata": {},
   "outputs": [
    {
     "data": {
      "text/plain": [
       " 1.000+0.000j |000>"
      ]
     },
     "execution_count": 26,
     "metadata": {},
     "output_type": "execute_result"
    }
   ],
   "source": [
    "basis[0].to_qubit_state(3, 1, 0)"
   ]
  },
  {
   "cell_type": "code",
   "execution_count": null,
   "metadata": {},
   "outputs": [
    {
     "data": {
      "text/plain": [
       "1.0 * |((), (), ())⟩"
      ]
     },
     "execution_count": 27,
     "metadata": {},
     "output_type": "execute_result"
    }
   ],
   "source": [
    "op * basis[107]"
   ]
  },
  {
   "cell_type": "code",
   "execution_count": null,
   "metadata": {},
   "outputs": [
    {
     "ename": "TypeError",
     "evalue": "Fock.to_qubit_state() got an unexpected keyword argument 'max_fermion_mode'",
     "output_type": "error",
     "traceback": [
      "\u001b[0;31m---------------------------------------------------------------------------\u001b[0m",
      "\u001b[0;31mTypeError\u001b[0m                                 Traceback (most recent call last)",
      "\u001b[1;32m/Users/carterm.gustin/Documents/PhDCode/Lightfront/OpenParticle/openparticle/test_mapping.ipynb Cell 28\u001b[0m line \u001b[0;36m4\n\u001b[1;32m      <a href='vscode-notebook-cell:/Users/carterm.gustin/Documents/PhDCode/Lightfront/OpenParticle/openparticle/test_mapping.ipynb#X56sZmlsZQ%3D%3D?line=0'>1</a>\u001b[0m op\u001b[39m.\u001b[39mto_paulis(\n\u001b[1;32m      <a href='vscode-notebook-cell:/Users/carterm.gustin/Documents/PhDCode/Lightfront/OpenParticle/openparticle/test_mapping.ipynb#X56sZmlsZQ%3D%3D?line=1'>2</a>\u001b[0m     max_fermionic_mode\u001b[39m=\u001b[39mmax_fermionic_mode,\n\u001b[1;32m      <a href='vscode-notebook-cell:/Users/carterm.gustin/Documents/PhDCode/Lightfront/OpenParticle/openparticle/test_mapping.ipynb#X56sZmlsZQ%3D%3D?line=2'>3</a>\u001b[0m     max_antifermionic_mode\u001b[39m=\u001b[39mmax_antifermionic_mode,\n\u001b[0;32m----> <a href='vscode-notebook-cell:/Users/carterm.gustin/Documents/PhDCode/Lightfront/OpenParticle/openparticle/test_mapping.ipynb#X56sZmlsZQ%3D%3D?line=3'>4</a>\u001b[0m )\u001b[39m*\u001b[39m Fock([\u001b[39m0\u001b[39;49m, \u001b[39m2\u001b[39;49m, \u001b[39m3\u001b[39;49m], [\u001b[39m2\u001b[39;49m], [])\u001b[39m.\u001b[39;49mto_qubit_state(max_fermion_mode\u001b[39m=\u001b[39;49m\u001b[39m3\u001b[39;49m, max_antifermion_mode\u001b[39m=\u001b[39;49m\u001b[39m2\u001b[39;49m) \n",
      "\u001b[0;31mTypeError\u001b[0m: Fock.to_qubit_state() got an unexpected keyword argument 'max_fermion_mode'"
     ]
    }
   ],
   "source": [
    "op.to_paulis(\n",
    "    max_fermionic_mode=max_fermionic_mode,\n",
    "    max_antifermionic_mode=max_antifermionic_mode,\n",
    ")* Fock([0, 2, 3], [2], []).to_qubit_state(max_fermion_mode=3, max_antifermion_mode=2) "
   ]
  },
  {
   "cell_type": "code",
   "execution_count": null,
   "metadata": {},
   "outputs": [
    {
     "data": {
      "text/plain": [
       " 1.000+0.000j |0000000>"
      ]
     },
     "execution_count": 26,
     "metadata": {},
     "output_type": "execute_result"
    }
   ],
   "source": [
    "Fock([], [], []).to_qubit_state(max_fermion_mode=3, max_antifermion_mode=2)"
   ]
  },
  {
   "cell_type": "code",
   "execution_count": 30,
   "metadata": {},
   "outputs": [],
   "source": [
    "op = ParticleOperator(\"a0 a1\")\n",
    "max_fermionic_mode = op.max_fermionic_mode\n",
    "max_antifermionic_mode = op.max_antifermionic_mode\n",
    "# max_bosonic_mode = op.max_bosonic_mode\n",
    "basis = get_fock_basis(op)\n",
    "matrix = generate_matrix(op, basis)\n",
    "paulis = op.to_paulis(\n",
    "    max_bosonic_mode = 1,\n",
    "                                       max_bosonic_occupancy = 3\n",
    ")\n",
    "pauli_basis = [basis[i].to_qubit_state(max_bosonic_mode = 1,\n",
    "                                       max_bosonic_occupancy = 3) for i in range(len(basis))]"
   ]
  },
  {
   "cell_type": "code",
   "execution_count": 31,
   "metadata": {},
   "outputs": [],
   "source": [
    "for state in range(len(basis)):\n",
    "    verify_mapping(op, basis[state], max_bosonic_mode=1, max_bosonic_occupancy=3)"
   ]
  },
  {
   "cell_type": "code",
   "execution_count": null,
   "metadata": {},
   "outputs": [],
   "source": []
  }
 ],
 "metadata": {
  "kernelspec": {
   "display_name": "openparticle",
   "language": "python",
   "name": "python3"
  },
  "language_info": {
   "codemirror_mode": {
    "name": "ipython",
    "version": 3
   },
   "file_extension": ".py",
   "mimetype": "text/x-python",
   "name": "python",
   "nbconvert_exporter": "python",
   "pygments_lexer": "ipython3",
   "version": "3.11.11"
  },
  "orig_nbformat": 4
 },
 "nbformat": 4,
 "nbformat_minor": 2
}
