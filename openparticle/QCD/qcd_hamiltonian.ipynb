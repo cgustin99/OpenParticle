{
 "cells": [
  {
   "cell_type": "code",
   "execution_count": 1,
   "id": "cc9081c5-e462-4239-bba1-d9945b161442",
   "metadata": {},
   "outputs": [],
   "source": [
    "from get_quantum_nums import get_quantum_numbers\n",
    "import hadron\n",
    "from openparticle.particleoperator import ParticleOperator\n",
    "from openparticle.fock import Fock, FockSum\n",
    "import numpy as np"
   ]
  },
  {
   "cell_type": "code",
   "execution_count": 2,
   "id": "7500fafd-1774-4109-8e55-e082d3e4c549",
   "metadata": {},
   "outputs": [],
   "source": [
    "g = 1\n",
    "L = 100\n",
    "mg = 0.01"
   ]
  },
  {
   "cell_type": "code",
   "execution_count": 3,
   "id": "d5ef5c89-b7f9-4522-b9bd-2ad5dc819690",
   "metadata": {},
   "outputs": [],
   "source": [
    "K = 1\n",
    "Lambda_perp = 0\n",
    "P_perp = 0"
   ]
  },
  {
   "cell_type": "code",
   "execution_count": 4,
   "id": "d03df321-e0aa-4f50-a720-073983da0659",
   "metadata": {},
   "outputs": [
    {
     "data": {
      "text/html": [
       "<div>\n",
       "<style scoped>\n",
       "    .dataframe tbody tr th:only-of-type {\n",
       "        vertical-align: middle;\n",
       "    }\n",
       "\n",
       "    .dataframe tbody tr th {\n",
       "        vertical-align: top;\n",
       "    }\n",
       "\n",
       "    .dataframe thead th {\n",
       "        text-align: right;\n",
       "    }\n",
       "</style>\n",
       "<table border=\"1\" class=\"dataframe\">\n",
       "  <thead>\n",
       "    <tr style=\"text-align: right;\">\n",
       "      <th></th>\n",
       "      <th>Helicity</th>\n",
       "      <th>n</th>\n",
       "      <th>n⟂</th>\n",
       "    </tr>\n",
       "  </thead>\n",
       "  <tbody>\n",
       "    <tr>\n",
       "      <th>0</th>\n",
       "      <td>+1</td>\n",
       "      <td>0.5</td>\n",
       "      <td>0</td>\n",
       "    </tr>\n",
       "    <tr>\n",
       "      <th>1</th>\n",
       "      <td>+1</td>\n",
       "      <td>1.0</td>\n",
       "      <td>0</td>\n",
       "    </tr>\n",
       "    <tr>\n",
       "      <th>2</th>\n",
       "      <td>-1</td>\n",
       "      <td>0.5</td>\n",
       "      <td>0</td>\n",
       "    </tr>\n",
       "    <tr>\n",
       "      <th>3</th>\n",
       "      <td>-1</td>\n",
       "      <td>1.0</td>\n",
       "      <td>0</td>\n",
       "    </tr>\n",
       "  </tbody>\n",
       "</table>\n",
       "</div>"
      ],
      "text/plain": [
       "  Helicity    n  n⟂\n",
       "0       +1  0.5   0\n",
       "1       +1  1.0   0\n",
       "2       -1  0.5   0\n",
       "3       -1  1.0   0"
      ]
     },
     "execution_count": 4,
     "metadata": {},
     "output_type": "execute_result"
    }
   ],
   "source": [
    "qnums = get_quantum_numbers(K, Lambda_perp)\n",
    "qnums"
   ]
  },
  {
   "cell_type": "code",
   "execution_count": 5,
   "id": "9b278428-b838-4154-9d82-0fd509bf9a14",
   "metadata": {},
   "outputs": [
    {
     "data": {
      "text/latex": [
       "$|q\\bar{q}⟩ + |g⟩$"
      ],
      "text/plain": [
       "<IPython.core.display.Latex object>"
      ]
     },
     "metadata": {},
     "output_type": "display_data"
    }
   ],
   "source": [
    "pion = hadron.Hadron('meson', K)\n",
    "pion.display()"
   ]
  },
  {
   "cell_type": "code",
   "execution_count": 6,
   "id": "b0f8f099-2548-4f0e-96d6-9ff49d4897ba",
   "metadata": {},
   "outputs": [
    {
     "data": {
      "text/latex": [
       "$1.0 * |0; 0; ⟩ + 1.0 * |0; 2; ⟩ + 1.0 * |2; 0; ⟩ + 1.0 * |2; 2; ⟩ + 1.0 * |; ; (1, 1)⟩ + 1.0 * |; ; (3, 1)⟩$"
      ],
      "text/plain": [
       "<IPython.core.display.Latex object>"
      ]
     },
     "metadata": {},
     "output_type": "display_data"
    }
   ],
   "source": [
    "pion_fock = pion.get_states(K, P_perp, Lambda_perp)\n",
    "pion_fock.display()"
   ]
  },
  {
   "cell_type": "code",
   "execution_count": 7,
   "id": "d6d475b5-985f-477d-92b2-66742334f36e",
   "metadata": {},
   "outputs": [],
   "source": [
    "def pplus(n):\n",
    "    return 2 * np.pi * n / L"
   ]
  },
  {
   "cell_type": "code",
   "execution_count": 8,
   "id": "c244a27c-d760-4194-af50-59b070de3599",
   "metadata": {},
   "outputs": [],
   "source": [
    "def Coeff_iG(q1, q2, q3, q4):\n",
    "    n1, n2 = qnums.iloc[q1]['n'], qnums.iloc[q2]['n'] \n",
    "    n3, n4 = qnums.iloc[q3]['n'], qnums.iloc[q4]['n']\n",
    "\n",
    "    h1, h2 = qnums.iloc[q1]['Helicity'], qnums.iloc[q2]['Helicity'] \n",
    "    h3, h4 = qnums.iloc[q3]['Helicity'], qnums.iloc[q4]['Helicity']\n",
    "    \n",
    "    return 4/((pplus(q1) - pplus(q4))**2 + mg**2) * np.sqrt(pplus(q1) * pplus(q2) *\\\n",
    "                       pplus(q3) * pplus(q4)) * (h1 == h4) * (h2 == h3)\n",
    "    "
   ]
  },
  {
   "cell_type": "code",
   "execution_count": 10,
   "id": "0fd4043e-e217-495b-b284-4060c685a64e",
   "metadata": {},
   "outputs": [],
   "source": [
    "H_iG = 0 * ParticleOperator('b0^ d1^ d2 b3')\n",
    "\n",
    "for i in range(len(qnums)):\n",
    "    for j in range(len(qnums)):\n",
    "        for k in range(len(qnums)):\n",
    "            for l in range(len(qnums)):\n",
    "                c = Coeff_iG(i, j, k, l)\n",
    "                op_st = 'b' + str(i) + '^ ' +\\\n",
    "                    'd' + str(j) + '^ ' +\\\n",
    "                    'd' + str(k) + ' ' +\\\n",
    "                    'b' + str(l)\n",
    "                H_iG += (-g**2) * Coeff_iG(i, j, k, l) * ParticleOperator(op_st)\n"
   ]
  },
  {
   "cell_type": "code",
   "execution_count": 11,
   "id": "8bbc2ba8-4896-4254-957c-cf447fe9a2c8",
   "metadata": {},
   "outputs": [
    {
     "data": {
      "text/latex": [
       "$0.0*b^†_0d^†_1d_2b_3 + -0.0*b^†_0d^†_0d_0b_0 + -0.0*b^†_0d^†_0d_0b_1 + -0.0*b^†_0d^†_0d_0b_2 + -0.0*b^†_0d^†_0d_0b_3 + -0.0*b^†_0d^†_0d_1b_0 + -0.0*b^†_0d^†_0d_1b_1 + -0.0*b^†_0d^†_0d_1b_2 + -0.0*b^†_0d^†_0d_1b_3 + -0.0*b^†_0d^†_0d_2b_0 + -0.0*b^†_0d^†_0d_2b_1 + -0.0*b^†_0d^†_0d_2b_2 + -0.0*b^†_0d^†_0d_2b_3 + -0.0*b^†_0d^†_0d_3b_0 + -0.0*b^†_0d^†_0d_3b_1 + -0.0*b^†_0d^†_0d_3b_2 + -0.0*b^†_0d^†_0d_3b_3 + -0.0*b^†_0d^†_1d_0b_0 + -0.0*b^†_0d^†_1d_0b_1 + -0.0*b^†_0d^†_1d_0b_2 + -0.0*b^†_0d^†_1d_0b_3 + -0.0*b^†_0d^†_1d_1b_0 + -0.0*b^†_0d^†_1d_1b_1 + -0.0*b^†_0d^†_1d_1b_2 + -0.0*b^†_0d^†_1d_1b_3 + -0.0*b^†_0d^†_1d_2b_0 + -0.0*b^†_0d^†_1d_2b_1 + -0.0*b^†_0d^†_1d_2b_2 + -0.0*b^†_0d^†_1d_2b_3 + -0.0*b^†_0d^†_1d_3b_0 + -0.0*b^†_0d^†_1d_3b_1 + -0.0*b^†_0d^†_1d_3b_2 + -0.0*b^†_0d^†_1d_3b_3 + -0.0*b^†_0d^†_2d_0b_0 + -0.0*b^†_0d^†_2d_0b_1 + -0.0*b^†_0d^†_2d_0b_2 + -0.0*b^†_0d^†_2d_0b_3 + -0.0*b^†_0d^†_2d_1b_0 + -0.0*b^†_0d^†_2d_1b_1 + -0.0*b^†_0d^†_2d_1b_2 + -0.0*b^†_0d^†_2d_1b_3 + -0.0*b^†_0d^†_2d_2b_0 + -0.0*b^†_0d^†_2d_2b_1 + -0.0*b^†_0d^†_2d_2b_2 + -0.0*b^†_0d^†_2d_2b_3 + -0.0*b^†_0d^†_2d_3b_0 + -0.0*b^†_0d^†_2d_3b_1 + -0.0*b^†_0d^†_2d_3b_2 + -0.0*b^†_0d^†_2d_3b_3 + -0.0*b^†_0d^†_3d_0b_0 + -0.0*b^†_0d^†_3d_0b_1 + -0.0*b^†_0d^†_3d_0b_2 + -0.0*b^†_0d^†_3d_0b_3 + -0.0*b^†_0d^†_3d_1b_0 + -0.0*b^†_0d^†_3d_1b_1 + -0.0*b^†_0d^†_3d_1b_2 + -0.0*b^†_0d^†_3d_1b_3 + -0.0*b^†_0d^†_3d_2b_0 + -0.0*b^†_0d^†_3d_2b_1 + -0.0*b^†_0d^†_3d_2b_2 + -0.0*b^†_0d^†_3d_2b_3 + -0.0*b^†_0d^†_3d_3b_0 + -0.0*b^†_0d^†_3d_3b_1 + -0.0*b^†_0d^†_3d_3b_2 + -0.0*b^†_0d^†_3d_3b_3 + -0.0*b^†_1d^†_0d_0b_0 + -0.0*b^†_1d^†_0d_0b_1 + -0.0*b^†_1d^†_0d_0b_2 + -0.0*b^†_1d^†_0d_0b_3 + -0.0*b^†_1d^†_0d_1b_0 + -0.0*b^†_1d^†_0d_1b_1 + -0.0*b^†_1d^†_0d_1b_2 + -0.0*b^†_1d^†_0d_1b_3 + -0.0*b^†_1d^†_0d_2b_0 + -0.0*b^†_1d^†_0d_2b_1 + -0.0*b^†_1d^†_0d_2b_2 + -0.0*b^†_1d^†_0d_2b_3 + -0.0*b^†_1d^†_0d_3b_0 + -0.0*b^†_1d^†_0d_3b_1 + -0.0*b^†_1d^†_0d_3b_2 + -0.0*b^†_1d^†_0d_3b_3 + -0.0*b^†_1d^†_1d_0b_0 + -0.0*b^†_1d^†_1d_0b_1 + -0.0*b^†_1d^†_1d_0b_2 + -0.0*b^†_1d^†_1d_0b_3 + -0.0*b^†_1d^†_1d_1b_0 + -157.91367041742976*b^†_1d^†_1d_1b_1 + -0.0*b^†_1d^†_1d_1b_2 + -0.0*b^†_1d^†_1d_1b_3 + -0.0*b^†_1d^†_1d_2b_0 + -0.0*b^†_1d^†_1d_2b_1 + -0.0*b^†_1d^†_1d_2b_2 + -0.0*b^†_1d^†_1d_2b_3 + -0.0*b^†_1d^†_1d_3b_0 + -0.0*b^†_1d^†_1d_3b_1 + -0.0*b^†_1d^†_1d_3b_2 + -0.0*b^†_1d^†_1d_3b_3 + -0.0*b^†_1d^†_2d_0b_0 + -0.0*b^†_1d^†_2d_0b_1 + -0.0*b^†_1d^†_2d_0b_2 + -0.0*b^†_1d^†_2d_0b_3 + -0.0*b^†_1d^†_2d_1b_0 + -0.0*b^†_1d^†_2d_1b_1 + -0.0*b^†_1d^†_2d_1b_2 + -0.0*b^†_1d^†_2d_1b_3 + -0.0*b^†_1d^†_2d_2b_0 + -315.8273408348595*b^†_1d^†_2d_2b_1 + -0.0*b^†_1d^†_2d_2b_2 + -0.0*b^†_1d^†_2d_2b_3 + -0.0*b^†_1d^†_2d_3b_0 + -386.80791593273756*b^†_1d^†_2d_3b_1 + -0.0*b^†_1d^†_2d_3b_2 + -0.0*b^†_1d^†_2d_3b_3 + -0.0*b^†_1d^†_3d_0b_0 + -0.0*b^†_1d^†_3d_0b_1 + -0.0*b^†_1d^†_3d_0b_2 + -0.0*b^†_1d^†_3d_0b_3 + -0.0*b^†_1d^†_3d_1b_0 + -0.0*b^†_1d^†_3d_1b_1 + -0.0*b^†_1d^†_3d_1b_2 + -0.0*b^†_1d^†_3d_1b_3 + -0.0*b^†_1d^†_3d_2b_0 + -386.80791593273756*b^†_1d^†_3d_2b_1 + -0.0*b^†_1d^†_3d_2b_2 + -0.0*b^†_1d^†_3d_2b_3 + -0.0*b^†_1d^†_3d_3b_0 + -473.7410112522892*b^†_1d^†_3d_3b_1 + -0.0*b^†_1d^†_3d_3b_2 + -0.0*b^†_1d^†_3d_3b_3 + -0.0*b^†_2d^†_0d_0b_0 + -0.0*b^†_2d^†_0d_0b_1 + -0.0*b^†_2d^†_0d_0b_2 + -0.0*b^†_2d^†_0d_0b_3 + -0.0*b^†_2d^†_0d_1b_0 + -0.0*b^†_2d^†_0d_1b_1 + -0.0*b^†_2d^†_0d_1b_2 + -0.0*b^†_2d^†_0d_1b_3 + -0.0*b^†_2d^†_0d_2b_0 + -0.0*b^†_2d^†_0d_2b_1 + -0.0*b^†_2d^†_0d_2b_2 + -0.0*b^†_2d^†_0d_2b_3 + -0.0*b^†_2d^†_0d_3b_0 + -0.0*b^†_2d^†_0d_3b_1 + -0.0*b^†_2d^†_0d_3b_2 + -0.0*b^†_2d^†_0d_3b_3 + -0.0*b^†_2d^†_1d_0b_0 + -0.0*b^†_2d^†_1d_0b_1 + -0.0*b^†_2d^†_1d_0b_2 + -0.0*b^†_2d^†_1d_0b_3 + -0.0*b^†_2d^†_1d_1b_0 + -0.0*b^†_2d^†_1d_1b_1 + -315.8273408348595*b^†_2d^†_1d_1b_2 + -9.555905068065174*b^†_2d^†_1d_1b_3 + -0.0*b^†_2d^†_1d_2b_0 + -0.0*b^†_2d^†_1d_2b_1 + -0.0*b^†_2d^†_1d_2b_2 + -0.0*b^†_2d^†_1d_2b_3 + -0.0*b^†_2d^†_1d_3b_0 + -0.0*b^†_2d^†_1d_3b_1 + -0.0*b^†_2d^†_1d_3b_2 + -0.0*b^†_2d^†_1d_3b_3 + -0.0*b^†_2d^†_2d_0b_0 + -0.0*b^†_2d^†_2d_0b_1 + -0.0*b^†_2d^†_2d_0b_2 + -0.0*b^†_2d^†_2d_0b_3 + -0.0*b^†_2d^†_2d_1b_0 + -0.0*b^†_2d^†_2d_1b_1 + -0.0*b^†_2d^†_2d_1b_2 + -0.0*b^†_2d^†_2d_1b_3 + -0.0*b^†_2d^†_2d_2b_0 + -0.0*b^†_2d^†_2d_2b_1 + -631.654681669719*b^†_2d^†_2d_2b_2 + -19.111810136130348*b^†_2d^†_2d_2b_3 + -0.0*b^†_2d^†_2d_3b_0 + -0.0*b^†_2d^†_2d_3b_1 + -773.6158318654751*b^†_2d^†_2d_3b_2 + -23.407091447235434*b^†_2d^†_2d_3b_3 + -0.0*b^†_2d^†_3d_0b_0 + -0.0*b^†_2d^†_3d_0b_1 + -0.0*b^†_2d^†_3d_0b_2 + -0.0*b^†_2d^†_3d_0b_3 + -0.0*b^†_2d^†_3d_1b_0 + -0.0*b^†_2d^†_3d_1b_1 + -0.0*b^†_2d^†_3d_1b_2 + -0.0*b^†_2d^†_3d_1b_3 + -0.0*b^†_2d^†_3d_2b_0 + -0.0*b^†_2d^†_3d_2b_1 + -773.6158318654751*b^†_2d^†_3d_2b_2 + -23.407091447235434*b^†_2d^†_3d_2b_3 + -0.0*b^†_2d^†_3d_3b_0 + -0.0*b^†_2d^†_3d_3b_1 + -947.4820225045784*b^†_2d^†_3d_3b_2 + -28.667715204195524*b^†_2d^†_3d_3b_3 + -0.0*b^†_3d^†_0d_0b_0 + -0.0*b^†_3d^†_0d_0b_1 + -0.0*b^†_3d^†_0d_0b_2 + -0.0*b^†_3d^†_0d_0b_3 + -0.0*b^†_3d^†_0d_1b_0 + -0.0*b^†_3d^†_0d_1b_1 + -0.0*b^†_3d^†_0d_1b_2 + -0.0*b^†_3d^†_0d_1b_3 + -0.0*b^†_3d^†_0d_2b_0 + -0.0*b^†_3d^†_0d_2b_1 + -0.0*b^†_3d^†_0d_2b_2 + -0.0*b^†_3d^†_0d_2b_3 + -0.0*b^†_3d^†_0d_3b_0 + -0.0*b^†_3d^†_0d_3b_1 + -0.0*b^†_3d^†_0d_3b_2 + -0.0*b^†_3d^†_0d_3b_3 + -0.0*b^†_3d^†_1d_0b_0 + -0.0*b^†_3d^†_1d_0b_1 + -0.0*b^†_3d^†_1d_0b_2 + -0.0*b^†_3d^†_1d_0b_3 + -0.0*b^†_3d^†_1d_1b_0 + -0.0*b^†_3d^†_1d_1b_1 + -9.555905068065176*b^†_3d^†_1d_1b_2 + -473.7410112522892*b^†_3d^†_1d_1b_3 + -0.0*b^†_3d^†_1d_2b_0 + -0.0*b^†_3d^†_1d_2b_1 + -0.0*b^†_3d^†_1d_2b_2 + -0.0*b^†_3d^†_1d_2b_3 + -0.0*b^†_3d^†_1d_3b_0 + -0.0*b^†_3d^†_1d_3b_1 + -0.0*b^†_3d^†_1d_3b_2 + -0.0*b^†_3d^†_1d_3b_3 + -0.0*b^†_3d^†_2d_0b_0 + -0.0*b^†_3d^†_2d_0b_1 + -0.0*b^†_3d^†_2d_0b_2 + -0.0*b^†_3d^†_2d_0b_3 + -0.0*b^†_3d^†_2d_1b_0 + -0.0*b^†_3d^†_2d_1b_1 + -0.0*b^†_3d^†_2d_1b_2 + -0.0*b^†_3d^†_2d_1b_3 + -0.0*b^†_3d^†_2d_2b_0 + -0.0*b^†_3d^†_2d_2b_1 + -19.11181013613035*b^†_3d^†_2d_2b_2 + -947.4820225045784*b^†_3d^†_2d_2b_3 + -0.0*b^†_3d^†_2d_3b_0 + -0.0*b^†_3d^†_2d_3b_1 + -23.407091447235434*b^†_3d^†_2d_3b_2 + -1160.4237477982126*b^†_3d^†_2d_3b_3 + -0.0*b^†_3d^†_3d_0b_0 + -0.0*b^†_3d^†_3d_0b_1 + -0.0*b^†_3d^†_3d_0b_2 + -0.0*b^†_3d^†_3d_0b_3 + -0.0*b^†_3d^†_3d_1b_0 + -0.0*b^†_3d^†_3d_1b_1 + -0.0*b^†_3d^†_3d_1b_2 + -0.0*b^†_3d^†_3d_1b_3 + -0.0*b^†_3d^†_3d_2b_0 + -0.0*b^†_3d^†_3d_2b_1 + -23.407091447235434*b^†_3d^†_3d_2b_2 + -1160.4237477982126*b^†_3d^†_3d_2b_3 + -0.0*b^†_3d^†_3d_3b_0 + -0.0*b^†_3d^†_3d_3b_1 + -28.66771520419552*b^†_3d^†_3d_3b_2 + -1421.2230337568674*b^†_3d^†_3d_3b_3$"
      ],
      "text/plain": [
       "<IPython.core.display.Latex object>"
      ]
     },
     "metadata": {},
     "output_type": "display_data"
    }
   ],
   "source": [
    "H_iG.display()"
   ]
  },
  {
   "cell_type": "code",
   "execution_count": 12,
   "id": "244aacbe-2f98-4782-bd9c-00572bc2b5d9",
   "metadata": {},
   "outputs": [
    {
     "ename": "ModuleNotFoundError",
     "evalue": "No module named 'symmer'",
     "output_type": "error",
     "traceback": [
      "\u001b[0;31m---------------------------------------------------------------------------\u001b[0m",
      "\u001b[0;31mModuleNotFoundError\u001b[0m                       Traceback (most recent call last)",
      "Cell \u001b[0;32mIn[12], line 1\u001b[0m\n\u001b[0;32m----> 1\u001b[0m \u001b[38;5;28;01mimport\u001b[39;00m \u001b[38;5;21;01msymmer\u001b[39;00m\n",
      "\u001b[0;31mModuleNotFoundError\u001b[0m: No module named 'symmer'"
     ]
    }
   ],
   "source": [
    "import symmer"
   ]
  },
  {
   "cell_type": "code",
   "execution_count": null,
   "id": "3484f58a-bab3-4594-80a9-1ec9355bf798",
   "metadata": {},
   "outputs": [],
   "source": []
  }
 ],
 "metadata": {
  "kernelspec": {
   "display_name": "op",
   "language": "python",
   "name": "op"
  },
  "language_info": {
   "codemirror_mode": {
    "name": "ipython",
    "version": 3
   },
   "file_extension": ".py",
   "mimetype": "text/x-python",
   "name": "python",
   "nbconvert_exporter": "python",
   "pygments_lexer": "ipython3",
   "version": "3.12.3"
  }
 },
 "nbformat": 4,
 "nbformat_minor": 5
}
