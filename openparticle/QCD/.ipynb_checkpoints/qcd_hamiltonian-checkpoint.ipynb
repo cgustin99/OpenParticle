{
 "cells": [
  {
   "cell_type": "code",
   "execution_count": 1,
   "id": "cc9081c5-e462-4239-bba1-d9945b161442",
   "metadata": {},
   "outputs": [],
   "source": [
    "from get_quantum_nums import get_quantum_numbers\n",
    "import hadron\n",
    "from openparticle.particleoperator import ParticleOperator\n",
    "from openparticle.fock import Fock"
   ]
  },
  {
   "cell_type": "code",
   "execution_count": 2,
   "id": "d5ef5c89-b7f9-4522-b9bd-2ad5dc819690",
   "metadata": {},
   "outputs": [],
   "source": [
    "K = 1\n",
    "Lambda_perp = 0\n",
    "P_perp = 0"
   ]
  },
  {
   "cell_type": "code",
   "execution_count": 3,
   "id": "d03df321-e0aa-4f50-a720-073983da0659",
   "metadata": {},
   "outputs": [
    {
     "data": {
      "text/html": [
       "<div>\n",
       "<style scoped>\n",
       "    .dataframe tbody tr th:only-of-type {\n",
       "        vertical-align: middle;\n",
       "    }\n",
       "\n",
       "    .dataframe tbody tr th {\n",
       "        vertical-align: top;\n",
       "    }\n",
       "\n",
       "    .dataframe thead th {\n",
       "        text-align: right;\n",
       "    }\n",
       "</style>\n",
       "<table border=\"1\" class=\"dataframe\">\n",
       "  <thead>\n",
       "    <tr style=\"text-align: right;\">\n",
       "      <th></th>\n",
       "      <th>Helicity</th>\n",
       "      <th>n</th>\n",
       "      <th>n⟂</th>\n",
       "    </tr>\n",
       "  </thead>\n",
       "  <tbody>\n",
       "    <tr>\n",
       "      <th>0</th>\n",
       "      <td>+1</td>\n",
       "      <td>0.5</td>\n",
       "      <td>0</td>\n",
       "    </tr>\n",
       "    <tr>\n",
       "      <th>1</th>\n",
       "      <td>+1</td>\n",
       "      <td>1.0</td>\n",
       "      <td>0</td>\n",
       "    </tr>\n",
       "    <tr>\n",
       "      <th>2</th>\n",
       "      <td>-1</td>\n",
       "      <td>0.5</td>\n",
       "      <td>0</td>\n",
       "    </tr>\n",
       "    <tr>\n",
       "      <th>3</th>\n",
       "      <td>-1</td>\n",
       "      <td>1.0</td>\n",
       "      <td>0</td>\n",
       "    </tr>\n",
       "  </tbody>\n",
       "</table>\n",
       "</div>"
      ],
      "text/plain": [
       "  Helicity    n  n⟂\n",
       "0       +1  0.5   0\n",
       "1       +1  1.0   0\n",
       "2       -1  0.5   0\n",
       "3       -1  1.0   0"
      ]
     },
     "execution_count": 3,
     "metadata": {},
     "output_type": "execute_result"
    }
   ],
   "source": [
    "qnums = get_quantum_numbers(K, Lambda_perp)\n",
    "qnums"
   ]
  },
  {
   "cell_type": "code",
   "execution_count": 4,
   "id": "9b278428-b838-4154-9d82-0fd509bf9a14",
   "metadata": {},
   "outputs": [
    {
     "data": {
      "text/latex": [
       "$|g⟩ + |q\\bar{q}⟩$"
      ],
      "text/plain": [
       "<IPython.core.display.Latex object>"
      ]
     },
     "metadata": {},
     "output_type": "display_data"
    }
   ],
   "source": [
    "pion = hadron.Hadron('meson', K)\n",
    "pion.display()"
   ]
  },
  {
   "cell_type": "code",
   "execution_count": 5,
   "id": "b0f8f099-2548-4f0e-96d6-9ff49d4897ba",
   "metadata": {},
   "outputs": [
    {
     "data": {
      "text/latex": [
       "$1.0 * |; ; (1, 1)⟩ + 1.0 * |; ; (3, 1)⟩ + 1.0 * |0; 0; ⟩ + 1.0 * |0; 2; ⟩ + 1.0 * |2; 0; ⟩ + 1.0 * |2; 2; ⟩$"
      ],
      "text/plain": [
       "<IPython.core.display.Latex object>"
      ]
     },
     "metadata": {},
     "output_type": "display_data"
    }
   ],
   "source": [
    "pion_fock = pion.get_states(K, P_perp, Lambda_perp)\n",
    "pion_fock.display()"
   ]
  },
  {
   "cell_type": "code",
   "execution_count": 18,
   "id": "0fd4043e-e217-495b-b284-4060c685a64e",
   "metadata": {},
   "outputs": [
    {
     "name": "stdout",
     "output_type": "stream",
     "text": [
      "None\n"
     ]
    }
   ],
   "source": [
    "H_iG = 1 * ParticleOperator('b1^ d2^ d3 b4')\n",
    "print(ParticleOperator('b3^') * Fock([4], [3], []))"
   ]
  },
  {
   "cell_type": "code",
   "execution_count": null,
   "id": "17226857-2004-4e02-bf42-4637362f2e98",
   "metadata": {},
   "outputs": [],
   "source": []
  },
  {
   "cell_type": "code",
   "execution_count": null,
   "id": "4abfc59c-567f-4f89-832e-1c5746b3f0d1",
   "metadata": {},
   "outputs": [],
   "source": []
  }
 ],
 "metadata": {
  "kernelspec": {
   "display_name": "op",
   "language": "python",
   "name": "op"
  },
  "language_info": {
   "codemirror_mode": {
    "name": "ipython",
    "version": 3
   },
   "file_extension": ".py",
   "mimetype": "text/x-python",
   "name": "python",
   "nbconvert_exporter": "python",
   "pygments_lexer": "ipython3",
   "version": "3.12.3"
  }
 },
 "nbformat": 4,
 "nbformat_minor": 5
}
