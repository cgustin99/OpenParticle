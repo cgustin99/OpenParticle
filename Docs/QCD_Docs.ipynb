{
 "cells": [
  {
   "cell_type": "markdown",
   "metadata": {},
   "source": [
    "# QCD with OpenParticle"
   ]
  },
  {
   "cell_type": "markdown",
   "metadata": {},
   "source": [
    "OpenParticle is useful for simulating quantum field theories on quantum computers. The quantum field theory that describes the strong force is quantum chromodynamics (QCD). These docs serve as a description for how OpenParticle can simulate QCD. "
   ]
  },
  {
   "cell_type": "markdown",
   "metadata": {},
   "source": [
    "### `Hadron` Class"
   ]
  },
  {
   "cell_type": "code",
   "execution_count": 1,
   "metadata": {},
   "outputs": [
    {
     "ename": "ModuleNotFoundError",
     "evalue": "No module named 'QCD'",
     "output_type": "error",
     "traceback": [
      "\u001b[0;31m---------------------------------------------------------------------------\u001b[0m",
      "\u001b[0;31mModuleNotFoundError\u001b[0m                       Traceback (most recent call last)",
      "\u001b[1;32m/Users/carterm.gustin/Documents/PhDCode/Lightfront/OpenParticle/Docs/QCD_Docs.ipynb Cell 4\u001b[0m line \u001b[0;36m2\n\u001b[1;32m      <a href='vscode-notebook-cell:/Users/carterm.gustin/Documents/PhDCode/Lightfront/OpenParticle/Docs/QCD_Docs.ipynb#W0sZmlsZQ%3D%3D?line=0'>1</a>\u001b[0m \u001b[39m#imports\u001b[39;00m\n\u001b[0;32m----> <a href='vscode-notebook-cell:/Users/carterm.gustin/Documents/PhDCode/Lightfront/OpenParticle/Docs/QCD_Docs.ipynb#W0sZmlsZQ%3D%3D?line=1'>2</a>\u001b[0m \u001b[39mfrom\u001b[39;00m \u001b[39mQCD\u001b[39;00m \u001b[39mimport\u001b[39;00m get_quantum_numbers\n",
      "\u001b[0;31mModuleNotFoundError\u001b[0m: No module named 'QCD'"
     ]
    }
   ],
   "source": [
    "#imports\n",
    "from QCD import get_quantum_numbers"
   ]
  },
  {
   "cell_type": "code",
   "execution_count": null,
   "metadata": {},
   "outputs": [],
   "source": []
  }
 ],
 "metadata": {
  "kernelspec": {
   "display_name": "symmer",
   "language": "python",
   "name": "python3"
  },
  "language_info": {
   "codemirror_mode": {
    "name": "ipython",
    "version": 3
   },
   "file_extension": ".py",
   "mimetype": "text/x-python",
   "name": "python",
   "nbconvert_exporter": "python",
   "pygments_lexer": "ipython3",
   "version": "3.9.17"
  },
  "orig_nbformat": 4
 },
 "nbformat": 4,
 "nbformat_minor": 2
}
