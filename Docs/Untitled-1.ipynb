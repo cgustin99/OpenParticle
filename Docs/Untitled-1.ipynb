{
 "cells": [
  {
   "cell_type": "markdown",
   "metadata": {},
   "source": [
    "$x_q = \\frac{n}{K}$ (Discrete)\n",
    "$x_q = \\frac{p_q^+}{P^+}$ (Continuous)\n",
    "$k^+ = n\\pi / 2L$"
   ]
  },
  {
   "cell_type": "markdown",
   "metadata": {},
   "source": [
    "$$p^+ = \\pi n / L; n = \n",
    "\\begin{cases}\n",
    "1/2, 3/2, 5/2, \\dots; \\text{fermions}\\\\\n",
    "1, 2, 3, \\dots; \\text{bosons}\n",
    "\n",
    "\\end{cases}\n",
    "$$"
   ]
  },
  {
   "cell_type": "code",
   "execution_count": 1,
   "metadata": {},
   "outputs": [],
   "source": [
    "import numpy as np"
   ]
  },
  {
   "cell_type": "code",
   "execution_count": 2,
   "metadata": {},
   "outputs": [],
   "source": [
    "g = 1.0\n",
    "Pplus = 1.0\n",
    "L = 10\n",
    "Lperp = 10\n",
    "omega = 2*L * (2*Lperp)**2\n",
    "\n",
    "gtilde = g * np.sqrt(Pplus/(2*omega))"
   ]
  },
  {
   "cell_type": "code",
   "execution_count": null,
   "metadata": {},
   "outputs": [],
   "source": [
    "def seagull(x1, x2, x1p, x2p,\n",
    "            lam1, lam2, lam1p, lam2p):\n",
    "    S_qq_qq = -(gtilde**2)/ (x1 - x1p)**2 * np.kron(lam1, lam1p) * np.kron(lam2, lam2p)\n"
   ]
  }
 ],
 "metadata": {
  "kernelspec": {
   "display_name": "symmer",
   "language": "python",
   "name": "python3"
  },
  "language_info": {
   "codemirror_mode": {
    "name": "ipython",
    "version": 3
   },
   "file_extension": ".py",
   "mimetype": "text/x-python",
   "name": "python",
   "nbconvert_exporter": "python",
   "pygments_lexer": "ipython3",
   "version": "3.9.17"
  },
  "orig_nbformat": 4
 },
 "nbformat": 4,
 "nbformat_minor": 2
}
