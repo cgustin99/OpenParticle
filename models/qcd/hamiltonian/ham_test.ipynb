{
 "cells": [
  {
   "cell_type": "code",
   "execution_count": 1,
   "metadata": {},
   "outputs": [],
   "source": [
    "from quark_exchange import *\n",
    "from gluon_exchange import *\n",
    "from quark_gluon_vertex import *\n",
    "from gluon_3pt_vertex import *\n",
    "from gluon_4pt_vertex import *\n",
    "from color_algebra import *\n",
    "from free_hamiltonian import *\n",
    "from openparticle.full_dlcq import *\n",
    "import numpy as np\n",
    "import numba as nb"
   ]
  },
  {
   "cell_type": "code",
   "execution_count": 2,
   "metadata": {},
   "outputs": [],
   "source": [
    "K = 2\n",
    "Kp = 1\n",
    "mq = 1\n",
    "mg = 0.01\n",
    "g = 1"
   ]
  },
  {
   "cell_type": "code",
   "execution_count": 3,
   "metadata": {},
   "outputs": [],
   "source": [
    "T1 = free_gluon_hamiltonian_tensor(K = K, Kp = Kp, mg = mg)\n",
    "T2 = free_quark_hamiltonian_tensor(K = K, Kp = Kp, mq = mq)\n",
    "\n",
    "T3 = quark_gluon_vertex_term_tensor(K = K, Kp = Kp, g = g, mq = mq)\n",
    "T4 = gluon_3pt_vertex_term_tensor(K = K, Kp = Kp, g = g)\n",
    "T5 = gluon_4pt_vertex_term_tensor(K = K, Kp = Kp, g = g)\n",
    "\n",
    "T6 = gluon_legs_term_tensor(K = K, Kp = Kp, g = g, mg = mg)\n",
    "T7 = quark_legs_term_tensor(K = K, Kp = Kp, g = g, mg = mg, mq = mq)\n",
    "T8 = mixed_legs_term_tensor(K = K, Kp = Kp, g = g, mg = mg, mq = mq)\n",
    "\n",
    "T9 = quark_exch_term_tensor(K = K, Kp = Kp, g = g, mq = mg)"
   ]
  },
  {
   "cell_type": "code",
   "execution_count": 5,
   "metadata": {},
   "outputs": [
    {
     "data": {
      "text/plain": [
       "(288, 216, 176256)"
      ]
     },
     "execution_count": 5,
     "metadata": {},
     "output_type": "execute_result"
    }
   ],
   "source": [
    "T1.size, T2.size, T3.size"
   ]
  },
  {
   "cell_type": "code",
   "execution_count": 5,
   "metadata": {},
   "outputs": [
    {
     "data": {
      "text/plain": [
       "12317184"
      ]
     },
     "execution_count": 5,
     "metadata": {},
     "output_type": "execute_result"
    }
   ],
   "source": [
    "t.size"
   ]
  },
  {
   "cell_type": "code",
   "execution_count": 6,
   "metadata": {},
   "outputs": [
    {
     "data": {
      "text/plain": [
       "10"
      ]
     },
     "execution_count": 6,
     "metadata": {},
     "output_type": "execute_result"
    }
   ],
   "source": [
    "len(t.nonzero())"
   ]
  },
  {
   "cell_type": "code",
   "execution_count": 15,
   "metadata": {},
   "outputs": [],
   "source": [
    "nonzero_idxs   = t.nonzero()\n",
    "nonzero_values = t[nonzero_idxs]\n",
    "\n"
   ]
  },
  {
   "cell_type": "code",
   "execution_count": 16,
   "metadata": {},
   "outputs": [],
   "source": [
    "idxs_t = np.block([[nonzero_idxs[i]] for i in range(len(nonzero_idxs))]).T"
   ]
  },
  {
   "cell_type": "code",
   "execution_count": 19,
   "metadata": {},
   "outputs": [
    {
     "data": {
      "text/plain": [
       "((0.6123724356957945-0.6123724356957945j), array([0, 0, 0, 0, 1, 1, 0]))"
      ]
     },
     "execution_count": 19,
     "metadata": {},
     "output_type": "execute_result"
    }
   ],
   "source": [
    "nonzero_values[0], idxs_t[0]"
   ]
  },
  {
   "cell_type": "code",
   "execution_count": 20,
   "metadata": {},
   "outputs": [
    {
     "data": {
      "text/plain": [
       "((6630, 7), (6630,))"
      ]
     },
     "execution_count": 20,
     "metadata": {},
     "output_type": "execute_result"
    }
   ],
   "source": [
    "idxs_t.shape, nonzero_values.shape"
   ]
  },
  {
   "cell_type": "code",
   "execution_count": null,
   "metadata": {},
   "outputs": [],
   "source": [
    "import h5py\n",
    "\n",
    "# Create HDF5 file and add groups\n",
    "with h5py.File('example.h5', 'w') as f:\n",
    "    # Create groups\n",
    "    group1 = f.create_group('H_data')\n",
    "    group1.attrs['description'] = 'This contains Hamiltonian elements and q nos'\n",
    "\n",
    "    # Create datasets inside groups\n",
    "    dset1 = group1.create_dataset('idxs_t', data=idxs_t)\n",
    "    dset2 = group1.create_dataset('nonzero_values', data=nonzero_values)\n",
    "\n",
    "    # Add attributes (metadata)\n",
    "    group2 = f.create_group('H-params')\n",
    "    group2.attrs['description'] = 'This contains parameters for H setup'\n",
    "\n",
    "    dset3 = group2.create_dataset('k', data=np.array([12]))\n",
    "    dset3.attrs['units'] = 'GeV'\n",
    "\n",
    "    dset4 = group2.create_dataset('cutoff', data=np.array([1]))\n",
    "    dset4.attrs['units'] = 'arb'\n",
    "\n"
   ]
  },
  {
   "cell_type": "code",
   "execution_count": null,
   "metadata": {},
   "outputs": [],
   "source": [
    "## open\n",
    "\n",
    "with h5py.File('example.h5', 'r') as f:\n",
    "    print(list(f.keys()))  # ['experiment1', 'experiment2']\n",
    "    \n",
    "    grp1 = f['H_data']\n",
    "    print(grp1.attrs['description'])  # 'First experiment'\n",
    "    \n",
    "    idxs_t_imported = f['H_data/idxs_t'][:]\n",
    "\n",
    "    nonzero_values_imported = f['H_data/nonzero_values'][:]\n"
   ]
  },
  {
   "cell_type": "code",
   "execution_count": null,
   "metadata": {},
   "outputs": [],
   "source": []
  },
  {
   "cell_type": "code",
   "execution_count": null,
   "metadata": {},
   "outputs": [],
   "source": [
    "# Define a structured dtype: one field for the row, one for the value\n",
    "dtype = np.dtype([\n",
    "    ('idxs_t', np.int64, (idxs_t.shape[1],)),  # 2D row as a tuple of M floats\n",
    "    ('nonzero_values', np.float64),        # single float value,   \n",
    "])\n",
    "\n",
    "# Create structured array\n",
    "structured = np.empty(nonzero_values.shape[0], dtype=dtype)\n",
    "structured['idxs_t'] = idxs_t\n",
    "structured['nonzero_values'] = nonzero_values\n",
    "\n",
    "\n",
    "structured.dtype"
   ]
  },
  {
   "cell_type": "code",
   "execution_count": null,
   "metadata": {},
   "outputs": [],
   "source": [
    "A = np.array([[1,2,3],\n",
    "          [4,0,0],\n",
    "          [7,0,9]\n",
    "])"
   ]
  },
  {
   "cell_type": "code",
   "execution_count": null,
   "metadata": {},
   "outputs": [],
   "source": [
    "idxs = A.nonzero()\n",
    "vals = A[idxs]\n",
    "# idxs =np.vstack((idxs[0], idxs[1])).T\n",
    "np.block([[idxs[0]], [idxs[1]]]).T"
   ]
  },
  {
   "cell_type": "code",
   "execution_count": null,
   "metadata": {},
   "outputs": [],
   "source": []
  },
  {
   "cell_type": "code",
   "execution_count": null,
   "metadata": {},
   "outputs": [],
   "source": [
    "idxs"
   ]
  }
 ],
 "metadata": {
  "kernelspec": {
   "display_name": "openparticle",
   "language": "python",
   "name": "python3"
  },
  "language_info": {
   "codemirror_mode": {
    "name": "ipython",
    "version": 3
   },
   "file_extension": ".py",
   "mimetype": "text/x-python",
   "name": "python",
   "nbconvert_exporter": "python",
   "pygments_lexer": "ipython3",
   "version": "3.11.11"
  },
  "orig_nbformat": 4
 },
 "nbformat": 4,
 "nbformat_minor": 2
}
