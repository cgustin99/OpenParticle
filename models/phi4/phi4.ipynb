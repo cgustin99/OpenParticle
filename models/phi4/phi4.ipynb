{
 "cells": [
  {
   "cell_type": "code",
   "execution_count": 1,
   "metadata": {},
   "outputs": [],
   "source": [
    "import numpy as np\n",
    "import matplotlib.pyplot as plt\n",
    "\n",
    "from openparticle.hamiltonians.free_hamiltonians import *\n",
    "from openparticle.hamiltonians.phi4_hamiltonian import *\n",
    "from openparticle.utils import *\n",
    "from openparticle.dlcq import momentum_states_partition"
   ]
  },
  {
   "cell_type": "code",
   "execution_count": 6,
   "metadata": {},
   "outputs": [
    {
     "data": {
      "text/plain": [
       "0.15915494309189535 * a2^ a2^ a2 a2\n",
       "0.2387324146378431 * a2^ a1^ a1 a2\n",
       "0.23873241463784306 * a2^ a1^ a2 a1\n",
       "0.47746482927568606 * a2^ a0^ a0 a2\n",
       "0.4134966715663442 * a2^ a0^ a1 a1\n",
       "0.47746482927568606 * a2^ a0^ a2 a0\n",
       "3.7507043740108488 * a2^ a2\n",
       "0.5513288954217921 * a2^ a0 a0 a0\n",
       "0.23873241463784306 * a1^ a2^ a1 a2\n",
       "0.2387324146378431 * a1^ a2^ a2 a1\n",
       "0.4134966715663442 * a1^ a1^ a0 a2\n",
       "0.3580986219567646 * a1^ a1^ a1 a1\n",
       "0.4134966715663442 * a1^ a1^ a2 a0\n",
       "0.7161972439135292 * a1^ a0^ a0 a1\n",
       "0.7161972439135292 * a1^ a0^ a1 a0\n",
       "5.6260565610162745 * a1^ a1\n",
       "0.47746482927568606 * a0^ a2^ a0 a2\n",
       "0.4134966715663442 * a0^ a2^ a1 a1\n",
       "0.47746482927568606 * a0^ a2^ a2 a0\n",
       "0.7161972439135292 * a0^ a1^ a0 a1\n",
       "0.7161972439135292 * a0^ a1^ a1 a0\n",
       "0.5513288954217921 * a0^ a0^ a0^ a2\n",
       "1.4323944878270582 * a0^ a0^ a0 a0\n",
       "11.252113122032545 * a0^ a0"
      ]
     },
     "execution_count": 6,
     "metadata": {},
     "output_type": "execute_result"
    }
   ],
   "source": [
    "phi4_Hamiltonian(3, 1, 1)"
   ]
  },
  {
   "cell_type": "code",
   "execution_count": null,
   "metadata": {},
   "outputs": [],
   "source": []
  }
 ],
 "metadata": {
  "kernelspec": {
   "display_name": "openparticle",
   "language": "python",
   "name": "python3"
  },
  "language_info": {
   "codemirror_mode": {
    "name": "ipython",
    "version": 3
   },
   "file_extension": ".py",
   "mimetype": "text/x-python",
   "name": "python",
   "nbconvert_exporter": "python",
   "pygments_lexer": "ipython3",
   "version": "3.10.15"
  },
  "orig_nbformat": 4
 },
 "nbformat": 4,
 "nbformat_minor": 2
}
