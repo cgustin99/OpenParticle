{
 "cells": [
  {
   "cell_type": "code",
   "execution_count": 2,
   "metadata": {},
   "outputs": [],
   "source": [
    "from openparticle import *"
   ]
  },
  {
   "cell_type": "markdown",
   "metadata": {},
   "source": [
    "$H(0) = H_f + H_{fb} + H_Y + H_+ + X_\\Delta$"
   ]
  },
  {
   "cell_type": "markdown",
   "metadata": {},
   "source": [
    "In 1 + 1D, \n",
    "\n",
    "$H_f = \\sum_\\sigma \\int_p \\frac{m^2}{p^+}b_p^\\dagger \\rightarrow \\frac{1}{2L}\\sum_\\sigma \\sum_n \\frac{m^2}{p^+(n)}b_p^\\dagger$\n",
    "\n",
    "$H_{fb} = \\sum_\\sigma \\int_{p,k} \\left(\\frac{m^2}{p^+} +\\frac{\\mu^2}{k^+}\\right)b_p^\\dagger a_k^\\dagger \\rightarrow \\frac{1}{2L}\\sum_\\sigma \\sum_{n,m} \\left(\\frac{m^2}{p^+(n)} +\\frac{\\mu^2}{k^+(m)}\\right)b_p^\\dagger a_k^\\dagger$"
   ]
  },
  {
   "cell_type": "markdown",
   "metadata": {},
   "source": [
    "$H_Y = g\\sum_{\\sigma_1, \\sigma_2} \\int_{p_1, p_2, k}\\theta(\\Delta^2) \\delta(p_1 - p_2 - k) [\\bar{u}_2u_1 b_2^\\dagger b_1 a_0^\\dagger + \\bar{u}_1 u_2 b_1^\\dagger b_2 a_0]$\n"
   ]
  },
  {
   "cell_type": "markdown",
   "metadata": {},
   "source": [
    "$H_+ = g^2 \\sum_{\\sigma_1, \\sigma_2} \\int_{p_1, p_2, k_1, k_2} \\theta(\\Delta^2) \\delta(p_1 + k_1 - p_2 - k_2) \\bar{u}_2\\frac{\\gamma^+}{2(p_1^+ + k_1^+)}u_1$"
   ]
  },
  {
   "cell_type": "markdown",
   "metadata": {},
   "source": [
    "$\\bar{u}_{\\sigma'}(p')u_\\sigma(p) = m\\sqrt{p^+ p^{\\prime +}} \\left(\\frac{1}{p^+} + \\frac{1}{p^{\\prime +}} \\right)$"
   ]
  },
  {
   "cell_type": "markdown",
   "metadata": {},
   "source": [
    "$\\bar{u}_{\\sigma'}(p')\\gamma^+ u_\\sigma(p) = 2\\sqrt{p^+ p^{\\prime +}}\\delta_{\\sigma', \\sigma}$"
   ]
  },
  {
   "cell_type": "code",
   "execution_count": 15,
   "metadata": {},
   "outputs": [],
   "source": [
    "m, mu = 1, 0.01\n",
    "L = 1e4\n",
    "Lambda = 3"
   ]
  },
  {
   "cell_type": "code",
   "execution_count": 16,
   "metadata": {},
   "outputs": [],
   "source": [
    "def pplus(k):\n",
    "    return 2 * np.pi * k / L"
   ]
  },
  {
   "cell_type": "code",
   "execution_count": 17,
   "metadata": {},
   "outputs": [
    {
     "data": {
      "text/plain": [
       "0.3183098861837907 * b0^\n",
       "0.15915494309189535 * b1^\n",
       "0.1061032953945969 * b2^\n",
       "0.07957747154594767 * b3^\n",
       "0.06366197723675814 * b4^"
      ]
     },
     "execution_count": 17,
     "metadata": {},
     "output_type": "execute_result"
    }
   ],
   "source": [
    "Hf = ParticleOperator({})\n",
    "for spin in [-1, 1]:\n",
    "    for mode_n, n in enumerate(np.arange(0.5, Lambda, 0.5)):\n",
    "        hf = m**2 / pplus(n)\n",
    "        Hf += hf * ParticleOperator('b' + str(mode_n) + \"^\")\n",
    "Hf = 1/(2*L) * Hf\n",
    "Hf"
   ]
  },
  {
   "cell_type": "code",
   "execution_count": null,
   "metadata": {},
   "outputs": [],
   "source": []
  }
 ],
 "metadata": {
  "kernelspec": {
   "display_name": "phd",
   "language": "python",
   "name": "python3"
  },
  "language_info": {
   "codemirror_mode": {
    "name": "ipython",
    "version": 3
   },
   "file_extension": ".py",
   "mimetype": "text/x-python",
   "name": "python",
   "nbconvert_exporter": "python",
   "pygments_lexer": "ipython3",
   "version": "3.9.18"
  },
  "orig_nbformat": 4
 },
 "nbformat": 4,
 "nbformat_minor": 2
}
