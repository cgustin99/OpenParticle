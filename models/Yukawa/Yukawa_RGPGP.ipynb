{
 "cells": [
  {
   "cell_type": "code",
   "execution_count": 2,
   "metadata": {},
   "outputs": [
    {
     "name": "stderr",
     "output_type": "stream",
     "text": [
      "/Users/carterm.gustin/anaconda3/envs/phd/lib/python3.9/site-packages/cotengra/hyperoptimizers/hyper.py:33: UserWarning: Couldn't import `kahypar` - skipping from default hyper optimizer and using basic `labels` method instead.\n",
      "  warnings.warn(\n"
     ]
    }
   ],
   "source": [
    "from openparticle import *"
   ]
  },
  {
   "cell_type": "markdown",
   "metadata": {},
   "source": [
    "$H(0) = H_f + H_{fb} + H_Y + H_+ + X_\\Delta$"
   ]
  },
  {
   "cell_type": "markdown",
   "metadata": {},
   "source": [
    "In 1 + 1D, \n",
    "\n",
    "$H_f = \\sum_\\sigma \\int_p \\frac{m^2}{p^+}b_p^\\dagger \\rightarrow \\frac{1}{2L}\\sum_\\sigma \\sum_n \\frac{m^2}{p^+(n)}b_p^\\dagger$\n",
    "\n",
    "$H_{fb} = \\sum_\\sigma \\int_{p,k} \\left(\\frac{m^2}{p^+} +\\frac{\\mu^2}{k^+}\\right)b_p^\\dagger a_k^\\dagger \\rightarrow \\frac{1}{(2L)^2}\\sum_\\sigma \\sum_{n,m} \\left(\\frac{m^2}{p^+(n)} +\\frac{\\mu^2}{k^+(m)}\\right)b_p^\\dagger a_k^\\dagger$"
   ]
  },
  {
   "cell_type": "markdown",
   "metadata": {},
   "source": [
    "$H_Y = g\\sum_{\\sigma_1, \\sigma_2} \\int_{p_1, p_2, k}\\theta(\\Delta^2) \\delta(p_1 - p_2 - k) [\\bar{u}_2u_1 b_2^\\dagger b_1 a_0^\\dagger + \\bar{u}_1 u_2 b_1^\\dagger b_2 a_0]$\n",
    "$\\rightarrow g\\sum_{\\sigma_1, \\sigma_2}\\sum_{n_1, n_2, m} \\frac{1}{(2L)^3}\\theta^\\Delta \\delta_{n_1 - n_1 - m} m_q\\sqrt{p^+(n_1)p^+(n_2)}\\left(\\frac{1}{p^+(n_1)} + \\frac{1}{p^+(n_2)}\\right)[b_2^\\dagger b_1 a_0^\\dagger + b_1^\\dagger b_2 a_0]$\n"
   ]
  },
  {
   "cell_type": "markdown",
   "metadata": {},
   "source": [
    "$H_+ = g^2 \\sum_{\\sigma_1, \\sigma_2} \\int_{p_1, p_2, k_1, k_2} \\theta(\\Delta^2) \\delta(p_1 + k_1 - p_2 - k_2) \\bar{u}_2\\frac{\\gamma^+}{2(p_1^+ + k_1^+)}u_1$\n",
    "\n",
    "$\\rightarrow g^2 \\sum_{\\sigma_1, \\sigma_2} \\sum_{n_1, n_2, m_1, m_2} \\theta_1^\\Delta \\theta_2^\\Delta \\delta_{n_1 + m_1 - n_2 - m_2}2 \\sqrt{p^+(n_1)p^+(n_2)}\\delta_{\\sigma_1, \\sigma_2}b_{n_2}^\\dagger b_{n_1} a_{m_2}^\\dagger a_{m_1} $"
   ]
  },
  {
   "cell_type": "markdown",
   "metadata": {},
   "source": [
    "$\\bar{u}_{\\sigma'}(p')u_\\sigma(p) = m\\sqrt{p^+ p^{\\prime +}} \\left(\\frac{1}{p^+} + \\frac{1}{p^{\\prime +}} \\right)$"
   ]
  },
  {
   "cell_type": "markdown",
   "metadata": {},
   "source": [
    "$\\bar{u}_{\\sigma'}(p')\\gamma^+ u_\\sigma(p) = 2\\sqrt{p^+ p^{\\prime +}}\\delta_{\\sigma', \\sigma}$"
   ]
  },
  {
   "cell_type": "code",
   "execution_count": 3,
   "metadata": {},
   "outputs": [],
   "source": [
    "m, mu = 1, 0.01\n",
    "L = 1e4\n",
    "Lambda = 3"
   ]
  },
  {
   "cell_type": "code",
   "execution_count": 4,
   "metadata": {},
   "outputs": [],
   "source": [
    "def pplus(k):\n",
    "    return 2 * np.pi * k / L"
   ]
  },
  {
   "cell_type": "code",
   "execution_count": 47,
   "metadata": {},
   "outputs": [],
   "source": [
    "H0f = ParticleOperator({})\n",
    "for spin in [-1, 1]:\n",
    "    for mode_n, n in enumerate(np.arange(0.5, Lambda, 1)):\n",
    "        # hf = m**2 / pplus(n)\n",
    "        hf = 1\n",
    "        H0f += hf * ParticleOperator('b' + str(mode_n) + \"^\")\n",
    "# H0f = 1/(2*L) * H0f"
   ]
  },
  {
   "cell_type": "code",
   "execution_count": 61,
   "metadata": {},
   "outputs": [],
   "source": [
    "H0fb = ParticleOperator({})\n",
    "for spin in [-1, 1]:\n",
    "    for mode_n, n in enumerate(np.arange(0.5, Lambda, 1)):\n",
    "        for mode_m, m in enumerate(np.arange(0, Lambda, 1)):\n",
    "            # hf = m**2 / pplus(n)\n",
    "            # hb = mu**2 / (pplus(m) + 0.001)\n",
    "            hf = hb = 1\n",
    "            H0fb += (hf + hb) * ParticleOperator('b' + str(mode_n) + \"^ \" + 'a' + str(mode_m) + \"^\")\n",
    "# H0fb = 1/((2*L)**2) * H0fb"
   ]
  },
  {
   "cell_type": "code",
   "execution_count": 62,
   "metadata": {},
   "outputs": [],
   "source": [
    "H0 = H0f + H0fb"
   ]
  },
  {
   "cell_type": "code",
   "execution_count": 63,
   "metadata": {},
   "outputs": [],
   "source": [
    "Hy = ParticleOperator({})\n",
    "\n",
    "for mode_n1, n1 in enumerate(np.arange(0.5, Lambda, 1)):\n",
    "    for mode_n2, n2 in enumerate(np.arange(0.5, Lambda, 1)):\n",
    "        for mode_m, m in enumerate(np.arange(0, Lambda, 1)):\n",
    "            if n1 - n2 - m == 0:\n",
    "                # hy = np.sqrt(pplus(n1) * pplus(n2)) * (1/pplus(n1) + 1/pplus(n2))\n",
    "                hy = 1\n",
    "                op_str_1 = 'b' + str(mode_n2) + '^ ' + 'b' + str(mode_n1) + ' a' + str(mode_m) + '^'\n",
    "                op_str_2 = 'b' + str(mode_n) + '^ ' + 'b' + str(mode_n2) + ' a' + str(mode_m)\n",
    "                Hy += hy * (\n",
    "                    ParticleOperator(op_str_1)\n",
    "                    + ParticleOperator(op_str_2)\n",
    "                )"
   ]
  },
  {
   "cell_type": "code",
   "execution_count": 64,
   "metadata": {},
   "outputs": [],
   "source": [
    "Hplus = ParticleOperator({})\n",
    "\n",
    "for sigma1 in [-1, 1]:\n",
    "    for sigma2 in [-1, 1]:\n",
    "        for mode_n1, n1 in enumerate(np.arange(0.5, Lambda, 1)):\n",
    "            for mode_n2, n2 in enumerate(np.arange(0.5, Lambda, 1)):\n",
    "                for mode_m1, m1 in enumerate(np.arange(0, Lambda, 1)):\n",
    "                    for mode_m2, m2 in enumerate(np.arange(0, Lambda, 1)):\n",
    "                        if n1 + m1 == n2 + m2:\n",
    "                            if sigma1 == sigma2:\n",
    "                                # hp = 2 * np.sqrt(pplus(n1) * pplus(n2))\n",
    "                                hp = 1\n",
    "                                Hplus += hp * (\n",
    "                                    ParticleOperator('b' + str(mode_n2) + \"^ \" + \\\n",
    "                                                     'b' + str(mode_n1) + \\\n",
    "                                                    ' a' + str(mode_m2) + \"^ \" + \\\n",
    "                                                     'a' + str(mode_m1))\n",
    "                                )"
   ]
  },
  {
   "cell_type": "code",
   "execution_count": 67,
   "metadata": {},
   "outputs": [
    {
     "data": {
      "text/plain": [
       "4 * b0^ a0^\n",
       "4 * b0^ a1^\n",
       "4 * b0^ a2^\n",
       "4 * b1^ a0^\n",
       "4 * b1^ a1^\n",
       "4 * b1^ a2^\n",
       "4 * b2^ a0^\n",
       "4 * b2^ a1^\n",
       "4 * b2^ a2^\n",
       "2 * b0^\n",
       "2 * b1^\n",
       "2 * b2^\n",
       "1 * b0^ b0 a0^\n",
       "1 * b2^ b0 a0\n",
       "1 * b0^ b1 a1^\n",
       "1 * b2^ b0 a1\n",
       "1 * b1^ b1 a0^\n",
       "1 * b2^ b1 a0\n",
       "1 * b0^ b2 a2^\n",
       "1 * b2^ b0 a2\n",
       "1 * b1^ b2 a1^\n",
       "1 * b2^ b1 a1\n",
       "1 * b2^ b2 a0^\n",
       "1 * b2^ b2 a0\n",
       "2 * b0^ b0 a0^ a0\n",
       "2 * b0^ b0 a1^ a1\n",
       "2 * b0^ b0 a2^ a2\n",
       "2 * b1^ b0 a0^ a1\n",
       "2 * b1^ b0 a1^ a2\n",
       "2 * b2^ b0 a0^ a2\n",
       "2 * b0^ b1 a1^ a0\n",
       "2 * b0^ b1 a2^ a1\n",
       "2 * b1^ b1 a0^ a0\n",
       "2 * b1^ b1 a1^ a1\n",
       "2 * b1^ b1 a2^ a2\n",
       "2 * b2^ b1 a0^ a1\n",
       "2 * b2^ b1 a1^ a2\n",
       "2 * b0^ b2 a2^ a0\n",
       "2 * b1^ b2 a1^ a0\n",
       "2 * b1^ b2 a2^ a1\n",
       "2 * b2^ b2 a0^ a0\n",
       "2 * b2^ b2 a1^ a1\n",
       "2 * b2^ b2 a2^ a2"
      ]
     },
     "execution_count": 67,
     "metadata": {},
     "output_type": "execute_result"
    }
   ],
   "source": [
    "H = H0 + Hy + Hplus\n",
    "H"
   ]
  },
  {
   "cell_type": "code",
   "execution_count": null,
   "metadata": {},
   "outputs": [],
   "source": []
  },
  {
   "cell_type": "code",
   "execution_count": null,
   "metadata": {},
   "outputs": [],
   "source": []
  }
 ],
 "metadata": {
  "kernelspec": {
   "display_name": "phd",
   "language": "python",
   "name": "python3"
  },
  "language_info": {
   "codemirror_mode": {
    "name": "ipython",
    "version": 3
   },
   "file_extension": ".py",
   "mimetype": "text/x-python",
   "name": "python",
   "nbconvert_exporter": "python",
   "pygments_lexer": "ipython3",
   "version": "3.9.18"
  },
  "orig_nbformat": 4
 },
 "nbformat": 4,
 "nbformat_minor": 2
}
