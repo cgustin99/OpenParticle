{
 "cells": [
  {
   "cell_type": "code",
   "execution_count": 22,
   "metadata": {},
   "outputs": [],
   "source": [
    "from openparticle import *\n",
    "import matplotlib.pyplot as plt"
   ]
  },
  {
   "cell_type": "markdown",
   "metadata": {},
   "source": [
    "# Static Yukawa Hamiltonian:\n",
    "\n",
    "$H = E_f b^\\dagger b + E_b a^\\dagger a + gE_I b^\\dagger (a^\\dagger + a)b$\n",
    "\n",
    "RGPEP Equation:\n",
    "\n",
    "$\\frac{d}{dt}H(t) = [\\mathcal{G}_t, H(t)]$\n",
    "\n",
    "$\\mathcal{G}_t = [H(0), H(t)]$"
   ]
  },
  {
   "cell_type": "markdown",
   "metadata": {},
   "source": [
    "$H(t) = E_f(t)b^\\dagger b + E_b(t) a^\\dagger a + g(t)E_I b^\n",
    "\\dagger (a^\\dagger + a)b \\rightarrow \\frac{d}{dt}H(t)= [\\mathcal{G}_t, H(t)]$"
   ]
  },
  {
   "cell_type": "markdown",
   "metadata": {},
   "source": [
    "$\\dot{E}_f b^\\dagger b + \\dot{E}_b(t) a^\\dagger a + \\dot{g(t)}E_I b^\n",
    "\\dagger (a^\\dagger + a)b = [\\mathcal{G}_t, E_f(t)b^\\dagger b+ E_b(t) a^\\dagger a + g(t)E_I b^\n",
    "\\dagger (a^\\dagger + a)b]$"
   ]
  },
  {
   "cell_type": "code",
   "execution_count": 4,
   "metadata": {},
   "outputs": [],
   "source": [
    "Ef, Eb, Ei = 1, 1, 1\n",
    "g = 0.1"
   ]
  },
  {
   "cell_type": "code",
   "execution_count": 7,
   "metadata": {},
   "outputs": [],
   "source": [
    "H0 = Ef * ParticleOperator('b0^ b0') + Eb * ParticleOperator('a0^ a0')\n",
    "Hi = g * Ei * (ParticleOperator('b0^') * (\n",
    "    ParticleOperator('a0^') + ParticleOperator('a0')\n",
    "    )*ParticleOperator('b0') )\n",
    "Hcan = H0 + Hi"
   ]
  },
  {
   "cell_type": "code",
   "execution_count": 10,
   "metadata": {},
   "outputs": [
    {
     "data": {
      "text/plain": [
       "0.1 * b0^ b0 a0^\n",
       "-0.1 * b0^ b0 a0"
      ]
     },
     "execution_count": 10,
     "metadata": {},
     "output_type": "execute_result"
    }
   ],
   "source": [
    "Gt = H0.commutator(Hcan)\n",
    "Gt"
   ]
  },
  {
   "cell_type": "code",
   "execution_count": 11,
   "metadata": {},
   "outputs": [],
   "source": [
    "rhs = Gt.commutator(Hcan)"
   ]
  },
  {
   "cell_type": "code",
   "execution_count": 12,
   "metadata": {},
   "outputs": [
    {
     "data": {
      "text/plain": [
       "-0.1 * b0^ b0 a0^\n",
       "-0.1 * b0^ b0 a0\n",
       "-0.020000000000000004 * b0^ b0\n",
       "0.020000000000000004 * b0^ b0^ b0 b0"
      ]
     },
     "execution_count": 12,
     "metadata": {},
     "output_type": "execute_result"
    }
   ],
   "source": [
    "rhs"
   ]
  },
  {
   "cell_type": "markdown",
   "metadata": {},
   "source": [
    "From the RGPEP equation, we see:\n",
    "\n",
    "$\\dot{E}_f(t) b^\\dagger b + \\dot{g}(t)E_I b^\\dagger(a^\\dagger + a)b = -g(t)E_b^2E_Ib^\\dagger(a^\\dagger + a)b - 2g^2(t)E_bE_I^2b^\\dagger b$"
   ]
  },
  {
   "cell_type": "markdown",
   "metadata": {},
   "source": [
    "Thus,\n",
    "\n",
    "\\begin{cases}\n",
    "\\dot{E}_f(t) = -2g^2(t)E_bE_I^2 \\\\\n",
    "\\dot{g}(t) = -g(t)E_b^2\n",
    "\n",
    "\\end{cases}"
   ]
  },
  {
   "cell_type": "markdown",
   "metadata": {},
   "source": [
    "The second equation implies $g(t) = ge^{-E_b^2t}$. Plugging this into the first equation gives $\\dot{E}_f(t) = -2g^2e^{-2E_b^2t}E_bE_I^2$. Solving this separable ODE gives: \n",
    "\n",
    "$E_f(t) - E_f = -2g^2E_bE_I^2\\int_0^t dt e^{-2E_b^2t}$"
   ]
  },
  {
   "cell_type": "markdown",
   "metadata": {},
   "source": [
    "$\\implies E_f(t) = E_f + g^2(1 - e^{-2E_b^2})E_I^2/E_b$"
   ]
  },
  {
   "cell_type": "markdown",
   "metadata": {},
   "source": [
    "Thus, \n",
    "\n",
    "$$H(t) = [E_f + g^2(1 - e^{-2E_b^2t})E_I^2/E_b]b^\\dagger b + E_b a^\\dagger a + ge^{-2E_bt}E_I b^\\dagger (a^\\dagger + a)b$$"
   ]
  },
  {
   "cell_type": "code",
   "execution_count": 34,
   "metadata": {},
   "outputs": [],
   "source": [
    "def H(t):\n",
    "    return (Ef + g**2*(1 - np.exp(-2*Eb**2 * t))*Ei**2/Eb) * ParticleOperator('b0^ b0')+\\\n",
    "    Eb * ParticleOperator('a0^ a0') +\\\n",
    "    g * np.exp(-2*Eb**2 * t) * Ei * (ParticleOperator('b0^') * (\n",
    "    ParticleOperator('a0^') + ParticleOperator('a0')\n",
    "    )*ParticleOperator('b0') )"
   ]
  },
  {
   "cell_type": "code",
   "execution_count": 46,
   "metadata": {},
   "outputs": [],
   "source": [
    "vacuum = Fock([], [], [])\n",
    "f = Fock([0], [], [])\n",
    "b = Fock([], [], [(0, 1)])\n",
    "interact = Fock([0], [], [(0, 1)])"
   ]
  },
  {
   "cell_type": "code",
   "execution_count": 48,
   "metadata": {},
   "outputs": [],
   "source": [
    "basis = [vacuum, f, b, interact]"
   ]
  },
  {
   "cell_type": "code",
   "execution_count": 49,
   "metadata": {},
   "outputs": [
    {
     "data": {
      "text/plain": [
       "(1.0 * b0^ b0\n",
       " 1.0 * a0^ a0\n",
       " 0.1 * b0^ a0^ b0\n",
       " 0.1 * b0^ a0 b0,\n",
       " 1.0099999999793885 * b0^ b0\n",
       " 1.0 * a0^ a0\n",
       " 2.061153622438558e-10 * b0^ a0^ b0\n",
       " 2.061153622438558e-10 * b0^ a0 b0)"
      ]
     },
     "execution_count": 49,
     "metadata": {},
     "output_type": "execute_result"
    }
   ],
   "source": [
    "H(0), H(10)"
   ]
  },
  {
   "cell_type": "code",
   "execution_count": 68,
   "metadata": {},
   "outputs": [],
   "source": [
    "Hmat_t0 = generate_matrix_from_basis(H(0), basis)"
   ]
  },
  {
   "cell_type": "code",
   "execution_count": 69,
   "metadata": {},
   "outputs": [
    {
     "data": {
      "text/plain": [
       "<matplotlib.image.AxesImage at 0x28f7942e0>"
      ]
     },
     "execution_count": 69,
     "metadata": {},
     "output_type": "execute_result"
    },
    {
     "data": {
      "image/png": "[encoded data removed]",
      "text/plain": [
       "<Figure size 640x480 with 1 Axes>"
      ]
     },
     "metadata": {},
     "output_type": "display_data"
    }
   ],
   "source": [
    "plt.imshow(Hmat_t0)"
   ]
  },
  {
   "cell_type": "code",
   "execution_count": 70,
   "metadata": {},
   "outputs": [],
   "source": [
    "vals_t0, vecs_t0 = np.linalg.eigh(Hmat_t0)"
   ]
  },
  {
   "cell_type": "code",
   "execution_count": 71,
   "metadata": {},
   "outputs": [
    {
     "data": {
      "text/plain": [
       "0.9900980486407215"
      ]
     },
     "execution_count": 71,
     "metadata": {},
     "output_type": "execute_result"
    }
   ],
   "source": [
    "vals_t0[vals_t0 > 0].min()"
   ]
  },
  {
   "cell_type": "code",
   "execution_count": 75,
   "metadata": {},
   "outputs": [
    {
     "name": "stdout",
     "output_type": "stream",
     "text": [
      "E_0: 1.0\n"
     ]
    },
    {
     "data": {
      "image/png": "[encoded data removed]",
      "text/plain": [
       "<Figure size 640x480 with 1 Axes>"
      ]
     },
     "metadata": {},
     "output_type": "display_data"
    }
   ],
   "source": [
    "Hmat_t10 = generate_matrix_from_basis(H(10), basis)\n",
    "plt.imshow(Hmat_t10)\n",
    "vals_t10, vecs_t10 = np.linalg.eigh(Hmat_t10)\n",
    "print(\"E_0:\", (vals_t10[vals_t10 > 0].min()))"
   ]
  },
  {
   "cell_type": "code",
   "execution_count": null,
   "metadata": {},
   "outputs": [],
   "source": []
  }
 ],
 "metadata": {
  "kernelspec": {
   "display_name": "phd",
   "language": "python",
   "name": "python3"
  },
  "language_info": {
   "codemirror_mode": {
    "name": "ipython",
    "version": 3
   },
   "file_extension": ".py",
   "mimetype": "text/x-python",
   "name": "python",
   "nbconvert_exporter": "python",
   "pygments_lexer": "ipython3",
   "version": "3.9.18"
  },
  "orig_nbformat": 4
 },
 "nbformat": 4,
 "nbformat_minor": 2
}
