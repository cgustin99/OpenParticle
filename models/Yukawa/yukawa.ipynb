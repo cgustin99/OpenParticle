{
 "cells": [
  {
   "cell_type": "code",
   "execution_count": 1,
   "metadata": {},
   "outputs": [],
   "source": [
    "from openparticle.hamiltonians import *\n",
    "from openparticle import ParticleOperator, Fock\n",
    "from openparticle.utils import get_fock_basis, generate_matrix\n",
    "import numpy as np\n",
    "from openparticle.dlcq import *\n",
    "from itertools import combinations\n",
    "import matplotlib.pyplot as plt\n",
    "plt.rcParams[\"font.family\"] = \"Times New Roman\"\n",
    "plt.rc('text', usetex=True)"
   ]
  },
  {
   "cell_type": "code",
   "execution_count": 2,
   "metadata": {},
   "outputs": [],
   "source": [
    "def get_sign(op):\n",
    "    return 1 if op.creation else -1\n",
    "\n",
    "def get_mass(op, m_F, m_B):\n",
    "    if op.particle_type == 'fermion':\n",
    "        return m_F\n",
    "    elif op.particle_type == 'antifermion':\n",
    "        return m_F\n",
    "    elif op.particle_type == 'boson':\n",
    "        return m_B\n",
    "    \n",
    "def get_momentum(op):\n",
    "    if op.particle_type == 'fermion' or op.particle_type == 'antifermion':\n",
    "        return p(op.mode + 1/2)\n",
    "    elif op.particle_type == 'boson':\n",
    "        return p(op.mode + 1)\n",
    "\n",
    "def renorm_Yukawa_first_order(Lambda, t, m_F = 1, m_B = 1):\n",
    "    H1 = three_point_yukawa(Lambda)\n",
    "\n",
    "    ren_H1 = ParticleOperator({})\n",
    "\n",
    "    for term in H1.to_list():\n",
    "        exp_factor = 0\n",
    "        for op in term.split():\n",
    "            exp_factor += get_sign(op) * get_mass(op, m_F, m_B)**2 * 1/get_momentum(op)\n",
    "        ren_H1 += np.exp(-exp_factor**2 * t) * term\n",
    "\n",
    "    return ren_H1\n",
    "\n",
    "def renorm_Yukawa_second_order(Lambda, t, m_F = 1, m_B = 1):\n",
    "    H1inst = instantaneous_yukawa(Lambda)\n",
    "\n",
    "    ren_H1inst = ParticleOperator({})\n",
    "\n",
    "    for term in H1inst.to_list():\n",
    "        exp_factor = 0\n",
    "        for op in term.split():\n",
    "            exp_factor += get_sign(op) * get_mass(op, m_F, m_B)**2 * 1/get_momentum(op)\n",
    "        ren_H1inst += np.exp(-exp_factor**2 * t) * term\n",
    "\n",
    "    return ren_H1inst\n"
   ]
  },
  {
   "cell_type": "code",
   "execution_count": 7,
   "metadata": {},
   "outputs": [],
   "source": [
    "def plot_m2_vs_pp(Pplus_val, Lambda, coupling = 1):\n",
    "\n",
    "    print(\"Generating Hamiltonian...\")\n",
    "    ham = yukawa_Hamiltonian(Lambda = Lambda, g = coupling)\n",
    "    print(\"Hamiltonian generated.\")\n",
    "    evals = []\n",
    "    pplus_arr = [i for i in range(0, Pplus_val + 1)]\n",
    "\n",
    "\n",
    "    for pp in pplus_arr:\n",
    "        print(\"--- P+: \", pp, \"---\")\n",
    "        print(\"Partitioning... \")\n",
    "        pp_tmp_basis = Pplus_states_partition(pp)\n",
    "        print(\"Generating \",len(pp_tmp_basis), \"x\", len(pp_tmp_basis)  ,\" matrix...\")\n",
    "        tmp_mat = generate_matrix(ham, pp_tmp_basis)\n",
    "        print(\"Computing eigenvalues...\")\n",
    "        evals.append(min(np.linalg.eigvalsh(tmp_mat)) * pp)\n",
    "\n",
    "    # return evals, pplus_arr\n",
    "    # # return evals, pplus_arr\n",
    "    plt.figure(figsize=(3,3), dpi = 200)\n",
    "    plt.scatter(pplus_arr[1:], np.array(evals)[1:], marker='.')\n",
    "    # plt.yscale('symlog')\n",
    "    plt.xlabel(f'$\\Lambda$')\n",
    "    plt.ylabel(f'$M^2$')\n",
    "    plt.tight_layout()\n",
    "    # plt.savefig('yukawa_spectrum.jpg')\n",
    "    plt.show()"
   ]
  },
  {
   "cell_type": "code",
   "execution_count": 15,
   "metadata": {},
   "outputs": [
    {
     "name": "stdout",
     "output_type": "stream",
     "text": [
      "Generating Hamiltonian...\n",
      "Hamiltonian generated.\n",
      "--- P+:  0 ---\n",
      "Partitioning... \n",
      "Generating  1 x 1  matrix...\n",
      "Computing eigenvalues...\n",
      "--- P+:  1 ---\n",
      "Partitioning... \n",
      "Generating  2 x 2  matrix...\n",
      "Computing eigenvalues...\n",
      "--- P+:  2 ---\n",
      "Partitioning... \n",
      "Generating  7 x 7  matrix...\n",
      "Computing eigenvalues...\n",
      "--- P+:  3 ---\n",
      "Partitioning... \n",
      "Generating  14 x 14  matrix...\n",
      "Computing eigenvalues...\n",
      "--- P+:  4 ---\n",
      "Partitioning... \n",
      "Generating  30 x 30  matrix...\n",
      "Computing eigenvalues...\n",
      "--- P+:  5 ---\n",
      "Partitioning... \n",
      "Generating  56 x 56  matrix...\n",
      "Computing eigenvalues...\n",
      "--- P+:  6 ---\n",
      "Partitioning... \n",
      "Generating  105 x 105  matrix...\n",
      "Computing eigenvalues...\n",
      "--- P+:  7 ---\n",
      "Partitioning... \n",
      "Generating  182 x 182  matrix...\n",
      "Computing eigenvalues...\n"
     ]
    },
    {
     "data": {
      "image/png": "[encoded data removed]",
      "text/plain": [
       "<Figure size 600x600 with 1 Axes>"
      ]
     },
     "metadata": {},
     "output_type": "display_data"
    }
   ],
   "source": [
    "cut = 7\n",
    "plot_m2_vs_pp(Pplus_val=cut, Lambda=cut, coupling = 1)"
   ]
  },
  {
   "cell_type": "markdown",
   "metadata": {},
   "source": [
    "### Partition $H$ into blocks of definite $P^+$"
   ]
  },
  {
   "cell_type": "code",
   "execution_count": 21,
   "metadata": {},
   "outputs": [
    {
     "data": {
      "text/plain": [
       "Text(0.5, 1.0, 'Yukawa Hamiltonian at $\\\\Lambda = 3$')"
      ]
     },
     "execution_count": 21,
     "metadata": {},
     "output_type": "execute_result"
    },
    {
     "data": {
      "image/png": "[encoded data removed]",
      "text/plain": [
       "<Figure size 640x480 with 1 Axes>"
      ]
     },
     "metadata": {},
     "output_type": "display_data"
    }
   ],
   "source": [
    "t = 1\n",
    "pp = 3\n",
    "basis = [Pplus_states_partition(i)[j] for i in range(0, pp + 1) for j in range(len(Pplus_states_partition(i)))]\n",
    "plt.imshow(\n",
    "    np.real(\n",
    "        generate_matrix(yukawa_Hamiltonian(pp, g = 1), basis)\n",
    "    )\n",
    ")\n",
    "n_states_i = 0\n",
    "for i in range(0, pp):\n",
    "    n_states_i += len(Pplus_states_partition(i))\n",
    "    plt.axvline(x=n_states_i - 0.5, color='black', linewidth=1)\n",
    "    plt.axhline(y=n_states_i - 0.5, color='black', linewidth=1)\n",
    "\n",
    "plt.title(f'Yukawa Hamiltonian at $\\Lambda = {pp}$')"
   ]
  },
  {
   "cell_type": "markdown",
   "metadata": {},
   "source": [
    "## New $\\mathcal{O}(g^2)$ Diagrams"
   ]
  },
  {
   "cell_type": "code",
   "execution_count": 165,
   "metadata": {},
   "outputs": [],
   "source": [
    "Lambda = 4\n",
    "g = 1\n",
    "L = 1\n",
    "t = 0.1\n",
    "m_F = 1\n",
    "m_B = 1"
   ]
  },
  {
   "cell_type": "markdown",
   "metadata": {},
   "source": [
    "### Fermion Current $J(x)$"
   ]
  },
  {
   "cell_type": "markdown",
   "metadata": {},
   "source": [
    "$$\n",
    "\\tilde J(q) = g \\int_{-\\infty}^\\infty \\int_{-\\infty}^\\infty \\frac{dq_1^+dq_2^+}{(4\\pi)^2}\\delta(q + q_1 - q_2):\\tilde \\psi^\\dagger(q_1)\\gamma^0 \\tilde \\psi(q_2):\n",
    "$$"
   ]
  },
  {
   "cell_type": "markdown",
   "metadata": {},
   "source": [
    "$$\n",
    "C_\\phi = \\int_0^\\infty \\frac{dq^+}{4\\pi|q^+|}:\\tilde J(-q) \\tilde J(q):\n",
    "$$"
   ]
  },
  {
   "cell_type": "markdown",
   "metadata": {},
   "source": [
    "$\n",
    "C_\\phi = g\\int_0^\\infty \\frac{dq^+}{4\\pi|q^+|}\\int_{-\\infty}^\\infty\\int_{-\\infty}^\\infty\\int_{-\\infty}^\\infty\\int_{-\\infty}^\\infty \\frac{dq_1^+dq_2^+dq_{1'}^+dq_{2'}^+}{(4\\pi)^4}\\delta(-q + q_1 - q_2)\\delta(q + q_{1'} - q_{2'}):\\tilde \\psi^\\dagger(q_{1'})\\gamma^0 \\tilde \\psi(q_{2'})::\\tilde \\psi^\\dagger(q_{1})\\gamma^0 \\tilde \\psi(q_{2}):\n",
    "$"
   ]
  },
  {
   "cell_type": "markdown",
   "metadata": {},
   "source": [
    "$$\n",
    "B = \\frac{1}{2}\\left(\\frac{1}{q_1^- - q_2^- - q^-} + \\frac{1}{q_{1'}^- - q_{2'}^- - q^-} \\right)\\left(e^{-(q_1^- - q_2^- - q^-)^2t}e^{-(q_{1'}^- - q_{2'}^- - q^-)^2t} - e^{-(q_1^- + q_2^- - q_{1'}^- - q_{2'}^-)^2t} \\right)\n",
    "$$"
   ]
  },
  {
   "cell_type": "code",
   "execution_count": 238,
   "metadata": {},
   "outputs": [],
   "source": [
    "Lambda = 4"
   ]
  },
  {
   "cell_type": "code",
   "execution_count": 241,
   "metadata": {},
   "outputs": [],
   "source": [
    "Cphi = ParticleOperator({})\n",
    "\n",
    "for q in np.arange(1, Lambda, 1):\n",
    "    for q1p in np.arange(-Lambda + 1/2, Lambda, 1):\n",
    "        for q2p in np.arange(-Lambda + 1/2, Lambda, 1):\n",
    "            for q1 in np.arange(-Lambda + 1/2, Lambda, 1):\n",
    "                for q2 in np.arange(-Lambda + 1/2, Lambda, 1):\n",
    "                    if -q + q1 - q2 == 0 and q + q1p - q2p == 0:\n",
    "                        q1minus = m_F**2 / q1\n",
    "                        q2minus = m_F**2 / q2\n",
    "\n",
    "                        q1pminus = m_F**2 / q1p\n",
    "                        q2pminus = m_F**2 / q2p\n",
    "\n",
    "                        qminus = m_B**2 / q\n",
    "                        \n",
    "                        A = q1minus - q2minus - qminus\n",
    "                        B = q1pminus - q2pminus - qminus\n",
    "                        C = q1minus + q2minus - q1pminus - q2pminus\n",
    "\n",
    "                        B = 0.5 * 1/np.abs(q) * (\n",
    "                            1/A + 1/B\n",
    "                        )* (\n",
    "                            np.exp(-A**2 * t) * np.exp(-B**2 * t) - np.exp(-C**2 * t)\n",
    "                        )\n",
    "                        op_L = (\n",
    "                            FermionField(q1p).psi_dagger.dot(gamma0.dot(FermionField(q2p).psi))\n",
    "                        )[0][0]\n",
    "                        op_R = (\n",
    "                            FermionField(q1).psi_dagger.dot(gamma0.dot(FermionField(q2).psi))\n",
    "                        )[0][0]\n",
    "                        Cphi += B * op_L * op_R\n",
    "\n",
    "Cphi = remove_symmetry_terms(Cphi.normal_order(), 4)"
   ]
  },
  {
   "cell_type": "code",
   "execution_count": 242,
   "metadata": {},
   "outputs": [
    {
     "data": {
      "text/plain": [
       "-0.008853358232496318 * d2^ d3^ d3 d2\n",
       "-0.0200610709596007 * d2^ d1^ d3 d0\n",
       "-0.030497742122451522 * b1^ b0 d2^ d3\n",
       "-0.0036902494356103746 * b2^ b1 d2^ d3\n",
       "0.0005769604900154213 * b3^ b2 d2^ d3\n",
       "-0.02393154847876691 * d1^ d2^ d2 d1\n",
       "-0.07790446390007152 * b1^ b0 d1^ d2\n",
       "-0.02144452101020124 * b2^ b1 d1^ d2\n",
       "-0.00849585200520417 * b3^ b2 d1^ d2\n",
       "-0.038575804214271134 * d0^ d3^ d1 d2\n",
       "0.3948599582571962 * d0^ d1^ d1 d0\n",
       "0.47933917501693984 * b1^ b0 d0^ d1\n",
       "0.18928174264564906 * b2^ b1 d0^ d1\n",
       "0.10682368162149591 * b3^ b2 d0^ d1\n",
       "0.10682368162149591 * b0^ b1 d3^ d2\n",
       "0.18928174264564906 * b0^ b1 d2^ d1\n",
       "0.47933917501693984 * b0^ b1 d1^ d0\n",
       "0.3948599582571962 * b0^ b1^ b1 b0\n",
       "-0.038575804214271134 * b0^ b3^ b1 b2\n",
       "-0.00849585200520417 * b1^ b2 d3^ d2\n",
       "-0.02144452101020124 * b1^ b2 d2^ d1\n",
       "-0.07790446390007152 * b1^ b2 d1^ d0\n",
       "-0.02393154847876691 * b1^ b2^ b2 b1\n",
       "0.0005769604900154213 * b2^ b3 d3^ d2\n",
       "-0.0036902494356103746 * b2^ b3 d2^ d1\n",
       "-0.030497742122451522 * b2^ b3 d1^ d0\n",
       "-0.0200610709596007 * b2^ b1^ b3 b0\n",
       "-0.008853358232496318 * b2^ b3^ b3 b2\n",
       "-0.01664583794292488 * d1^ d3^ d3 d1\n",
       "-0.08657331578161705 * d1^ d2^ d3 d0\n",
       "-0.09221204680724054 * b1^ d1^ d0^ d3\n",
       "-0.16314350379127643 * b2^ b0 d1^ d3\n",
       "-0.050014220710155204 * b3^ b1 d1^ d3\n",
       "0.00011687828334815871 * d0^ d3^ d2 d1\n",
       "0.027155059118230997 * d0^ d2^ d2 d0\n",
       "0.03399017596533665 * b0^ d0^ d1^ d2\n",
       "0.02995459018377695 * b2^ b0 d0^ d2\n",
       "-0.0064762556944113975 * b3^ b1 d0^ d2\n",
       "-0.0007768770840074112 * b0 d2^ d1 d0\n",
       "-0.005057591803051791 * b0^ b0 d1^ d1\n",
       "-0.030154553199412466 * b3^ b0 b1 d1\n",
       "0.030154553199412466 * b1 d3^ d0 d1\n",
       "-0.005057591803051791 * b1^ b1 d0^ d0\n",
       "0.0007768770840074077 * b2^ b1 b0 d0\n",
       "-0.0064762556944113975 * b0^ b2 d3^ d1\n",
       "0.02995459018377696 * b0^ b2 d2^ d0\n",
       "-0.03399017596533665 * b0^ b1^ b2 d0^\n",
       "0.027155059118230997 * b0^ b2^ b2 b0\n",
       "0.00011687828334815871 * b0^ b3^ b2 b1\n",
       "-0.050014220710155204 * b1^ b3 d3^ d1\n",
       "-0.16314350379127643 * b1^ b3 d2^ d0\n",
       "0.09221204680724054 * b1^ b0^ b3 d1^\n",
       "-0.08657331578161705 * b1^ b2^ b3 b0\n",
       "-0.01664583794292488 * b1^ b3^ b3 b1\n",
       "0.009498273785877599 * d0^ d3^ d3 d0\n",
       "0.023737787141913217 * b0^ d0^ d2^ d3\n",
       "0.008728946497461932 * b3^ b0 d0^ d3\n",
       "0.004777163530563702 * b0 d3^ d2 d0\n",
       "-0.0035251327410864485 * b0^ b0 d2^ d2\n",
       "-0.0035251327410864485 * b2^ b2 d0^ d0\n",
       "-0.004777163530563702 * b3^ b2 b0 d0\n",
       "0.008728946497461932 * b0^ b3 d3^ d0\n",
       "-0.023737787141913217 * b0^ b2^ b3 d0^\n",
       "0.009498273785877599 * b0^ b3^ b3 b0"
      ]
     },
     "execution_count": 242,
     "metadata": {},
     "output_type": "execute_result"
    }
   ],
   "source": [
    "Cphi"
   ]
  },
  {
   "cell_type": "code",
   "execution_count": 169,
   "metadata": {},
   "outputs": [],
   "source": [
    "def cfree(x, m = 1):\n",
    "    return m**2 / p(x)\n",
    "\n",
    "def c(x, y, z, L = 1):\n",
    "    return 2 * L * ubar(p(x)).dot(u(p(y)))[0][0] * (x == y + z)\n",
    "\n",
    "def cstar(x, y, z, L = 1):\n",
    "    return 2 * L * ubar(p(x)).dot(u(p(y)))[0][0] * (x + z == y)\n",
    "\n",
    "def cbar(x, y, z, L = 1):\n",
    "    return 2 * L * vbar(p(y)).dot(v(p(x)))[0][0] * (x == y + z)\n",
    "\n",
    "def cbarstar(x, y, z, L = 1):\n",
    "    return 2 * L * vbar(p(y)).dot(v(p(x)))[0][0] * (x + z == y)\n",
    "\n",
    "def ctilde(x, y, z, L = 1):\n",
    "    return 2 * L * ubar(p(x)).dot(v(p(y)))[0][0] * (x + y == z)\n",
    "\n",
    "def ctildestar(x, y, z, L = 1):\n",
    "    return 2 * L * vbar(p(y)).dot(u(p(x)))[0][0] * (x + y == z)"
   ]
  },
  {
   "cell_type": "code",
   "execution_count": 170,
   "metadata": {},
   "outputs": [
    {
     "data": {
      "text/plain": [
       "-1.5628239911699833 * b0^ b1^ b1 b0\n",
       "-0.7812489017608377 * b0^ b2^ b1 b1\n",
       "-0.6474718599284762 * b0^ b3^ b1 b2\n",
       "-0.7812489017608378 * b1^ b1^ b2 b0\n",
       "-0.685326227314744 * b1^ b2^ b2 b1\n",
       "-0.6225274381968682 * b1^ b3^ b2 b2\n",
       "-0.6474718599284763 * b2^ b1^ b3 b0\n",
       "-0.622527438196868 * b2^ b2^ b3 b1\n",
       "-0.5818833745815557 * b2^ b3^ b3 b2\n",
       "-1.903792386501377 * b0^ b2^ b2 b0\n",
       "-0.6110250949400843 * b0^ b3^ b2 b1\n",
       "-0.6110250949400843 * b1^ b2^ b3 b0\n",
       "-0.5330768095248858 * b1^ b3^ b3 b1\n",
       "-2.358506191857353 * b0^ b3^ b3 b0"
      ]
     },
     "execution_count": 170,
     "metadata": {},
     "output_type": "execute_result"
    }
   ],
   "source": [
    "#T channel interactions\n",
    "\n",
    "t_channel = ParticleOperator({})\n",
    "\n",
    "for k in np.arange(1, Lambda, 1):\n",
    "    for i in np.arange(1/2, Lambda, 1):\n",
    "        for ip in np.arange(1/2, Lambda, 1):\n",
    "            for j in np.arange(1/2, Lambda, 1):\n",
    "                for jp in np.arange(1/2, Lambda, 1):\n",
    "                    num = (\n",
    "                        cfree(ip, m_F) + cfree(j, m_F) - cfree(i, m_F) - cfree(jp, m_F) - 2*cfree(k, m_B)\n",
    "                        ) * cstar(i, ip, k) * c(j, jp, k)\n",
    "                   \n",
    "                    den = (\n",
    "                        cfree(i, m_F) + cfree(k, m_B) - cfree(ip, m_F) \n",
    "                    )**2 + (\n",
    "                        cfree(j, m_F) - cfree(jp, m_F) - cfree(k, m_B) \n",
    "                    )**2 + (\n",
    "                        cfree(i, m_F) + cfree(j, m_F) - cfree(ip, m_F) - cfree(jp, m_F)\n",
    "                    )**2\n",
    "\n",
    "                    exp = (\n",
    "                        np.exp(-(\n",
    "                        cfree(i, m_F) + cfree(j, m_F) - cfree(ip, m_F) - cfree(jp, m_F)\n",
    "                    )**2 * t) - np.exp(-((\n",
    "                        cfree(i, m_F) + cfree(k, m_B) - cfree(ip, m_F) \n",
    "                    )**2 + (\n",
    "                        cfree(j, m_F) - cfree(jp, m_F) - cfree(k, m_B) \n",
    "                    )**2)*t\n",
    "                    )\n",
    "                    )\n",
    "                    string2 = 'b' + str(int(i - 1/2)) + \"^ \" + 'b' + str(int(j - 1/2)) + \"^ \" + 'b' + str(int(ip - 1/2)) + ' b' + str(int(jp - 1/2))\n",
    "\n",
    "                    t_channel += (num/den * exp) * ParticleOperator(string2)\n",
    "\n",
    "t_channel"
   ]
  },
  {
   "cell_type": "code",
   "execution_count": 171,
   "metadata": {},
   "outputs": [],
   "source": [
    "# 2.668436178769707e-06 * b0^ b3^ b3 b0\n",
    "# 4.567480327797631e-06 * b0^ b2^ b2 b0"
   ]
  },
  {
   "cell_type": "markdown",
   "metadata": {},
   "source": [
    "$$\n",
    "B = \\frac{1}{2}\\left(\\frac{1}{q_L - q^-} + \\frac{1}{q_R - q^-} \\right)\\left(e^{-(q_L - q^-)^2t}e^{-(q_R - q^-)^2t} - e^{-(q_L - q_R)^2t} \\right)\n",
    "$$"
   ]
  },
  {
   "cell_type": "markdown",
   "metadata": {},
   "source": [
    "$$\n",
    "q_L = q + q_1\n",
    "$$\n",
    "\n",
    "$$\n",
    "q_R = q' + q_2\n",
    "$$"
   ]
  },
  {
   "cell_type": "code",
   "execution_count": 172,
   "metadata": {},
   "outputs": [],
   "source": [
    "Cj = ParticleOperator({})\n",
    "\n",
    "for q in np.arange(1, Lambda, 1):\n",
    "    for qp in np.arange(1, Lambda, 1):\n",
    "        for q1 in np.arange(-Lambda + 1/2, Lambda + 1, 1):\n",
    "            for q2 in np.arange(-Lambda + 1/2, Lambda + 1, 1):\n",
    "                if q1 + q - qp - q2 == 0:\n",
    "                    qL = q + q1\n",
    "                    qR = qp + q2\n",
    "                    B = 0.5 * (\n",
    "                        1/(qL - q) + 1/(qR - q)\n",
    "                    ) * (\n",
    "                        np.exp(-(qL - q)**2 * t) * np.exp(-(qR - q)**2 * t) - np.exp(-(qL - qR)**2 * t)\n",
    "                    )\n",
    "\n",
    "                    curlyP_plus = q1 + q\n",
    "                    middle = 0.5 * gammap * m_F**2 / curlyP_plus + 0.5 * gammam * curlyP_plus\n",
    "                    Cj += B * FermionField(q1).psi_dagger.dot(gamma0.dot(middle.dot(FermionField(q2).psi)))[0][0] * (\n",
    "                        ScalarField(-q).phi * ScalarField(qp).phi\n",
    "                    )\n",
    "Cj = remove_symmetry_terms(Cj.normal_order(), 4)\n",
    "                    "
   ]
  },
  {
   "cell_type": "code",
   "execution_count": 173,
   "metadata": {},
   "outputs": [
    {
     "data": {
      "text/plain": [
       "-0.008853358232496318 * d2^ d3^ d3 d2\n",
       "-0.0200610709596007 * d2^ d1^ d3 d0\n",
       "-0.030497742122451522 * b1^ b0 d2^ d3\n",
       "-0.0036902494356103746 * b2^ b1 d2^ d3\n",
       "0.0005769604900154213 * b3^ b2 d2^ d3\n",
       "-0.02393154847876691 * d1^ d2^ d2 d1\n",
       "-0.07790446390007152 * b1^ b0 d1^ d2\n",
       "-0.02144452101020124 * b2^ b1 d1^ d2\n",
       "-0.00849585200520417 * b3^ b2 d1^ d2\n",
       "-0.038575804214271134 * d0^ d3^ d1 d2\n",
       "0.3948599582571962 * d0^ d1^ d1 d0\n",
       "0.47933917501693984 * b1^ b0 d0^ d1\n",
       "0.18928174264564906 * b2^ b1 d0^ d1\n",
       "0.10682368162149591 * b3^ b2 d0^ d1\n",
       "0.10682368162149591 * b0^ b1 d3^ d2\n",
       "0.18928174264564906 * b0^ b1 d2^ d1\n",
       "0.47933917501693984 * b0^ b1 d1^ d0\n",
       "0.3948599582571962 * b0^ b1^ b1 b0\n",
       "-0.038575804214271134 * b0^ b3^ b1 b2\n",
       "-0.00849585200520417 * b1^ b2 d3^ d2\n",
       "-0.02144452101020124 * b1^ b2 d2^ d1\n",
       "-0.07790446390007152 * b1^ b2 d1^ d0\n",
       "-0.02393154847876691 * b1^ b2^ b2 b1\n",
       "0.0005769604900154213 * b2^ b3 d3^ d2\n",
       "-0.0036902494356103746 * b2^ b3 d2^ d1\n",
       "-0.030497742122451522 * b2^ b3 d1^ d0\n",
       "-0.0200610709596007 * b2^ b1^ b3 b0\n",
       "-0.008853358232496318 * b2^ b3^ b3 b2\n",
       "-0.01664583794292488 * d1^ d3^ d3 d1\n",
       "-0.08657331578161705 * d1^ d2^ d3 d0\n",
       "-0.09221204680724054 * b1^ d1^ d0^ d3\n",
       "-0.16314350379127643 * b2^ b0 d1^ d3\n",
       "-0.050014220710155204 * b3^ b1 d1^ d3\n",
       "0.00011687828334815871 * d0^ d3^ d2 d1\n",
       "0.027155059118230997 * d0^ d2^ d2 d0\n",
       "0.03399017596533665 * b0^ d0^ d1^ d2\n",
       "0.02995459018377695 * b2^ b0 d0^ d2\n",
       "-0.0064762556944113975 * b3^ b1 d0^ d2\n",
       "-0.0007768770840074112 * b0 d2^ d1 d0\n",
       "-0.005057591803051791 * b0^ b0 d1^ d1\n",
       "-0.030154553199412466 * b3^ b0 b1 d1\n",
       "0.030154553199412466 * b1 d3^ d0 d1\n",
       "-0.005057591803051791 * b1^ b1 d0^ d0\n",
       "0.0007768770840074077 * b2^ b1 b0 d0\n",
       "-0.0064762556944113975 * b0^ b2 d3^ d1\n",
       "0.02995459018377696 * b0^ b2 d2^ d0\n",
       "-0.03399017596533665 * b0^ b1^ b2 d0^\n",
       "0.027155059118230997 * b0^ b2^ b2 b0\n",
       "0.00011687828334815871 * b0^ b3^ b2 b1\n",
       "-0.050014220710155204 * b1^ b3 d3^ d1\n",
       "-0.16314350379127643 * b1^ b3 d2^ d0\n",
       "0.09221204680724054 * b1^ b0^ b3 d1^\n",
       "-0.08657331578161705 * b1^ b2^ b3 b0\n",
       "-0.01664583794292488 * b1^ b3^ b3 b1\n",
       "0.009498273785877599 * d0^ d3^ d3 d0\n",
       "0.023737787141913217 * b0^ d0^ d2^ d3\n",
       "0.008728946497461932 * b3^ b0 d0^ d3\n",
       "0.004777163530563702 * b0 d3^ d2 d0\n",
       "-0.0035251327410864485 * b0^ b0 d2^ d2\n",
       "-0.0035251327410864485 * b2^ b2 d0^ d0\n",
       "-0.004777163530563702 * b3^ b2 b0 d0\n",
       "0.008728946497461932 * b0^ b3 d3^ d0\n",
       "-0.023737787141913217 * b0^ b2^ b3 d0^\n",
       "0.009498273785877599 * b0^ b3^ b3 b0"
      ]
     },
     "execution_count": 173,
     "metadata": {},
     "output_type": "execute_result"
    }
   ],
   "source": [
    "Cphi"
   ]
  },
  {
   "cell_type": "code",
   "execution_count": 174,
   "metadata": {},
   "outputs": [
    {
     "data": {
      "text/plain": [
       "0.4178310965190485 * d3^ d3 a0^ a0\n",
       "0.7612373435140585 * d2^ d2 a0^ a0\n",
       "1.9327876396085062 * d1^ d1 a0^ a0\n",
       "-0.7808298858512039 * d0^ d0 a0^ a0\n",
       "-0.26161176958407173 * b0^ b0 a0^ a0\n",
       "-0.3872188795599321 * b1^ b1 a0^ a0\n",
       "-0.326579420550333 * b2^ b2 a0^ a0\n",
       "-0.23229854738726255 * b3^ b3 a0^ a0\n",
       "-0.15895263056834755 * b4^ b4 a0^ a0\n",
       "0.5382405720413074 * d3^ d2 a0^ a1\n",
       "1.366648276041704 * d2^ d1 a0^ a1\n",
       "-0.5518940854306021 * d1^ d0 a0^ a1\n",
       "0.182863260039991 * b0^ d0^ a0^ a1\n",
       "-0.27477935851558055 * b1^ b0 a0^ a1\n",
       "-0.23111988584999502 * b2^ b1 a0^ a1\n",
       "-0.16432949275472788 * b3^ b2 a0^ a1\n",
       "-0.11242723327203326 * b4^ b3 a0^ a1\n",
       "1.1158500078778812 * d3^ d1 a0^ a2\n",
       "-0.4505810915884855 * d2^ d0 a0^ a2\n",
       "0.14988535959747956 * b0^ d1^ a0^ a2\n",
       "0.22196995957272572 * b1^ d0^ a0^ a2\n",
       "-0.18949799765292957 * b2^ b0 a0^ a2\n",
       "-0.1343070959111543 * b3^ b1 a0^ a2\n",
       "-0.09184164511071903 * b4^ b2 a0^ a2\n",
       "0.492338741648357 * d2^ d3 a1^ a0\n",
       "1.6145244069577167 * d1^ d2 a1^ a0\n",
       "-1.3668820991557755 * d0^ d1 a1^ a0\n",
       "0.182863260039991 * b0 d0 a1^ a0\n",
       "-0.11094526942508542 * b0^ b1 a1^ a0\n",
       "-0.19563630763007925 * b1^ b2 a1^ a0\n",
       "-0.17965029501321544 * b2^ b3 a1^ a0\n",
       "-0.13441749434967537 * b3^ b4 a1^ a0\n",
       "0.34811965453301086 * d3^ d3 a1^ a1\n",
       "1.1416216239400723 * d2^ d2 a1^ a1\n",
       "-0.9663938198042533 * d1^ d1 a1^ a1\n",
       "-0.1308058847920359 * d0^ d0 a1^ a1\n",
       "-0.07928461545542378 * b0^ b0 a1^ a1\n",
       "-0.13852865399934386 * b1^ b1 a1^ a1\n",
       "-0.127107281916692 * b2^ b2 a1^ a1\n",
       "-0.0950809461353776 * b3^ b3 a1^ a1\n",
       "-0.06727473496369829 * b4^ b4 a1^ a1\n",
       "0.9321233176702142 * d3^ d2 a1^ a2\n",
       "-0.7890347500602156 * d2^ d1 a1^ a2\n",
       "-0.10639375593494264 * d1^ d0 a1^ a2\n",
       "0.06269160862461973 * b0^ d0^ a1^ a2\n",
       "-0.11389565973845185 * b1^ b0 a1^ a2\n",
       "-0.10392619588627555 * b2^ b1 a1^ a2\n",
       "-0.07768239102270129 * b3^ b2 a1^ a2\n",
       "-0.05495057272565024 * b4^ b3 a1^ a2\n",
       "1.205816598059689 * d1^ d3 a2^ a0\n",
       "-1.3183664296870548 * d0^ d2 a2^ a0\n",
       "0.37122270444241456 * b0 d1 a2^ a0\n",
       "0.08962287815980545 * b1 d0 a2^ a0\n",
       "-0.0647651614252323 * b0^ b2 a2^ a0\n",
       "-0.12428637511846422 * b1^ b3 a2^ a0\n",
       "-0.12004286356476318 * b2^ b4 a2^ a0\n",
       "0.852630673199465 * d2^ d3 a2^ a1\n",
       "-0.9321461009702584 * d1^ d2 a2^ a1\n",
       "-0.26350657542552786 * d0^ d1 a2^ a1\n",
       "0.06269160862461973 * b0 d0 a2^ a1\n",
       "-0.045986658984480816 * b0^ b1 a2^ a1\n",
       "-0.08797052297969418 * b1^ b2 a2^ a1\n",
       "-0.08492489224311035 * b2^ b3 a2^ a1\n",
       "-0.06569865755736688 * b3^ b4 a2^ a1\n",
       "0.6961663831664923 * d3^ d3 a2^ a2\n",
       "-0.7610810826267148 * d2^ d2 a2^ a2\n",
       "-0.21487665470432124 * d1^ d1 a2^ a2\n",
       "-0.052856410303615854 * d0^ d0 a2^ a2\n",
       "-0.038326782059870085 * b0^ b0 a2^ a2\n",
       "-0.07199296914490194 * b1^ b1 a2^ a2\n",
       "-0.0694022723578973 * b2^ b2 a2^ a2\n",
       "-0.05366906361973945 * b3^ b3 a2^ a2\n",
       "-0.0388870661628417 * b4^ b4 a2^ a2"
      ]
     },
     "execution_count": 174,
     "metadata": {},
     "output_type": "execute_result"
    }
   ],
   "source": [
    "Cj"
   ]
  },
  {
   "cell_type": "markdown",
   "metadata": {},
   "source": [
    "### Fermion Loop Diagram"
   ]
  },
  {
   "cell_type": "markdown",
   "metadata": {},
   "source": [
    "$$\n",
    "H^{(2)}_{\\delta_{m_F}}(t) = \\int_{ijk} \\frac{|c_{ijk}(0)|^2}{c_i - c_j - c_k}\\left(1 - e^{-2(c_i - c_j - c_k)^2t} \\right)b_i^\\dagger b_i + \\chi_{\\delta_{m_F}}\n",
    "$$"
   ]
  },
  {
   "cell_type": "code",
   "execution_count": 231,
   "metadata": {},
   "outputs": [],
   "source": [
    "def loop_diagram(t, Lambda = 200):\n",
    "    result = ParticleOperator({})\n",
    "    for k1 in np.arange(1/2, Lambda, 1):\n",
    "        loop = ParticleOperator({})\n",
    "        for k2 in np.arange(1/2, Lambda, 1):\n",
    "            k3 = k1 - k2\n",
    "            if k3 > 0:\n",
    "                measure = 1 / (p(k1) * p(k2) * p(k3))\n",
    "                measure = 1 / (p(k2) * p(k3))\n",
    "\n",
    "                Cnum = np.abs(2 * L * m_F * ubar(k1).dot(u(k2))[0][0])**2\n",
    "                Cden = m_F**2 / p(k1) - m_F**2 / p(k2) - m_B**2 / p(k3)\n",
    "                C = Cnum/Cden\n",
    "\n",
    "                exp = (1 - np.exp(-2 * Cden**2 * t))\n",
    "                exp = 1-np.exp(-2 * Cden**2 * t * p(k1)**2)\n",
    "                # print(exp)\n",
    "                # exp = 1\n",
    "\n",
    "                index = str(int(k1 - 0.5))\n",
    "                loop +=  measure * C * exp * ParticleOperator('b' + index + '^ ' + 'b' + index)\n",
    "        result += g**2 / (2*L)**3 * loop\n",
    "\n",
    "    return result\n",
    "\n"
   ]
  },
  {
   "cell_type": "code",
   "execution_count": 232,
   "metadata": {},
   "outputs": [
    {
     "data": {
      "text/plain": [
       "[<matplotlib.lines.Line2D at 0x3016a5810>]"
      ]
     },
     "execution_count": 232,
     "metadata": {},
     "output_type": "execute_result"
    },
    {
     "data": {
      "image/png": "[encoded data removed]",
      "text/plain": [
       "<Figure size 640x480 with 1 Axes>"
      ]
     },
     "metadata": {},
     "output_type": "display_data"
    }
   ],
   "source": [
    "k1 = 100000.5\n",
    "tab_x = []\n",
    "nums = []\n",
    "dens = []\n",
    "for k2 in np.arange(1/2, k1, 1):\n",
    "    k3 = k1 - k2\n",
    "    tab_x.append(k2/k1)\n",
    "    Cnum = np.abs(2 * L * m_F * ubar(k1).dot(u(k2))[0][0])**2\n",
    "    Cden = -( m_F**2 / p(k1) - m_F**2 / p(k2) - m_B**2 / p(k3) ) * (p(k2) * p(k3)) / p(k1)\n",
    "    nums.append(Cnum)\n",
    "    dens.append(Cden)\n",
    "\n",
    "plt.plot(tab_x,nums)\n",
    "# plt.yscale('log')\n",
    "\n",
    "# k1 = 100.5\n",
    "# tab_x = []\n",
    "# nums = []\n",
    "# for k2 in np.arange(1/2, k1, 1):\n",
    "#     tab_x.append(k2/k1)\n",
    "#     Cnum = np.abs(2 * L * m_F * ubar(k1).dot(u(k2))[0][0])**2\n",
    "#     nums.append(Cnum)\n",
    "\n",
    "# plt.plot(tab_x, nums, 'o')\n",
    "\n",
    "# plt.ylim(0, 100)"
   ]
  },
  {
   "cell_type": "code",
   "execution_count": 236,
   "metadata": {},
   "outputs": [
    {
     "name": "stdout",
     "output_type": "stream",
     "text": [
      "0.01\n",
      "0.02\n",
      "0.03\n",
      "0.04\n",
      "0.05\n"
     ]
    },
    {
     "data": {
      "image/png": "[encoded data removed]",
      "text/plain": [
       "<Figure size 640x480 with 1 Axes>"
      ]
     },
     "metadata": {},
     "output_type": "display_data"
    }
   ],
   "source": [
    "Lambda = 500\n",
    "for ts in np.arange(0.01, 0.06, 0.01):\n",
    "    print(ts)\n",
    "    coeffs = list(loop_diagram(ts, Lambda).op_dict.values())\n",
    "    plt.plot(coeffs, label = f'$t = {round(ts, 3)}$')\n",
    "\n",
    "#plt.yscale('symlog')\n",
    "plt.xscale('log')\n",
    "plt.legend()\n",
    "plt.xlabel(f'$\\Lambda$')\n",
    "plt.ylabel(f'$c_i$')\n",
    "plt.title(f\"$c_ib_i^\\dagger b_i$\")\n",
    "plt.show()"
   ]
  },
  {
   "cell_type": "code",
   "execution_count": null,
   "metadata": {},
   "outputs": [],
   "source": []
  }
 ],
 "metadata": {
  "kernelspec": {
   "display_name": "openparticle",
   "language": "python",
   "name": "python3"
  },
  "language_info": {
   "codemirror_mode": {
    "name": "ipython",
    "version": 3
   },
   "file_extension": ".py",
   "mimetype": "text/x-python",
   "name": "python",
   "nbconvert_exporter": "python",
   "pygments_lexer": "ipython3",
   "version": "3.10.15"
  },
  "orig_nbformat": 4
 },
 "nbformat": 4,
 "nbformat_minor": 2
}
