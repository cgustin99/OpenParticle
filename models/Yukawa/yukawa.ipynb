{
 "cells": [
  {
   "cell_type": "code",
   "execution_count": 1,
   "metadata": {},
   "outputs": [
    {
     "name": "stderr",
     "output_type": "stream",
     "text": [
      "OMP: Info #276: omp_set_nested routine deprecated, please use omp_set_max_active_levels instead.\n",
      "/Users/carterm.gustin/anaconda3/envs/openparticle/lib/python3.11/site-packages/cotengra/hyperoptimizers/hyper.py:33: UserWarning: Couldn't import `kahypar` - skipping from default hyper optimizer and using basic `labels` method instead.\n",
      "  warnings.warn(\n"
     ]
    }
   ],
   "source": [
    "from openparticle.hamiltonians import *\n",
    "from openparticle import ParticleOperator, Fock\n",
    "from openparticle.utils import get_fock_basis, generate_matrix\n",
    "import numpy as np\n",
    "from openparticle.dlcq import *\n",
    "from itertools import combinations\n",
    "import matplotlib.pyplot as plt\n",
    "plt.rcParams[\"font.family\"] = \"Times New Roman\"\n",
    "plt.rc('text', usetex=True)"
   ]
  },
  {
   "cell_type": "code",
   "execution_count": 6,
   "metadata": {},
   "outputs": [],
   "source": [
    "def plot_m2_vs_pp(Pplus_val, Lambda, g = 1):\n",
    "\n",
    "    ham = yukawa_Hamiltonian(Lambda, g = g)\n",
    "    evals = []\n",
    "    pplus_arr = [i for i in range(0, Pplus_val + 1)]\n",
    "\n",
    "\n",
    "    for pp in pplus_arr:\n",
    "        pp_tmp_basis = Pplus_states_partition(pp)\n",
    "        tmp_mat = generate_matrix(ham, pp_tmp_basis)\n",
    "        \n",
    "        evals.append(min(np.linalg.eigvalsh(tmp_mat)) * pp)\n",
    "\n",
    "    # return evals, pplus_arr\n",
    "    plt.figure(figsize=(3,3), dpi = 200)\n",
    "    plt.scatter(pplus_arr[1:], np.array(evals)[1:], marker='.')\n",
    "    # plt.yscale('symlog')\n",
    "    plt.xlabel(f'$\\Lambda$')\n",
    "    plt.ylabel(f'$M^2$')\n",
    "    plt.tight_layout()\n",
    "    # plt.savefig('yukawa_spectrum.jpg')\n",
    "    plt.show()"
   ]
  },
  {
   "cell_type": "code",
   "execution_count": 13,
   "metadata": {},
   "outputs": [
    {
     "data": {
      "image/png": "[encoded data removed]",
      "text/plain": [
       "<Figure size 600x600 with 1 Axes>"
      ]
     },
     "metadata": {},
     "output_type": "display_data"
    }
   ],
   "source": [
    "cut = 10\n",
    "plot_m2_vs_pp(Pplus_val=cut, Lambda=cut, g = 1)"
   ]
  },
  {
   "cell_type": "markdown",
   "metadata": {},
   "source": [
    "### Partition $H$ into blocks of definite $P^+$"
   ]
  },
  {
   "cell_type": "code",
   "execution_count": 85,
   "metadata": {},
   "outputs": [
    {
     "data": {
      "text/plain": [
       "Text(0.5, 1.0, '$\\\\Lambda = 2$')"
      ]
     },
     "execution_count": 85,
     "metadata": {},
     "output_type": "execute_result"
    },
    {
     "data": {
      "image/png": "[encoded data removed]",
      "text/plain": [
       "<Figure size 640x480 with 1 Axes>"
      ]
     },
     "metadata": {},
     "output_type": "display_data"
    }
   ],
   "source": [
    "pp = 2\n",
    "basis = [Pplus_states_partition(i)[j] for i in range(1, pp + 1) for j in range(len(Pplus_states_partition(i)))]\n",
    "plt.imshow(\n",
    "    np.real(\n",
    "        generate_matrix(yukawa_Hamiltonian(pp), basis)\n",
    "    )\n",
    ")\n",
    "n_states_i = 0\n",
    "for i in range(1, pp):\n",
    "    n_states_i += len(Pplus_states_partition(i))\n",
    "    plt.axvline(x=n_states_i - 0.5, color='black', linewidth=1)\n",
    "    plt.axhline(y=n_states_i - 0.5, color='black', linewidth=1)\n",
    "\n",
    "plt.title(f'$\\Lambda = {pp}$')"
   ]
  },
  {
   "cell_type": "markdown",
   "metadata": {},
   "source": [
    "### Verify blocks can be diagonalized independently:"
   ]
  },
  {
   "cell_type": "code",
   "execution_count": 107,
   "metadata": {},
   "outputs": [
    {
     "data": {
      "text/plain": [
       "array([-0.49956136,  0.46666667,  0.99314615,  1.43092248,  2.        ,\n",
       "        3.26666667,  3.27396111,  3.37142857,  4.50153162])"
      ]
     },
     "execution_count": 107,
     "metadata": {},
     "output_type": "execute_result"
    }
   ],
   "source": [
    "pp = 2\n",
    "basis = [Pplus_states_partition(i)[j] for i in range(1, pp + 1) for j in range(len(Pplus_states_partition(i)))]\n",
    "vals = np.linalg.eigvalsh(\n",
    "    np.real(\n",
    "        generate_matrix(yukawa_Hamiltonian(pp), basis)\n",
    "    )\n",
    ")\n",
    "vals"
   ]
  },
  {
   "cell_type": "code",
   "execution_count": 95,
   "metadata": {},
   "outputs": [
    {
     "data": {
      "text/plain": [
       "array([-0.49956136,  0.99314615,  1.43092248,  2.        ,  3.27396111,\n",
       "        3.37142857,  4.50153162])"
      ]
     },
     "execution_count": 95,
     "metadata": {},
     "output_type": "execute_result"
    }
   ],
   "source": [
    "np.linalg.eigvalsh(\n",
    "    np.real(\n",
    "        generate_matrix(yukawa_Hamiltonian(2), Pplus_states_partition(2))\n",
    "    )\n",
    ")"
   ]
  },
  {
   "cell_type": "code",
   "execution_count": 110,
   "metadata": {},
   "outputs": [
    {
     "data": {
      "text/plain": [
       "array([0.46666667, 3.26666667])"
      ]
     },
     "execution_count": 110,
     "metadata": {},
     "output_type": "execute_result"
    }
   ],
   "source": [
    "np.linalg.eigvalsh(\n",
    "    np.real(\n",
    "        generate_matrix(yukawa_Hamiltonian(2), Pplus_states_partition(1))\n",
    "    )\n",
    ")"
   ]
  }
 ],
 "metadata": {
  "kernelspec": {
   "display_name": "openparticle",
   "language": "python",
   "name": "python3"
  },
  "language_info": {
   "codemirror_mode": {
    "name": "ipython",
    "version": 3
   },
   "file_extension": ".py",
   "mimetype": "text/x-python",
   "name": "python",
   "nbconvert_exporter": "python",
   "pygments_lexer": "ipython3",
   "version": "3.11.9"
  },
  "orig_nbformat": 4
 },
 "nbformat": 4,
 "nbformat_minor": 2
}
