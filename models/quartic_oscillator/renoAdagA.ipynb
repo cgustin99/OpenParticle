{
 "cells": [
  {
   "cell_type": "code",
   "execution_count": 32,
   "id": "7fec4bde-0029-4199-831c-ed70d863015c",
   "metadata": {},
   "outputs": [],
   "source": [
    "from sympy import *\n",
    "from openparticle import *\n",
    "import math"
   ]
  },
  {
   "cell_type": "markdown",
   "id": "d40575d9-1540-4ff3-8a89-cebe84e2993a",
   "metadata": {},
   "source": [
    "$$\n",
    "a^n | k \\rangle\n",
    "\\ = \\ \n",
    "\\sqrt{\\frac{k!}{(k-n)!}}\n",
    "$$\n",
    "\n",
    "$$\n",
    "\\langle k | (a^\\dagger)^n\n",
    "\\ = \\ \n",
    "(a^n | k \\rangle)^\\dagger\n",
    "\\ = \\ \n",
    "\\sqrt{\\frac{k!}{(k-n)!}}\n",
    "$$"
   ]
  },
  {
   "cell_type": "code",
   "execution_count": 2,
   "id": "ec08d308-bd7c-4715-abad-73f4108bcf5c",
   "metadata": {},
   "outputs": [],
   "source": [
    "def AdagA(n, m, i, j):\n",
    "    \"\"\"\n",
    "    Calculate matrix element <i| (a^\\dagger)^n a^m |j>\n",
    "    \"\"\"\n",
    "    if n - m != i - j:\n",
    "        return S.Zero\n",
    "    if i - n >= 0:\n",
    "        h_left = sqrt(factorial(i)/factorial(i-n))\n",
    "    else:\n",
    "        h_left = S.Zero\n",
    "    if j - m >= 0:\n",
    "        h_right = sqrt(factorial(j)/factorial(j-m))\n",
    "    else:\n",
    "        h_right = S.Zero\n",
    "    return h_left * h_right"
   ]
  },
  {
   "cell_type": "code",
   "execution_count": 3,
   "id": "1cfb5196-1ed0-4683-b0d5-df1ff4298898",
   "metadata": {},
   "outputs": [],
   "source": [
    "N = Symbol('N')"
   ]
  },
  {
   "cell_type": "code",
   "execution_count": 4,
   "id": "c823c1a2-a3c2-4437-8170-3d291a88caa1",
   "metadata": {},
   "outputs": [
    {
     "data": {
      "text/latex": [
       "$\\displaystyle \\left[\\begin{matrix}\\left(N - 4\\right)! & 0 & 0 & 0\\\\0 & \\left(N - 3\\right)! & 0 & 0\\\\0 & 0 & \\frac{\\left(N - 2\\right)!}{2} & 0\\\\0 & 0 & 0 & \\frac{\\left(N - 1\\right)!}{6}\\end{matrix}\\right]$"
      ],
      "text/plain": [
       "Matrix([\n",
       "[factorial(N - 4),                0,                  0,                  0],\n",
       "[               0, factorial(N - 3),                  0,                  0],\n",
       "[               0,                0, factorial(N - 2)/2,                  0],\n",
       "[               0,                0,                  0, factorial(N - 1)/6]])"
      ]
     },
     "execution_count": 4,
     "metadata": {},
     "output_type": "execute_result"
    }
   ],
   "source": [
    "a44 = Matrix( [[ AdagA(N - 4, N - 4, N - 4 + j, N - 4 + i) for j in range(4) ] for i in range(4) ] )\n",
    "a44"
   ]
  },
  {
   "cell_type": "code",
   "execution_count": 5,
   "id": "5d220e7d-4c19-4a20-879e-90f8c5ef284d",
   "metadata": {},
   "outputs": [
    {
     "data": {
      "text/latex": [
       "$\\displaystyle \\left[\\begin{matrix}0 & 0 & 0 & 0\\\\0 & \\left(N - 3\\right)! & 0 & 0\\\\0 & 0 & \\left(N - 2\\right)! & 0\\\\0 & 0 & 0 & \\frac{\\left(N - 1\\right)!}{2}\\end{matrix}\\right]$"
      ],
      "text/plain": [
       "Matrix([\n",
       "[0,                0,                0,                  0],\n",
       "[0, factorial(N - 3),                0,                  0],\n",
       "[0,                0, factorial(N - 2),                  0],\n",
       "[0,                0,                0, factorial(N - 1)/2]])"
      ]
     },
     "execution_count": 5,
     "metadata": {},
     "output_type": "execute_result"
    }
   ],
   "source": [
    "a33 = Matrix( [[ AdagA(N - 3, N - 3, N - 4 + j, N - 4 + i) for j in range(4) ] for i in range(4) ] )\n",
    "a33"
   ]
  },
  {
   "cell_type": "code",
   "execution_count": 6,
   "id": "dbce58ef-ad03-4d75-9390-ec197f528413",
   "metadata": {},
   "outputs": [
    {
     "data": {
      "text/latex": [
       "$\\displaystyle \\left[\\begin{matrix}0 & 0 & 0 & 0\\\\0 & 0 & 0 & 0\\\\0 & 0 & \\left(N - 2\\right)! & 0\\\\0 & 0 & 0 & \\left(N - 1\\right)!\\end{matrix}\\right]$"
      ],
      "text/plain": [
       "Matrix([\n",
       "[0, 0,                0,                0],\n",
       "[0, 0,                0,                0],\n",
       "[0, 0, factorial(N - 2),                0],\n",
       "[0, 0,                0, factorial(N - 1)]])"
      ]
     },
     "execution_count": 6,
     "metadata": {},
     "output_type": "execute_result"
    }
   ],
   "source": [
    "a22 = Matrix( [[ AdagA(N - 2, N - 2, N - 4 + j, N - 4 + i) for j in range(4) ] for i in range(4) ] )\n",
    "a22"
   ]
  },
  {
   "cell_type": "code",
   "execution_count": 7,
   "id": "75285f13-e72b-46ee-bd6f-9528c090c984",
   "metadata": {},
   "outputs": [
    {
     "data": {
      "text/latex": [
       "$\\displaystyle \\left[\\begin{matrix}0 & 0 & 0 & 0\\\\0 & 0 & 0 & 0\\\\0 & 0 & 0 & 0\\\\0 & 0 & 0 & \\left(N - 1\\right)!\\end{matrix}\\right]$"
      ],
      "text/plain": [
       "Matrix([\n",
       "[0, 0, 0,                0],\n",
       "[0, 0, 0,                0],\n",
       "[0, 0, 0,                0],\n",
       "[0, 0, 0, factorial(N - 1)]])"
      ]
     },
     "execution_count": 7,
     "metadata": {},
     "output_type": "execute_result"
    }
   ],
   "source": [
    "a11 = Matrix( [[ AdagA(N - 1, N - 1, N - 4 + j, N - 4 + i) for j in range(4) ] for i in range(4) ] )\n",
    "a11"
   ]
  },
  {
   "cell_type": "code",
   "execution_count": 8,
   "id": "1f7f6b23-beb8-4913-9be7-6d3ab692aab3",
   "metadata": {},
   "outputs": [
    {
     "data": {
      "text/latex": [
       "$\\displaystyle \\left[\\begin{matrix}0 & 0 & \\sqrt{\\left(N - 4\\right)!} \\sqrt{\\left(N - 2\\right)!} & 0\\\\0 & 0 & 0 & \\sqrt{\\left(N - 3\\right)!} \\sqrt{\\left(N - 1\\right)!}\\\\0 & 0 & 0 & 0\\\\0 & 0 & 0 & 0\\end{matrix}\\right]$"
      ],
      "text/plain": [
       "Matrix([\n",
       "[0, 0, sqrt(factorial(N - 4))*sqrt(factorial(N - 2)),                                             0],\n",
       "[0, 0,                                             0, sqrt(factorial(N - 3))*sqrt(factorial(N - 1))],\n",
       "[0, 0,                                             0,                                             0],\n",
       "[0, 0,                                             0,                                             0]])"
      ]
     },
     "execution_count": 8,
     "metadata": {},
     "output_type": "execute_result"
    }
   ],
   "source": [
    "a24 = Matrix( [[ AdagA(N - 2, N - 4, N - 4 + j, N - 4 + i) for j in range(4) ] for i in range(4) ] )\n",
    "a42 = a24.T\n",
    "a24"
   ]
  },
  {
   "cell_type": "code",
   "execution_count": 9,
   "id": "70383845-d07b-474f-8b5f-43528f67ad6b",
   "metadata": {},
   "outputs": [
    {
     "data": {
      "text/latex": [
       "$\\displaystyle \\left[\\begin{matrix}0 & 0 & 0 & 0\\\\0 & 0 & 0 & \\sqrt{\\left(N - 3\\right)!} \\sqrt{\\left(N - 1\\right)!}\\\\0 & 0 & 0 & 0\\\\0 & 0 & 0 & 0\\end{matrix}\\right]$"
      ],
      "text/plain": [
       "Matrix([\n",
       "[0, 0, 0,                                             0],\n",
       "[0, 0, 0, sqrt(factorial(N - 3))*sqrt(factorial(N - 1))],\n",
       "[0, 0, 0,                                             0],\n",
       "[0, 0, 0,                                             0]])"
      ]
     },
     "execution_count": 9,
     "metadata": {},
     "output_type": "execute_result"
    }
   ],
   "source": [
    "a13 = Matrix( [[ AdagA(N - 1, N - 3, N - 4 + j, N - 4 + i) for j in range(4) ] for i in range(4) ] )\n",
    "a31 = a13.T\n",
    "a13"
   ]
  },
  {
   "cell_type": "markdown",
   "id": "6c86891c",
   "metadata": {},
   "source": [
    "$$\n",
    "A_{44} (a^\\dagger)^{N-4} a^{N-4} + A_{33} (a^\\dagger)^{N-3} a^{N-3} + A_{22} (a^\\dagger)^{N-2} a^{N-2} + A_{11} (a^\\dagger)^{N-1} a^{N-1} + A_{24} \\left[ (a^\\dagger)^{N-2} a^{N-4} + (a^\\dagger)^{N-4} a^{N-2} \\right] + A_{13} \\left [ (a^\\dagger)^{N-1} a^{N-3} + (a^\\dagger)^{N-3} a^{N-1} \\right]\n",
    "$$"
   ]
  },
  {
   "cell_type": "markdown",
   "id": "422a5d76",
   "metadata": {},
   "source": [
    "$A_{33} = -A_{44}$\n",
    "$A_{22} = A_{22} - A_{44} - A_{33}$"
   ]
  },
  {
   "cell_type": "code",
   "execution_count": 10,
   "id": "c35abc66-10a9-491b-842c-71a96227bc9e",
   "metadata": {},
   "outputs": [],
   "source": [
    "aa44, aa33, aa22, aa11, aa24, aa13 = symbols('A44 A33 A22 A11 A24 A13')\n",
    "dhh44, dhh22 = symbols('\\Delta{}H_{44} \\Delta{}H_{22}')"
   ]
  },
  {
   "cell_type": "code",
   "execution_count": 11,
   "id": "9ec2958d-e09b-490a-9f93-e4ec27c477fd",
   "metadata": {},
   "outputs": [
    {
     "data": {
      "text/latex": [
       "$\\displaystyle \\left[\\begin{matrix}\\Delta{}H_{44} & 0 & A_{24} \\sqrt{\\left(N - 4\\right)!} \\sqrt{\\left(N - 2\\right)!} & 0\\\\0 & 0 & 0 & 0\\\\A_{24} \\sqrt{\\left(N - 4\\right)!} \\sqrt{\\left(N - 2\\right)!} & 0 & \\Delta{}H_{22} & 0\\\\0 & 0 & 0 & A_{11} \\left(N - 1\\right)! + \\frac{\\Delta{}H_{22} \\left(N - 1\\right)!}{\\left(N - 2\\right)!} + \\frac{\\Delta{}H_{44} \\left(N - 1\\right)!}{6 \\left(N - 4\\right)!}\\end{matrix}\\right]$"
      ],
      "text/plain": [
       "Matrix([\n",
       "[                                   \\Delta{}H_{44}, 0, A24*sqrt(factorial(N - 4))*sqrt(factorial(N - 2)),                                                                                                                              0],\n",
       "[                                                0, 0,                                                 0,                                                                                                                              0],\n",
       "[A24*sqrt(factorial(N - 4))*sqrt(factorial(N - 2)), 0,                                    \\Delta{}H_{22},                                                                                                                              0],\n",
       "[                                                0, 0,                                                 0, A11*factorial(N - 1) + \\Delta{}H_{22}*factorial(N - 1)/factorial(N - 2) + \\Delta{}H_{44}*factorial(N - 1)/(6*factorial(N - 4))]])"
      ]
     },
     "execution_count": 11,
     "metadata": {},
     "output_type": "execute_result"
    }
   ],
   "source": [
    "hhp = aa44 * a44 + aa33 * a33 + aa22 * a22 + aa11 * a11 + aa24 * (a24 + a42) + aa13 * (a13 + a31)\n",
    "hhp.subs(aa33, -aa44)\n",
    "cancel(hhp.subs(aa33, -aa44).subs(aa13, -aa24).subs(aa44, dhh44/factorial(N-4)).subs(aa22, dhh22/factorial(N-2) + dhh44/2/factorial(N-4))).expand()"
   ]
  },
  {
   "cell_type": "markdown",
   "id": "1a7cd882",
   "metadata": {},
   "source": [
    "$H^\\prime = A_{44}(N - 4)!(a^\\dagger)^{N - 4} a^{N - 4} + (A_{33}(N - 3)! - A_{44}(N - 3)!(a^\\dagger)^{N - 3} a^{N - 3}) + \\cdots$"
   ]
  },
  {
   "cell_type": "code",
   "execution_count": 12,
   "id": "cb79d2ca",
   "metadata": {},
   "outputs": [],
   "source": [
    "import numpy as np\n",
    "import matplotlib.pyplot as plt"
   ]
  },
  {
   "cell_type": "code",
   "execution_count": 13,
   "id": "dfec2194",
   "metadata": {},
   "outputs": [],
   "source": [
    "# N = 6\n",
    "# n = N - 1\n",
    "N = 200\n",
    "n = 3\n",
    "g = 1"
   ]
  },
  {
   "cell_type": "code",
   "execution_count": 14,
   "id": "25aa74e1",
   "metadata": {},
   "outputs": [],
   "source": [
    "def one_ge(matrix):\n",
    "    n = len(matrix) - 1\n",
    "    A_eff = np.zeros((n, n))\n",
    "\n",
    "    for i in range(n):\n",
    "        for j in range(n):\n",
    "            A_eff[i][j] = matrix[i][j] - g * (matrix[i][n] * matrix[n][j])/(matrix[n][n])\n",
    "\n",
    "    return A_eff\n",
    "\n",
    "def ge_matrix(matrix, n):\n",
    "\n",
    "    N = len(matrix)\n",
    "\n",
    "    for _ in range(N - n):\n",
    "        matrix = one_ge(matrix)\n",
    "\n",
    "    return matrix"
   ]
  },
  {
   "cell_type": "code",
   "execution_count": 15,
   "id": "47e1a0ea",
   "metadata": {},
   "outputs": [],
   "source": [
    "def calc_the_matrix_elem(k, l, g):\n",
    "    return (k + 3 * g * (2 * k ** 2 + 2 * k + 1)) * check_delta(k, l) +\\\n",
    "            g * (4 * l + 6) * np.sqrt((l + 1) * (l + 2)) * check_delta(k, l + 2) +\\\n",
    "            g * (4 * k + 6) * np.sqrt((k + 1) * (k + 2)) * check_delta(k + 2, l) +\\\n",
    "            g * np.sqrt((l + 1) * (l + 2) * (l + 3) * (l + 4)) * check_delta(k, l + 4) +\\\n",
    "            g * np.sqrt((k + 1) * (k + 2) * (k + 3) * (k + 4)) * check_delta(k + 4, l) \n",
    "\n",
    "def check_delta(k, l):\n",
    "    if k == l: return 1 \n",
    "    return 0"
   ]
  },
  {
   "cell_type": "code",
   "execution_count": 16,
   "id": "699b7848",
   "metadata": {},
   "outputs": [
    {
     "data": {
      "text/plain": [
       "<matplotlib.image.AxesImage at 0x165fb21c0>"
      ]
     },
     "execution_count": 16,
     "metadata": {},
     "output_type": "execute_result"
    },
    {
     "data": {
      "image/png": "[encoded data removed]",
      "text/plain": [
       "<Figure size 640x480 with 1 Axes>"
      ]
     },
     "metadata": {},
     "output_type": "display_data"
    }
   ],
   "source": [
    "H_from_matrix_elements = np.zeros((N + 1, N + 1))\n",
    "\n",
    "for i in range(N + 1):\n",
    "    for j in range(N + 1):\n",
    "        H_from_matrix_elements[i][j] = calc_the_matrix_elem(i, j, g)\n",
    "vals, vecs = np.linalg.eigh(H_from_matrix_elements)\n",
    "min(vals)\n",
    "\n",
    "Heff = ge_matrix(H_from_matrix_elements, n + 1)\n",
    "\n",
    "plt.imshow(H_from_matrix_elements)"
   ]
  },
  {
   "cell_type": "code",
   "execution_count": 17,
   "id": "f7fca759",
   "metadata": {},
   "outputs": [
    {
     "data": {
      "text/plain": [
       "<matplotlib.image.AxesImage at 0x1660ddb20>"
      ]
     },
     "execution_count": 17,
     "metadata": {},
     "output_type": "execute_result"
    },
    {
     "data": {
      "image/png": "[encoded data removed]",
      "text/plain": [
       "<Figure size 640x480 with 1 Axes>"
      ]
     },
     "metadata": {},
     "output_type": "display_data"
    }
   ],
   "source": [
    "plt.imshow(Heff)"
   ]
  },
  {
   "cell_type": "markdown",
   "id": "a967c981",
   "metadata": {},
   "source": [
    "\n",
    "$H = a^\\dagger a + g(a + a^\\dagger)^4$"
   ]
  },
  {
   "cell_type": "code",
   "execution_count": 18,
   "id": "2aa1e832",
   "metadata": {},
   "outputs": [],
   "source": [
    "basis_states = [Fock([], [], [(0, l)]) for l in range(N + 1)]"
   ]
  },
  {
   "cell_type": "code",
   "execution_count": 19,
   "id": "35d68efe",
   "metadata": {},
   "outputs": [],
   "source": [
    "H = ParticleOperator('a0^ a0') + g * (ParticleOperator('a0^') + ParticleOperator('a0'))**4"
   ]
  },
  {
   "cell_type": "code",
   "execution_count": 20,
   "id": "175cf84d",
   "metadata": {},
   "outputs": [
    {
     "data": {
      "text/latex": [
       "$1 a_{0}^{\\dagger} a_{0}^{\\dagger} a_{0}^{\\dagger} a_{0}^{\\dagger} +1 a_{0}^{\\dagger} a_{0}^{\\dagger} a_{0}^{\\dagger} a_{0} +1 a_{0}^{\\dagger} a_{0}^{\\dagger} a_{0} a_{0}^{\\dagger} +1 a_{0}^{\\dagger} a_{0}^{\\dagger} a_{0} a_{0} +1 a_{0}^{\\dagger} a_{0} a_{0}^{\\dagger} a_{0}^{\\dagger} +1 a_{0}^{\\dagger} a_{0} a_{0}^{\\dagger} a_{0} +1 a_{0}^{\\dagger} a_{0} a_{0} a_{0}^{\\dagger} +1 a_{0}^{\\dagger} a_{0} a_{0} a_{0} +1 a_{0} a_{0}^{\\dagger} a_{0}^{\\dagger} a_{0}^{\\dagger} +1 a_{0} a_{0}^{\\dagger} a_{0}^{\\dagger} a_{0} +1 a_{0} a_{0}^{\\dagger} a_{0} a_{0}^{\\dagger} +1 a_{0} a_{0}^{\\dagger} a_{0} a_{0} +1 a_{0} a_{0} a_{0}^{\\dagger} a_{0}^{\\dagger} +1 a_{0} a_{0} a_{0}^{\\dagger} a_{0} +1 a_{0} a_{0} a_{0} a_{0}^{\\dagger} +1 a_{0} a_{0} a_{0} a_{0} +1 a_{0}^{\\dagger} a_{0} $"
      ],
      "text/plain": [
       "<IPython.core.display.Latex object>"
      ]
     },
     "metadata": {},
     "output_type": "display_data"
    }
   ],
   "source": [
    "H.display()"
   ]
  },
  {
   "cell_type": "code",
   "execution_count": 21,
   "id": "a9799e73",
   "metadata": {},
   "outputs": [],
   "source": [
    "from openparticle.utils import generate_matrix_from_basis"
   ]
  },
  {
   "cell_type": "code",
   "execution_count": 22,
   "id": "f0a1f228",
   "metadata": {},
   "outputs": [],
   "source": [
    "H_from_op = generate_matrix_from_basis(H, basis_states)"
   ]
  },
  {
   "cell_type": "code",
   "execution_count": 23,
   "id": "ecbd6469",
   "metadata": {},
   "outputs": [],
   "source": [
    "def delta_H(i, j):\n",
    "    return (Heff[:,:])[i,j] - H_from_op[i,j]"
   ]
  },
  {
   "cell_type": "code",
   "execution_count": 24,
   "id": "59efcf01",
   "metadata": {},
   "outputs": [],
   "source": [
    "# H_eff_op = H+(\n",
    "#         delta_H(n + 1-4, n + 1-4) / math.factorial(n + 1 - 4) * ParticleOperator('a0^') ** (n + 1 - 4) * ParticleOperator('a0') ** (n + 1 - 4) - \n",
    "#         delta_H(n + 1-4, n + 1-4) / math.factorial(n + 1 - 4) * (ParticleOperator('a0^') ** (n + 1 - 3) * ParticleOperator('a0') ** (n + 1 - 3)) +\n",
    "#         delta_H(n + 1-4, n + 1-4) / (2 * math.factorial(n + 1 - 4)) * (ParticleOperator('a0^') ** (n + 1 - 2) * ParticleOperator('a0') ** (n + 1 - 2)) -\n",
    "#         delta_H(n + 1-4, n + 1-4) / (6 * math.factorial(n + 1 - 4)) * (ParticleOperator('a0^') ** (n + 1 - 1) * ParticleOperator('a0') ** (n + 1 - 1)) + \n",
    "#         delta_H(n + 1-2, n + 1-2) / math.factorial(n + 1 - 2) * (ParticleOperator('a0^') ** (n + 1 - 2) * ParticleOperator('a0') ** (n + 1 - 2)) -\n",
    "#         delta_H(n + 1-2, n + 1-2) / math.factorial(n + 1 - 2) * (ParticleOperator('a0^') ** (n + 1 - 1) * ParticleOperator('a0') ** (n + 1 - 1)) + \n",
    "#         (delta_H(n + 1-4, n + 1-2) / np.sqrt(math.factorial(n + 1 - 4) * math.factorial(n + 1 - 2))) * (\n",
    "#             ParticleOperator('a0^') ** (n + 1 - 4) * ParticleOperator('a0') ** (n + 1 - 2) - ParticleOperator('a0^') ** (n + 1 - 3) * ParticleOperator('a0') ** (n + 1 - 1)\n",
    "#         ) +\n",
    "#         (delta_H(n + 1-2, n + 1-4) / np.sqrt(math.factorial(n + 1 - 4) * math.factorial(n + 1 - 2))) * (\n",
    "#             ParticleOperator('a0^') ** (n + 1 - 2) * ParticleOperator('a0') ** (n + 1 - 4) - ParticleOperator('a0^') ** (n + 1 - 1) * ParticleOperator('a0') ** (n + 1 - 3)\n",
    "#         ) + \n",
    "#         delta_H(n + 2-4, n + 2-4) / math.factorial(n + 2 - 4) * ParticleOperator('a0^') ** (n + 2 - 4) * ParticleOperator('a0') ** (n + 2 - 4) - \n",
    "#         delta_H(n + 2-4, n + 2-4) / math.factorial(n + 2 - 4) * (ParticleOperator('a0^') ** (n + 2 - 3) * ParticleOperator('a0') ** (n + 2 - 3)) +\n",
    "#         delta_H(n + 2-4, n + 2-4) / (2 * math.factorial(n + 2 - 4)) * (ParticleOperator('a0^') ** (n + 2 - 2) * ParticleOperator('a0') ** (n + 2 - 2)) -\n",
    "#         delta_H(n + 2-4, n + 2-4) / (6 * math.factorial(n + 2 - 4)) * (ParticleOperator('a0^') ** (n + 2 - 1) * ParticleOperator('a0') ** (n + 2 - 1)) + \n",
    "#         delta_H(n + 2-2, n + 2-2) / math.factorial(n + 2 - 2) * (ParticleOperator('a0^') ** (n + 2 - 2) * ParticleOperator('a0') ** (n + 2 - 2)) -\n",
    "#         delta_H(n + 2-2, n + 2-2) / math.factorial(n + 2 - 2) * (ParticleOperator('a0^') ** (n + 2 - 1) * ParticleOperator('a0') ** (n + 2 - 1)) + \n",
    "#         (delta_H(n + 2-4, n + 2-2) / np.sqrt(math.factorial(n + 2 - 4) * math.factorial(n + 2 - 2))) * (\n",
    "#             ParticleOperator('a0^') ** (n + 2 - 4) * ParticleOperator('a0') ** (n + 2 - 2) - ParticleOperator('a0^') ** (n + 2 - 3) * ParticleOperator('a0') ** (n + 2 - 1)\n",
    "#         ) +\n",
    "#         (delta_H(n + 2-2, n + 2-4) / np.sqrt(math.factorial(n + 2 - 4) * math.factorial(n + 2 - 2))) * (\n",
    "#             ParticleOperator('a0^') ** (n + 2 - 2) * ParticleOperator('a0') ** (n + 2 - 4) - ParticleOperator('a0^') ** (n + 2 - 1) * ParticleOperator('a0') ** (n + 2 - 3)\n",
    "#         )\n",
    "# )\n"
   ]
  },
  {
   "cell_type": "code",
   "execution_count": 122,
   "id": "7bad5b96",
   "metadata": {},
   "outputs": [],
   "source": [
    "H_eff_op = H + (\n",
    "    delta_H(n - 3, n - 3) / math.factorial(n - 3) * ParticleOperator('a0^') ** (n - 3) * ParticleOperator('a0') ** (n - 3) - \n",
    "    delta_H(n - 3, n - 3) / math.factorial(n - 3) * (ParticleOperator('a0^') ** (n - 2) * ParticleOperator('a0') ** (n - 2)) +\n",
    "    delta_H(n - 3, n - 3) / (2 * math.factorial(n - 3)) * (ParticleOperator('a0^') ** (n - 1) * ParticleOperator('a0') ** (n - 1)) -\n",
    "    delta_H(n - 3, n - 3) / (6 * math.factorial(n - 3)) * (ParticleOperator('a0^') ** n * ParticleOperator('a0') ** n) + \n",
    "    delta_H(n - 1, n - 1) / math.factorial(n - 1) * (ParticleOperator('a0^') ** (n - 1) * ParticleOperator('a0') ** (n - 1)) -\n",
    "    delta_H(n - 1, n - 1) / math.factorial(n - 1) * (ParticleOperator('a0^') ** n * ParticleOperator('a0') ** n) + \n",
    "    (delta_H(n - 3, n - 1) / np.sqrt(math.factorial(n - 3) * math.factorial(n - 1))) * (\n",
    "        ParticleOperator('a0^') ** (n - 3) * ParticleOperator('a0') ** (n - 1) - ParticleOperator('a0^') ** (n - 2) * ParticleOperator('a0') ** n\n",
    "    ) +\n",
    "    (delta_H(n - 1, n - 3) / np.sqrt(math.factorial(n - 3) * math.factorial(n - 1))) * (\n",
    "        ParticleOperator('a0^') ** (n - 1) * ParticleOperator('a0') ** (n - 3) - ParticleOperator('a0^') ** n * ParticleOperator('a0') ** (n - 2)\n",
    "    ) + \n",
    "    delta_H(n - 2, n - 2) / math.factorial(n - 2) * ParticleOperator('a0^') ** (n - 2) * ParticleOperator('a0') ** (n - 2) - \n",
    "    delta_H(n - 2, n - 2) / math.factorial(n - 2) * (ParticleOperator('a0^') ** (n - 1) * ParticleOperator('a0') ** (n - 1)) +\n",
    "    delta_H(n - 2, n - 2) / (2 * math.factorial(n - 2)) * (ParticleOperator('a0^') ** n * ParticleOperator('a0') ** n) -\n",
    "    delta_H(n - 2, n - 2) / (6 * math.factorial(n - 2)) * (ParticleOperator('a0^') ** (n + 1) * ParticleOperator('a0') ** (n + 1)) + \n",
    "    delta_H(n, n) / math.factorial(n) * (ParticleOperator('a0^') ** n * ParticleOperator('a0') ** n) -\n",
    "    delta_H(n, n) / math.factorial(n) * (ParticleOperator('a0^') ** (n + 1) * ParticleOperator('a0') ** (n + 1)) + \n",
    "    (delta_H(n - 2, n) / np.sqrt(math.factorial(n - 2) * math.factorial(n))) * (\n",
    "        ParticleOperator('a0^') ** (n - 2) * ParticleOperator('a0') ** n - ParticleOperator('a0^') ** (n - 1) * ParticleOperator('a0') ** (n + 1)\n",
    "    ) +\n",
    "    (delta_H(n, n - 2) / np.sqrt(math.factorial(n - 2) * math.factorial(n))) * (\n",
    "        ParticleOperator('a0^') ** n * ParticleOperator('a0') ** (n - 2) - ParticleOperator('a0^') ** (n + 1) * ParticleOperator('a0') ** (n - 1)\n",
    "    )\n",
    ")\n"
   ]
  },
  {
   "cell_type": "code",
   "execution_count": 123,
   "id": "dbab536c",
   "metadata": {},
   "outputs": [
    {
     "data": {
      "text/plain": [
       "{'a0^ a0^ a0^ a0^': 1.0,\n",
       " 'a0^ a0^ a0^ a0': -0.150434313332378,\n",
       " 'a0^ a0^ a0 a0^': 1.0,\n",
       " 'a0^ a0^ a0 a0': -10.536050711865201,\n",
       " 'a0^ a0 a0^ a0^': 1.0,\n",
       " 'a0^ a0 a0^ a0': 1.0,\n",
       " 'a0^ a0 a0 a0^': 1.0,\n",
       " 'a0^ a0 a0 a0': -0.150434313332378,\n",
       " 'a0 a0^ a0^ a0^': 1.0,\n",
       " 'a0 a0^ a0^ a0': 1.0,\n",
       " 'a0 a0^ a0 a0^': 1.0,\n",
       " 'a0 a0^ a0 a0': 1.0,\n",
       " 'a0 a0 a0^ a0^': 1.0,\n",
       " 'a0 a0 a0^ a0': 1.0,\n",
       " 'a0 a0 a0 a0^': 1.0,\n",
       " 'a0 a0 a0 a0': 1.0,\n",
       " 'a0^ a0': -0.26290793192998585,\n",
       " ' ': -0.5219744335814394,\n",
       " 'a0^ a0^ a0^ a0 a0 a0': 3.9998612759007717,\n",
       " 'a0 a0': -2.4076752409486026,\n",
       " 'a0^ a0^': -2.4076752409486026,\n",
       " 'a0^ a0^ a0^ a0^ a0 a0 a0 a0': 8.552119535111565,\n",
       " 'a0^ a0^ a0 a0 a0 a0': 3.5581095542809806,\n",
       " 'a0^ a0^ a0^ a0^ a0 a0': 3.5581095542809806}"
      ]
     },
     "execution_count": 123,
     "metadata": {},
     "output_type": "execute_result"
    }
   ],
   "source": [
    "H_eff_op.op_dict"
   ]
  },
  {
   "cell_type": "code",
   "execution_count": 132,
   "id": "439bcd14",
   "metadata": {},
   "outputs": [
    {
     "data": {
      "text/plain": [
       "{'a0^ a0^ a0^ a0^': 1.0,\n",
       " 'a0^ a0^ a0^ a0': 2.849565686667622,\n",
       " 'a0^ a0^': 3.5923247590513974,\n",
       " 'a0^ a0^ a0 a0': -5.536050711865201,\n",
       " 'a0^ a0': 11.737092068070014,\n",
       " 'a0^ a0 a0 a0': 2.849565686667622,\n",
       " ' ': 2.4780255664185606,\n",
       " 'a0 a0': 3.5923247590513974,\n",
       " 'a0 a0 a0 a0': 1.0,\n",
       " 'a0^ a0^ a0^ a0 a0 a0': 3.9998612759007717,\n",
       " 'a0^ a0^ a0^ a0^ a0 a0 a0 a0': 8.552119535111565,\n",
       " 'a0^ a0^ a0 a0 a0 a0': 3.5581095542809806,\n",
       " 'a0^ a0^ a0^ a0^ a0 a0': 3.5581095542809806}"
      ]
     },
     "execution_count": 132,
     "metadata": {},
     "output_type": "execute_result"
    }
   ],
   "source": [
    "H_eff_op.normal_order().op_dict"
   ]
  },
  {
   "cell_type": "code",
   "execution_count": 134,
   "id": "9a9f3c08",
   "metadata": {},
   "outputs": [],
   "source": [
    "H_eff_op = ParticleOperator({\n",
    " 'a0^ a0^ a0^ a0': 2.849565686667622,\n",
    " 'a0^ a0^': 3.5923247590513974,\n",
    " 'a0^ a0^ a0 a0': -5.536050711865201,\n",
    " 'a0^ a0': 11.737092068070014,\n",
    " 'a0^ a0 a0 a0': 2.849565686667622,\n",
    " ' ': 2.4780255664185606,\n",
    " 'a0 a0': 3.5923247590513974,\n",
    " 'a0^ a0^ a0^ a0 a0 a0': 3.9998612759007717,\n",
    " 'a0^ a0^ a0 a0 a0 a0': 3.5581095542809806,})"
   ]
  },
  {
   "cell_type": "code",
   "execution_count": 135,
   "id": "4fc9eead",
   "metadata": {},
   "outputs": [
    {
     "name": "stdout",
     "output_type": "stream",
     "text": [
      "[[ 2.47802557  0.          5.08031439  0.        ]\n",
      " [ 0.         14.21511763  0.         15.77934457]\n",
      " [ 5.08031439  0.         14.88010828  0.        ]\n",
      " [ 0.         15.77934457  0.         28.47216515]]\n"
     ]
    }
   ],
   "source": [
    "Heff_from_op = generate_matrix_from_basis(H_eff_op, basis_states[:n + 1])\n",
    "print(Heff_from_op)"
   ]
  },
  {
   "cell_type": "code",
   "execution_count": 136,
   "id": "cbad0350",
   "metadata": {},
   "outputs": [
    {
     "name": "stdout",
     "output_type": "stream",
     "text": [
      "[[ 2.47802557  0.          5.08031439  0.        ]\n",
      " [ 0.         14.21511763  0.         15.77934457]\n",
      " [ 5.08031439  0.         14.88010828  0.        ]\n",
      " [ 0.         15.77934457  0.         28.47216515]]\n"
     ]
    }
   ],
   "source": [
    "print(Heff)"
   ]
  },
  {
   "cell_type": "code",
   "execution_count": 137,
   "id": "6f2d0c0a",
   "metadata": {},
   "outputs": [
    {
     "data": {
      "text/plain": [
       "True"
      ]
     },
     "execution_count": 137,
     "metadata": {},
     "output_type": "execute_result"
    }
   ],
   "source": [
    "np.allclose(Heff, Heff_from_op, 1e-69)"
   ]
  },
  {
   "cell_type": "code",
   "execution_count": 128,
   "id": "80960d24",
   "metadata": {},
   "outputs": [
    {
     "data": {
      "text/plain": [
       "0.6487889141266824"
      ]
     },
     "execution_count": 128,
     "metadata": {},
     "output_type": "execute_result"
    }
   ],
   "source": [
    "vals, vecs = np.linalg.eigh(H_from_op)\n",
    "min(vals)"
   ]
  },
  {
   "cell_type": "code",
   "execution_count": 129,
   "id": "b79b3ed4",
   "metadata": {},
   "outputs": [
    {
     "data": {
      "text/plain": [
       "0.6626769464339795"
      ]
     },
     "execution_count": 129,
     "metadata": {},
     "output_type": "execute_result"
    }
   ],
   "source": [
    "vals, vecs = np.linalg.eigh(Heff_from_op)\n",
    "min(vals)"
   ]
  },
  {
   "cell_type": "code",
   "execution_count": 37,
   "id": "f321bb21",
   "metadata": {},
   "outputs": [],
   "source": [
    "def renorm_quartic_osc(N, n, g):\n",
    "    '''\n",
    "    Generates the ParticleOperator form for the renormalized quartic oscillator. \n",
    "\n",
    "    H = a^a + g(a^ + a)**4\n",
    "\n",
    "    Parameters:\n",
    "    N: Cutoff at the large energy scale\n",
    "    n: Size that H gets renormalized down to i.e. N -> n\n",
    "    g: coupling\n",
    "\n",
    "    Returns H_eff\n",
    "    '''\n",
    "    basis_states = [Fock([], [], [(0, l)]) for l in range(N + 1)]\n",
    "    H = ParticleOperator('a0^ a0') + g * (ParticleOperator('a0^') + ParticleOperator('a0'))**4\n",
    "    H_from_op = generate_matrix_from_basis(H, basis_states)\n",
    "\n",
    "    H_eff_op = H + (\n",
    "    delta_H(n - 3, n - 3) / math.factorial(n - 3) * ParticleOperator('a0^') ** (n - 3) * ParticleOperator('a0') ** (n - 3) - \n",
    "    delta_H(n - 3, n - 3) / math.factorial(n - 3) * (ParticleOperator('a0^') ** (n - 2) * ParticleOperator('a0') ** (n - 2)) +\n",
    "    delta_H(n - 3, n - 3) / (2 * math.factorial(n - 3)) * (ParticleOperator('a0^') ** (n - 1) * ParticleOperator('a0') ** (n - 1)) -\n",
    "    delta_H(n - 3, n - 3) / (6 * math.factorial(n - 3)) * (ParticleOperator('a0^') ** n * ParticleOperator('a0') ** n) + \n",
    "    delta_H(n - 1, n - 1) / math.factorial(n - 1) * (ParticleOperator('a0^') ** (n - 1) * ParticleOperator('a0') ** (n - 1)) -\n",
    "    delta_H(n - 1, n - 1) / math.factorial(n - 1) * (ParticleOperator('a0^') ** n * ParticleOperator('a0') ** n) + \n",
    "    (delta_H(n - 3, n - 1) / np.sqrt(math.factorial(n - 3) * math.factorial(n - 1))) * (\n",
    "        ParticleOperator('a0^') ** (n - 3) * ParticleOperator('a0') ** (n - 1) - ParticleOperator('a0^') ** (n - 2) * ParticleOperator('a0') ** n\n",
    "    ) +\n",
    "    (delta_H(n - 1, n - 3) / np.sqrt(math.factorial(n - 3) * math.factorial(n - 1))) * (\n",
    "        ParticleOperator('a0^') ** (n - 1) * ParticleOperator('a0') ** (n - 3) - ParticleOperator('a0^') ** n * ParticleOperator('a0') ** (n - 2)\n",
    "    ) + \n",
    "    delta_H(n - 2, n - 2) / math.factorial(n - 2) * ParticleOperator('a0^') ** (n - 2) * ParticleOperator('a0') ** (n - 2) - \n",
    "    delta_H(n - 2, n - 2) / math.factorial(n - 2) * (ParticleOperator('a0^') ** (n - 1) * ParticleOperator('a0') ** (n - 1)) +\n",
    "    delta_H(n - 2, n - 2) / (2 * math.factorial(n - 2)) * (ParticleOperator('a0^') ** n * ParticleOperator('a0') ** n) -\n",
    "    delta_H(n - 2, n - 2) / (6 * math.factorial(n - 2)) * (ParticleOperator('a0^') ** (n + 1) * ParticleOperator('a0') ** (n + 1)) + \n",
    "    delta_H(n, n) / math.factorial(n) * (ParticleOperator('a0^') ** n * ParticleOperator('a0') ** n) -\n",
    "    delta_H(n, n) / math.factorial(n) * (ParticleOperator('a0^') ** (n + 1) * ParticleOperator('a0') ** (n + 1)) + \n",
    "    (delta_H(n - 2, n) / np.sqrt(math.factorial(n - 2) * math.factorial(n))) * (\n",
    "        ParticleOperator('a0^') ** (n - 2) * ParticleOperator('a0') ** n - ParticleOperator('a0^') ** (n - 1) * ParticleOperator('a0') ** (n + 1)\n",
    "    ) +\n",
    "    (delta_H(n, n - 2) / np.sqrt(math.factorial(n - 2) * math.factorial(n))) * (\n",
    "        ParticleOperator('a0^') ** n * ParticleOperator('a0') ** (n - 2) - ParticleOperator('a0^') ** (n + 1) * ParticleOperator('a0') ** (n - 1)\n",
    "    )\n",
    ")\n",
    "\n",
    "\n",
    "    \n",
    "    return H_eff_op#.normal_order()"
   ]
  },
  {
   "cell_type": "code",
   "execution_count": null,
   "id": "4f36631b",
   "metadata": {},
   "outputs": [],
   "source": []
  }
 ],
 "metadata": {
  "kernelspec": {
   "display_name": "phd",
   "language": "python",
   "name": "python3"
  },
  "language_info": {
   "codemirror_mode": {
    "name": "ipython",
    "version": 3
   },
   "file_extension": ".py",
   "mimetype": "text/x-python",
   "name": "python",
   "nbconvert_exporter": "python",
   "pygments_lexer": "ipython3",
   "version": "3.9.18"
  }
 },
 "nbformat": 4,
 "nbformat_minor": 5
}
