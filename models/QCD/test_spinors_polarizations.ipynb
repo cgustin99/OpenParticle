{
 "cells": [
  {
   "cell_type": "code",
   "execution_count": 1,
   "metadata": {},
   "outputs": [],
   "source": [
    "import openparticle as op\n",
    "from openparticle.full_dlcq import *"
   ]
  },
  {
   "cell_type": "code",
   "execution_count": 10,
   "metadata": {},
   "outputs": [],
   "source": [
    "K = 3\n",
    "Kp = 2\n",
    "mf = 1\n",
    "mg = 0.1\n",
    "c = 1\n",
    "a = 1\n",
    "h = 1\n",
    "pol = 1"
   ]
  },
  {
   "cell_type": "code",
   "execution_count": 3,
   "metadata": {},
   "outputs": [],
   "source": [
    "p = [1, -1, 0]\n",
    "q = [3, 2, 0]"
   ]
  },
  {
   "cell_type": "markdown",
   "metadata": {},
   "source": [
    "$\\bar u(p, \\lambda_p) \\gamma^+ u(q, \\lambda_q) = 2\\sqrt{p^+ q^+}\\delta_{\\lambda_p, \\lambda_q}$"
   ]
  },
  {
   "cell_type": "code",
   "execution_count": 4,
   "metadata": {},
   "outputs": [
    {
     "name": "stdout",
     "output_type": "stream",
     "text": [
      "[[3.46410162+0.j]]\n",
      "3.4641016151377544\n"
     ]
    }
   ],
   "source": [
    "print(ubar(p = p, m = mf, h = 1).dot(gamma_plus.dot(u(p = q, m = mf, h = 1))))\n",
    "print(2 * np.sqrt(p[0] * q[0]))"
   ]
  },
  {
   "cell_type": "markdown",
   "metadata": {},
   "source": [
    "$\\bar u(p) \\gamma^+ u(q)\\delta_{\\lambda_p, -\\lambda_q} = 0$"
   ]
  },
  {
   "cell_type": "code",
   "execution_count": 5,
   "metadata": {},
   "outputs": [
    {
     "name": "stdout",
     "output_type": "stream",
     "text": [
      "[[0.+0.j]]\n"
     ]
    }
   ],
   "source": [
    "print(ubar(p = p, m = mf, h = 1).dot(gamma_plus.dot(u(p = q, m = mf, h = -1))))"
   ]
  },
  {
   "cell_type": "markdown",
   "metadata": {},
   "source": [
    "$\\bar u(p)u(q)\\delta_{\\lambda_p, \\lambda_q} = \\sqrt{p^+ q^+}m(1/p^+ + 1/q^+)$"
   ]
  },
  {
   "cell_type": "code",
   "execution_count": 6,
   "metadata": {},
   "outputs": [
    {
     "name": "stdout",
     "output_type": "stream",
     "text": [
      "[[2.30940108+0.j]] 2.309401076758503\n"
     ]
    }
   ],
   "source": [
    "print(ubar(p = p, m = mf, h = 1).dot(u(p = q, m = mf, h = 1)), np.sqrt(p[0]*q[0]) * mf * (1/p[0] + 1/q[0]))"
   ]
  },
  {
   "cell_type": "markdown",
   "metadata": {},
   "source": [
    "$\\bar u(p)u(q)\\delta_{\\lambda_p, -\\lambda_q} = \\sqrt{p^+ q^+}(p_\\perp(\\lambda_q)/p^+ - q_\\perp(\\lambda_q)/q^+)$"
   ]
  },
  {
   "cell_type": "markdown",
   "metadata": {},
   "source": [
    "$p_\\perp(\\lambda) = -\\lambda p_1 - ip_2$"
   ]
  },
  {
   "cell_type": "code",
   "execution_count": 7,
   "metadata": {},
   "outputs": [
    {
     "name": "stdout",
     "output_type": "stream",
     "text": [
      "[[-3.53553391-2.12132034j]] (-3.5355339059327378-2.121320343559643j)\n"
     ]
    }
   ],
   "source": [
    "p = [1, 3, 2]\n",
    "q = [2, 1, 1]\n",
    "\n",
    "print(ubar(p = p, m = mf, h = -1).dot(u(p = q, m = mf, h = 1)), np.sqrt(p[0] * q[0]) * ((-h * p[1] - 1j * p[2])/p[0] - (-h * q[1] - 1j * q[2])/q[0]))"
   ]
  },
  {
   "cell_type": "markdown",
   "metadata": {},
   "source": [
    "$k_\\mu \\epsilon^\\mu_\\sigma(k) = 0$"
   ]
  },
  {
   "cell_type": "code",
   "execution_count": 17,
   "metadata": {},
   "outputs": [
    {
     "data": {
      "text/plain": [
       "0j"
      ]
     },
     "execution_count": 17,
     "metadata": {},
     "output_type": "execute_result"
    }
   ],
   "source": [
    "p = [3, -1, 2]\n",
    "\n",
    "eps = pol_vec(p = p, pol = 1)\n",
    "\n",
    "1/2 * p[0]*eps[1] - p[1]*eps[2] - p[2]*eps[3]"
   ]
  },
  {
   "cell_type": "markdown",
   "metadata": {},
   "source": [
    "$\\epsilon_{\\sigma}^{\\mu \\star}(k)\\epsilon_{\\sigma'}^\\nu(k) = -\\delta_{\\sigma, \\sigma'}$"
   ]
  },
  {
   "cell_type": "code",
   "execution_count": 18,
   "metadata": {},
   "outputs": [
    {
     "data": {
      "text/plain": [
       "(0.9999999999999998+0j)"
      ]
     },
     "execution_count": 18,
     "metadata": {},
     "output_type": "execute_result"
    }
   ],
   "source": [
    "p = [3, -1, 2]\n",
    "\n",
    "eps_1 = pol_vec(p = p, pol = 1)\n",
    "eps_2 = pol_vec(p = p, pol = 1)\n",
    "\n",
    "eps_1[2]*eps_2[2].conj() + eps_1[3]*eps_2[3].conj()"
   ]
  },
  {
   "cell_type": "code",
   "execution_count": 19,
   "metadata": {},
   "outputs": [
    {
     "data": {
      "text/plain": [
       "0j"
      ]
     },
     "execution_count": 19,
     "metadata": {},
     "output_type": "execute_result"
    }
   ],
   "source": [
    "p = [3, -1, 2]\n",
    "\n",
    "eps_1 = pol_vec(p = p, pol = 1)\n",
    "eps_2 = pol_vec(p = p, pol = -1)\n",
    "\n",
    "eps_1[2]*eps_2[2].conj() + eps_1[3]*eps_2[3].conj()"
   ]
  },
  {
   "cell_type": "code",
   "execution_count": 20,
   "metadata": {},
   "outputs": [],
   "source": [
    "T = 1/2 * np.array([np.array([[0, 1, 0],\n",
    "                    [1, 0, 0],\n",
    "                    [0, 0, 0]]),\n",
    "            np.array([[0, -1j, 0],\n",
    "                    [1j, 0, 0],\n",
    "                    [0, 0, 0]]),\n",
    "            np.array([[1, 0, 0],\n",
    "                    [0, -1, 0],\n",
    "                    [0, 0, 0]]),\n",
    "            np.array([[0, 0, 1],\n",
    "                    [0, 0, 0],\n",
    "                    [1, 0, 0]]),\n",
    "            np.array([[0, 0, -1j],\n",
    "                    [0, 0, 0],\n",
    "                    [1j, 0, 0]]),\n",
    "            np.array([[0, 0, 0],\n",
    "                    [0, 0, 1],\n",
    "                    [0, 1, 0]]),\n",
    "            np.array([[0, 0, 0],\n",
    "                    [0, 0, -1j],\n",
    "                    [0, 1j, 0]]),  \n",
    "            np.array([[1/np.sqrt(3), 0, 0],\n",
    "                    [0, 1/np.sqrt(3), 0],\n",
    "                    [0, 0, -2/np.sqrt(3)]])\n",
    "\n",
    "])"
   ]
  },
  {
   "cell_type": "code",
   "execution_count": null,
   "metadata": {},
   "outputs": [],
   "source": []
  }
 ],
 "metadata": {
  "kernelspec": {
   "display_name": "openparticle",
   "language": "python",
   "name": "python3"
  },
  "language_info": {
   "codemirror_mode": {
    "name": "ipython",
    "version": 3
   },
   "file_extension": ".py",
   "mimetype": "text/x-python",
   "name": "python",
   "nbconvert_exporter": "python",
   "pygments_lexer": "ipython3",
   "version": "3.11.11"
  },
  "orig_nbformat": 4
 },
 "nbformat": 4,
 "nbformat_minor": 2
}
