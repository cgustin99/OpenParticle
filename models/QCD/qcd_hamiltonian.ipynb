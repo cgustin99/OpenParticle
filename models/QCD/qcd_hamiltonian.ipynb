{
 "cells": [
  {
   "cell_type": "code",
   "execution_count": 52,
   "id": "cc9081c5-e462-4239-bba1-d9945b161442",
   "metadata": {},
   "outputs": [],
   "source": [
    "from get_quantum_nums import get_quantum_numbers\n",
    "import hadron\n",
    "import openparticle as op\n",
    "import numpy as np\n",
    "import matplotlib.pyplot as plt"
   ]
  },
  {
   "cell_type": "code",
   "execution_count": 53,
   "id": "7500fafd-1774-4109-8e55-e082d3e4c549",
   "metadata": {},
   "outputs": [],
   "source": [
    "g = 1\n",
    "L = 100\n",
    "mg = 1\n",
    "\n",
    "mq = 1.0"
   ]
  },
  {
   "cell_type": "code",
   "execution_count": 54,
   "id": "d5ef5c89-b7f9-4522-b9bd-2ad5dc819690",
   "metadata": {},
   "outputs": [],
   "source": [
    "K = 2\n",
    "Lambda_perp = 0\n",
    "P_perp = 0"
   ]
  },
  {
   "cell_type": "code",
   "execution_count": 55,
   "id": "d03df321-e0aa-4f50-a720-073983da0659",
   "metadata": {},
   "outputs": [
    {
     "data": {
      "text/html": [
       "<div>\n",
       "<style scoped>\n",
       "    .dataframe tbody tr th:only-of-type {\n",
       "        vertical-align: middle;\n",
       "    }\n",
       "\n",
       "    .dataframe tbody tr th {\n",
       "        vertical-align: top;\n",
       "    }\n",
       "\n",
       "    .dataframe thead th {\n",
       "        text-align: right;\n",
       "    }\n",
       "</style>\n",
       "<table border=\"1\" class=\"dataframe\">\n",
       "  <thead>\n",
       "    <tr style=\"text-align: right;\">\n",
       "      <th></th>\n",
       "      <th>Helicity</th>\n",
       "      <th>n</th>\n",
       "      <th>n⟂</th>\n",
       "    </tr>\n",
       "  </thead>\n",
       "  <tbody>\n",
       "    <tr>\n",
       "      <th>0</th>\n",
       "      <td>+1</td>\n",
       "      <td>0.5</td>\n",
       "      <td>0</td>\n",
       "    </tr>\n",
       "    <tr>\n",
       "      <th>1</th>\n",
       "      <td>+1</td>\n",
       "      <td>1.0</td>\n",
       "      <td>0</td>\n",
       "    </tr>\n",
       "    <tr>\n",
       "      <th>2</th>\n",
       "      <td>+1</td>\n",
       "      <td>1.5</td>\n",
       "      <td>0</td>\n",
       "    </tr>\n",
       "    <tr>\n",
       "      <th>3</th>\n",
       "      <td>+1</td>\n",
       "      <td>2.0</td>\n",
       "      <td>0</td>\n",
       "    </tr>\n",
       "    <tr>\n",
       "      <th>4</th>\n",
       "      <td>-1</td>\n",
       "      <td>0.5</td>\n",
       "      <td>0</td>\n",
       "    </tr>\n",
       "    <tr>\n",
       "      <th>5</th>\n",
       "      <td>-1</td>\n",
       "      <td>1.0</td>\n",
       "      <td>0</td>\n",
       "    </tr>\n",
       "    <tr>\n",
       "      <th>6</th>\n",
       "      <td>-1</td>\n",
       "      <td>1.5</td>\n",
       "      <td>0</td>\n",
       "    </tr>\n",
       "    <tr>\n",
       "      <th>7</th>\n",
       "      <td>-1</td>\n",
       "      <td>2.0</td>\n",
       "      <td>0</td>\n",
       "    </tr>\n",
       "  </tbody>\n",
       "</table>\n",
       "</div>"
      ],
      "text/plain": [
       "  Helicity    n  n⟂\n",
       "0       +1  0.5   0\n",
       "1       +1  1.0   0\n",
       "2       +1  1.5   0\n",
       "3       +1  2.0   0\n",
       "4       -1  0.5   0\n",
       "5       -1  1.0   0\n",
       "6       -1  1.5   0\n",
       "7       -1  2.0   0"
      ]
     },
     "execution_count": 55,
     "metadata": {},
     "output_type": "execute_result"
    }
   ],
   "source": [
    "qnums = get_quantum_numbers(K, Lambda_perp)\n",
    "qnums"
   ]
  },
  {
   "cell_type": "code",
   "execution_count": 56,
   "id": "9b278428-b838-4154-9d82-0fd509bf9a14",
   "metadata": {},
   "outputs": [
    {
     "data": {
      "text/latex": [
       "$|g⟩ + |q\\bar{q}⟩ + |q\\bar{q}q\\bar{q}⟩ + |q\\bar{q}g⟩ + |gg⟩$"
      ],
      "text/plain": [
       "<IPython.core.display.Latex object>"
      ]
     },
     "metadata": {},
     "output_type": "display_data"
    }
   ],
   "source": [
    "pion = hadron.Hadron('meson', K)\n",
    "pion.display()"
   ]
  },
  {
   "cell_type": "code",
   "execution_count": 57,
   "id": "b0f8f099-2548-4f0e-96d6-9ff49d4897ba",
   "metadata": {},
   "outputs": [
    {
     "data": {
      "text/latex": [
       "$1.0 * |; ; (3, 1)⟩ + 1.0 * |; ; (7, 1)⟩ + 1.0 * |0; 2; ⟩ + 1.0 * |0; 6; ⟩ + 1.0 * |2; 0; ⟩ + 1.0 * |2; 4; ⟩ + 1.0 * |4; 2; ⟩ + 1.0 * |4; 6; ⟩ + 1.0 * |6; 0; ⟩ + 1.0 * |6; 4; ⟩ + 1.0 * |4,0; 4,0; ⟩ + 1.0 * |0; 0; (1, 1)⟩ + 1.0 * |0; 0; (5, 1)⟩ + 1.0 * |0; 4; (1, 1)⟩ + 1.0 * |0; 4; (5, 1)⟩ + 1.0 * |4; 0; (1, 1)⟩ + 1.0 * |4; 0; (5, 1)⟩ + 1.0 * |4; 4; (1, 1)⟩ + 1.0 * |4; 4; (5, 1)⟩ + 1.0 * |; ; (1, 2)⟩ + 1.0 * |; ; (5, 1),(1, 1)⟩ + 1.0 * |; ; (5, 2)⟩$"
      ],
      "text/plain": [
       "<IPython.core.display.Latex object>"
      ]
     },
     "metadata": {},
     "output_type": "display_data"
    }
   ],
   "source": [
    "pion_fock = pion.get_states(K, P_perp, Lambda_perp)\n",
    "pion_fock.display()"
   ]
  },
  {
   "cell_type": "code",
   "execution_count": 58,
   "id": "d6d475b5-985f-477d-92b2-66742334f36e",
   "metadata": {},
   "outputs": [],
   "source": [
    "def pplus(n):\n",
    "    return 2 * np.pi * n / L"
   ]
  },
  {
   "cell_type": "code",
   "execution_count": 59,
   "id": "c244a27c-d760-4194-af50-59b070de3599",
   "metadata": {},
   "outputs": [],
   "source": [
    "def Coeff_iG(q1, q2, q3, q4):\n",
    "    n1, n2 = qnums.iloc[q1]['n'], qnums.iloc[q2]['n'] \n",
    "    n3, n4 = qnums.iloc[q3]['n'], qnums.iloc[q4]['n']\n",
    "\n",
    "    h1, h2 = qnums.iloc[q1]['Helicity'], qnums.iloc[q2]['Helicity'] \n",
    "    h3, h4 = qnums.iloc[q3]['Helicity'], qnums.iloc[q4]['Helicity']\n",
    "    return round(4/((pplus(n1) - pplus(n4))**2 + mg**2) * np.sqrt(pplus(n1) * pplus(n2) *\\\n",
    "                       pplus(n3) * pplus(n4)) * (h1 == h4) * (h2 == h3), 5)\n",
    "    "
   ]
  },
  {
   "cell_type": "code",
   "execution_count": 60,
   "id": "0fd4043e-e217-495b-b284-4060c685a64e",
   "metadata": {},
   "outputs": [],
   "source": [
    "H_iG = op.ParticleOperatorSum([])\n",
    "\n",
    "for i in range(len(qnums)):\n",
    "    for j in range(len(qnums)):\n",
    "        for k in range(len(qnums)):\n",
    "            for l in range(len(qnums)):\n",
    "                if qnums.iloc[i]['n'] % 1 == 0.5 and qnums.iloc[j]['n'] % 1 == 0.5 and qnums.iloc[k]['n'] % 1 == 0.5 and qnums.iloc[l]['n'] % 1 == 0.5:\n",
    "                    c = Coeff_iG(i, j, k, l)\n",
    "                    op_st = 'b' + str(i) + '^ ' +\\\n",
    "                        'd' + str(j) + '^ ' +\\\n",
    "                        'd' + str(k) + ' ' +\\\n",
    "                        'b' + str(l)\n",
    "                    H_iG += (-g**2) * Coeff_iG(i, j, k, l) * op.ParticleOperator(op_st)\n",
    "if isinstance(H_iG, op.ParticleOperatorSum):\n",
    "    H_iG = H_iG.cleanup()\n"
   ]
  },
  {
   "cell_type": "code",
   "execution_count": 61,
   "id": "07391074",
   "metadata": {},
   "outputs": [],
   "source": [
    "H_free = op.ParticleOperatorSum([])\n",
    "\n",
    "for i in range(len(qnums)):\n",
    "    if qnums.iloc[i]['n'] % 1 == 0.5:\n",
    "        op_st_f = 'b' + str(i) + \"^ \" + 'b' + str(i) \n",
    "        op_st_af = 'd' + str(i) + \"^ \" + 'd' + str(i) \n",
    "        x = qnums.iloc[i]['n'] / K\n",
    "        coeff = mq**2 / x\n",
    "        H_free += coeff * op.ParticleOperator(op_st_f) + coeff * op.ParticleOperator(op_st_af)\n",
    "\n",
    "H_free = H_free.cleanup()"
   ]
  },
  {
   "cell_type": "code",
   "execution_count": 62,
   "id": "63f51163",
   "metadata": {},
   "outputs": [
    {
     "data": {
      "text/latex": [
       "$4.0*b^†_{0}b_{0} + 4.0*d^†_{0}d_{0} + 1.3333333333333333*b^†_{2}b_{2} + 1.3333333333333333*d^†_{2}d_{2} + 4.0*b^†_{4}b_{4} + 4.0*d^†_{4}d_{4} + 1.3333333333333333*b^†_{6}b_{6} + 1.3333333333333333*d^†_{6}d_{6}$"
      ],
      "text/plain": [
       "<IPython.core.display.Latex object>"
      ]
     },
     "metadata": {},
     "output_type": "display_data"
    }
   ],
   "source": [
    "H_free.display()"
   ]
  },
  {
   "cell_type": "code",
   "execution_count": 63,
   "id": "3484f58a-bab3-4594-80a9-1ec9355bf798",
   "metadata": {},
   "outputs": [
    {
     "data": {
      "text/latex": [
       "$-39.47842*b^†_{0}d^†_{0}d_{0}b_{0} + -1.68926*b^†_{0}d^†_{0}d_{0}b_{2} + -68.37863*b^†_{0}d^†_{0}d_{2}b_{0} + -2.92589*b^†_{0}d^†_{0}d_{2}b_{2} + -68.37863*b^†_{0}d^†_{2}d_{0}b_{0} + -2.92589*b^†_{0}d^†_{2}d_{0}b_{2} + -118.43525*b^†_{0}d^†_{2}d_{2}b_{0} + -5.06778*b^†_{0}d^†_{2}d_{2}b_{2} + -39.47842*b^†_{0}d^†_{4}d_{4}b_{0} + -1.68926*b^†_{0}d^†_{4}d_{4}b_{2} + -68.37863*b^†_{0}d^†_{4}d_{6}b_{0} + -2.92589*b^†_{0}d^†_{4}d_{6}b_{2} + -68.37863*b^†_{0}d^†_{6}d_{4}b_{0} + -2.92589*b^†_{0}d^†_{6}d_{4}b_{2} + -118.43525*b^†_{0}d^†_{6}d_{6}b_{0} + -5.06778*b^†_{0}d^†_{6}d_{6}b_{2} + -1.68926*b^†_{2}d^†_{0}d_{0}b_{0} + -118.43525*b^†_{2}d^†_{0}d_{0}b_{2} + -2.92589*b^†_{2}d^†_{0}d_{2}b_{0} + -205.13588*b^†_{2}d^†_{0}d_{2}b_{2} + -2.92589*b^†_{2}d^†_{2}d_{0}b_{0} + -205.13588*b^†_{2}d^†_{2}d_{0}b_{2} + -5.06778*b^†_{2}d^†_{2}d_{2}b_{0} + -355.30576*b^†_{2}d^†_{2}d_{2}b_{2} + -1.68926*b^†_{2}d^†_{4}d_{4}b_{0} + -118.43525*b^†_{2}d^†_{4}d_{4}b_{2} + -2.92589*b^†_{2}d^†_{4}d_{6}b_{0} + -205.13588*b^†_{2}d^†_{4}d_{6}b_{2} + -2.92589*b^†_{2}d^†_{6}d_{4}b_{0} + -205.13588*b^†_{2}d^†_{6}d_{4}b_{2} + -5.06778*b^†_{2}d^†_{6}d_{6}b_{0} + -355.30576*b^†_{2}d^†_{6}d_{6}b_{2} + -39.47842*b^†_{4}d^†_{0}d_{0}b_{4} + -1.68926*b^†_{4}d^†_{0}d_{0}b_{6} + -68.37863*b^†_{4}d^†_{0}d_{2}b_{4} + -2.92589*b^†_{4}d^†_{0}d_{2}b_{6} + -68.37863*b^†_{4}d^†_{2}d_{0}b_{4} + -2.92589*b^†_{4}d^†_{2}d_{0}b_{6} + -118.43525*b^†_{4}d^†_{2}d_{2}b_{4} + -5.06778*b^†_{4}d^†_{2}d_{2}b_{6} + -39.47842*b^†_{4}d^†_{4}d_{4}b_{4} + -1.68926*b^†_{4}d^†_{4}d_{4}b_{6} + -68.37863*b^†_{4}d^†_{4}d_{6}b_{4} + -2.92589*b^†_{4}d^†_{4}d_{6}b_{6} + -68.37863*b^†_{4}d^†_{6}d_{4}b_{4} + -2.92589*b^†_{4}d^†_{6}d_{4}b_{6} + -118.43525*b^†_{4}d^†_{6}d_{6}b_{4} + -5.06778*b^†_{4}d^†_{6}d_{6}b_{6} + -1.68926*b^†_{6}d^†_{0}d_{0}b_{4} + -118.43525*b^†_{6}d^†_{0}d_{0}b_{6} + -2.92589*b^†_{6}d^†_{0}d_{2}b_{4} + -205.13588*b^†_{6}d^†_{0}d_{2}b_{6} + -2.92589*b^†_{6}d^†_{2}d_{0}b_{4} + -205.13588*b^†_{6}d^†_{2}d_{0}b_{6} + -5.06778*b^†_{6}d^†_{2}d_{2}b_{4} + -355.30576*b^†_{6}d^†_{2}d_{2}b_{6} + -1.68926*b^†_{6}d^†_{4}d_{4}b_{4} + -118.43525*b^†_{6}d^†_{4}d_{4}b_{6} + -2.92589*b^†_{6}d^†_{4}d_{6}b_{4} + -205.13588*b^†_{6}d^†_{4}d_{6}b_{6} + -2.92589*b^†_{6}d^†_{6}d_{4}b_{4} + -205.13588*b^†_{6}d^†_{6}d_{4}b_{6} + -5.06778*b^†_{6}d^†_{6}d_{6}b_{4} + -355.30576*b^†_{6}d^†_{6}d_{6}b_{6}$"
      ],
      "text/plain": [
       "<IPython.core.display.Latex object>"
      ]
     },
     "metadata": {},
     "output_type": "display_data"
    }
   ],
   "source": [
    "H_iG.display()"
   ]
  },
  {
   "cell_type": "code",
   "execution_count": 64,
   "id": "92454c34",
   "metadata": {},
   "outputs": [],
   "source": [
    "H = H_free + H_iG"
   ]
  },
  {
   "cell_type": "code",
   "execution_count": 65,
   "id": "6bc86aba",
   "metadata": {},
   "outputs": [
    {
     "data": {
      "text/latex": [
       "$4.0*b^†_{0}b_{0} + 4.0*d^†_{0}d_{0} + 1.3333333333333333*b^†_{2}b_{2} + 1.3333333333333333*d^†_{2}d_{2} + 4.0*b^†_{4}b_{4} + 4.0*d^†_{4}d_{4} + 1.3333333333333333*b^†_{6}b_{6} + 1.3333333333333333*d^†_{6}d_{6} + -39.47842*b^†_{0}d^†_{0}d_{0}b_{0} + -1.68926*b^†_{0}d^†_{0}d_{0}b_{2} + -68.37863*b^†_{0}d^†_{0}d_{2}b_{0} + -2.92589*b^†_{0}d^†_{0}d_{2}b_{2} + -68.37863*b^†_{0}d^†_{2}d_{0}b_{0} + -2.92589*b^†_{0}d^†_{2}d_{0}b_{2} + -118.43525*b^†_{0}d^†_{2}d_{2}b_{0} + -5.06778*b^†_{0}d^†_{2}d_{2}b_{2} + -39.47842*b^†_{0}d^†_{4}d_{4}b_{0} + -1.68926*b^†_{0}d^†_{4}d_{4}b_{2} + -68.37863*b^†_{0}d^†_{4}d_{6}b_{0} + -2.92589*b^†_{0}d^†_{4}d_{6}b_{2} + -68.37863*b^†_{0}d^†_{6}d_{4}b_{0} + -2.92589*b^†_{0}d^†_{6}d_{4}b_{2} + -118.43525*b^†_{0}d^†_{6}d_{6}b_{0} + -5.06778*b^†_{0}d^†_{6}d_{6}b_{2} + -1.68926*b^†_{2}d^†_{0}d_{0}b_{0} + -118.43525*b^†_{2}d^†_{0}d_{0}b_{2} + -2.92589*b^†_{2}d^†_{0}d_{2}b_{0} + -205.13588*b^†_{2}d^†_{0}d_{2}b_{2} + -2.92589*b^†_{2}d^†_{2}d_{0}b_{0} + -205.13588*b^†_{2}d^†_{2}d_{0}b_{2} + -5.06778*b^†_{2}d^†_{2}d_{2}b_{0} + -355.30576*b^†_{2}d^†_{2}d_{2}b_{2} + -1.68926*b^†_{2}d^†_{4}d_{4}b_{0} + -118.43525*b^†_{2}d^†_{4}d_{4}b_{2} + -2.92589*b^†_{2}d^†_{4}d_{6}b_{0} + -205.13588*b^†_{2}d^†_{4}d_{6}b_{2} + -2.92589*b^†_{2}d^†_{6}d_{4}b_{0} + -205.13588*b^†_{2}d^†_{6}d_{4}b_{2} + -5.06778*b^†_{2}d^†_{6}d_{6}b_{0} + -355.30576*b^†_{2}d^†_{6}d_{6}b_{2} + -39.47842*b^†_{4}d^†_{0}d_{0}b_{4} + -1.68926*b^†_{4}d^†_{0}d_{0}b_{6} + -68.37863*b^†_{4}d^†_{0}d_{2}b_{4} + -2.92589*b^†_{4}d^†_{0}d_{2}b_{6} + -68.37863*b^†_{4}d^†_{2}d_{0}b_{4} + -2.92589*b^†_{4}d^†_{2}d_{0}b_{6} + -118.43525*b^†_{4}d^†_{2}d_{2}b_{4} + -5.06778*b^†_{4}d^†_{2}d_{2}b_{6} + -39.47842*b^†_{4}d^†_{4}d_{4}b_{4} + -1.68926*b^†_{4}d^†_{4}d_{4}b_{6} + -68.37863*b^†_{4}d^†_{4}d_{6}b_{4} + -2.92589*b^†_{4}d^†_{4}d_{6}b_{6} + -68.37863*b^†_{4}d^†_{6}d_{4}b_{4} + -2.92589*b^†_{4}d^†_{6}d_{4}b_{6} + -118.43525*b^†_{4}d^†_{6}d_{6}b_{4} + -5.06778*b^†_{4}d^†_{6}d_{6}b_{6} + -1.68926*b^†_{6}d^†_{0}d_{0}b_{4} + -118.43525*b^†_{6}d^†_{0}d_{0}b_{6} + -2.92589*b^†_{6}d^†_{0}d_{2}b_{4} + -205.13588*b^†_{6}d^†_{0}d_{2}b_{6} + -2.92589*b^†_{6}d^†_{2}d_{0}b_{4} + -205.13588*b^†_{6}d^†_{2}d_{0}b_{6} + -5.06778*b^†_{6}d^†_{2}d_{2}b_{4} + -355.30576*b^†_{6}d^†_{2}d_{2}b_{6} + -1.68926*b^†_{6}d^†_{4}d_{4}b_{4} + -118.43525*b^†_{6}d^†_{4}d_{4}b_{6} + -2.92589*b^†_{6}d^†_{4}d_{6}b_{4} + -205.13588*b^†_{6}d^†_{4}d_{6}b_{6} + -2.92589*b^†_{6}d^†_{6}d_{4}b_{4} + -205.13588*b^†_{6}d^†_{6}d_{4}b_{6} + -5.06778*b^†_{6}d^†_{6}d_{6}b_{4} + -355.30576*b^†_{6}d^†_{6}d_{6}b_{6}$"
      ],
      "text/plain": [
       "<IPython.core.display.Latex object>"
      ]
     },
     "metadata": {},
     "output_type": "display_data"
    }
   ],
   "source": [
    "H.display()"
   ]
  },
  {
   "cell_type": "code",
   "execution_count": 66,
   "id": "1d577fc9",
   "metadata": {},
   "outputs": [],
   "source": [
    "basis=pion_fock.states_list"
   ]
  },
  {
   "cell_type": "code",
   "execution_count": 67,
   "id": "0f581942",
   "metadata": {},
   "outputs": [],
   "source": [
    "size = (len(basis), len(basis))\n",
    "matrix = np.zeros(size)\n",
    "\n",
    "for i, state_i in enumerate(basis):\n",
    "    for j, state_j in enumerate(basis):\n",
    "        matrix_element = state_i.dagger() * H * state_j\n",
    "        matrix[i][j] = matrix_element"
   ]
  },
  {
   "cell_type": "code",
   "execution_count": 68,
   "id": "9cf9ca62",
   "metadata": {},
   "outputs": [
    {
     "data": {
      "text/plain": [
       "<matplotlib.image.AxesImage at 0x12456b580>"
      ]
     },
     "execution_count": 68,
     "metadata": {},
     "output_type": "execute_result"
    },
    {
     "data": {
      "image/png": "[encoded data removed]",
      "text/plain": [
       "<Figure size 640x480 with 1 Axes>"
      ]
     },
     "metadata": {},
     "output_type": "display_data"
    }
   ],
   "source": [
    "plt.imshow(matrix)"
   ]
  },
  {
   "cell_type": "code",
   "execution_count": 69,
   "id": "8f27717a",
   "metadata": {},
   "outputs": [
    {
     "data": {
      "text/plain": [
       "[<matplotlib.lines.Line2D at 0x12472bd60>]"
      ]
     },
     "execution_count": 69,
     "metadata": {},
     "output_type": "execute_result"
    },
    {
     "data": {
      "image/png": "[encoded data removed]",
      "text/plain": [
       "<Figure size 640x480 with 1 Axes>"
      ]
     },
     "metadata": {},
     "output_type": "display_data"
    }
   ],
   "source": [
    "plt.plot(np.diagonal(matrix))"
   ]
  },
  {
   "cell_type": "code",
   "execution_count": 70,
   "id": "cfe5557e",
   "metadata": {},
   "outputs": [
    {
     "data": {
      "text/plain": [
       "array([-2.92589, -2.92589, -2.92589, -2.92589, -2.92589, -2.92589,\n",
       "       -2.92589, -2.92589])"
      ]
     },
     "execution_count": 70,
     "metadata": {},
     "output_type": "execute_result"
    }
   ],
   "source": [
    "matrix[np.nonzero(matrix - np.diag(np.diagonal(matrix)))]"
   ]
  },
  {
   "cell_type": "code",
   "execution_count": 71,
   "id": "20f9a67c",
   "metadata": {},
   "outputs": [
    {
     "data": {
      "text/plain": [
       "<matplotlib.image.AxesImage at 0x12477a190>"
      ]
     },
     "execution_count": 71,
     "metadata": {},
     "output_type": "execute_result"
    },
    {
     "data": {
      "image/png": "[encoded data removed]",
      "text/plain": [
       "<Figure size 640x480 with 1 Axes>"
      ]
     },
     "metadata": {},
     "output_type": "display_data"
    }
   ],
   "source": [
    "plt.imshow(matrix - np.diag(np.diagonal(matrix)))"
   ]
  },
  {
   "cell_type": "code",
   "execution_count": 72,
   "id": "8baf5674",
   "metadata": {},
   "outputs": [
    {
     "data": {
      "text/plain": [
       "8"
      ]
     },
     "execution_count": 72,
     "metadata": {},
     "output_type": "execute_result"
    }
   ],
   "source": [
    "np.count_nonzero(matrix - np.diag(np.diagonal(matrix)))"
   ]
  },
  {
   "cell_type": "code",
   "execution_count": 73,
   "id": "ee2283c9",
   "metadata": {},
   "outputs": [
    {
     "data": {
      "text/plain": [
       "(array([-141.91368   , -116.02780667, -116.02780667, -116.02780667,\n",
       "        -116.02780667, -110.17602667, -110.17602667, -110.17602667,\n",
       "        -110.17602667,  -31.47842   ,  -31.47842   ,  -31.47842   ,\n",
       "         -31.47842   ,  -31.47842   ,  -31.47842   ,  -31.47842   ,\n",
       "         -31.47842   ,    0.        ,    0.        ,    0.        ,\n",
       "           0.        ,    0.        ]),\n",
       " array([[ 0.        ,  0.        ,  0.        ,  0.        ,  0.        ,\n",
       "          0.        ,  0.        ,  0.        ,  0.        ,  0.        ,\n",
       "          0.        ,  0.        ,  0.        ,  0.        ,  0.        ,\n",
       "          0.        ,  0.        ,  0.        ,  1.        ,  0.        ,\n",
       "          0.        ,  0.        ],\n",
       "        [ 0.        ,  0.        ,  0.        ,  0.        ,  0.        ,\n",
       "          0.        ,  0.        ,  0.        ,  0.        ,  0.        ,\n",
       "          0.        ,  0.        ,  0.        ,  0.        ,  0.        ,\n",
       "          0.        ,  0.        ,  1.        ,  0.        ,  0.        ,\n",
       "          0.        ,  0.        ],\n",
       "        [ 0.        ,  0.70710678,  0.        ,  0.        ,  0.        ,\n",
       "          0.        , -0.70710678,  0.        ,  0.        ,  0.        ,\n",
       "          0.        ,  0.        ,  0.        ,  0.        ,  0.        ,\n",
       "          0.        ,  0.        ,  0.        ,  0.        ,  0.        ,\n",
       "          0.        ,  0.        ],\n",
       "        [ 0.        ,  0.        ,  0.70710678,  0.        ,  0.        ,\n",
       "         -0.70710678,  0.        ,  0.        ,  0.        ,  0.        ,\n",
       "          0.        ,  0.        ,  0.        ,  0.        ,  0.        ,\n",
       "          0.        ,  0.        ,  0.        ,  0.        ,  0.        ,\n",
       "          0.        ,  0.        ],\n",
       "        [ 0.        ,  0.70710678,  0.        ,  0.        ,  0.        ,\n",
       "          0.        ,  0.70710678,  0.        ,  0.        ,  0.        ,\n",
       "          0.        ,  0.        ,  0.        ,  0.        ,  0.        ,\n",
       "          0.        ,  0.        ,  0.        ,  0.        ,  0.        ,\n",
       "          0.        ,  0.        ],\n",
       "        [ 0.        ,  0.        ,  0.70710678,  0.        ,  0.        ,\n",
       "          0.70710678,  0.        ,  0.        ,  0.        ,  0.        ,\n",
       "          0.        ,  0.        ,  0.        ,  0.        ,  0.        ,\n",
       "          0.        ,  0.        ,  0.        ,  0.        ,  0.        ,\n",
       "          0.        ,  0.        ],\n",
       "        [ 0.        ,  0.        ,  0.        ,  0.70710678,  0.        ,\n",
       "          0.        ,  0.        , -0.70710678,  0.        ,  0.        ,\n",
       "          0.        ,  0.        ,  0.        ,  0.        ,  0.        ,\n",
       "          0.        ,  0.        ,  0.        ,  0.        ,  0.        ,\n",
       "          0.        ,  0.        ],\n",
       "        [ 0.        ,  0.        ,  0.        ,  0.        ,  0.70710678,\n",
       "          0.        ,  0.        ,  0.        , -0.70710678,  0.        ,\n",
       "          0.        ,  0.        ,  0.        ,  0.        ,  0.        ,\n",
       "          0.        ,  0.        ,  0.        ,  0.        ,  0.        ,\n",
       "          0.        ,  0.        ],\n",
       "        [ 0.        ,  0.        ,  0.        ,  0.70710678,  0.        ,\n",
       "          0.        ,  0.        ,  0.70710678,  0.        ,  0.        ,\n",
       "          0.        ,  0.        ,  0.        ,  0.        ,  0.        ,\n",
       "          0.        ,  0.        ,  0.        ,  0.        ,  0.        ,\n",
       "          0.        ,  0.        ],\n",
       "        [ 0.        ,  0.        ,  0.        ,  0.        ,  0.70710678,\n",
       "          0.        ,  0.        ,  0.        ,  0.70710678,  0.        ,\n",
       "          0.        ,  0.        ,  0.        ,  0.        ,  0.        ,\n",
       "          0.        ,  0.        ,  0.        ,  0.        ,  0.        ,\n",
       "          0.        ,  0.        ],\n",
       "        [ 1.        ,  0.        ,  0.        ,  0.        ,  0.        ,\n",
       "          0.        ,  0.        ,  0.        ,  0.        ,  0.        ,\n",
       "          0.        ,  0.        ,  0.        ,  0.        ,  0.        ,\n",
       "          0.        ,  0.        ,  0.        ,  0.        ,  0.        ,\n",
       "          0.        ,  0.        ],\n",
       "        [ 0.        ,  0.        ,  0.        ,  0.        ,  0.        ,\n",
       "          0.        ,  0.        ,  0.        ,  0.        ,  1.        ,\n",
       "          0.        ,  0.        ,  0.        ,  0.        ,  0.        ,\n",
       "          0.        ,  0.        ,  0.        ,  0.        ,  0.        ,\n",
       "          0.        ,  0.        ],\n",
       "        [ 0.        ,  0.        ,  0.        ,  0.        ,  0.        ,\n",
       "          0.        ,  0.        ,  0.        ,  0.        ,  0.        ,\n",
       "          1.        ,  0.        ,  0.        ,  0.        ,  0.        ,\n",
       "          0.        ,  0.        ,  0.        ,  0.        ,  0.        ,\n",
       "          0.        ,  0.        ],\n",
       "        [ 0.        ,  0.        ,  0.        ,  0.        ,  0.        ,\n",
       "          0.        ,  0.        ,  0.        ,  0.        ,  0.        ,\n",
       "          0.        ,  1.        ,  0.        ,  0.        ,  0.        ,\n",
       "          0.        ,  0.        ,  0.        ,  0.        ,  0.        ,\n",
       "          0.        ,  0.        ],\n",
       "        [ 0.        ,  0.        ,  0.        ,  0.        ,  0.        ,\n",
       "          0.        ,  0.        ,  0.        ,  0.        ,  0.        ,\n",
       "          0.        ,  0.        ,  1.        ,  0.        ,  0.        ,\n",
       "          0.        ,  0.        ,  0.        ,  0.        ,  0.        ,\n",
       "          0.        ,  0.        ],\n",
       "        [ 0.        ,  0.        ,  0.        ,  0.        ,  0.        ,\n",
       "          0.        ,  0.        ,  0.        ,  0.        ,  0.        ,\n",
       "          0.        ,  0.        ,  0.        ,  1.        ,  0.        ,\n",
       "          0.        ,  0.        ,  0.        ,  0.        ,  0.        ,\n",
       "          0.        ,  0.        ],\n",
       "        [ 0.        ,  0.        ,  0.        ,  0.        ,  0.        ,\n",
       "          0.        ,  0.        ,  0.        ,  0.        ,  0.        ,\n",
       "          0.        ,  0.        ,  0.        ,  0.        ,  1.        ,\n",
       "          0.        ,  0.        ,  0.        ,  0.        ,  0.        ,\n",
       "          0.        ,  0.        ],\n",
       "        [ 0.        ,  0.        ,  0.        ,  0.        ,  0.        ,\n",
       "          0.        ,  0.        ,  0.        ,  0.        ,  0.        ,\n",
       "          0.        ,  0.        ,  0.        ,  0.        ,  0.        ,\n",
       "          1.        ,  0.        ,  0.        ,  0.        ,  0.        ,\n",
       "          0.        ,  0.        ],\n",
       "        [ 0.        ,  0.        ,  0.        ,  0.        ,  0.        ,\n",
       "          0.        ,  0.        ,  0.        ,  0.        ,  0.        ,\n",
       "          0.        ,  0.        ,  0.        ,  0.        ,  0.        ,\n",
       "          0.        ,  1.        ,  0.        ,  0.        ,  0.        ,\n",
       "          0.        ,  0.        ],\n",
       "        [ 0.        ,  0.        ,  0.        ,  0.        ,  0.        ,\n",
       "          0.        ,  0.        ,  0.        ,  0.        ,  0.        ,\n",
       "          0.        ,  0.        ,  0.        ,  0.        ,  0.        ,\n",
       "          0.        ,  0.        ,  0.        ,  0.        ,  1.        ,\n",
       "          0.        ,  0.        ],\n",
       "        [ 0.        ,  0.        ,  0.        ,  0.        ,  0.        ,\n",
       "          0.        ,  0.        ,  0.        ,  0.        ,  0.        ,\n",
       "          0.        ,  0.        ,  0.        ,  0.        ,  0.        ,\n",
       "          0.        ,  0.        ,  0.        ,  0.        ,  0.        ,\n",
       "          1.        ,  0.        ],\n",
       "        [ 0.        ,  0.        ,  0.        ,  0.        ,  0.        ,\n",
       "          0.        ,  0.        ,  0.        ,  0.        ,  0.        ,\n",
       "          0.        ,  0.        ,  0.        ,  0.        ,  0.        ,\n",
       "          0.        ,  0.        ,  0.        ,  0.        ,  0.        ,\n",
       "          0.        ,  1.        ]]))"
      ]
     },
     "execution_count": 73,
     "metadata": {},
     "output_type": "execute_result"
    }
   ],
   "source": [
    "np.linalg.eigh(matrix)"
   ]
  },
  {
   "cell_type": "code",
   "execution_count": null,
   "id": "4d7fbfe3",
   "metadata": {},
   "outputs": [],
   "source": []
  }
 ],
 "metadata": {
  "kernelspec": {
   "display_name": "phd",
   "language": "python",
   "name": "python3"
  },
  "language_info": {
   "codemirror_mode": {
    "name": "ipython",
    "version": 3
   },
   "file_extension": ".py",
   "mimetype": "text/x-python",
   "name": "python",
   "nbconvert_exporter": "python",
   "pygments_lexer": "ipython3",
   "version": "3.9.18"
  }
 },
 "nbformat": 4,
 "nbformat_minor": 5
}
