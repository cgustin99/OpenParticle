{
 "cells": [
  {
   "cell_type": "code",
   "execution_count": 1,
   "id": "cc9081c5-e462-4239-bba1-d9945b161442",
   "metadata": {},
   "outputs": [],
   "source": [
    "from get_quantum_nums import get_quantum_numbers\n",
    "import hadron\n",
    "import openparticle as op\n",
    "import numpy as np"
   ]
  },
  {
   "cell_type": "code",
   "execution_count": 16,
   "id": "7500fafd-1774-4109-8e55-e082d3e4c549",
   "metadata": {},
   "outputs": [],
   "source": [
    "g = 1\n",
    "L = 100\n",
    "mg = 0.01\n",
    "\n",
    "mq = 1.0"
   ]
  },
  {
   "cell_type": "code",
   "execution_count": 3,
   "id": "d5ef5c89-b7f9-4522-b9bd-2ad5dc819690",
   "metadata": {},
   "outputs": [],
   "source": [
    "K = 1\n",
    "Lambda_perp = 0\n",
    "P_perp = 0"
   ]
  },
  {
   "cell_type": "code",
   "execution_count": 4,
   "id": "d03df321-e0aa-4f50-a720-073983da0659",
   "metadata": {},
   "outputs": [
    {
     "data": {
      "text/html": [
       "<div>\n",
       "<style scoped>\n",
       "    .dataframe tbody tr th:only-of-type {\n",
       "        vertical-align: middle;\n",
       "    }\n",
       "\n",
       "    .dataframe tbody tr th {\n",
       "        vertical-align: top;\n",
       "    }\n",
       "\n",
       "    .dataframe thead th {\n",
       "        text-align: right;\n",
       "    }\n",
       "</style>\n",
       "<table border=\"1\" class=\"dataframe\">\n",
       "  <thead>\n",
       "    <tr style=\"text-align: right;\">\n",
       "      <th></th>\n",
       "      <th>Helicity</th>\n",
       "      <th>n</th>\n",
       "      <th>n⟂</th>\n",
       "    </tr>\n",
       "  </thead>\n",
       "  <tbody>\n",
       "    <tr>\n",
       "      <th>0</th>\n",
       "      <td>+1</td>\n",
       "      <td>0.5</td>\n",
       "      <td>0</td>\n",
       "    </tr>\n",
       "    <tr>\n",
       "      <th>1</th>\n",
       "      <td>+1</td>\n",
       "      <td>1.0</td>\n",
       "      <td>0</td>\n",
       "    </tr>\n",
       "    <tr>\n",
       "      <th>2</th>\n",
       "      <td>-1</td>\n",
       "      <td>0.5</td>\n",
       "      <td>0</td>\n",
       "    </tr>\n",
       "    <tr>\n",
       "      <th>3</th>\n",
       "      <td>-1</td>\n",
       "      <td>1.0</td>\n",
       "      <td>0</td>\n",
       "    </tr>\n",
       "  </tbody>\n",
       "</table>\n",
       "</div>"
      ],
      "text/plain": [
       "  Helicity    n  n⟂\n",
       "0       +1  0.5   0\n",
       "1       +1  1.0   0\n",
       "2       -1  0.5   0\n",
       "3       -1  1.0   0"
      ]
     },
     "execution_count": 4,
     "metadata": {},
     "output_type": "execute_result"
    }
   ],
   "source": [
    "qnums = get_quantum_numbers(K, Lambda_perp)\n",
    "qnums"
   ]
  },
  {
   "cell_type": "code",
   "execution_count": 5,
   "id": "9b278428-b838-4154-9d82-0fd509bf9a14",
   "metadata": {},
   "outputs": [
    {
     "data": {
      "text/latex": [
       "$|g⟩ + |q\\bar{q}⟩$"
      ],
      "text/plain": [
       "<IPython.core.display.Latex object>"
      ]
     },
     "metadata": {},
     "output_type": "display_data"
    }
   ],
   "source": [
    "pion = hadron.Hadron('meson', K)\n",
    "pion.display()"
   ]
  },
  {
   "cell_type": "code",
   "execution_count": 6,
   "id": "b0f8f099-2548-4f0e-96d6-9ff49d4897ba",
   "metadata": {},
   "outputs": [
    {
     "data": {
      "text/latex": [
       "$1.0 * |; ; (1, 1)⟩ + 1.0 * |; ; (3, 1)⟩ + 1.0 * |0; 0; ⟩ + 1.0 * |0; 2; ⟩ + 1.0 * |2; 0; ⟩ + 1.0 * |2; 2; ⟩$"
      ],
      "text/plain": [
       "<IPython.core.display.Latex object>"
      ]
     },
     "metadata": {},
     "output_type": "display_data"
    }
   ],
   "source": [
    "pion_fock = pion.get_states(K, P_perp, Lambda_perp)\n",
    "pion_fock.display()"
   ]
  },
  {
   "cell_type": "code",
   "execution_count": 7,
   "id": "d6d475b5-985f-477d-92b2-66742334f36e",
   "metadata": {},
   "outputs": [],
   "source": [
    "def pplus(n):\n",
    "    return 2 * np.pi * n / L"
   ]
  },
  {
   "cell_type": "code",
   "execution_count": 8,
   "id": "c244a27c-d760-4194-af50-59b070de3599",
   "metadata": {},
   "outputs": [],
   "source": [
    "def Coeff_iG(q1, q2, q3, q4):\n",
    "    n1, n2 = qnums.iloc[q1]['n'], qnums.iloc[q2]['n'] \n",
    "    n3, n4 = qnums.iloc[q3]['n'], qnums.iloc[q4]['n']\n",
    "\n",
    "    h1, h2 = qnums.iloc[q1]['Helicity'], qnums.iloc[q2]['Helicity'] \n",
    "    h3, h4 = qnums.iloc[q3]['Helicity'], qnums.iloc[q4]['Helicity']\n",
    "    \n",
    "    return 4/((pplus(q1) - pplus(q4))**2 + mg**2) * np.sqrt(pplus(q1) * pplus(q2) *\\\n",
    "                       pplus(q3) * pplus(q4)) * (h1 == h4) * (h2 == h3)\n",
    "    "
   ]
  },
  {
   "cell_type": "code",
   "execution_count": 14,
   "id": "0fd4043e-e217-495b-b284-4060c685a64e",
   "metadata": {},
   "outputs": [],
   "source": [
    "H_iG = op.ParticleOperatorSum([])\n",
    "\n",
    "for i in range(len(qnums)):\n",
    "    for j in range(len(qnums)):\n",
    "        for k in range(len(qnums)):\n",
    "            for l in range(len(qnums)):\n",
    "                if qnums.iloc[i]['n'] % 1 == 0.5 and qnums.iloc[j]['n'] % 1 == 0.5 and qnums.iloc[k]['n'] % 1 == 0.5 and qnums.iloc[l]['n'] % 1 == 0.5:\n",
    "                c = Coeff_iG(i, j, k, l)\n",
    "                op_st = 'b' + str(i) + '^ ' +\\\n",
    "                    'd' + str(j) + '^ ' +\\\n",
    "                    'd' + str(k) + ' ' +\\\n",
    "                    'b' + str(l)\n",
    "                H_iG += (-g**2) * Coeff_iG(i, j, k, l) * op.ParticleOperator(op_st)\n",
    "\n",
    "H_iG = H_iG.cleanup()\n"
   ]
  },
  {
   "cell_type": "code",
   "execution_count": 39,
   "id": "07391074",
   "metadata": {},
   "outputs": [],
   "source": [
    "H_free = op.ParticleOperatorSum([])\n",
    "\n",
    "for i in range(len(qnums)):\n",
    "    if qnums.iloc[i]['n'] % 1 == 0.5:\n",
    "        op_st_f = 'b' + str(i) + \"^ \" + 'b' + str(i) \n",
    "        op_st_af = 'd' + str(i) + \"^ \" + 'd' + str(i) \n",
    "        x = qnums.iloc[i]['n'] / K\n",
    "        coeff = mq**2 / x\n",
    "        H_free += coeff * op.ParticleOperator(op_st_f) + coeff * op.ParticleOperator(op_st_af)\n",
    "\n",
    "H_free = H_free.cleanup()"
   ]
  },
  {
   "cell_type": "code",
   "execution_count": 41,
   "id": "63f51163",
   "metadata": {},
   "outputs": [
    {
     "data": {
      "text/latex": [
       "$2.0*b^†_0b_0 + 2.0*d^†_0d_0 + 2.0*b^†_2b_2 + 2.0*d^†_2d_2$"
      ],
      "text/plain": [
       "<IPython.core.display.Latex object>"
      ]
     },
     "metadata": {},
     "output_type": "display_data"
    }
   ],
   "source": [
    "H_free.display()"
   ]
  },
  {
   "cell_type": "code",
   "execution_count": 15,
   "id": "3484f58a-bab3-4594-80a9-1ec9355bf798",
   "metadata": {},
   "outputs": [
    {
     "data": {
      "text/latex": [
       "$-157.91367041742976*b^†_1d^†_1d_1b_1 + -315.8273408348595*b^†_1d^†_2d_2b_1 + -386.80791593273756*b^†_1d^†_2d_3b_1 + -386.80791593273756*b^†_1d^†_3d_2b_1 + -473.7410112522892*b^†_1d^†_3d_3b_1 + -315.8273408348595*b^†_2d^†_1d_1b_2 + -9.555905068065174*b^†_2d^†_1d_1b_3 + -631.654681669719*b^†_2d^†_2d_2b_2 + -19.111810136130348*b^†_2d^†_2d_2b_3 + -773.6158318654751*b^†_2d^†_2d_3b_2 + -23.407091447235434*b^†_2d^†_2d_3b_3 + -773.6158318654751*b^†_2d^†_3d_2b_2 + -23.407091447235434*b^†_2d^†_3d_2b_3 + -947.4820225045784*b^†_2d^†_3d_3b_2 + -28.667715204195524*b^†_2d^†_3d_3b_3 + -9.555905068065176*b^†_3d^†_1d_1b_2 + -473.7410112522892*b^†_3d^†_1d_1b_3 + -19.11181013613035*b^†_3d^†_2d_2b_2 + -947.4820225045784*b^†_3d^†_2d_2b_3 + -23.407091447235434*b^†_3d^†_2d_3b_2 + -1160.4237477982126*b^†_3d^†_2d_3b_3 + -23.407091447235434*b^†_3d^†_3d_2b_2 + -1160.4237477982126*b^†_3d^†_3d_2b_3 + -28.66771520419552*b^†_3d^†_3d_3b_2 + -1421.2230337568674*b^†_3d^†_3d_3b_3$"
      ],
      "text/plain": [
       "<IPython.core.display.Latex object>"
      ]
     },
     "metadata": {},
     "output_type": "display_data"
    }
   ],
   "source": [
    "H_iG.display()"
   ]
  },
  {
   "cell_type": "markdown",
   "id": "c86d8fc7",
   "metadata": {},
   "source": [
    "$U = e^{i2\\phi H}$"
   ]
  },
  {
   "cell_type": "code",
   "execution_count": null,
   "id": "92454c34",
   "metadata": {},
   "outputs": [],
   "source": []
  },
  {
   "cell_type": "code",
   "execution_count": null,
   "id": "6bc86aba",
   "metadata": {},
   "outputs": [],
   "source": []
  }
 ],
 "metadata": {
  "kernelspec": {
   "display_name": "phd",
   "language": "python",
   "name": "python3"
  },
  "language_info": {
   "codemirror_mode": {
    "name": "ipython",
    "version": 3
   },
   "file_extension": ".py",
   "mimetype": "text/x-python",
   "name": "python",
   "nbconvert_exporter": "python",
   "pygments_lexer": "ipython3",
   "version": "3.9.18"
  }
 },
 "nbformat": 4,
 "nbformat_minor": 5
}
