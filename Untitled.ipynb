{
 "cells": [
  {
   "cell_type": "code",
   "execution_count": 19,
   "id": "f6ba1e0b-7c21-4f3d-acce-7194f32992cf",
   "metadata": {},
   "outputs": [],
   "source": [
    "from get_states import get_states\n",
    "import pandas as pd\n",
    "import numpy as np"
   ]
  },
  {
   "cell_type": "code",
   "execution_count": 16,
   "id": "618eed03-c6a5-414a-a5a1-a27b56979707",
   "metadata": {},
   "outputs": [],
   "source": [
    "q_states = get_states(100, 1)"
   ]
  },
  {
   "cell_type": "code",
   "execution_count": 17,
   "id": "ec2f5e8b-7d70-4df2-9e83-ce1c0c9e091a",
   "metadata": {},
   "outputs": [
    {
     "data": {
      "text/html": [
       "<div>\n",
       "<style scoped>\n",
       "    .dataframe tbody tr th:only-of-type {\n",
       "        vertical-align: middle;\n",
       "    }\n",
       "\n",
       "    .dataframe tbody tr th {\n",
       "        vertical-align: top;\n",
       "    }\n",
       "\n",
       "    .dataframe thead th {\n",
       "        text-align: right;\n",
       "    }\n",
       "</style>\n",
       "<table border=\"1\" class=\"dataframe\">\n",
       "  <thead>\n",
       "    <tr style=\"text-align: right;\">\n",
       "      <th></th>\n",
       "      <th>Color</th>\n",
       "      <th>Helicity</th>\n",
       "      <th>Flavor</th>\n",
       "      <th>n</th>\n",
       "      <th>n⟂</th>\n",
       "    </tr>\n",
       "  </thead>\n",
       "  <tbody>\n",
       "    <tr>\n",
       "      <th>0</th>\n",
       "      <td>r</td>\n",
       "      <td>+1</td>\n",
       "      <td>u</td>\n",
       "      <td>1</td>\n",
       "      <td>-1</td>\n",
       "    </tr>\n",
       "    <tr>\n",
       "      <th>1</th>\n",
       "      <td>r</td>\n",
       "      <td>+1</td>\n",
       "      <td>u</td>\n",
       "      <td>1</td>\n",
       "      <td>1</td>\n",
       "    </tr>\n",
       "    <tr>\n",
       "      <th>2</th>\n",
       "      <td>r</td>\n",
       "      <td>+1</td>\n",
       "      <td>u</td>\n",
       "      <td>2</td>\n",
       "      <td>-1</td>\n",
       "    </tr>\n",
       "    <tr>\n",
       "      <th>3</th>\n",
       "      <td>r</td>\n",
       "      <td>+1</td>\n",
       "      <td>u</td>\n",
       "      <td>2</td>\n",
       "      <td>1</td>\n",
       "    </tr>\n",
       "    <tr>\n",
       "      <th>4</th>\n",
       "      <td>r</td>\n",
       "      <td>+1</td>\n",
       "      <td>u</td>\n",
       "      <td>3</td>\n",
       "      <td>-1</td>\n",
       "    </tr>\n",
       "    <tr>\n",
       "      <th>...</th>\n",
       "      <td>...</td>\n",
       "      <td>...</td>\n",
       "      <td>...</td>\n",
       "      <td>...</td>\n",
       "      <td>...</td>\n",
       "    </tr>\n",
       "    <tr>\n",
       "      <th>7123</th>\n",
       "      <td>b</td>\n",
       "      <td>-1</td>\n",
       "      <td>c</td>\n",
       "      <td>97</td>\n",
       "      <td>1</td>\n",
       "    </tr>\n",
       "    <tr>\n",
       "      <th>7124</th>\n",
       "      <td>b</td>\n",
       "      <td>-1</td>\n",
       "      <td>c</td>\n",
       "      <td>98</td>\n",
       "      <td>-1</td>\n",
       "    </tr>\n",
       "    <tr>\n",
       "      <th>7125</th>\n",
       "      <td>b</td>\n",
       "      <td>-1</td>\n",
       "      <td>c</td>\n",
       "      <td>98</td>\n",
       "      <td>1</td>\n",
       "    </tr>\n",
       "    <tr>\n",
       "      <th>7126</th>\n",
       "      <td>b</td>\n",
       "      <td>-1</td>\n",
       "      <td>c</td>\n",
       "      <td>99</td>\n",
       "      <td>-1</td>\n",
       "    </tr>\n",
       "    <tr>\n",
       "      <th>7127</th>\n",
       "      <td>b</td>\n",
       "      <td>-1</td>\n",
       "      <td>c</td>\n",
       "      <td>99</td>\n",
       "      <td>1</td>\n",
       "    </tr>\n",
       "  </tbody>\n",
       "</table>\n",
       "<p>7128 rows × 5 columns</p>\n",
       "</div>"
      ],
      "text/plain": [
       "     Color Helicity Flavor   n  n⟂\n",
       "0        r       +1      u   1  -1\n",
       "1        r       +1      u   1   1\n",
       "2        r       +1      u   2  -1\n",
       "3        r       +1      u   2   1\n",
       "4        r       +1      u   3  -1\n",
       "...    ...      ...    ...  ..  ..\n",
       "7123     b       -1      c  97   1\n",
       "7124     b       -1      c  98  -1\n",
       "7125     b       -1      c  98   1\n",
       "7126     b       -1      c  99  -1\n",
       "7127     b       -1      c  99   1\n",
       "\n",
       "[7128 rows x 5 columns]"
      ]
     },
     "execution_count": 17,
     "metadata": {},
     "output_type": "execute_result"
    }
   ],
   "source": [
    "df = pd.DataFrame(q_states, columns = ['Color', 'Helicity', 'Flavor', 'n', 'n⟂'])\n",
    "df"
   ]
  },
  {
   "cell_type": "code",
   "execution_count": 20,
   "id": "e99bc56e-a562-4ef3-bb55-f6ea39075ed1",
   "metadata": {},
   "outputs": [
    {
     "data": {
      "text/plain": [
       "12.799079209029006"
      ]
     },
     "execution_count": 20,
     "metadata": {},
     "output_type": "execute_result"
    }
   ],
   "source": [
    "np.log2(7127)"
   ]
  },
  {
   "cell_type": "code",
   "execution_count": null,
   "id": "42791dc0-5889-43d7-9671-d954ea1c70b2",
   "metadata": {},
   "outputs": [],
   "source": []
  }
 ],
 "metadata": {
  "kernelspec": {
   "display_name": "Python 3 (ipykernel)",
   "language": "python",
   "name": "python3"
  },
  "language_info": {
   "codemirror_mode": {
    "name": "ipython",
    "version": 3
   },
   "file_extension": ".py",
   "mimetype": "text/x-python",
   "name": "python",
   "nbconvert_exporter": "python",
   "pygments_lexer": "ipython3",
   "version": "3.11.5"
  }
 },
 "nbformat": 4,
 "nbformat_minor": 5
}
