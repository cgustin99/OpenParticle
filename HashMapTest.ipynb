{
 "cells": [
  {
   "cell_type": "code",
   "execution_count": 19,
   "metadata": {},
   "outputs": [],
   "source": [
    "#Imports\n",
    "from openparticle import Fock, ParticleOperator\n",
    "from openparticle.qubit_mappings import *\n",
    "from openparticle import FermionOperator, AntifermionOperator, BosonOperator\n",
    "from openparticle import ConjugateFock"
   ]
  },
  {
   "cell_type": "code",
   "execution_count": 20,
   "metadata": {},
   "outputs": [
    {
     "name": "stdout",
     "output_type": "stream",
     "text": [
      "testSum1:  1.0 * a0^ a0^ a0^ a0 + 2.0 * a0 a0 a0 a0 + 1.0 * a0^ a0^ a0^ a0^ \n",
      "testSum2:  1.0 * a0^ a0^ a0^ a0 + 2.0 * a0 a0 a0 a0 + 1.0 * a0^ a0^ a0^ a0^ \n",
      "SumTest:  2.0 * a0^ a0^ a0^ a0 + 4.0 * a0 a0 a0 a0 + 2.0 * a0^ a0^ a0^ a0^ \n",
      "testSum3:  2.0 * a0 a0^ a0 a0^ + 5.0 * a0 a0 a0 a0 + 2.0 * a0^ a0^ a0^ a0 + 2.0 * a0^ a0^ a0^ a0^ \n",
      "adding a sum to an operator 2.0 * a0^ a0^ a0^ a0 + 4.0 * a0 a0 a0 a0 + 3.0 * a0^ a0^ a0^ a0^ \n",
      "adding an operator to a sum 2.0 * a0^ a0^ a0^ a0 + 4.0 * a0 a0 a0 a0 + 4.0 * a0^ a0^ a0^ a0^ \n"
     ]
    }
   ],
   "source": [
    "# adding operators test\n",
    "testSum1 = ParticleOperator('a0^ a0^ a0^ a0') + ParticleOperator('a0 a0 a0 a0') + ParticleOperator('a0 a0 a0 a0') + ParticleOperator('a0^ a0^ a0^ a0^')\n",
    "print(\"testSum1: \", testSum1)\n",
    "\n",
    "# adding operators test\n",
    "testSum2 = ParticleOperator('a0^ a0^ a0^ a0') + ParticleOperator('a0 a0 a0 a0') + ParticleOperator('a0 a0 a0 a0') + ParticleOperator('a0^ a0^ a0^ a0^')\n",
    "print(\"testSum2: \", testSum2)\n",
    "\n",
    "# adding two operators sum test\n",
    "SumTest = testSum1+ testSum2\n",
    "\n",
    "print(\"SumTest: \", SumTest)\n",
    "\n",
    "# adding two operators sum test\n",
    "testSum3 = ParticleOperator('a0 a0^ a0 a0^') + ParticleOperator('a0 a0^ a0 a0^') + ParticleOperator('a0 a0 a0 a0') + SumTest\n",
    "print(\"testSum3: \", testSum3)\n",
    "\n",
    "# adding a sum to an operator test\n",
    "print(\"adding a sum to an operator\", ParticleOperator('a0^ a0^ a0^ a0^') + SumTest)\n",
    "\n",
    "# adding an operator to a sum test\n",
    "print(\"adding an operator to a sum\", SumTest + ParticleOperator('a0^ a0^ a0^ a0^'))"
   ]
  },
  {
   "cell_type": "markdown",
   "metadata": {},
   "source": [
    "Here we found that instead of getting the same result, the coeff of a^a^a^a^ increased, this is because they share the same hashTable, so whenever you are adding new operators to the sum, the coeff will get updated..\n",
    "\n",
    "We are not sure if this is something you want to have, but this is what's happening rn"
   ]
  },
  {
   "cell_type": "code",
   "execution_count": 22,
   "metadata": {},
   "outputs": [
    {
     "name": "stdout",
     "output_type": "stream",
     "text": [
      "testSum4:  2.0 * a0^ a0^ a0^ a0 + 4.0 * a0 a0 a0 a0 + 4.0 * a0^ a0^ a0^ a0^ \n",
      "testSum5:  1.0 * a0^ a0^ a0^ a0 + 2.0 * a0 a0 a0 a0 + 1.0 * a0^ a0^ a0^ a0^ \n",
      "newSum:  3.0 * a0^ a0^ a0^ a0 + 6.0 * a0 a0 a0 a0 + 3.0 * a0^ a0^ a0^ a0^ \n",
      "anotherNewSum:  3.0 * a0^ a0^ a0^ a0 + 6.0 * a0 a0 a0 a0 + 3.0 * a0^ a0^ a0^ a0^ \n"
     ]
    }
   ],
   "source": [
    "testSum4 = ParticleOperator('a0^ a0^ a0^ a0') + ParticleOperator('a0 a0 a0 a0') + ParticleOperator('a0 a0 a0 a0') + ParticleOperator('a0^ a0^ a0^ a0^')\n",
    "print(\"testSum4: \", testSum1)\n",
    "testSum5 = ParticleOperator('a0^ a0^ a0^ a0') + ParticleOperator('a0 a0 a0 a0') + ParticleOperator('a0 a0 a0 a0') + ParticleOperator('a0^ a0^ a0^ a0^')\n",
    "print(\"testSum5: \", testSum2)\n",
    "\n",
    "\n",
    "newSum = testSum4 + testSum5\n",
    "anotherNewSum = testSum4 + testSum5\n",
    "\n",
    "print(\"newSum: \", newSum)\n",
    "print(\"anotherNewSum: \", anotherNewSum)\n",
    "\n",
    "newSum += newSum"
   ]
  },
  {
   "cell_type": "code",
   "execution_count": null,
   "metadata": {},
   "outputs": [],
   "source": []
  },
  {
   "cell_type": "code",
   "execution_count": null,
   "metadata": {},
   "outputs": [],
   "source": []
  },
  {
   "cell_type": "code",
   "execution_count": null,
   "metadata": {},
   "outputs": [],
   "source": []
  },
  {
   "cell_type": "code",
   "execution_count": null,
   "metadata": {},
   "outputs": [],
   "source": []
  },
  {
   "cell_type": "code",
   "execution_count": null,
   "metadata": {},
   "outputs": [],
   "source": []
  },
  {
   "cell_type": "code",
   "execution_count": null,
   "metadata": {},
   "outputs": [],
   "source": []
  },
  {
   "cell_type": "code",
   "execution_count": null,
   "metadata": {},
   "outputs": [],
   "source": []
  },
  {
   "cell_type": "code",
   "execution_count": null,
   "metadata": {},
   "outputs": [],
   "source": [
    "\n"
   ]
  }
 ],
 "metadata": {
  "kernelspec": {
   "display_name": "oppenv",
   "language": "python",
   "name": "python3"
  },
  "language_info": {
   "codemirror_mode": {
    "name": "ipython",
    "version": 3
   },
   "file_extension": ".py",
   "mimetype": "text/x-python",
   "name": "python",
   "nbconvert_exporter": "python",
   "pygments_lexer": "ipython3",
   "version": "3.9.6"
  }
 },
 "nbformat": 4,
 "nbformat_minor": 2
}
