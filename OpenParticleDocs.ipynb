{
 "cells": [
  {
   "cell_type": "markdown",
   "metadata": {},
   "source": [
    "# OpenParticle"
   ]
  },
  {
   "cell_type": "markdown",
   "metadata": {},
   "source": [
    "The main classes of this 'package' are `FockState` and `ParticleOperator`. Their functionality is as follows."
   ]
  },
  {
   "cell_type": "code",
   "execution_count": 1,
   "metadata": {},
   "outputs": [],
   "source": [
    "#Imports\n",
    "from FockState import *\n",
    "from ParticleOperator import *"
   ]
  },
  {
   "cell_type": "markdown",
   "metadata": {},
   "source": [
    "## `FockState` Class"
   ]
  },
  {
   "cell_type": "markdown",
   "metadata": {},
   "source": [
    "A Fock state in second quantization is a quantum state given by an occupancy representation of some particular mode(s). In quantum field theory, we work mainly in momentum space, so these modes represent the occupied momentum of some particle. For example, for a particle with potential momentum modes $p \\in \\{0, 1, 2, 3, \\dots, N\\}$, the corresponding Fock state vector for a particle in momentum mode $2$ would be $|0, 0, 1, 0, \\dots, 0 \\rangle$"
   ]
  },
  {
   "cell_type": "markdown",
   "metadata": {},
   "source": [
    "In general, we are interested in hadrons, or bound states of Quantum Chromodynamics (QCD). Because of this, we need a representation of our hadronic states in terms of fermions (quarks), antifermions (antiquarks), and bosons (gluons). The way this Fock state is written is: $|f;\\bar{f}; b\\rangle = |f\\rangle \\otimes |\\bar{f}\\rangle\\otimes |b\\rangle$, where each particle type has its own representation as shown above. Fermions and antifermions obey fermi statistics such that the occupancy of fermions in a particular mode, $n^{f, \\bar{f}}_i \\in \\{0, 1\\}$, while gluons obey bose statistics with occupancies in a given mode, $n^b_i \\in \\{0, 1, 2, 3, \\cdots \\}$"
   ]
  },
  {
   "cell_type": "markdown",
   "metadata": {},
   "source": [
    "To define your Fock state, you need to pass in a vector corresponding to occupied fermion modes, occupied antifermion modes, and occupied bosonic modes designated how many bosons exist in each mode. The four parameters to pass when instantiating the class are `ferm_occupancy`, `antiferm_occupancy`, `bos_occupancy`, and `coeff`. The first three are lists of length $N$ where each non-zero entry denotes a particle of the particular type to have the corresponding momentum orbital occupied, with the non-zero number representing the occupancy number. `coeff` is a parameter specifying the coefficient in front of the Fock state. "
   ]
  },
  {
   "cell_type": "code",
   "execution_count": 2,
   "metadata": {},
   "outputs": [
    {
     "name": "stdout",
     "output_type": "stream",
     "text": [
      "1.0 * |1,0,0; 0,0,1; 4,0,0⟩\n"
     ]
    }
   ],
   "source": [
    "#e.g. N = 3\n",
    "\n",
    "f_occ = [1, 0, 0]\n",
    "af_occ = [0, 0, 1]\n",
    "b_occ = [4, 0, 0]\n",
    "\n",
    "x = FockState(ferm_occupancy = f_occ, antiferm_occupancy = af_occ,\n",
    "              bos_occupancy = b_occ, coeff = 1.0)\n",
    "\n",
    "print(x)"
   ]
  },
  {
   "cell_type": "markdown",
   "metadata": {},
   "source": [
    "### `FockState` Methods:"
   ]
  },
  {
   "cell_type": "markdown",
   "metadata": {},
   "source": [
    "- `compact_state()`:\n",
    "\n",
    "We can also print a more compact encoding, which will be useful when N is very large. The `.compact_state()` method will accomplish this. For fermions and antifermions, the values in the compact encoding correspond to the occupied modes while for bosons, it returns a tuple $(i, n^b_i)$ in order to display information about how many bosons are in each mode. "
   ]
  },
  {
   "cell_type": "code",
   "execution_count": 3,
   "metadata": {},
   "outputs": [
    {
     "data": {
      "text/plain": [
       "'|0; 2; (0, 4)⟩'"
      ]
     },
     "execution_count": 3,
     "metadata": {},
     "output_type": "execute_result"
    }
   ],
   "source": [
    "x.compact_state()"
   ]
  },
  {
   "cell_type": "markdown",
   "metadata": {},
   "source": [
    "- `dagger()`: \n",
    "\n",
    "Returns the bra corresponding to the Fock state ket."
   ]
  },
  {
   "cell_type": "code",
   "execution_count": 4,
   "metadata": {},
   "outputs": [
    {
     "name": "stdout",
     "output_type": "stream",
     "text": [
      "1.0 * ⟨1,0,0; 0,0,1; 4,0,0|\n"
     ]
    }
   ],
   "source": [
    "print(x.dagger())"
   ]
  },
  {
   "cell_type": "markdown",
   "metadata": {},
   "source": [
    "### Related Classes to FockState"
   ]
  },
  {
   "cell_type": "markdown",
   "metadata": {},
   "source": [
    "### `FockStateSum`"
   ]
  },
  {
   "cell_type": "markdown",
   "metadata": {},
   "source": [
    "You can add Fock states the same way that you add kets. Note that you need to make sure the number of modes is the same for each state. "
   ]
  },
  {
   "cell_type": "code",
   "execution_count": 5,
   "metadata": {},
   "outputs": [
    {
     "name": "stdout",
     "output_type": "stream",
     "text": [
      "1 * |1; 0; 0⟩ + 1 * |0; 1; 1⟩\n"
     ]
    }
   ],
   "source": [
    "state_1 = FockState([1], [0], [0], 1)\n",
    "state_2 = FockState([0], [1], [1], 1)\n",
    "state = state_1 + state_2\n",
    "print(state)"
   ]
  },
  {
   "cell_type": "markdown",
   "metadata": {},
   "source": [
    "### `ConjugateFockState`"
   ]
  },
  {
   "cell_type": "markdown",
   "metadata": {},
   "source": [
    "`ConjugateFockState` is instantiated in two ways. The first is identical to how `FockState` is instantiated. The second is via the method `.from_state(state: FockState)`, which essentially turns a ket into a bra. "
   ]
  },
  {
   "cell_type": "code",
   "execution_count": 6,
   "metadata": {},
   "outputs": [
    {
     "name": "stdout",
     "output_type": "stream",
     "text": [
      "1 * ⟨1,0,0; 0,0,1; 4,0,0|\n",
      "1.0 * ⟨1,0,0; 0,0,1; 4,0,0|\n"
     ]
    }
   ],
   "source": [
    "y = ConjugateFockState([1, 0, 0], [0, 0, 1], [4, 0, 0], 1)\n",
    "z = ConjugateFockState.from_state(x)\n",
    "print(y)\n",
    "print(z)"
   ]
  },
  {
   "cell_type": "markdown",
   "metadata": {},
   "source": [
    "With the `ConjugateFockState` class defined, we can now take inner products via `*` or with `conj_state.inner_product(state)`"
   ]
  },
  {
   "cell_type": "code",
   "execution_count": 9,
   "metadata": {},
   "outputs": [
    {
     "name": "stdout",
     "output_type": "stream",
     "text": [
      "1.0\n",
      "1.0\n"
     ]
    }
   ],
   "source": [
    "print(y * z)\n",
    "print(y.inner_product(z))"
   ]
  },
  {
   "cell_type": "markdown",
   "metadata": {},
   "source": [
    "## `ParticleOperator` Class"
   ]
  },
  {
   "cell_type": "markdown",
   "metadata": {},
   "source": []
  }
 ],
 "metadata": {
  "kernelspec": {
   "display_name": "phd",
   "language": "python",
   "name": "python3"
  },
  "language_info": {
   "codemirror_mode": {
    "name": "ipython",
    "version": 3
   },
   "file_extension": ".py",
   "mimetype": "text/x-python",
   "name": "python",
   "nbconvert_exporter": "python",
   "pygments_lexer": "ipython3",
   "version": "3.9.18"
  },
  "orig_nbformat": 4
 },
 "nbformat": 4,
 "nbformat_minor": 2
}
