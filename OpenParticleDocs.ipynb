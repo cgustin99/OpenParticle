{
 "cells": [
  {
   "cell_type": "markdown",
   "metadata": {},
   "source": [
    "# OpenParticle"
   ]
  },
  {
   "cell_type": "markdown",
   "metadata": {},
   "source": [
    "The main classes of this 'package' are `FockState` and `ParticleOperator`. Their functionality is as follows."
   ]
  },
  {
   "cell_type": "code",
   "execution_count": 7,
   "metadata": {},
   "outputs": [],
   "source": [
    "#Imports\n",
    "from openparticle import FockState, ParticleOperator\n",
    "from openparticle.qubit_mappings import *\n",
    "import symmer"
   ]
  },
  {
   "cell_type": "markdown",
   "metadata": {},
   "source": [
    "## `FockState` Class"
   ]
  },
  {
   "cell_type": "markdown",
   "metadata": {},
   "source": [
    "A Fock state in second quantization is a quantum state given by an occupancy representation of some particular mode(s). In quantum field theory, we work mainly in momentum space, so these modes represent the occupied momentum of some particle. For example, for a particle with potential momentum modes $p \\in \\{0, 1, 2, 3, \\dots, N\\}$, the corresponding Fock state vector for a particle in momentum mode $2$ would be $|f_{N - 1}, \\dots, f_1, f_0 \\rangle = |0,  \\dots, 0, 1, 0, 0  \\rangle$. This is a 'direct encoding' meaning all unoccupied modes are also displayed. A more efficient way to write this state is by only showing occupied orbitals. This same state would be written as $|2\\rangle$. This notation is utilized in this package."
   ]
  },
  {
   "cell_type": "markdown",
   "metadata": {},
   "source": [
    "In general, we are interested in hadrons, or bound states of Quantum Chromodynamics (QCD). Because of this, we need a representation of our hadronic states in terms of fermions (quarks), antifermions (antiquarks), and bosons (gluons). The way this Fock state is written is: $|f;\\bar{f}; b\\rangle = |f\\rangle \\otimes |\\bar{f}\\rangle\\otimes |b\\rangle$, where each particle type has its own representation as shown above. Fermions and antifermions obey fermi statistics such that the occupancy of fermions in a particular mode, $n^{f, \\bar{f}}_i \\in \\{0, 1\\}$, while gluons obey bose statistics with occupancies in a given mode, $n^b_i \\in \\{0, 1, 2, 3, \\cdots \\}$"
   ]
  },
  {
   "cell_type": "markdown",
   "metadata": {},
   "source": [
    "To define your Fock state, you need to pass in a vector corresponding to occupied fermion modes, occupied antifermion modes, and occupied bosonic modes designated how many bosons exist in each mode. The four parameters to pass when instantiating the class are `f_occ`, `af_occ`, `b_occ`, and an optional `coeff`. The first three are lists corresponding to occupied fermionic, antifermionic, and bosonic modes respectively (note that `b_occ` is a list of tuples where the first value in each tuple is the mode, followed by the number of bosons in this state). `coeff` is a parameter specifying the coefficient in front of the Fock state and is set initially to one. "
   ]
  },
  {
   "cell_type": "code",
   "execution_count": 3,
   "metadata": {},
   "outputs": [
    {
     "name": "stdout",
     "output_type": "stream",
     "text": [
      "|2; 1,3; (0, 3)⟩\n"
     ]
    }
   ],
   "source": [
    "#An example state\n",
    "\n",
    "f_occ = [2] #One fermion in mode 2\n",
    "af_occ = [1, 3] #One antifermion in mode 1, one in mode 3\n",
    "b_occ = [(0, 3)] #Three bosons in mode 0\n",
    "\n",
    "x = FockState(f_occ = f_occ, af_occ = af_occ, b_occ = b_occ)\n",
    "\n",
    "print(x)"
   ]
  },
  {
   "cell_type": "markdown",
   "metadata": {},
   "source": [
    "### `FockState` Methods:"
   ]
  },
  {
   "cell_type": "markdown",
   "metadata": {},
   "source": [
    "- `dagger()`: \n",
    "\n",
    "Returns the bra corresponding to the Fock state ket."
   ]
  },
  {
   "cell_type": "code",
   "execution_count": 4,
   "metadata": {},
   "outputs": [
    {
     "name": "stdout",
     "output_type": "stream",
     "text": [
      "1.0 * ⟨2; 1,3; (0, 3)|\n"
     ]
    }
   ],
   "source": [
    "print(x.dagger())"
   ]
  },
  {
   "cell_type": "markdown",
   "metadata": {},
   "source": [
    "- display():\n",
    "\n",
    "Displays the `FockState` with Latex"
   ]
  },
  {
   "cell_type": "code",
   "execution_count": 7,
   "metadata": {},
   "outputs": [
    {
     "data": {
      "text/latex": [
       "$|2; 1,3; (0, 3)⟩$"
      ],
      "text/plain": [
       "<IPython.core.display.Latex object>"
      ]
     },
     "metadata": {},
     "output_type": "display_data"
    }
   ],
   "source": [
    "x.display()"
   ]
  },
  {
   "cell_type": "markdown",
   "metadata": {},
   "source": [
    "### Related Classes to FockState"
   ]
  },
  {
   "cell_type": "markdown",
   "metadata": {},
   "source": [
    "### `FockStateSum`"
   ]
  },
  {
   "cell_type": "markdown",
   "metadata": {},
   "source": [
    "You can add Fock states the same way that you add kets. Note that you need to make sure the number of modes is the same for each state. "
   ]
  },
  {
   "cell_type": "code",
   "execution_count": 5,
   "metadata": {},
   "outputs": [
    {
     "name": "stdout",
     "output_type": "stream",
     "text": [
      "|1; 0; (0, 2)⟩ + |0; 1; (0, 1),(1, 1)⟩\n"
     ]
    }
   ],
   "source": [
    "state_1 = FockState([1], [0], [(0, 2)])\n",
    "state_2 = FockState([0], [1], [(0,1), (1, 1)])\n",
    "state = state_1 + state_2\n",
    "print(state)"
   ]
  },
  {
   "cell_type": "markdown",
   "metadata": {},
   "source": [
    "### `ConjugateFockState`"
   ]
  },
  {
   "cell_type": "markdown",
   "metadata": {},
   "source": [
    "`ConjugateFockState` is instantiated in two ways. The first is identical to how `FockState` is instantiated. The second is via the method `.from_state(state: FockState)`, which essentially turns a ket into a bra. "
   ]
  },
  {
   "cell_type": "code",
   "execution_count": 9,
   "metadata": {},
   "outputs": [
    {
     "name": "stdout",
     "output_type": "stream",
     "text": [
      "1.0 * ⟨2; 1,3; (0, 3)|\n",
      "1.0 * ⟨2; 1,3; (0, 3)|\n"
     ]
    }
   ],
   "source": [
    "from openparticle import ConjugateFockState\n",
    "\n",
    "y = ConjugateFockState([2], [1, 3], [(0, 3)])\n",
    "z = ConjugateFockState.from_state(x)\n",
    "print(y)\n",
    "print(z)"
   ]
  },
  {
   "cell_type": "markdown",
   "metadata": {},
   "source": [
    "With the `ConjugateFockState` class defined, we can now take inner products via `*` or with `conj_state.inner_product(state)`"
   ]
  },
  {
   "cell_type": "code",
   "execution_count": 10,
   "metadata": {},
   "outputs": [
    {
     "name": "stdout",
     "output_type": "stream",
     "text": [
      "1.0\n",
      "1.0\n"
     ]
    }
   ],
   "source": [
    "print(y * z)\n",
    "print(y.inner_product(z))"
   ]
  },
  {
   "cell_type": "markdown",
   "metadata": {},
   "source": [
    "## `ParticleOperator` Class"
   ]
  },
  {
   "cell_type": "markdown",
   "metadata": {},
   "source": [
    "The `ParticleOperator` class allows you to define products of fermionic/bosonic creation/annihilation operators that act on Fock states to increase/decrease occupancy numbers. The products of operators that can be created come from the set $\\{b_p, b_p^\\dagger, d_p, d_p^\\dagger, a_p, a_p^\\dagger  \\}$. For example, the operator $b_1^\\dagger b_2 a_2$ acts on a Fock state to create a fermion with momentum $p = 1$, annihilate a fermion with momentum $p = 2$ and annihilate a boson with momentum $p = 2$."
   ]
  },
  {
   "cell_type": "markdown",
   "metadata": {},
   "source": [
    "To instantiate an object of the `ParticleOperator` class, you specify a string of operators that are in the product. Each operator in a product has a type of particle, a mode, and whether it is a creation or annihilation operator(`^` corresponds to creation, the absence of this character corresponds to annihilation). The operators in the product are separated by spaces. For example, to instantiate the operator above:"
   ]
  },
  {
   "cell_type": "code",
   "execution_count": 3,
   "metadata": {},
   "outputs": [
    {
     "name": "stdout",
     "output_type": "stream",
     "text": [
      "1.0*b^†_1b_2a_2\n"
     ]
    }
   ],
   "source": [
    "op = ParticleOperator('b1^ b2 a2')\n",
    "print(op)"
   ]
  },
  {
   "cell_type": "markdown",
   "metadata": {},
   "source": [
    "- `.display()`:"
   ]
  },
  {
   "cell_type": "markdown",
   "metadata": {},
   "source": [
    "Using a `Jupyter Notebook`, we can also print the operator with Latex via the `.display()` method:"
   ]
  },
  {
   "cell_type": "code",
   "execution_count": 4,
   "metadata": {},
   "outputs": [
    {
     "data": {
      "text/latex": [
       "$1.0*b^†_1b_2a_2$"
      ],
      "text/plain": [
       "<IPython.core.display.Latex object>"
      ]
     },
     "metadata": {},
     "output_type": "display_data"
    }
   ],
   "source": [
    "op.display()"
   ]
  },
  {
   "cell_type": "markdown",
   "metadata": {},
   "source": [
    "There are three child classes of `ParticleOperator`."
   ]
  },
  {
   "cell_type": "markdown",
   "metadata": {},
   "source": [
    "### `FermionOperator`, `AntifermionOperator`, and `BosonOperator`"
   ]
  },
  {
   "cell_type": "markdown",
   "metadata": {},
   "source": [
    "These three classes operator similarly to the `ParticleOperator` class; however, they are just single operators by themselves. Thus, we only need to specify the mode and if it is a creation or annihilation operator. Once these operators are defined, products can be taken which return an instance of the `ParticleOperator` class. "
   ]
  },
  {
   "cell_type": "code",
   "execution_count": 8,
   "metadata": {},
   "outputs": [],
   "source": [
    "from openparticle import FermionOperator, AntifermionOperator, BosonOperator"
   ]
  },
  {
   "cell_type": "code",
   "execution_count": 9,
   "metadata": {},
   "outputs": [
    {
     "data": {
      "text/latex": [
       "$1.0*b^†_1b_2a_2$"
      ],
      "text/plain": [
       "<IPython.core.display.Latex object>"
      ]
     },
     "metadata": {},
     "output_type": "display_data"
    }
   ],
   "source": [
    "op_1 = FermionOperator('1^')\n",
    "op_2 = FermionOperator('2')\n",
    "op_3 = BosonOperator('2')\n",
    "\n",
    "(op_1 * op_2 * op_3).display()\n"
   ]
  },
  {
   "cell_type": "markdown",
   "metadata": {},
   "source": [
    "### `ParticleOperatorSum` Class"
   ]
  },
  {
   "cell_type": "code",
   "execution_count": 11,
   "metadata": {},
   "outputs": [
    {
     "data": {
      "text/latex": [
       "$1.0*b^†_1b^†_2a_0 + 1.0*b_1d_0a_1$"
      ],
      "text/plain": [
       "<IPython.core.display.Latex object>"
      ]
     },
     "metadata": {},
     "output_type": "display_data"
    }
   ],
   "source": [
    "op_to_sum1 = ParticleOperator('b1^ b2^ a0')\n",
    "op_to_sum2 = ParticleOperator('b1 d0 a1')\n",
    "(op_to_sum1 + op_to_sum2).display()"
   ]
  },
  {
   "cell_type": "markdown",
   "metadata": {},
   "source": [
    "The last import piece of functionality to mention before diving into the qubit mapping section is the ability to act with operators on fock states to produce new states: $\\text{op}|\\text{Fock state} \\rangle = |\\text{New Fock state} \\rangle$"
   ]
  },
  {
   "cell_type": "markdown",
   "metadata": {},
   "source": [
    "## Mapping Creation/Annihilation Operators to Qubit Operators"
   ]
  },
  {
   "cell_type": "markdown",
   "metadata": {},
   "source": [
    "In order to transform creation and annihilation operators to operators that act on qubits, we need to define a suitable map that respects commutation relations for the particle they represent (i.e. $[a_p, a_q^\n",
    "\\dagger] = \\delta_{p,q}$ for bosons and $\\{b_p, b_q^\\dagger \\} = \\delta_{p,q}$). The canonical way to accomplish this is via the Jordan Wigner transformation for fermions ([McArdle](https://arxiv.org/pdf/1808.10402.pdf)), and the folliwing encoding to be referred to as the unary transformation for bosons ([Somma](https://arxiv.org/pdf/quant-ph/0512209.pdf)). While these are not the only mappings, they are the only currently available for OpenParticle."
   ]
  },
  {
   "cell_type": "markdown",
   "metadata": {},
   "source": [
    "- Jordan Wigner Encoding"
   ]
  },
  {
   "cell_type": "markdown",
   "metadata": {},
   "source": [
    "The Jordan Wigner encoding mapps Fock states to qubit states via: $|f_N,  \\dots, f_1, f_0 \\rangle \\rightarrow |q_N, \\dots, q_1, q_0 \\rangle$ (note the reversed ordering! This is common notation), where $q_p = f_q \\in \\{0, 1\\}$. The corresponding map for the creation and annihilation operators that respect fermi statistics and commutation relations are: "
   ]
  },
  {
   "cell_type": "markdown",
   "metadata": {},
   "source": [
    "\\begin{align}\n",
    "b_p = \\frac{1}{2}(X_p - iY_p) \\otimes Z_{p - 1} \\otimes \\dots \\otimes Z_0\\\\\n",
    "b_p^\\dagger = \\frac{1}{2}(X_p + iY_p) \\otimes Z_{p - 1} \\otimes \\dots \\otimes Z_0\n",
    "\n",
    "\\end{align}"
   ]
  },
  {
   "cell_type": "markdown",
   "metadata": {},
   "source": [
    "- unary Encoding"
   ]
  },
  {
   "cell_type": "markdown",
   "metadata": {},
   "source": [
    "We need an alternative mapping for bosons, not just because of the different commutation relations, but also because bosons obey bose statistics, so the occupancy numbers for a given mode can be $f_q \\in \\{0, 1, 2, \\dots \\}$. The qubit requirement to map bosonic Fock states to qubit states is greater than that of fermions in general due to these statistics. In order to encode a bosonic system, we first must not only cut off the total number of modes $N$ (just like we do for fermions), but we also must cut off the total number of bosons that can exist in each mode via $N_p^{\\text{max}}$. We implicitly assume that each mode has the same cutoff so that the universal cutoff for all modes is $N^\\text{max}$."
   ]
  },
  {
   "cell_type": "markdown",
   "metadata": {},
   "source": [
    "For each mode $j \\in \\{0, N\\}$, $N^\\text{max}$ qubits are needed to encode the occupation number (in a one-hot encoding scheme). For example, if in mode $j = 2$ with $N^\\text{max} = 5$, there are 3 bosons that exist in this mode, the Fock state would be encoded as $|1_01_11_20_31_41_5\\rangle_2$, where the 2 designates the mode and there is a 0 in position 3 (from left to right it goes 0, 1, 2, etc.) which shows there are 3 bosons in this state $j = 2$ mode. To get the complete state of all $N$ modes, you would have to tensor product the kets between each mode.  "
   ]
  },
  {
   "cell_type": "markdown",
   "metadata": {},
   "source": [
    "The mapping from bosonic operator to qubit operator is:"
   ]
  },
  {
   "cell_type": "markdown",
   "metadata": {},
   "source": [
    "\\begin{align}\n",
    "\n",
    "a_p^\\dagger = \\sum_{n = 0}^{N^\\text{max} - 1} \\sqrt{n + 1}\\sigma_-^{n,j}\\sigma_+^{n + 1, j}\\\\\n",
    "a_p = \\sum_{n = 0}^{N^\\text{max} - 1} \\sqrt{n + 1}\\sigma_+^{n,j}\\sigma_-^{n + 1, j}\n",
    "\n",
    "\\end{align}"
   ]
  },
  {
   "cell_type": "markdown",
   "metadata": {},
   "source": [
    "### `jordan_wigner()`, `unary()`, and `qubit_op_mapping()` Functions"
   ]
  },
  {
   "cell_type": "markdown",
   "metadata": {},
   "source": [
    "- `jordan_wigner()`:\n",
    "\n",
    "The `jordan_wigner()` function takes in as a parameter, a single fermionic creation or annihilation operator, as well as a total number of fermionic modes $N$, and returns the qubit state:"
   ]
  },
  {
   "cell_type": "code",
   "execution_count": 12,
   "metadata": {},
   "outputs": [
    {
     "data": {
      "text/latex": [
       "$1.0*b^†_2$"
      ],
      "text/plain": [
       "<IPython.core.display.Latex object>"
      ]
     },
     "metadata": {},
     "output_type": "display_data"
    },
    {
     "name": "stdout",
     "output_type": "stream",
     "text": [
      "gets mapped to:\n",
      " 0.500+0.000j ZZX +\n",
      " 0.000-0.500j ZZY\n"
     ]
    }
   ],
   "source": [
    "op = FermionOperator(2, 'c')\n",
    "qubit_op = jordan_wigner(op, 3)\n",
    "op.display()\n",
    "print(\"gets mapped to:\")\n",
    "print(qubit_op)"
   ]
  },
  {
   "cell_type": "markdown",
   "metadata": {},
   "source": [
    "- `unary()`:\n",
    "\n",
    "The `unary()` function takes in the same parameters, but also takes in the parameter `max_bose_mode_occ` which is $N^\\text{max}$."
   ]
  },
  {
   "cell_type": "code",
   "execution_count": 13,
   "metadata": {},
   "outputs": [
    {
     "data": {
      "text/latex": [
       "$1.0*a_3$"
      ],
      "text/plain": [
       "<IPython.core.display.Latex object>"
      ]
     },
     "metadata": {},
     "output_type": "display_data"
    },
    {
     "name": "stdout",
     "output_type": "stream",
     "text": [
      "gets mapped to:\n",
      " 0.250+0.000j IIIIIIIIIXXI +\n",
      " 0.000-0.250j IIIIIIIIIXYI +\n",
      " 0.000+0.250j IIIIIIIIIYXI +\n",
      " 0.250+0.000j IIIIIIIIIYYI +\n",
      " 0.354+0.000j IIIIIIIIIIXX +\n",
      " 0.000-0.354j IIIIIIIIIIXY +\n",
      " 0.000+0.354j IIIIIIIIIIYX +\n",
      " 0.354+0.000j IIIIIIIIIIYY\n"
     ]
    }
   ],
   "source": [
    "bos_op = BosonOperator(3, 'a')\n",
    "qubit_bos_op = unary(bos_op, 2, 3)\n",
    "bos_op.display()\n",
    "print(\"gets mapped to:\")\n",
    "print(qubit_bos_op)"
   ]
  },
  {
   "cell_type": "code",
   "execution_count": 14,
   "metadata": {},
   "outputs": [
    {
     "data": {
      "text/plain": [
       " 0.108-0.000j ZXZZXIIXXIIIIIIII +\n",
       " 0.000+0.108j ZXZZXIIXYIIIIIIII +\n",
       " 0.000-0.108j ZXZZXIIYXIIIIIIII +\n",
       " 0.108-0.000j ZXZZXIIYYIIIIIIII +\n",
       " 0.000+0.108j ZXZZYIIXXIIIIIIII +\n",
       "-0.108+0.000j ZXZZYIIXYIIIIIIII +\n",
       " 0.108-0.000j ZXZZYIIYXIIIIIIII +\n",
       " 0.000+0.108j ZXZZYIIYYIIIIIIII +\n",
       " 0.000-0.108j ZYZZXIIXXIIIIIIII +\n",
       " 0.108-0.000j ZYZZXIIXYIIIIIIII +\n",
       "-0.108-0.000j ZYZZXIIYXIIIIIIII +\n",
       " 0.000-0.108j ZYZZXIIYYIIIIIIII +\n",
       " 0.108-0.000j ZYZZYIIXXIIIIIIII +\n",
       " 0.000+0.108j ZYZZYIIXYIIIIIIII +\n",
       " 0.000-0.108j ZYZZYIIYXIIIIIIII +\n",
       " 0.108-0.000j ZYZZYIIYYIIIIIIII +\n",
       " 0.088-0.000j ZXZZXIXXIIIIIIIII +\n",
       " 0.000+0.088j ZXZZXIXYIIIIIIIII +\n",
       " 0.000-0.088j ZXZZXIYXIIIIIIIII +\n",
       " 0.088-0.000j ZXZZXIYYIIIIIIIII +\n",
       " 0.000+0.088j ZXZZYIXXIIIIIIIII +\n",
       "-0.088+0.000j ZXZZYIXYIIIIIIIII +\n",
       " 0.088-0.000j ZXZZYIYXIIIIIIIII +\n",
       " 0.000+0.088j ZXZZYIYYIIIIIIIII +\n",
       " 0.000-0.088j ZYZZXIXXIIIIIIIII +\n",
       " 0.088-0.000j ZYZZXIXYIIIIIIIII +\n",
       "-0.088-0.000j ZYZZXIYXIIIIIIIII +\n",
       " 0.000-0.088j ZYZZXIYYIIIIIIIII +\n",
       " 0.088-0.000j ZYZZYIXXIIIIIIIII +\n",
       " 0.000+0.088j ZYZZYIXYIIIIIIIII +\n",
       " 0.000-0.088j ZYZZYIYXIIIIIIIII +\n",
       " 0.088-0.000j ZYZZYIYYIIIIIIIII +\n",
       " 0.062-0.000j ZXZZXXXIIIIIIIIII +\n",
       " 0.000+0.062j ZXZZXXYIIIIIIIIII +\n",
       " 0.000-0.062j ZXZZXYXIIIIIIIIII +\n",
       " 0.062-0.000j ZXZZXYYIIIIIIIIII +\n",
       " 0.000+0.062j ZXZZYXXIIIIIIIIII +\n",
       "-0.062+0.000j ZXZZYXYIIIIIIIIII +\n",
       " 0.062-0.000j ZXZZYYXIIIIIIIIII +\n",
       " 0.000+0.062j ZXZZYYYIIIIIIIIII +\n",
       " 0.000-0.062j ZYZZXXXIIIIIIIIII +\n",
       " 0.062-0.000j ZYZZXXYIIIIIIIIII +\n",
       "-0.062-0.000j ZYZZXYXIIIIIIIIII +\n",
       " 0.000-0.062j ZYZZXYYIIIIIIIIII +\n",
       " 0.062-0.000j ZYZZYXXIIIIIIIIII +\n",
       " 0.000+0.062j ZYZZYXYIIIIIIIIII +\n",
       " 0.000-0.062j ZYZZYYXIIIIIIIIII +\n",
       " 0.062-0.000j ZYZZYYYIIIIIIIIII"
      ]
     },
     "execution_count": 14,
     "metadata": {},
     "output_type": "execute_result"
    }
   ],
   "source": [
    "op = ParticleOperator('fab', [1, 2, 0], 'cac')\n",
    "qubit_op_mapping(op, [2, 2, 2], 3)"
   ]
  },
  {
   "cell_type": "markdown",
   "metadata": {},
   "source": [
    "- `qubit_state_mapping()`:\n",
    "\n",
    "Lastly, Fock states can be mapped to qubit states with the Jordan Wigner and unary encodings above with: "
   ]
  },
  {
   "cell_type": "code",
   "execution_count": 51,
   "metadata": {},
   "outputs": [
    {
     "data": {
      "text/plain": [
       " 1.000+0.000j |011011011011>"
      ]
     },
     "execution_count": 51,
     "metadata": {},
     "output_type": "execute_result"
    }
   ],
   "source": [
    "x = FockState([1, 0], [0,1], [2, 1], 1)\n",
    "qubit_state_mapping(x, 3)"
   ]
  }
 ],
 "metadata": {
  "kernelspec": {
   "display_name": "phd",
   "language": "python",
   "name": "python3"
  },
  "language_info": {
   "codemirror_mode": {
    "name": "ipython",
    "version": 3
   },
   "file_extension": ".py",
   "mimetype": "text/x-python",
   "name": "python",
   "nbconvert_exporter": "python",
   "pygments_lexer": "ipython3",
   "version": "3.9.17"
  },
  "orig_nbformat": 4
 },
 "nbformat": 4,
 "nbformat_minor": 2
}
